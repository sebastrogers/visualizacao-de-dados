{
  "cells": [
    {
      "cell_type": "markdown",
      "metadata": {
        "id": "view-in-github",
        "colab_type": "text"
      },
      "source": [
        "<a href=\"https://colab.research.google.com/github/sebastrogers/visualizacao-de-dados/blob/main/visualizac%CC%A7a%CC%83o_de_dados_01.ipynb\" target=\"_parent\"><img src=\"https://colab.research.google.com/assets/colab-badge.svg\" alt=\"Open In Colab\"/></a>"
      ]
    },
    {
      "cell_type": "markdown",
      "metadata": {
        "id": "GgUHLmxk7Ga5"
      },
      "source": [
        "** Visualização de Dados **"
      ]
    },
    {
      "cell_type": "markdown",
      "metadata": {
        "id": "t_ak8TC67Ga7"
      },
      "source": [
        "**Trabalhando com Matplotlib**"
      ]
    },
    {
      "cell_type": "markdown",
      "metadata": {
        "id": "quprP4gvB-46"
      },
      "source": [
        "* Ideal para plotagem de gráficos **simples**.\n",
        "* Aumenta a produtividade do Cientista de dados.\n",
        "* Fornece uma interfaçe próxima do Matlab, o que é interessante para gráficos com expressões matemáticas.\n",
        "* A maior desvantagem é o **layout**.\n",
        "\n"
      ]
    },
    {
      "cell_type": "markdown",
      "metadata": {
        "id": "5wwF0C_4Ads6"
      },
      "source": [
        "**Quando utilizar?**\n",
        "\n",
        "* Útil para análise e exploração de dados."
      ]
    },
    {
      "cell_type": "markdown",
      "metadata": {
        "id": "NwOJiIGaAyO5"
      },
      "source": [
        "**Instalação da Biblioteca**"
      ]
    },
    {
      "cell_type": "markdown",
      "metadata": {
        "id": "AI3FfbTs7Ga8"
      },
      "source": [
        "* Caso não esteja usando anaconda instale o matplotlib com o gerenciador de pacotes pip ou usando o conda. Exemplo:"
      ]
    },
    {
      "cell_type": "code",
      "execution_count": 1,
      "metadata": {
        "colab": {
          "base_uri": "https://localhost:8080/"
        },
        "id": "jkgomcoe7Ga9",
        "outputId": "2d98663b-f840-45f4-ed59-22f811624359"
      },
      "outputs": [
        {
          "output_type": "stream",
          "name": "stdout",
          "text": [
            "Looking in indexes: https://pypi.org/simple, https://us-python.pkg.dev/colab-wheels/public/simple/\n",
            "Requirement already satisfied: matplotlib in /usr/local/lib/python3.7/dist-packages (3.2.2)\n",
            "Requirement already satisfied: cycler>=0.10 in /usr/local/lib/python3.7/dist-packages (from matplotlib) (0.11.0)\n",
            "Requirement already satisfied: python-dateutil>=2.1 in /usr/local/lib/python3.7/dist-packages (from matplotlib) (2.8.2)\n",
            "Requirement already satisfied: numpy>=1.11 in /usr/local/lib/python3.7/dist-packages (from matplotlib) (1.21.6)\n",
            "Requirement already satisfied: pyparsing!=2.0.4,!=2.1.2,!=2.1.6,>=2.0.1 in /usr/local/lib/python3.7/dist-packages (from matplotlib) (3.0.9)\n",
            "Requirement already satisfied: kiwisolver>=1.0.1 in /usr/local/lib/python3.7/dist-packages (from matplotlib) (1.4.4)\n",
            "Requirement already satisfied: typing-extensions in /usr/local/lib/python3.7/dist-packages (from kiwisolver>=1.0.1->matplotlib) (4.1.1)\n",
            "Requirement already satisfied: six>=1.5 in /usr/local/lib/python3.7/dist-packages (from python-dateutil>=2.1->matplotlib) (1.15.0)\n"
          ]
        }
      ],
      "source": [
        "!pip install matplotlib"
      ]
    },
    {
      "cell_type": "code",
      "execution_count": null,
      "metadata": {
        "id": "__v7nqAT7GbB"
      },
      "outputs": [],
      "source": [
        "!conda install matplotlib"
      ]
    },
    {
      "cell_type": "code",
      "metadata": {
        "id": "60CC3sv57GbJ"
      },
      "source": [
        "**Se estiver usando o Anaconda, o matplotlib já está disponível por padrão**"
      ],
      "execution_count": null,
      "outputs": []
    },
    {
      "cell_type": "code",
      "execution_count": null,
      "metadata": {
        "id": "K3qvJhm7g4rV"
      },
      "outputs": [],
      "source": [
        "# Importando o pyplot\n",
        "from matplotlib import pyplot as plt"
      ]
    },
    {
      "cell_type": "markdown",
      "metadata": {
        "id": "tJLOBrE57GbP"
      },
      "source": [
        "**Define que os gráficos serem plotados na célula e podem se ajustados**"
      ]
    },
    {
      "cell_type": "code",
      "execution_count": null,
      "metadata": {
        "id": "2XCgJAXj7GbQ"
      },
      "outputs": [],
      "source": [
        "%matplotlib notebook"
      ]
    },
    {
      "cell_type": "markdown",
      "metadata": {
        "id": "Fry-dpbL7GbT"
      },
      "source": [
        "**Define que os gráficos ficaram fixos na célula do jupyter notebook**"
      ]
    },
    {
      "cell_type": "code",
      "execution_count": null,
      "metadata": {
        "id": "1SMcfIaU7GbU"
      },
      "outputs": [],
      "source": [
        "%matplotlib inline"
      ]
    },
    {
      "cell_type": "markdown",
      "metadata": {
        "id": "T_2t6RI17GbY"
      },
      "source": [
        "**Plotando gráfico de linhas simples **"
      ]
    },
    {
      "cell_type": "markdown",
      "metadata": {
        "id": "NZ14qKsrDNuK"
      },
      "source": [
        "from IPython.display import Image\n",
        "Image(\"anatomia.png\")"
      ]
    },
    {
      "cell_type": "markdown",
      "metadata": {
        "id": "W6yYZlQgRb1q"
      },
      "source": [
        "## Gráfico de Linhas"
      ]
    },
    {
      "cell_type": "markdown",
      "metadata": {
        "id": "4pwOzZsC7GbZ"
      },
      "source": [
        "* Gráfico normalmente utilizado para visualização de dados em uma linha do tempo.\n",
        "* Normalmente utilizado com eixo X relacionado a dados temporais e eixo Y a dados quantitativos.\n",
        "* Cuidado ao plotar várias linhas, a leitura pode ficar prejudicada."
      ]
    },
    {
      "cell_type": "code",
      "execution_count": null,
      "metadata": {
        "id": "vHYaR6p1Orb6"
      },
      "outputs": [],
      "source": [
        "%matplotlib inline\n",
        "# Eixo_x, Eixo_y\n",
        "plt.plot([1, 2, 3, 4], [1, 4, 9, 16])\n",
        "plt.show()"
      ]
    },
    {
      "cell_type": "markdown",
      "metadata": {
        "id": "IEbO73Vn7Gbh"
      },
      "source": [
        "**Definindo label aos eixos**"
      ]
    },
    {
      "cell_type": "code",
      "execution_count": null,
      "metadata": {
        "id": "02vdY_9Zny05"
      },
      "outputs": [],
      "source": [
        "%matplotlib notebook\n",
        "import matplotlib.pyplot as plt\n",
        "plt.plot([1, 2, 3, 4],[1, 4, 9, 16])\n",
        "plt.ylabel('Eixo Y')\n",
        "plt.xlabel('Eixo X')\n",
        "plt.show()"
      ]
    },
    {
      "cell_type": "markdown",
      "metadata": {
        "id": "F8T3xC8d7Gbl"
      },
      "source": [
        "**Alterando a forma dos pontos**"
      ]
    },
    {
      "cell_type": "code",
      "execution_count": null,
      "metadata": {
        "id": "B8y-T-PNPQHw"
      },
      "outputs": [],
      "source": [
        "%matplotlib inline\n",
        "# plot(x, y)\n",
        "plt.plot([1, 2, 3, 4], [1, 4, 9, 16],'o')\n",
        "plt.show()"
      ]
    },
    {
      "cell_type": "markdown",
      "metadata": {
        "id": "ira0qLpa7Gbq"
      },
      "source": [
        "**Definindo limites de visualização dos eixos x e y**"
      ]
    },
    {
      "cell_type": "code",
      "execution_count": null,
      "metadata": {
        "id": "BvXPx243PQLE"
      },
      "outputs": [],
      "source": [
        "# Opções do método axis()\n",
        "%matplotlib inline\n",
        "\n",
        "#plot(x,y)\n",
        "\n",
        "plt.plot([1, 2, 3, 4], [1, 4, 9, 16],'o')\n",
        "\n",
        "#axis(xmin,xmin, ymin,ymax)\n",
        "\n",
        "plt.axis([0, 6, 0, 20])           # [xmin, xmax, ymin, ymax]\n",
        "plt.show()"
      ]
    },
    {
      "cell_type": "markdown",
      "metadata": {
        "id": "4ugLKAPq7Gbw"
      },
      "source": [
        "**Importa a biblioteca numpy**"
      ]
    },
    {
      "cell_type": "code",
      "execution_count": null,
      "metadata": {
        "id": "dK7pwQQW7Gby"
      },
      "outputs": [],
      "source": [
        "import numpy as np"
      ]
    },
    {
      "cell_type": "markdown",
      "metadata": {
        "id": "BY-mvxTx7Gb2"
      },
      "source": [
        "**Plot duas séries de dados, no caso x1 e y2 e x3 e y3**"
      ]
    },
    {
      "cell_type": "code",
      "execution_count": null,
      "metadata": {
        "id": "4TfBpVkpQUHD"
      },
      "outputs": [],
      "source": [
        "%matplotlib inline\n",
        "x1=np.array([1,2,3,4,5,6,7,8,9,11])\n",
        "\n",
        "x2 = x1\n",
        "y2 = x1**2             # Numero elevado ao quadrado\n",
        "\n",
        "x3 = x1\n",
        "y3 = x1**3             # Numero elevado cubo\n",
        "\n",
        "plt.plot(x1, x1 ,'r--', x2, y2, 'bs', x3, y3, 'g^')\n",
        "\n",
        "plt.show()"
      ]
    },
    {
      "cell_type": "markdown",
      "metadata": {
        "id": "XzVIAcG8U7Qp"
      },
      "source": [
        "## Plotando dados categóricos\n",
        "\n",
        "* Trabalhando com gráficos de barras.\n",
        "* Ideal para quando estamos trabalhando com **comparação de valores**.\n",
        "* Normalmente quer se visualizar frequência ou percentual de valores."
      ]
    },
    {
      "cell_type": "markdown",
      "metadata": {
        "id": "bVW1iuW07Gb8"
      },
      "source": [
        "**Plotando gráfico de barras verticais o gráfico de colunas**"
      ]
    },
    {
      "cell_type": "code",
      "execution_count": null,
      "metadata": {
        "id": "HTQstQPoWCxC"
      },
      "outputs": [],
      "source": [
        "%matplotlib inline\n",
        "grupos = ['Produto A', 'Produto B', 'Produto C']\n",
        "valores = [1, 10, 100]\n",
        "\n",
        "plt.bar(grupos, valores)\n",
        "\n",
        "plt.show()"
      ]
    },
    {
      "cell_type": "markdown",
      "metadata": {
        "id": "fIYI2h7MRb1u"
      },
      "source": [
        "**Plota gráficos de Barras juntas**"
      ]
    },
    {
      "cell_type": "code",
      "execution_count": null,
      "metadata": {
        "id": "eLUOjrYzRb1u"
      },
      "outputs": [],
      "source": [
        "# Importa o numpy\n",
        "import numpy as np"
      ]
    },
    {
      "cell_type": "code",
      "execution_count": null,
      "metadata": {
        "id": "cczHg2-87X53"
      },
      "outputs": [],
      "source": [
        "%matplotlib inline\n",
        "\n",
        "# Quantidade de vendas para o Produto A\n",
        "valores_produto_A = [6,7,8,4,4]\n",
        "\n",
        "\n",
        "# Quantidade de vendas para o Produto B\n",
        "valores_produto_B = [3,12,3,4.1,6]\n",
        "\n",
        "# Cria eixo x para produto A e produto B com uma separação de 0.25 entre as barras\n",
        "x1 =  np.arange(len(valores_produto_A))\n",
        "x2 = [x + 0.25 for x in x1]\n",
        "\n",
        "# Plota as barras\n",
        "plt.bar(x1, valores_produto_A, width=0.25, label = 'Produto A', color = 'b')\n",
        "plt.bar(x2, valores_produto_B, width=0.25, label = 'Produto B', color = 'y')\n",
        "\n",
        "meses = ['Agosto','Setembro','Outubro','Novembro','Dezembro']\n",
        "plt.xticks([x + 0.25 for x in range(len(valores_produto_A))], meses)\n",
        "\n",
        "plt.legend()\n",
        "\n",
        "plt.title(\"Quantidade de Vendas\")\n",
        "plt.show()"
      ]
    },
    {
      "cell_type": "markdown",
      "metadata": {
        "id": "DqPa2WbF7GcA"
      },
      "source": [
        "**Gráfico de barras horizontais**"
      ]
    },
    {
      "cell_type": "markdown",
      "metadata": {
        "id": "aXjh-OXv7GcB"
      },
      "source": [
        "* Gráfico muito usado quando queremos fazer **comparações**.\n",
        "* Muito usado em pesquisas de campanhas eleitorais.\n",
        "* Leitura muito simples e intuitiva.\n",
        "* Funciona bem quando os labels dos eixos são longos."
      ]
    },
    {
      "cell_type": "code",
      "execution_count": null,
      "metadata": {
        "id": "Va2bizIlRb1v"
      },
      "outputs": [],
      "source": [
        "%matplotlib inline\n",
        "grupos = ['Produto A', 'Produto B', 'Produto C']\n",
        "valores = [1, 10, 100]\n",
        "\n",
        "plt.barh(grupos, valores)\n",
        "\n",
        "plt.show()"
      ]
    },
    {
      "cell_type": "markdown",
      "metadata": {
        "id": "8-Xz2z-qRb1v"
      },
      "source": [
        "**Rotacionando Labels**"
      ]
    },
    {
      "cell_type": "code",
      "execution_count": null,
      "metadata": {
        "id": "75tffRhXRb1w"
      },
      "outputs": [],
      "source": [
        "%matplotlib inline\n",
        "grupos = ['Produto A', 'Produto B', 'Produto C']\n",
        "valores = [1, 10, 100]\n",
        "\n",
        "plt.barh(grupos, valores)\n",
        "plt.barh (grupos, valores)\n",
        "plt.yticks(rotation=45)\n",
        "\n",
        "plt.show()"
      ]
    },
    {
      "cell_type": "markdown",
      "metadata": {
        "id": "nC4HrBsn7GcG"
      },
      "source": [
        "**Rotacionando labels nos eixos**"
      ]
    },
    {
      "cell_type": "markdown",
      "metadata": {
        "id": "TiZ3UhWrYEO1"
      },
      "source": [
        "# Grafico de Pizza"
      ]
    },
    {
      "cell_type": "code",
      "execution_count": null,
      "metadata": {
        "id": "wqebGM9P7GcK"
      },
      "outputs": [],
      "source": [
        "%matplotlib inline\n",
        "\n",
        "vendas = [3000, 2300, 1000, 500]\n",
        "labels = ['E-commerce', 'Loja Física', 'e-mail', 'Marketplace']\n",
        "\n",
        "plt.pie(vendas, labels=labels)\n",
        "plt.show()"
      ]
    },
    {
      "cell_type": "code",
      "metadata": {
        "id": "jr8tS4LoPQNj"
      },
      "source": [
        "## Customizando gráficos"
      ],
      "execution_count": null,
      "outputs": []
    },
    {
      "cell_type": "markdown",
      "metadata": {
        "id": "1IVW8VqqRb1w"
      },
      "source": [
        "* Adicionando informações de percentual, sombra, separação das partes e legenda"
      ]
    },
    {
      "cell_type": "code",
      "execution_count": null,
      "metadata": {
        "id": "fvbc4XXN7GcQ"
      },
      "outputs": [],
      "source": [
        "%matplotlib inline\n",
        "\n",
        "vendas = [3000, 2300, 1000, 500]\n",
        "labels = ['E-commerce', 'Loja Física', 'e-mail', 'Marketplace']\n",
        "\n",
        "# define o nível de separabilidade entre as partes, ordem do vetor representa as partes\n",
        "explode = (0.1, 0, 0, 0) \n",
        "\n",
        "plt.pie(vendas, labels=labels, autopct='%1.1f%%', shadow=True, explode=explode)\n",
        "plt.legend(labels, loc=2)\n",
        "\n",
        "\n",
        "# define que o gráfico será plotado em circulo\n",
        "plt.axis('equal')\n",
        "\n",
        "plt.show()"
      ]
    },
    {
      "cell_type": "markdown",
      "metadata": {
        "id": "kMigHLvIskvo"
      },
      "source": [
        "# Matplotlib , pyplot e pylab?"
      ]
    },
    {
      "cell_type": "markdown",
      "metadata": {
        "id": "an3jYKIXs6yp"
      },
      "source": [
        "*  Pyplot é um módulo do pacote matplotlib que implicitamente cria figuras e eixos nos gráficos.\n",
        "*  Pylab é outro módulo do matplotlib que já importa o numpy e pyplot. Este módulo é projetado para plots de arrays e cálculos matemáticos.\n",
        "*  Pylab está depreciado\n",
        "\n"
      ]
    },
    {
      "cell_type": "code",
      "execution_count": null,
      "metadata": {
        "id": "HD6NO7GNstUP"
      },
      "outputs": [],
      "source": [
        "import matplotlib.pyplot as plt\n",
        "import numpy as np\n",
        "\n",
        "# Cria uma figura\n",
        "fig = plt.figure()\n",
        "\n",
        "# Define eixos\n",
        "ax = fig.add_subplot(111)\n",
        "\n",
        "# Scatter plot usando numpy\n",
        "ax.scatter(np.linspace(0, 1, 5), np.linspace(0, 5, 5))\n",
        "\n",
        "# Show the plot\n",
        "plt.show()"
      ]
    },
    {
      "cell_type": "markdown",
      "metadata": {
        "id": "xM2WSk1zz4vo"
      },
      "source": [
        "## Criando Subplots"
      ]
    },
    {
      "cell_type": "markdown",
      "metadata": {
        "id": "3k2Ba5fSRb1x"
      },
      "source": [
        "* Para criar subplots defina o número de linhas de gráficos e número de colunas (quantidade de gráfico em cada linha)"
      ]
    },
    {
      "cell_type": "code",
      "execution_count": null,
      "metadata": {
        "id": "BCfQWK1lRb1y"
      },
      "outputs": [],
      "source": [
        "plt.subplots(nrows=1, ncols=2)"
      ]
    },
    {
      "cell_type": "markdown",
      "metadata": {
        "id": "F0x9zMm_Rb1y"
      },
      "source": [
        "** 1 linha com 3 colunas **"
      ]
    },
    {
      "cell_type": "code",
      "execution_count": null,
      "metadata": {
        "id": "PfOpGxvFRb1y"
      },
      "outputs": [],
      "source": [
        "plt.subplots(nrows=1, ncols=3)"
      ]
    },
    {
      "cell_type": "markdown",
      "metadata": {
        "id": "5CVAVegvRb1y"
      },
      "source": [
        "**2 linhas com 2 colunas**"
      ]
    },
    {
      "cell_type": "code",
      "execution_count": null,
      "metadata": {
        "id": "ERehqK0ERb1y"
      },
      "outputs": [],
      "source": [
        "plt.subplots(nrows=2, ncols=2)"
      ]
    },
    {
      "cell_type": "markdown",
      "metadata": {
        "id": "6neomOFtRb1y"
      },
      "source": [
        "**Para acessar suplots usa-se o método *subplot* (atenção para o nome correto no singular)**"
      ]
    },
    {
      "cell_type": "code",
      "execution_count": null,
      "metadata": {
        "id": "b1McaPRhRb1y"
      },
      "outputs": [],
      "source": [
        "x = [1,2,3,4]\n",
        "y = [10,20,25,40]\n",
        "\n",
        "plt.subplot(1,2,1)\n",
        "plt.plot(x,y, 'o')\n",
        "\n",
        "plt.subplot(1,2,2)\n",
        "plt.plot(x,y, color='r')"
      ]
    },
    {
      "cell_type": "markdown",
      "metadata": {
        "id": "COW-c470Rb1z"
      },
      "source": [
        "**Criação de instâncias de classes figure**\n",
        "\n",
        "* Aumenta o controle do nível de customização das funções do Matplotlib.\n",
        "* Gera menos código devido a orientação a objetos."
      ]
    },
    {
      "cell_type": "code",
      "execution_count": null,
      "metadata": {
        "id": "czGU1k6sRb1z"
      },
      "outputs": [],
      "source": [
        "# Cria um objeto do tipo figure\n",
        "fig = plt.figure()\n",
        "\n",
        "# Define o tamanho em percentual do grafico.\n",
        "# Altura e largura do eixo na figura\n",
        "\n",
        "axes_a = fig.add_axes([0.1, 0.1, 0.8, 0.8])\n",
        "\n",
        "# Plota o gráfico\n",
        "axes_a.plot(x,y)"
      ]
    },
    {
      "cell_type": "markdown",
      "metadata": {
        "id": "cvP7mnBERb1z"
      },
      "source": [
        "**Uma figura com dois gráficos de proporções diferentes**"
      ]
    },
    {
      "cell_type": "code",
      "execution_count": null,
      "metadata": {
        "id": "erjSaYjCRb1z"
      },
      "outputs": [],
      "source": [
        "# Cria um objeto do tipo figure\n",
        "fig = plt.figure()\n",
        "\n",
        "# Define o tamanho em percentual do grafico.\n",
        "# Altura e largura do eixo na figura\n",
        "axes_a = fig.add_axes([0.1, 0.1, 0.8, 0.8])\n",
        "\n",
        "axes_b = fig.add_axes([0.2, 0.5, 0.3, 0.3])\n",
        "\n",
        "# Plota a figura com dois eixos.\n",
        "# O \"r--\" significa linha tracejada em vermelho(r)\n",
        "axes_a.plot(x,y)\n",
        "\n",
        "axes_b.plot(x,y,'r--')"
      ]
    },
    {
      "cell_type": "markdown",
      "metadata": {
        "id": "noCnbuiBRb1z"
      },
      "source": [
        "** É possível customizar a largura ou altura do gráfico para acomodar melhor seus dados.**\n",
        "\n",
        "*  Exemplo: gráficos de dados financeitos em uma granularidade muito baixa (minutos)"
      ]
    },
    {
      "cell_type": "code",
      "execution_count": null,
      "metadata": {
        "id": "_r-H0GePRb1z"
      },
      "outputs": [],
      "source": [
        "x = [1,2,3,4]\n",
        "y = [10,20,25,40]\n",
        "\n",
        "# Altera a largura e altura do gráfico (width,height) \n",
        "fig, ax = plt.subplots(figsize=(20,5))\n",
        "\n",
        "# Plota o gráfico\n",
        "ax.plot(x,y, 'r--')"
      ]
    },
    {
      "cell_type": "markdown",
      "metadata": {
        "id": "kf1Fe9EBRb10"
      },
      "source": [
        "** Plotando dois gráficos (eixos) na mesma figura**"
      ]
    },
    {
      "cell_type": "code",
      "execution_count": null,
      "metadata": {
        "id": "pAOLeYFkx48X"
      },
      "outputs": [],
      "source": [
        "# Define as configurações dos plots\n",
        "# Cada plot terá o mesmo tamanho de figuras\n",
        "\n",
        "fig, (ax1, ax2) = plt.subplots(1, 2, figsize=(10,5))\n",
        "\n",
        "# Dados para cada subplot\n",
        "ax1.bar([1,2,3],[3,4,5])\n",
        "\n",
        "ax2.barh([0.5,1,2.5],[0,1,2])\n",
        "\n",
        "plt.show()"
      ]
    },
    {
      "cell_type": "markdown",
      "metadata": {
        "id": "kRuuESrZRb10"
      },
      "source": [
        "** Define configuracões dos eixos com o método \"set()\"**"
      ]
    },
    {
      "cell_type": "code",
      "execution_count": null,
      "metadata": {
        "id": "_Tm6l_Y9x5E-"
      },
      "outputs": [],
      "source": [
        "import matplotlib.pyplot as plt\n",
        "\n",
        "# Define as configurações dos plots\n",
        "# Cada plot terá o mesmo tamanho de figuras\n",
        "fig, (ax1, ax2) = plt.subplots(1, 2, figsize=(10,5))\n",
        "\n",
        "# Dados para cada subplot\n",
        "ax1.bar([1,2,3],[3,4,5], color='r')\n",
        "\n",
        "ax2.barh([0.5,1,2.5],[0,1,2])\n",
        "\n",
        "# Usa o método set para definir configurações do  gráfico\n",
        "ax1.set(title=\"Gráfico de Barras Verticais\", xlabel=\"Eixo x\", ylabel=\" Eixo y\")\n",
        "\n",
        "ax2.set(title=\"Gráfico de Barras Horizontais\", xlabel=\"Eixo x\", ylabel=\"Eixo y\")\n",
        "\n",
        "plt.show()"
      ]
    },
    {
      "cell_type": "markdown",
      "metadata": {
        "id": "Z4QF_QpJ-v-o"
      },
      "source": [
        "# Customizando layouts"
      ]
    },
    {
      "cell_type": "code",
      "execution_count": null,
      "metadata": {
        "id": "YEWgIbl3x5LI"
      },
      "outputs": [],
      "source": [
        "import matplotlib.pyplot as plt\n",
        "\n",
        "# Define o stilo para ggplot\n",
        "plt.style.use(\"ggplot\")"
      ]
    },
    {
      "cell_type": "code",
      "execution_count": null,
      "metadata": {
        "id": "6Xj2JXbcx5OL"
      },
      "outputs": [],
      "source": [
        "import matplotlib.pyplot as plt\n",
        "\n",
        "# Define as configurações dos plots\n",
        "# Cada plot terá o mesmo tamanho de figuras (10,5)\n",
        "fig, (ax1, ax2) = plt.subplots(1, 2, figsize=(10,5))\n",
        "\n",
        "# Dados para cada subplot\n",
        "ax1.bar([1,2,3],[3,4,5])\n",
        "ax2.barh([0.5,1,2.5],[0,1,2])\n",
        "\n",
        "ax1.set(title=\"Gráfico de Barras Verticais\", xlabel=\"Eixo x\", ylabel=\" Eixo y\")\n",
        "ax2.set(title=\"Gráfico de Barras Horizontais\", xlabel=\"Eixo x\", ylabel=\"Eixo y\")\n",
        "\n",
        "plt.show()"
      ]
    },
    {
      "cell_type": "markdown",
      "metadata": {
        "id": "s4UR03LGRb10"
      },
      "source": [
        "** Matplotlib funciona também com cores em RGB. Para fazer isso use o parâmetro *color* **"
      ]
    },
    {
      "cell_type": "code",
      "execution_count": null,
      "metadata": {
        "id": "YA2HED3YRb11"
      },
      "outputs": [],
      "source": [
        "# Define as configurações dos plots\n",
        "# Cada plot terá o mesmo tamanho de figuras (10,5)\n",
        "fig, (ax1, ax2) = plt.subplots(1, 2, figsize=(10,5))\n",
        "\n",
        "# Dados para cada subplot\n",
        "ax1.bar([1,2,3],[3,4,5],color='#00BFFF')\n",
        "ax2.barh([0.5,1,2.5],[0,1,2], color='#00FF00')\n",
        "\n",
        "ax1.set(title=\"Gráfico de Barras Verticais\", xlabel=\"Eixo x\", ylabel=\" Eixo y\")\n",
        "ax2.set(title=\"Gráfico de Barras Horizontais\", xlabel=\"Eixo x\", ylabel=\"Eixo y\")\n",
        "\n",
        "\n",
        "plt.show()"
      ]
    },
    {
      "cell_type": "markdown",
      "metadata": {
        "id": "yrXJpYg5ySWi"
      },
      "source": [
        "# Adiciona textos em gráficos"
      ]
    },
    {
      "cell_type": "code",
      "execution_count": null,
      "metadata": {
        "id": "6QKO4lvURb11"
      },
      "outputs": [],
      "source": [
        "import numpy as np"
      ]
    },
    {
      "cell_type": "code",
      "execution_count": null,
      "metadata": {
        "id": "aS8CHKTDxDjn"
      },
      "outputs": [],
      "source": [
        "%matplotlib inline\n",
        "\n",
        "# 100 valores no intervalo de 0 a 2.\n",
        "x = np.linspace(0, 2, num=100)\n",
        "\n",
        "# define a legenda e tamanho de linhas\n",
        "plt.plot(x, x, label='linear')\n",
        "\n",
        "plt.plot(x, x**2, label='quadratico', linewidth=5)\n",
        "\n",
        "plt.xlabel('x label')\n",
        "plt.ylabel('y label')\n",
        "\n",
        "plt.title(\"Gráfico de Linhas Simples\")\n",
        "\n",
        "# Exibe a legenda e por padrão usa o label de cada plot.\n",
        "plt.legend()\n",
        "\n",
        "# Configurações do texto\n",
        "plt.text(1.00, 1.0, \"Cruzamento das Linhas\", fontsize=12, horizontalalignment='right')\n",
        "\n",
        "plt.show()"
      ]
    },
    {
      "cell_type": "markdown",
      "metadata": {
        "id": "OvZS7v9-S_GH"
      },
      "source": [
        "# Plotando Histogramas"
      ]
    },
    {
      "cell_type": "markdown",
      "metadata": {
        "id": "_mwzb2997Gcw"
      },
      "source": [
        "* Histogramas são úteis quando queremos visualizar a distribuição de **uma** variável.\n",
        "* Esse é um gráfico muito utilizado em estatítica descritiva.\n",
        "* Facilita a visualização de dados extremos.\n",
        "* É útil em tarefas de **análise** e **exploração** de dados."
      ]
    },
    {
      "cell_type": "markdown",
      "metadata": {
        "id": "ibk4aMdK7Gcx"
      },
      "source": [
        "**Gera dados aleatórios com média em torno de 0 e desvio padrão em torno de 1**"
      ]
    },
    {
      "cell_type": "code",
      "execution_count": null,
      "metadata": {
        "id": "Ff0fVWxkUhKL"
      },
      "outputs": [],
      "source": [
        "d = np.random.normal(0, 1, size=500)"
      ]
    },
    {
      "cell_type": "markdown",
      "metadata": {
        "id": "EmPwHClH7Gc3"
      },
      "source": [
        "**Plota histograma com 10 bins**"
      ]
    },
    {
      "cell_type": "code",
      "execution_count": null,
      "metadata": {
        "id": "euy4VsCvS-Ho"
      },
      "outputs": [],
      "source": [
        "%matplotlib inline \n",
        "plt.hist(d, bins=10,color='r')"
      ]
    },
    {
      "cell_type": "code",
      "metadata": {
        "id": "7uVvCcqnS-Kb"
      },
      "source": [
        "## Trabalhando com dataframes Pandas"
      ],
      "execution_count": null,
      "outputs": []
    },
    {
      "cell_type": "markdown",
      "metadata": {
        "id": "sxsoI2CwRb12"
      },
      "source": [
        "* O Matplotlib trabalha bem com o Pandas. \n",
        "* É possível usar recursos de dataframes usando o parâmetro **data**."
      ]
    },
    {
      "cell_type": "code",
      "execution_count": null,
      "metadata": {
        "id": "Qokrfi6JRb12"
      },
      "outputs": [],
      "source": [
        "import pandas as pd"
      ]
    },
    {
      "cell_type": "markdown",
      "metadata": {
        "id": "msVu1Lt9Rb12"
      },
      "source": [
        "** Cria um dicionário de valores**"
      ]
    },
    {
      "cell_type": "code",
      "execution_count": null,
      "metadata": {
        "id": "MF2ouPIcRb12"
      },
      "outputs": [],
      "source": [
        "data = {'a': np.arange(50),\n",
        "        'c': np.random.randint(0, 50, 50),\n",
        "        'd': np.random.randn(50)\n",
        "       }"
      ]
    },
    {
      "cell_type": "code",
      "execution_count": null,
      "metadata": {
        "id": "3LlzrmntRb13"
      },
      "outputs": [],
      "source": [
        "data = pd.DataFrame(data)"
      ]
    },
    {
      "cell_type": "code",
      "execution_count": null,
      "metadata": {
        "id": "T0xKCugsRb13"
      },
      "outputs": [],
      "source": [
        "type(data)"
      ]
    },
    {
      "cell_type": "code",
      "execution_count": null,
      "metadata": {
        "id": "QpvuNPKBRb13"
      },
      "outputs": [],
      "source": [
        "data.head()"
      ]
    },
    {
      "cell_type": "markdown",
      "metadata": {
        "id": "NsLELEJqRb13"
      },
      "source": [
        "** Gera dados aleatorios para coluna b e d**"
      ]
    },
    {
      "cell_type": "code",
      "execution_count": null,
      "metadata": {
        "id": "8psOK7vQRb13"
      },
      "outputs": [],
      "source": [
        "data['b'] = data['a'] + 10 * np.random.randn(50)\n",
        "data['d'] = np.abs(data['d']) * 200"
      ]
    },
    {
      "cell_type": "code",
      "execution_count": null,
      "metadata": {
        "id": "cqPMKoTRRb13"
      },
      "outputs": [],
      "source": [
        "data.b.head()"
      ]
    },
    {
      "cell_type": "markdown",
      "metadata": {
        "id": "fvTelTg3Rb13"
      },
      "source": [
        "**Dados Absolutos**"
      ]
    },
    {
      "cell_type": "code",
      "execution_count": null,
      "metadata": {
        "id": "AOxUHUQQRb13"
      },
      "outputs": [],
      "source": [
        "data.d.head()"
      ]
    },
    {
      "cell_type": "code",
      "execution_count": null,
      "metadata": {
        "id": "Rt3VJvvLRb13"
      },
      "outputs": [],
      "source": [
        "data.head()"
      ]
    },
    {
      "cell_type": "markdown",
      "metadata": {
        "id": "uobLBCAaRb14"
      },
      "source": [
        "**Plota gráfico de disperssão usando pandas dataframe**"
      ]
    },
    {
      "cell_type": "code",
      "execution_count": null,
      "metadata": {
        "id": "v4rdlHi3Td3y"
      },
      "outputs": [],
      "source": [
        "plt.scatter('a', 'b', c='c', s='d', data=data)\n",
        "plt.xlabel('entry a')\n",
        "plt.ylabel('entry b')\n",
        "plt.show()"
      ]
    }
  ],
  "metadata": {
    "colab": {
      "provenance": [],
      "include_colab_link": true
    },
    "kernelspec": {
      "display_name": "Python 3",
      "language": "python",
      "name": "python3"
    },
    "language_info": {
      "codemirror_mode": {
        "name": "ipython",
        "version": 3
      },
      "file_extension": ".py",
      "mimetype": "text/x-python",
      "name": "python",
      "nbconvert_exporter": "python",
      "pygments_lexer": "ipython3",
      "version": "3.6.5"
    }
  },
  "nbformat": 4,
  "nbformat_minor": 0
}