{
  "nbformat": 4,
  "nbformat_minor": 0,
  "metadata": {
    "colab": {
      "provenance": [],
      "mount_file_id": "1s9Ct7BnrtdAPA-9ZzwJ3anCAngvoy6lQ",
      "authorship_tag": "ABX9TyMI0+NdwelKDeIVBLBTkOzc",
      "include_colab_link": true
    },
    "kernelspec": {
      "name": "python3",
      "display_name": "Python 3"
    },
    "language_info": {
      "name": "python"
    }
  },
  "cells": [
    {
      "cell_type": "markdown",
      "metadata": {
        "id": "view-in-github",
        "colab_type": "text"
      },
      "source": [
        "<a href=\"https://colab.research.google.com/github/sebastrogers/visualizacao-de-dados/blob/main/Modulo_7_Visualizacao_de_Dados_Plotly.ipynb\" target=\"_parent\"><img src=\"https://colab.research.google.com/assets/colab-badge.svg\" alt=\"Open In Colab\"/></a>"
      ]
    },
    {
      "cell_type": "markdown",
      "source": [
        "# **Visualização de dados com Plot.ly**\n",
        "\n",
        "\n",
        "*   Cufflinkns conecta o pandas ao plot.ly\n",
        "*   Instalação do Plot.ly e Cufflins\n"
      ],
      "metadata": {
        "id": "BtVOOGGeqpUM"
      }
    },
    {
      "cell_type": "code",
      "execution_count": null,
      "metadata": {
        "colab": {
          "base_uri": "https://localhost:8080/"
        },
        "id": "CJGY7Ofbqiun",
        "outputId": "121f71c4-e3a5-4bc5-ac87-bfeba4a251dd"
      },
      "outputs": [
        {
          "output_type": "stream",
          "name": "stdout",
          "text": [
            "Looking in indexes: https://pypi.org/simple, https://us-python.pkg.dev/colab-wheels/public/simple/\n",
            "Requirement already satisfied: cufflinks in /usr/local/lib/python3.8/dist-packages (0.17.3)\n",
            "Requirement already satisfied: six>=1.9.0 in /usr/local/lib/python3.8/dist-packages (from cufflinks) (1.15.0)\n",
            "Requirement already satisfied: pandas>=0.19.2 in /usr/local/lib/python3.8/dist-packages (from cufflinks) (1.3.5)\n",
            "Requirement already satisfied: plotly>=4.1.1 in /usr/local/lib/python3.8/dist-packages (from cufflinks) (5.5.0)\n",
            "Requirement already satisfied: colorlover>=0.2.1 in /usr/local/lib/python3.8/dist-packages (from cufflinks) (0.3.0)\n",
            "Requirement already satisfied: ipywidgets>=7.0.0 in /usr/local/lib/python3.8/dist-packages (from cufflinks) (7.7.1)\n",
            "Requirement already satisfied: numpy>=1.9.2 in /usr/local/lib/python3.8/dist-packages (from cufflinks) (1.21.6)\n",
            "Requirement already satisfied: ipython>=5.3.0 in /usr/local/lib/python3.8/dist-packages (from cufflinks) (7.9.0)\n",
            "Requirement already satisfied: setuptools>=34.4.1 in /usr/local/lib/python3.8/dist-packages (from cufflinks) (57.4.0)\n",
            "Requirement already satisfied: backcall in /usr/local/lib/python3.8/dist-packages (from ipython>=5.3.0->cufflinks) (0.2.0)\n",
            "Requirement already satisfied: decorator in /usr/local/lib/python3.8/dist-packages (from ipython>=5.3.0->cufflinks) (4.4.2)\n",
            "Requirement already satisfied: pexpect in /usr/local/lib/python3.8/dist-packages (from ipython>=5.3.0->cufflinks) (4.8.0)\n",
            "Requirement already satisfied: prompt-toolkit<2.1.0,>=2.0.0 in /usr/local/lib/python3.8/dist-packages (from ipython>=5.3.0->cufflinks) (2.0.10)\n",
            "Requirement already satisfied: traitlets>=4.2 in /usr/local/lib/python3.8/dist-packages (from ipython>=5.3.0->cufflinks) (5.7.1)\n",
            "Requirement already satisfied: pickleshare in /usr/local/lib/python3.8/dist-packages (from ipython>=5.3.0->cufflinks) (0.7.5)\n",
            "Collecting jedi>=0.10\n",
            "  Downloading jedi-0.18.2-py2.py3-none-any.whl (1.6 MB)\n",
            "\u001b[2K     \u001b[90m━━━━━━━━━━━━━━━━━━━━━━━━━━━━━━━━━━━━━━━━\u001b[0m \u001b[32m1.6/1.6 MB\u001b[0m \u001b[31m21.7 MB/s\u001b[0m eta \u001b[36m0:00:00\u001b[0m\n",
            "\u001b[?25hRequirement already satisfied: pygments in /usr/local/lib/python3.8/dist-packages (from ipython>=5.3.0->cufflinks) (2.6.1)\n",
            "Requirement already satisfied: ipykernel>=4.5.1 in /usr/local/lib/python3.8/dist-packages (from ipywidgets>=7.0.0->cufflinks) (5.3.4)\n",
            "Requirement already satisfied: jupyterlab-widgets>=1.0.0 in /usr/local/lib/python3.8/dist-packages (from ipywidgets>=7.0.0->cufflinks) (3.0.5)\n",
            "Requirement already satisfied: ipython-genutils~=0.2.0 in /usr/local/lib/python3.8/dist-packages (from ipywidgets>=7.0.0->cufflinks) (0.2.0)\n",
            "Requirement already satisfied: widgetsnbextension~=3.6.0 in /usr/local/lib/python3.8/dist-packages (from ipywidgets>=7.0.0->cufflinks) (3.6.1)\n",
            "Requirement already satisfied: pytz>=2017.3 in /usr/local/lib/python3.8/dist-packages (from pandas>=0.19.2->cufflinks) (2022.7)\n",
            "Requirement already satisfied: python-dateutil>=2.7.3 in /usr/local/lib/python3.8/dist-packages (from pandas>=0.19.2->cufflinks) (2.8.2)\n",
            "Requirement already satisfied: tenacity>=6.2.0 in /usr/local/lib/python3.8/dist-packages (from plotly>=4.1.1->cufflinks) (8.1.0)\n",
            "Requirement already satisfied: jupyter-client in /usr/local/lib/python3.8/dist-packages (from ipykernel>=4.5.1->ipywidgets>=7.0.0->cufflinks) (6.1.12)\n",
            "Requirement already satisfied: tornado>=4.2 in /usr/local/lib/python3.8/dist-packages (from ipykernel>=4.5.1->ipywidgets>=7.0.0->cufflinks) (6.0.4)\n",
            "Requirement already satisfied: parso<0.9.0,>=0.8.0 in /usr/local/lib/python3.8/dist-packages (from jedi>=0.10->ipython>=5.3.0->cufflinks) (0.8.3)\n",
            "Requirement already satisfied: wcwidth in /usr/local/lib/python3.8/dist-packages (from prompt-toolkit<2.1.0,>=2.0.0->ipython>=5.3.0->cufflinks) (0.2.5)\n",
            "Requirement already satisfied: notebook>=4.4.1 in /usr/local/lib/python3.8/dist-packages (from widgetsnbextension~=3.6.0->ipywidgets>=7.0.0->cufflinks) (5.7.16)\n",
            "Requirement already satisfied: ptyprocess>=0.5 in /usr/local/lib/python3.8/dist-packages (from pexpect->ipython>=5.3.0->cufflinks) (0.7.0)\n",
            "Requirement already satisfied: nbconvert<6.0 in /usr/local/lib/python3.8/dist-packages (from notebook>=4.4.1->widgetsnbextension~=3.6.0->ipywidgets>=7.0.0->cufflinks) (5.6.1)\n",
            "Requirement already satisfied: Send2Trash in /usr/local/lib/python3.8/dist-packages (from notebook>=4.4.1->widgetsnbextension~=3.6.0->ipywidgets>=7.0.0->cufflinks) (1.8.0)\n",
            "Requirement already satisfied: jupyter-core>=4.4.0 in /usr/local/lib/python3.8/dist-packages (from notebook>=4.4.1->widgetsnbextension~=3.6.0->ipywidgets>=7.0.0->cufflinks) (5.1.1)\n",
            "Requirement already satisfied: pyzmq>=17 in /usr/local/lib/python3.8/dist-packages (from notebook>=4.4.1->widgetsnbextension~=3.6.0->ipywidgets>=7.0.0->cufflinks) (23.2.1)\n",
            "Requirement already satisfied: nbformat in /usr/local/lib/python3.8/dist-packages (from notebook>=4.4.1->widgetsnbextension~=3.6.0->ipywidgets>=7.0.0->cufflinks) (5.7.1)\n",
            "Requirement already satisfied: prometheus-client in /usr/local/lib/python3.8/dist-packages (from notebook>=4.4.1->widgetsnbextension~=3.6.0->ipywidgets>=7.0.0->cufflinks) (0.15.0)\n",
            "Requirement already satisfied: terminado>=0.8.1 in /usr/local/lib/python3.8/dist-packages (from notebook>=4.4.1->widgetsnbextension~=3.6.0->ipywidgets>=7.0.0->cufflinks) (0.13.3)\n",
            "Requirement already satisfied: jinja2<=3.0.0 in /usr/local/lib/python3.8/dist-packages (from notebook>=4.4.1->widgetsnbextension~=3.6.0->ipywidgets>=7.0.0->cufflinks) (2.11.3)\n",
            "Requirement already satisfied: MarkupSafe>=0.23 in /usr/local/lib/python3.8/dist-packages (from jinja2<=3.0.0->notebook>=4.4.1->widgetsnbextension~=3.6.0->ipywidgets>=7.0.0->cufflinks) (2.0.1)\n",
            "Requirement already satisfied: platformdirs>=2.5 in /usr/local/lib/python3.8/dist-packages (from jupyter-core>=4.4.0->notebook>=4.4.1->widgetsnbextension~=3.6.0->ipywidgets>=7.0.0->cufflinks) (2.6.0)\n",
            "Requirement already satisfied: pandocfilters>=1.4.1 in /usr/local/lib/python3.8/dist-packages (from nbconvert<6.0->notebook>=4.4.1->widgetsnbextension~=3.6.0->ipywidgets>=7.0.0->cufflinks) (1.5.0)\n",
            "Requirement already satisfied: bleach in /usr/local/lib/python3.8/dist-packages (from nbconvert<6.0->notebook>=4.4.1->widgetsnbextension~=3.6.0->ipywidgets>=7.0.0->cufflinks) (5.0.1)\n",
            "Requirement already satisfied: mistune<2,>=0.8.1 in /usr/local/lib/python3.8/dist-packages (from nbconvert<6.0->notebook>=4.4.1->widgetsnbextension~=3.6.0->ipywidgets>=7.0.0->cufflinks) (0.8.4)\n",
            "Requirement already satisfied: defusedxml in /usr/local/lib/python3.8/dist-packages (from nbconvert<6.0->notebook>=4.4.1->widgetsnbextension~=3.6.0->ipywidgets>=7.0.0->cufflinks) (0.7.1)\n",
            "Requirement already satisfied: entrypoints>=0.2.2 in /usr/local/lib/python3.8/dist-packages (from nbconvert<6.0->notebook>=4.4.1->widgetsnbextension~=3.6.0->ipywidgets>=7.0.0->cufflinks) (0.4)\n",
            "Requirement already satisfied: testpath in /usr/local/lib/python3.8/dist-packages (from nbconvert<6.0->notebook>=4.4.1->widgetsnbextension~=3.6.0->ipywidgets>=7.0.0->cufflinks) (0.6.0)\n",
            "Requirement already satisfied: jsonschema>=2.6 in /usr/local/lib/python3.8/dist-packages (from nbformat->notebook>=4.4.1->widgetsnbextension~=3.6.0->ipywidgets>=7.0.0->cufflinks) (4.3.3)\n",
            "Requirement already satisfied: fastjsonschema in /usr/local/lib/python3.8/dist-packages (from nbformat->notebook>=4.4.1->widgetsnbextension~=3.6.0->ipywidgets>=7.0.0->cufflinks) (2.16.2)\n",
            "Requirement already satisfied: importlib-resources>=1.4.0 in /usr/local/lib/python3.8/dist-packages (from jsonschema>=2.6->nbformat->notebook>=4.4.1->widgetsnbextension~=3.6.0->ipywidgets>=7.0.0->cufflinks) (5.10.1)\n",
            "Requirement already satisfied: attrs>=17.4.0 in /usr/local/lib/python3.8/dist-packages (from jsonschema>=2.6->nbformat->notebook>=4.4.1->widgetsnbextension~=3.6.0->ipywidgets>=7.0.0->cufflinks) (22.2.0)\n",
            "Requirement already satisfied: pyrsistent!=0.17.0,!=0.17.1,!=0.17.2,>=0.14.0 in /usr/local/lib/python3.8/dist-packages (from jsonschema>=2.6->nbformat->notebook>=4.4.1->widgetsnbextension~=3.6.0->ipywidgets>=7.0.0->cufflinks) (0.19.2)\n",
            "Requirement already satisfied: webencodings in /usr/local/lib/python3.8/dist-packages (from bleach->nbconvert<6.0->notebook>=4.4.1->widgetsnbextension~=3.6.0->ipywidgets>=7.0.0->cufflinks) (0.5.1)\n",
            "Requirement already satisfied: zipp>=3.1.0 in /usr/local/lib/python3.8/dist-packages (from importlib-resources>=1.4.0->jsonschema>=2.6->nbformat->notebook>=4.4.1->widgetsnbextension~=3.6.0->ipywidgets>=7.0.0->cufflinks) (3.11.0)\n",
            "Installing collected packages: jedi\n",
            "Successfully installed jedi-0.18.2\n",
            "Looking in indexes: https://pypi.org/simple, https://us-python.pkg.dev/colab-wheels/public/simple/\n",
            "Requirement already satisfied: plotly in /usr/local/lib/python3.8/dist-packages (5.5.0)\n",
            "Requirement already satisfied: tenacity>=6.2.0 in /usr/local/lib/python3.8/dist-packages (from plotly) (8.1.0)\n",
            "Requirement already satisfied: six in /usr/local/lib/python3.8/dist-packages (from plotly) (1.15.0)\n"
          ]
        }
      ],
      "source": [
        "!pip install cufflinks\n",
        "!pip install plotly"
      ]
    },
    {
      "cell_type": "markdown",
      "source": [
        "**Importando o cufflinks e o plot.ly**"
      ],
      "metadata": {
        "id": "8tFaDNLJrHf3"
      }
    },
    {
      "cell_type": "code",
      "source": [
        "import cufflinks as cf\n",
        "from plotly.offline import plot, iplot\n",
        "import pandas as pd\n",
        "import numpy as np\n",
        "import plotly.graph_objs as go"
      ],
      "metadata": {
        "id": "Mvqi5NWeq5aM"
      },
      "execution_count": null,
      "outputs": []
    },
    {
      "cell_type": "code",
      "source": [
        "import plotly.io as pio "
      ],
      "metadata": {
        "id": "xJ6ymu6ytl0L"
      },
      "execution_count": null,
      "outputs": []
    },
    {
      "cell_type": "markdown",
      "source": [
        "**dataframe com dados aleatorios divididos em 4 colunas**"
      ],
      "metadata": {
        "id": "YfBqVfdjrLuy"
      }
    },
    {
      "cell_type": "code",
      "source": [
        "df = pd.DataFrame(np.random.randn(100,4), columns=['A', 'B', 'C', 'D'])"
      ],
      "metadata": {
        "id": "nISAc2yBrLXC"
      },
      "execution_count": null,
      "outputs": []
    },
    {
      "cell_type": "code",
      "source": [
        "df.head()"
      ],
      "metadata": {
        "colab": {
          "base_uri": "https://localhost:8080/",
          "height": 206
        },
        "id": "HWXy_cVErYa4",
        "outputId": "cd2316fc-b345-4b69-f239-0879dbbf98df"
      },
      "execution_count": null,
      "outputs": [
        {
          "output_type": "execute_result",
          "data": {
            "text/plain": [
              "          A         B         C         D\n",
              "0  0.159918  2.016956 -1.157774  0.282391\n",
              "1  1.336472 -0.434292 -0.204766  1.836382\n",
              "2  0.808755 -0.433563  0.478529  0.267947\n",
              "3  0.031402  2.177119 -1.049734  0.102080\n",
              "4  0.871302  0.809550  0.430007 -0.151774"
            ],
            "text/html": [
              "\n",
              "  <div id=\"df-69fd1778-2562-456e-b4ee-219e26db3eba\">\n",
              "    <div class=\"colab-df-container\">\n",
              "      <div>\n",
              "<style scoped>\n",
              "    .dataframe tbody tr th:only-of-type {\n",
              "        vertical-align: middle;\n",
              "    }\n",
              "\n",
              "    .dataframe tbody tr th {\n",
              "        vertical-align: top;\n",
              "    }\n",
              "\n",
              "    .dataframe thead th {\n",
              "        text-align: right;\n",
              "    }\n",
              "</style>\n",
              "<table border=\"1\" class=\"dataframe\">\n",
              "  <thead>\n",
              "    <tr style=\"text-align: right;\">\n",
              "      <th></th>\n",
              "      <th>A</th>\n",
              "      <th>B</th>\n",
              "      <th>C</th>\n",
              "      <th>D</th>\n",
              "    </tr>\n",
              "  </thead>\n",
              "  <tbody>\n",
              "    <tr>\n",
              "      <th>0</th>\n",
              "      <td>0.159918</td>\n",
              "      <td>2.016956</td>\n",
              "      <td>-1.157774</td>\n",
              "      <td>0.282391</td>\n",
              "    </tr>\n",
              "    <tr>\n",
              "      <th>1</th>\n",
              "      <td>1.336472</td>\n",
              "      <td>-0.434292</td>\n",
              "      <td>-0.204766</td>\n",
              "      <td>1.836382</td>\n",
              "    </tr>\n",
              "    <tr>\n",
              "      <th>2</th>\n",
              "      <td>0.808755</td>\n",
              "      <td>-0.433563</td>\n",
              "      <td>0.478529</td>\n",
              "      <td>0.267947</td>\n",
              "    </tr>\n",
              "    <tr>\n",
              "      <th>3</th>\n",
              "      <td>0.031402</td>\n",
              "      <td>2.177119</td>\n",
              "      <td>-1.049734</td>\n",
              "      <td>0.102080</td>\n",
              "    </tr>\n",
              "    <tr>\n",
              "      <th>4</th>\n",
              "      <td>0.871302</td>\n",
              "      <td>0.809550</td>\n",
              "      <td>0.430007</td>\n",
              "      <td>-0.151774</td>\n",
              "    </tr>\n",
              "  </tbody>\n",
              "</table>\n",
              "</div>\n",
              "      <button class=\"colab-df-convert\" onclick=\"convertToInteractive('df-69fd1778-2562-456e-b4ee-219e26db3eba')\"\n",
              "              title=\"Convert this dataframe to an interactive table.\"\n",
              "              style=\"display:none;\">\n",
              "        \n",
              "  <svg xmlns=\"http://www.w3.org/2000/svg\" height=\"24px\"viewBox=\"0 0 24 24\"\n",
              "       width=\"24px\">\n",
              "    <path d=\"M0 0h24v24H0V0z\" fill=\"none\"/>\n",
              "    <path d=\"M18.56 5.44l.94 2.06.94-2.06 2.06-.94-2.06-.94-.94-2.06-.94 2.06-2.06.94zm-11 1L8.5 8.5l.94-2.06 2.06-.94-2.06-.94L8.5 2.5l-.94 2.06-2.06.94zm10 10l.94 2.06.94-2.06 2.06-.94-2.06-.94-.94-2.06-.94 2.06-2.06.94z\"/><path d=\"M17.41 7.96l-1.37-1.37c-.4-.4-.92-.59-1.43-.59-.52 0-1.04.2-1.43.59L10.3 9.45l-7.72 7.72c-.78.78-.78 2.05 0 2.83L4 21.41c.39.39.9.59 1.41.59.51 0 1.02-.2 1.41-.59l7.78-7.78 2.81-2.81c.8-.78.8-2.07 0-2.86zM5.41 20L4 18.59l7.72-7.72 1.47 1.35L5.41 20z\"/>\n",
              "  </svg>\n",
              "      </button>\n",
              "      \n",
              "  <style>\n",
              "    .colab-df-container {\n",
              "      display:flex;\n",
              "      flex-wrap:wrap;\n",
              "      gap: 12px;\n",
              "    }\n",
              "\n",
              "    .colab-df-convert {\n",
              "      background-color: #E8F0FE;\n",
              "      border: none;\n",
              "      border-radius: 50%;\n",
              "      cursor: pointer;\n",
              "      display: none;\n",
              "      fill: #1967D2;\n",
              "      height: 32px;\n",
              "      padding: 0 0 0 0;\n",
              "      width: 32px;\n",
              "    }\n",
              "\n",
              "    .colab-df-convert:hover {\n",
              "      background-color: #E2EBFA;\n",
              "      box-shadow: 0px 1px 2px rgba(60, 64, 67, 0.3), 0px 1px 3px 1px rgba(60, 64, 67, 0.15);\n",
              "      fill: #174EA6;\n",
              "    }\n",
              "\n",
              "    [theme=dark] .colab-df-convert {\n",
              "      background-color: #3B4455;\n",
              "      fill: #D2E3FC;\n",
              "    }\n",
              "\n",
              "    [theme=dark] .colab-df-convert:hover {\n",
              "      background-color: #434B5C;\n",
              "      box-shadow: 0px 1px 3px 1px rgba(0, 0, 0, 0.15);\n",
              "      filter: drop-shadow(0px 1px 2px rgba(0, 0, 0, 0.3));\n",
              "      fill: #FFFFFF;\n",
              "    }\n",
              "  </style>\n",
              "\n",
              "      <script>\n",
              "        const buttonEl =\n",
              "          document.querySelector('#df-69fd1778-2562-456e-b4ee-219e26db3eba button.colab-df-convert');\n",
              "        buttonEl.style.display =\n",
              "          google.colab.kernel.accessAllowed ? 'block' : 'none';\n",
              "\n",
              "        async function convertToInteractive(key) {\n",
              "          const element = document.querySelector('#df-69fd1778-2562-456e-b4ee-219e26db3eba');\n",
              "          const dataTable =\n",
              "            await google.colab.kernel.invokeFunction('convertToInteractive',\n",
              "                                                     [key], {});\n",
              "          if (!dataTable) return;\n",
              "\n",
              "          const docLinkHtml = 'Like what you see? Visit the ' +\n",
              "            '<a target=\"_blank\" href=https://colab.research.google.com/notebooks/data_table.ipynb>data table notebook</a>'\n",
              "            + ' to learn more about interactive tables.';\n",
              "          element.innerHTML = '';\n",
              "          dataTable['output_type'] = 'display_data';\n",
              "          await google.colab.output.renderOutput(dataTable, element);\n",
              "          const docLink = document.createElement('div');\n",
              "          docLink.innerHTML = docLinkHtml;\n",
              "          element.appendChild(docLink);\n",
              "        }\n",
              "      </script>\n",
              "    </div>\n",
              "  </div>\n",
              "  "
            ]
          },
          "metadata": {},
          "execution_count": 23
        }
      ]
    },
    {
      "cell_type": "markdown",
      "source": [
        "**Teste utilizando o Cufflinks (iplot é versão off)**"
      ],
      "metadata": {
        "id": "XunCZM-zsDiN"
      }
    },
    {
      "cell_type": "code",
      "source": [
        "!pip install chart_studio "
      ],
      "metadata": {
        "colab": {
          "base_uri": "https://localhost:8080/"
        },
        "id": "jXtuWH0AsX_Y",
        "outputId": "8a514f3d-0d30-4bfe-a019-98f399d324c2"
      },
      "execution_count": null,
      "outputs": [
        {
          "output_type": "stream",
          "name": "stdout",
          "text": [
            "Looking in indexes: https://pypi.org/simple, https://us-python.pkg.dev/colab-wheels/public/simple/\n",
            "Collecting chart_studio\n",
            "  Downloading chart_studio-1.1.0-py3-none-any.whl (64 kB)\n",
            "\u001b[2K     \u001b[90m━━━━━━━━━━━━━━━━━━━━━━━━━━━━━━━━━━━━━━━━\u001b[0m \u001b[32m64.4/64.4 KB\u001b[0m \u001b[31m3.2 MB/s\u001b[0m eta \u001b[36m0:00:00\u001b[0m\n",
            "\u001b[?25hRequirement already satisfied: requests in /usr/local/lib/python3.8/dist-packages (from chart_studio) (2.25.1)\n",
            "Collecting retrying>=1.3.3\n",
            "  Downloading retrying-1.3.4-py3-none-any.whl (11 kB)\n",
            "Requirement already satisfied: six in /usr/local/lib/python3.8/dist-packages (from chart_studio) (1.15.0)\n",
            "Requirement already satisfied: plotly in /usr/local/lib/python3.8/dist-packages (from chart_studio) (5.5.0)\n",
            "Requirement already satisfied: tenacity>=6.2.0 in /usr/local/lib/python3.8/dist-packages (from plotly->chart_studio) (8.1.0)\n",
            "Requirement already satisfied: urllib3<1.27,>=1.21.1 in /usr/local/lib/python3.8/dist-packages (from requests->chart_studio) (1.24.3)\n",
            "Requirement already satisfied: idna<3,>=2.5 in /usr/local/lib/python3.8/dist-packages (from requests->chart_studio) (2.10)\n",
            "Requirement already satisfied: chardet<5,>=3.0.2 in /usr/local/lib/python3.8/dist-packages (from requests->chart_studio) (4.0.0)\n",
            "Requirement already satisfied: certifi>=2017.4.17 in /usr/local/lib/python3.8/dist-packages (from requests->chart_studio) (2022.12.7)\n",
            "Installing collected packages: retrying, chart_studio\n",
            "Successfully installed chart_studio-1.1.0 retrying-1.3.4\n"
          ]
        }
      ]
    },
    {
      "cell_type": "markdown",
      "source": [
        "**Habilitando o modo offilne**"
      ],
      "metadata": {
        "id": "a2K0FshlsQ0v"
      }
    },
    {
      "cell_type": "code",
      "source": [
        "cf.go_offline()"
      ],
      "metadata": {
        "id": "rOotJDtYsKwY",
        "colab": {
          "base_uri": "https://localhost:8080/",
          "height": 17
        },
        "outputId": "33a59af3-d93e-4046-9400-faa81c9da077"
      },
      "execution_count": null,
      "outputs": [
        {
          "output_type": "display_data",
          "data": {
            "text/html": [
              "        <script type=\"text/javascript\">\n",
              "        window.PlotlyConfig = {MathJaxConfig: 'local'};\n",
              "        if (window.MathJax) {MathJax.Hub.Config({SVG: {font: \"STIX-Web\"}});}\n",
              "        if (typeof require !== 'undefined') {\n",
              "        require.undef(\"plotly\");\n",
              "        requirejs.config({\n",
              "            paths: {\n",
              "                'plotly': ['https://cdn.plot.ly/plotly-2.8.3.min']\n",
              "            }\n",
              "        });\n",
              "        require(['plotly'], function(Plotly) {\n",
              "            window._Plotly = Plotly;\n",
              "        });\n",
              "        }\n",
              "        </script>\n",
              "        "
            ]
          },
          "metadata": {}
        }
      ]
    },
    {
      "cell_type": "code",
      "source": [
        "pio.renderers.default = 'colab' "
      ],
      "metadata": {
        "id": "XbCKwe5xuj2W"
      },
      "execution_count": null,
      "outputs": []
    },
    {
      "cell_type": "code",
      "source": [
        "df.iplot()"
      ],
      "metadata": {
        "id": "PCa6UpPnrZPf",
        "colab": {
          "base_uri": "https://localhost:8080/",
          "height": 542
        },
        "outputId": "7fc589cc-ee49-484c-d70e-ac71f00785e5"
      },
      "execution_count": null,
      "outputs": [
        {
          "output_type": "display_data",
          "data": {
            "text/html": [
              "<html>\n",
              "<head><meta charset=\"utf-8\" /></head>\n",
              "<body>\n",
              "    <div>            <script src=\"https://cdnjs.cloudflare.com/ajax/libs/mathjax/2.7.5/MathJax.js?config=TeX-AMS-MML_SVG\"></script><script type=\"text/javascript\">if (window.MathJax) {MathJax.Hub.Config({SVG: {font: \"STIX-Web\"}});}</script>                <script type=\"text/javascript\">window.PlotlyConfig = {MathJaxConfig: 'local'};</script>\n",
              "        <script src=\"https://cdn.plot.ly/plotly-2.8.3.min.js\"></script>                <div id=\"23576752-881b-4c20-b897-13a709b71d2d\" class=\"plotly-graph-div\" style=\"height:525px; width:100%;\"></div>            <script type=\"text/javascript\">                                    window.PLOTLYENV=window.PLOTLYENV || {};\n",
              "                    window.PLOTLYENV.BASE_URL='https://plot.ly';                                    if (document.getElementById(\"23576752-881b-4c20-b897-13a709b71d2d\")) {                    Plotly.newPlot(                        \"23576752-881b-4c20-b897-13a709b71d2d\",                        [{\"line\":{\"color\":\"rgba(255, 153, 51, 1.0)\",\"dash\":\"solid\",\"shape\":\"linear\",\"width\":1.3},\"mode\":\"lines\",\"name\":\"A\",\"text\":\"\",\"x\":[0,1,2,3,4,5,6,7,8,9,10,11,12,13,14,15,16,17,18,19,20,21,22,23,24,25,26,27,28,29,30,31,32,33,34,35,36,37,38,39,40,41,42,43,44,45,46,47,48,49,50,51,52,53,54,55,56,57,58,59,60,61,62,63,64,65,66,67,68,69,70,71,72,73,74,75,76,77,78,79,80,81,82,83,84,85,86,87,88,89,90,91,92,93,94,95,96,97,98,99],\"y\":[0.15991766187357428,1.336472110488845,0.8087554615730191,0.031402204039810463,0.8713020449035054,-0.18301367589422302,0.2959982485702422,-0.6440423791992994,0.7195149636929072,2.117095783953832,-0.8861256853914704,-0.06883514519329981,0.05725830989514137,-1.5377659212125694,0.48135399584660393,0.178847943069043,0.7380656218836031,0.4986764901107574,0.15672813399413907,-0.38782096675302,-0.451502206533528,-0.2659064722708647,-0.4608990078051319,-0.8033154515498455,0.3138311621097309,-0.045844237771712884,-1.556194098903122,0.8653230717656981,-0.2051436145410211,-0.9435601487749822,0.6435578559899167,0.010746036139253729,0.9816546219518957,-0.7883760109979703,-0.4219866760514121,1.5103393223025015,-1.186530618454949,0.738364576058676,-0.9313352166354086,1.0989320382376717,0.9358976879967568,2.053460467240248,0.9355663920921059,0.1062269206415052,0.12419121758653327,0.4327896539954133,-0.0650547492445288,-1.4207367664943125,0.9275744459638233,0.0704916510444277,-1.7701057106976477,1.4151891723447745,-0.37427935543614516,-1.1177543449582599,-1.640180532656671,-0.4881493982367995,-1.1161729936527205,-1.2899556537355825,-1.244650063204049,-0.3110937126001046,0.12605130277900195,0.6375670860217763,-0.20807822578083898,0.3150380759867778,2.0634904541746866,-1.3235454571828962,-1.0707258698669206,0.1851863594454151,0.8634235543333478,0.24150247433852054,1.5025963093065222,-2.2878565096456485,1.2066024890978364,2.411621659182668,0.17738862757875634,1.1551284696970068,-0.8662666166687629,1.5997880549264378,2.3247488187702494,-0.0313543048618275,-0.9279551146150026,0.16932949466500008,0.46414088600980835,-0.41644944145529533,-0.933820221609658,0.3013142547911265,1.66591729876168,-1.8303715181731808,-0.7982821148280002,2.3205811976469697,0.4814458815776598,2.534941174370491,-1.1456873235501608,-0.07354110602854524,0.8313678951166191,-0.6861647548154984,-1.115897775753925,-2.502794387869055,-0.22210760762261078,-1.2520497220358475],\"type\":\"scatter\"},{\"line\":{\"color\":\"rgba(55, 128, 191, 1.0)\",\"dash\":\"solid\",\"shape\":\"linear\",\"width\":1.3},\"mode\":\"lines\",\"name\":\"B\",\"text\":\"\",\"x\":[0,1,2,3,4,5,6,7,8,9,10,11,12,13,14,15,16,17,18,19,20,21,22,23,24,25,26,27,28,29,30,31,32,33,34,35,36,37,38,39,40,41,42,43,44,45,46,47,48,49,50,51,52,53,54,55,56,57,58,59,60,61,62,63,64,65,66,67,68,69,70,71,72,73,74,75,76,77,78,79,80,81,82,83,84,85,86,87,88,89,90,91,92,93,94,95,96,97,98,99],\"y\":[2.0169561332861865,-0.43429233380843885,-0.43356257673214427,2.1771186367256368,0.8095500574131534,-1.3091778124359188,-0.9681007237257846,1.2850120572596524,0.6546566964279855,0.4292531604116228,1.55998047068737,-1.6879332653443762,-0.7871322190035406,-0.06602796855804274,0.16586869842900476,-1.7825105809023518,1.2901942156942292,-0.7236095084983274,1.7244080945995413,0.44760717109182,0.5395070916223994,1.1343025665670685,-0.7095537282194786,-0.2966166494095116,0.0010495700976222509,-0.7947123610749705,-0.1589210289042382,0.16793701983142267,1.3262010480237127,2.1352207815848003,0.6238969068184332,1.113052664929787,0.9184277011033406,-0.17810406921678754,-1.3839417460700068,-0.6673675175730456,1.7913281891926909,-0.8437026591921084,0.4265553946591838,-0.21300472206775586,-1.221593864730558,0.07738142159786968,0.7869222799317079,1.4780736594918247,-0.3870450818133202,-1.7701064654367429,-1.1277662728039375,-0.11044164730278658,-0.788967271191509,-0.04196094873924995,0.06282355519876329,-0.6082088099411694,-0.6901270979407248,-0.7696480126480182,-1.3281858051629787,-1.0958610815463221,2.8327547840276606,1.4790521195365034,-0.684704166150316,-2.326517577175694,0.004961157236635512,-0.7018825524478743,-0.7407491647289562,-0.7191210994170975,-0.9772919152984749,-0.30756191972316915,-1.8234225171249907,0.3101977031305282,0.1881068925350721,-0.4482297721251149,-0.5622980431393981,1.541465255724142,0.9213261541265201,0.8769460884701058,0.4450520331045591,-0.37581018273079164,-1.2196759240469361,-0.4198841545862449,-0.9971941914757909,-3.0363584923982363,-0.10871855029411716,0.6999101412980412,0.8625677640418702,-2.266728223091762,0.06574609108208804,-1.1428512206836945,-1.5140403565383014,0.20871849945854495,0.25597677902045446,0.6062616572240755,1.7790634891411108,0.04450808939889438,0.8233658178055882,-0.6253975175487747,-1.150887769149947,0.3386958645987173,-0.18279014888271924,0.06545423066742678,-0.9851210924595009,-0.22728489546670294],\"type\":\"scatter\"},{\"line\":{\"color\":\"rgba(50, 171, 96, 1.0)\",\"dash\":\"solid\",\"shape\":\"linear\",\"width\":1.3},\"mode\":\"lines\",\"name\":\"C\",\"text\":\"\",\"x\":[0,1,2,3,4,5,6,7,8,9,10,11,12,13,14,15,16,17,18,19,20,21,22,23,24,25,26,27,28,29,30,31,32,33,34,35,36,37,38,39,40,41,42,43,44,45,46,47,48,49,50,51,52,53,54,55,56,57,58,59,60,61,62,63,64,65,66,67,68,69,70,71,72,73,74,75,76,77,78,79,80,81,82,83,84,85,86,87,88,89,90,91,92,93,94,95,96,97,98,99],\"y\":[-1.1577737987756762,-0.20476595080494625,0.4785291568850827,-1.049734125039708,0.4300068110467301,1.097968763140523,-1.4833494711412478,1.7209499459661282,0.7788035564481742,1.517397294290723,0.2347246309441393,-0.7761895892157443,-2.054212294752564,0.38398809436835113,0.843160283997241,-1.039105133373964,-0.653103990267039,-0.8811868942054735,-1.2576629647434288,-1.7871724718463098,-1.4829165003834064,-0.2612305910895046,0.07960485447649558,-0.9129417380022947,0.40314647063579173,-1.0281978014509485,0.07407760046607764,1.4012430035024712,0.16905586387013996,-0.37896358478247877,1.4522024155909667,-0.8634725269983637,-0.866259811177869,0.739669512910617,1.2661250145471943,0.2404723312905949,-2.345009151983953,-0.6393692661828025,-0.8282095865689866,1.1495791124865098,0.5775963893324433,-0.19112191963172118,-0.12997132011387869,-0.4344321132064988,-0.2902928942428836,0.5891040575186413,2.1191378098914373,-0.9800028370543378,0.48286852194745195,1.1976878499910177,0.029652523881802166,-1.9742077413455394,-0.08376468314983695,-1.9216686832720937,1.2022418479585406,-0.5508535293759708,0.3450508859350295,-0.7773000032231051,0.8604839470691935,1.7707808072100537,-1.6961716564927511,0.26482781353737667,-0.46429884931418586,-0.28597015592476244,0.0816409511380148,0.8300613531825849,-0.5398743364301557,0.14191258088547384,-1.4657456730872889,0.20586309775465908,-1.8302693029027133,0.7251901655844724,-0.19119921799867812,1.9115866729271127,-0.13949806351718516,-1.5250194443222775,0.35046379178075016,-1.0169389130083448,-0.5391188103399921,-1.764140792644202,0.5383798960843764,0.1620277882257504,0.0825107687421268,-0.39151202480382136,-0.6339854169335964,1.45192400874128,-0.38521508922767606,-1.0446720598970058,0.4462581716253721,-0.9979837929134856,-0.5673137624814252,0.49199022917879587,1.0876917846859946,-1.5786288766796754,2.190087752823068,0.25234475052261124,0.8312505222465344,0.8766502386627013,2.9484800552978703,0.23606637522142704],\"type\":\"scatter\"},{\"line\":{\"color\":\"rgba(128, 0, 128, 1.0)\",\"dash\":\"solid\",\"shape\":\"linear\",\"width\":1.3},\"mode\":\"lines\",\"name\":\"D\",\"text\":\"\",\"x\":[0,1,2,3,4,5,6,7,8,9,10,11,12,13,14,15,16,17,18,19,20,21,22,23,24,25,26,27,28,29,30,31,32,33,34,35,36,37,38,39,40,41,42,43,44,45,46,47,48,49,50,51,52,53,54,55,56,57,58,59,60,61,62,63,64,65,66,67,68,69,70,71,72,73,74,75,76,77,78,79,80,81,82,83,84,85,86,87,88,89,90,91,92,93,94,95,96,97,98,99],\"y\":[0.28239145039917646,1.8363822521912083,0.26794720325871424,0.10208004567712484,-0.15177375816615735,0.01681072921394639,1.1374501311799545,0.03548719406323302,-0.3796591510612054,0.1675610640271451,-0.7712154256001914,0.8839414817560541,0.18093526944239666,-0.17273830439621007,1.3492286448622257,-1.742415898628937,-0.3735273368343053,-0.5819153365423312,1.0959618172528736,-0.9042902629750132,-0.6306754349886508,-0.07135926057754212,0.33860606644118335,-0.7374752184064594,-0.6499440525674023,-0.0782242453318375,0.5061336844050206,-1.4592386604250434,0.3003253143844615,-0.6380236583925735,1.2203680047139338,-0.3780707481766195,0.008533258921761985,0.026150226761191192,-0.5538168810718875,-1.7620567730065355,-0.5397618067906942,-0.7952717843039396,-0.7361298652706514,-0.3052539776912539,0.36382380571077594,-0.21755249388116144,0.06000553035783175,2.2585117505323646,-1.850780490906206,0.21255731218839877,-0.821348188403252,0.4456412796320036,0.15741499552532798,1.5714750123303496,0.3187533108895991,-0.9678880186190438,-1.2958680248570562,0.5134275820754821,1.220822871455858,-0.9727570930633096,0.7144927152472524,-0.228848938817637,0.4115779820200336,-0.2770670591676926,-0.04566156965625598,0.08704565960001388,-0.5707134553647448,1.2249943460921675,1.2644211448069649,-2.659926175928382,2.169443788320486,-1.2313551676093555,-0.5588062572050628,0.625375093036721,-0.06322056261275152,1.0195717268348636,-0.6497140823092098,-1.6468284607363297,-0.7831062358595463,-0.6874725325665811,0.3043726161100774,-1.8450020616128964,1.1385444264294615,0.7524557072696625,0.744359589043357,0.9164114408746197,-2.079241475090012,-0.07444411250046001,-0.04767363805807925,1.8167382068251494,-0.5233565342439602,-0.3208454676184389,-1.4641124824188727,-2.342535646954361,-2.4622685742111474,0.842315295153011,-1.087325408739789,1.1151311006189522,1.0656061121684293,0.8476413479708031,0.788462248794487,-0.9618119284976607,0.009020060177266946,-0.5938041451769931],\"type\":\"scatter\"}],                        {\"legend\":{\"bgcolor\":\"#F5F6F9\",\"font\":{\"color\":\"#4D5663\"}},\"paper_bgcolor\":\"#F5F6F9\",\"plot_bgcolor\":\"#F5F6F9\",\"template\":{\"data\":{\"barpolar\":[{\"marker\":{\"line\":{\"color\":\"#E5ECF6\",\"width\":0.5},\"pattern\":{\"fillmode\":\"overlay\",\"size\":10,\"solidity\":0.2}},\"type\":\"barpolar\"}],\"bar\":[{\"error_x\":{\"color\":\"#2a3f5f\"},\"error_y\":{\"color\":\"#2a3f5f\"},\"marker\":{\"line\":{\"color\":\"#E5ECF6\",\"width\":0.5},\"pattern\":{\"fillmode\":\"overlay\",\"size\":10,\"solidity\":0.2}},\"type\":\"bar\"}],\"carpet\":[{\"aaxis\":{\"endlinecolor\":\"#2a3f5f\",\"gridcolor\":\"white\",\"linecolor\":\"white\",\"minorgridcolor\":\"white\",\"startlinecolor\":\"#2a3f5f\"},\"baxis\":{\"endlinecolor\":\"#2a3f5f\",\"gridcolor\":\"white\",\"linecolor\":\"white\",\"minorgridcolor\":\"white\",\"startlinecolor\":\"#2a3f5f\"},\"type\":\"carpet\"}],\"choropleth\":[{\"colorbar\":{\"outlinewidth\":0,\"ticks\":\"\"},\"type\":\"choropleth\"}],\"contourcarpet\":[{\"colorbar\":{\"outlinewidth\":0,\"ticks\":\"\"},\"type\":\"contourcarpet\"}],\"contour\":[{\"colorbar\":{\"outlinewidth\":0,\"ticks\":\"\"},\"colorscale\":[[0.0,\"#0d0887\"],[0.1111111111111111,\"#46039f\"],[0.2222222222222222,\"#7201a8\"],[0.3333333333333333,\"#9c179e\"],[0.4444444444444444,\"#bd3786\"],[0.5555555555555556,\"#d8576b\"],[0.6666666666666666,\"#ed7953\"],[0.7777777777777778,\"#fb9f3a\"],[0.8888888888888888,\"#fdca26\"],[1.0,\"#f0f921\"]],\"type\":\"contour\"}],\"heatmapgl\":[{\"colorbar\":{\"outlinewidth\":0,\"ticks\":\"\"},\"colorscale\":[[0.0,\"#0d0887\"],[0.1111111111111111,\"#46039f\"],[0.2222222222222222,\"#7201a8\"],[0.3333333333333333,\"#9c179e\"],[0.4444444444444444,\"#bd3786\"],[0.5555555555555556,\"#d8576b\"],[0.6666666666666666,\"#ed7953\"],[0.7777777777777778,\"#fb9f3a\"],[0.8888888888888888,\"#fdca26\"],[1.0,\"#f0f921\"]],\"type\":\"heatmapgl\"}],\"heatmap\":[{\"colorbar\":{\"outlinewidth\":0,\"ticks\":\"\"},\"colorscale\":[[0.0,\"#0d0887\"],[0.1111111111111111,\"#46039f\"],[0.2222222222222222,\"#7201a8\"],[0.3333333333333333,\"#9c179e\"],[0.4444444444444444,\"#bd3786\"],[0.5555555555555556,\"#d8576b\"],[0.6666666666666666,\"#ed7953\"],[0.7777777777777778,\"#fb9f3a\"],[0.8888888888888888,\"#fdca26\"],[1.0,\"#f0f921\"]],\"type\":\"heatmap\"}],\"histogram2dcontour\":[{\"colorbar\":{\"outlinewidth\":0,\"ticks\":\"\"},\"colorscale\":[[0.0,\"#0d0887\"],[0.1111111111111111,\"#46039f\"],[0.2222222222222222,\"#7201a8\"],[0.3333333333333333,\"#9c179e\"],[0.4444444444444444,\"#bd3786\"],[0.5555555555555556,\"#d8576b\"],[0.6666666666666666,\"#ed7953\"],[0.7777777777777778,\"#fb9f3a\"],[0.8888888888888888,\"#fdca26\"],[1.0,\"#f0f921\"]],\"type\":\"histogram2dcontour\"}],\"histogram2d\":[{\"colorbar\":{\"outlinewidth\":0,\"ticks\":\"\"},\"colorscale\":[[0.0,\"#0d0887\"],[0.1111111111111111,\"#46039f\"],[0.2222222222222222,\"#7201a8\"],[0.3333333333333333,\"#9c179e\"],[0.4444444444444444,\"#bd3786\"],[0.5555555555555556,\"#d8576b\"],[0.6666666666666666,\"#ed7953\"],[0.7777777777777778,\"#fb9f3a\"],[0.8888888888888888,\"#fdca26\"],[1.0,\"#f0f921\"]],\"type\":\"histogram2d\"}],\"histogram\":[{\"marker\":{\"pattern\":{\"fillmode\":\"overlay\",\"size\":10,\"solidity\":0.2}},\"type\":\"histogram\"}],\"mesh3d\":[{\"colorbar\":{\"outlinewidth\":0,\"ticks\":\"\"},\"type\":\"mesh3d\"}],\"parcoords\":[{\"line\":{\"colorbar\":{\"outlinewidth\":0,\"ticks\":\"\"}},\"type\":\"parcoords\"}],\"pie\":[{\"automargin\":true,\"type\":\"pie\"}],\"scatter3d\":[{\"line\":{\"colorbar\":{\"outlinewidth\":0,\"ticks\":\"\"}},\"marker\":{\"colorbar\":{\"outlinewidth\":0,\"ticks\":\"\"}},\"type\":\"scatter3d\"}],\"scattercarpet\":[{\"marker\":{\"colorbar\":{\"outlinewidth\":0,\"ticks\":\"\"}},\"type\":\"scattercarpet\"}],\"scattergeo\":[{\"marker\":{\"colorbar\":{\"outlinewidth\":0,\"ticks\":\"\"}},\"type\":\"scattergeo\"}],\"scattergl\":[{\"marker\":{\"colorbar\":{\"outlinewidth\":0,\"ticks\":\"\"}},\"type\":\"scattergl\"}],\"scattermapbox\":[{\"marker\":{\"colorbar\":{\"outlinewidth\":0,\"ticks\":\"\"}},\"type\":\"scattermapbox\"}],\"scatterpolargl\":[{\"marker\":{\"colorbar\":{\"outlinewidth\":0,\"ticks\":\"\"}},\"type\":\"scatterpolargl\"}],\"scatterpolar\":[{\"marker\":{\"colorbar\":{\"outlinewidth\":0,\"ticks\":\"\"}},\"type\":\"scatterpolar\"}],\"scatter\":[{\"marker\":{\"colorbar\":{\"outlinewidth\":0,\"ticks\":\"\"}},\"type\":\"scatter\"}],\"scatterternary\":[{\"marker\":{\"colorbar\":{\"outlinewidth\":0,\"ticks\":\"\"}},\"type\":\"scatterternary\"}],\"surface\":[{\"colorbar\":{\"outlinewidth\":0,\"ticks\":\"\"},\"colorscale\":[[0.0,\"#0d0887\"],[0.1111111111111111,\"#46039f\"],[0.2222222222222222,\"#7201a8\"],[0.3333333333333333,\"#9c179e\"],[0.4444444444444444,\"#bd3786\"],[0.5555555555555556,\"#d8576b\"],[0.6666666666666666,\"#ed7953\"],[0.7777777777777778,\"#fb9f3a\"],[0.8888888888888888,\"#fdca26\"],[1.0,\"#f0f921\"]],\"type\":\"surface\"}],\"table\":[{\"cells\":{\"fill\":{\"color\":\"#EBF0F8\"},\"line\":{\"color\":\"white\"}},\"header\":{\"fill\":{\"color\":\"#C8D4E3\"},\"line\":{\"color\":\"white\"}},\"type\":\"table\"}]},\"layout\":{\"annotationdefaults\":{\"arrowcolor\":\"#2a3f5f\",\"arrowhead\":0,\"arrowwidth\":1},\"autotypenumbers\":\"strict\",\"coloraxis\":{\"colorbar\":{\"outlinewidth\":0,\"ticks\":\"\"}},\"colorscale\":{\"diverging\":[[0,\"#8e0152\"],[0.1,\"#c51b7d\"],[0.2,\"#de77ae\"],[0.3,\"#f1b6da\"],[0.4,\"#fde0ef\"],[0.5,\"#f7f7f7\"],[0.6,\"#e6f5d0\"],[0.7,\"#b8e186\"],[0.8,\"#7fbc41\"],[0.9,\"#4d9221\"],[1,\"#276419\"]],\"sequential\":[[0.0,\"#0d0887\"],[0.1111111111111111,\"#46039f\"],[0.2222222222222222,\"#7201a8\"],[0.3333333333333333,\"#9c179e\"],[0.4444444444444444,\"#bd3786\"],[0.5555555555555556,\"#d8576b\"],[0.6666666666666666,\"#ed7953\"],[0.7777777777777778,\"#fb9f3a\"],[0.8888888888888888,\"#fdca26\"],[1.0,\"#f0f921\"]],\"sequentialminus\":[[0.0,\"#0d0887\"],[0.1111111111111111,\"#46039f\"],[0.2222222222222222,\"#7201a8\"],[0.3333333333333333,\"#9c179e\"],[0.4444444444444444,\"#bd3786\"],[0.5555555555555556,\"#d8576b\"],[0.6666666666666666,\"#ed7953\"],[0.7777777777777778,\"#fb9f3a\"],[0.8888888888888888,\"#fdca26\"],[1.0,\"#f0f921\"]]},\"colorway\":[\"#636efa\",\"#EF553B\",\"#00cc96\",\"#ab63fa\",\"#FFA15A\",\"#19d3f3\",\"#FF6692\",\"#B6E880\",\"#FF97FF\",\"#FECB52\"],\"font\":{\"color\":\"#2a3f5f\"},\"geo\":{\"bgcolor\":\"white\",\"lakecolor\":\"white\",\"landcolor\":\"#E5ECF6\",\"showlakes\":true,\"showland\":true,\"subunitcolor\":\"white\"},\"hoverlabel\":{\"align\":\"left\"},\"hovermode\":\"closest\",\"mapbox\":{\"style\":\"light\"},\"paper_bgcolor\":\"white\",\"plot_bgcolor\":\"#E5ECF6\",\"polar\":{\"angularaxis\":{\"gridcolor\":\"white\",\"linecolor\":\"white\",\"ticks\":\"\"},\"bgcolor\":\"#E5ECF6\",\"radialaxis\":{\"gridcolor\":\"white\",\"linecolor\":\"white\",\"ticks\":\"\"}},\"scene\":{\"xaxis\":{\"backgroundcolor\":\"#E5ECF6\",\"gridcolor\":\"white\",\"gridwidth\":2,\"linecolor\":\"white\",\"showbackground\":true,\"ticks\":\"\",\"zerolinecolor\":\"white\"},\"yaxis\":{\"backgroundcolor\":\"#E5ECF6\",\"gridcolor\":\"white\",\"gridwidth\":2,\"linecolor\":\"white\",\"showbackground\":true,\"ticks\":\"\",\"zerolinecolor\":\"white\"},\"zaxis\":{\"backgroundcolor\":\"#E5ECF6\",\"gridcolor\":\"white\",\"gridwidth\":2,\"linecolor\":\"white\",\"showbackground\":true,\"ticks\":\"\",\"zerolinecolor\":\"white\"}},\"shapedefaults\":{\"line\":{\"color\":\"#2a3f5f\"}},\"ternary\":{\"aaxis\":{\"gridcolor\":\"white\",\"linecolor\":\"white\",\"ticks\":\"\"},\"baxis\":{\"gridcolor\":\"white\",\"linecolor\":\"white\",\"ticks\":\"\"},\"bgcolor\":\"#E5ECF6\",\"caxis\":{\"gridcolor\":\"white\",\"linecolor\":\"white\",\"ticks\":\"\"}},\"title\":{\"x\":0.05},\"xaxis\":{\"automargin\":true,\"gridcolor\":\"white\",\"linecolor\":\"white\",\"ticks\":\"\",\"title\":{\"standoff\":15},\"zerolinecolor\":\"white\",\"zerolinewidth\":2},\"yaxis\":{\"automargin\":true,\"gridcolor\":\"white\",\"linecolor\":\"white\",\"ticks\":\"\",\"title\":{\"standoff\":15},\"zerolinecolor\":\"white\",\"zerolinewidth\":2}}},\"title\":{\"font\":{\"color\":\"#4D5663\"}},\"xaxis\":{\"gridcolor\":\"#E1E5ED\",\"showgrid\":true,\"tickfont\":{\"color\":\"#4D5663\"},\"title\":{\"font\":{\"color\":\"#4D5663\"},\"text\":\"\"},\"zerolinecolor\":\"#E1E5ED\"},\"yaxis\":{\"gridcolor\":\"#E1E5ED\",\"showgrid\":true,\"tickfont\":{\"color\":\"#4D5663\"},\"title\":{\"font\":{\"color\":\"#4D5663\"},\"text\":\"\"},\"zerolinecolor\":\"#E1E5ED\"}},                        {\"showLink\": true, \"linkText\": \"Export to plot.ly\", \"plotlyServerURL\": \"https://plot.ly\", \"responsive\": true}                    ).then(function(){\n",
              "                            \n",
              "var gd = document.getElementById('23576752-881b-4c20-b897-13a709b71d2d');\n",
              "var x = new MutationObserver(function (mutations, observer) {{\n",
              "        var display = window.getComputedStyle(gd).display;\n",
              "        if (!display || display === 'none') {{\n",
              "            console.log([gd, 'removed!']);\n",
              "            Plotly.purge(gd);\n",
              "            observer.disconnect();\n",
              "        }}\n",
              "}});\n",
              "\n",
              "// Listen for the removal of the full notebook cells\n",
              "var notebookContainer = gd.closest('#notebook-container');\n",
              "if (notebookContainer) {{\n",
              "    x.observe(notebookContainer, {childList: true});\n",
              "}}\n",
              "\n",
              "// Listen for the clearing of the current output cell\n",
              "var outputEl = gd.closest('.output');\n",
              "if (outputEl) {{\n",
              "    x.observe(outputEl, {childList: true});\n",
              "}}\n",
              "\n",
              "                        })                };                            </script>        </div>\n",
              "</body>\n",
              "</html>"
            ]
          },
          "metadata": {}
        }
      ]
    },
    {
      "cell_type": "code",
      "source": [
        "#plotly.offline.init_notebook_mode(connected=True) "
      ],
      "metadata": {
        "id": "SqA80dx7uhp6"
      },
      "execution_count": null,
      "outputs": []
    },
    {
      "cell_type": "markdown",
      "source": [
        "**Gráficos do tipo scatter**"
      ],
      "metadata": {
        "id": "eNE7JAwPz7z9"
      }
    },
    {
      "cell_type": "code",
      "source": [
        "df.iplot(kind='scatter', x='A', y='B', mode='markers')"
      ],
      "metadata": {
        "id": "uIRgRc0Jz-N3",
        "colab": {
          "base_uri": "https://localhost:8080/",
          "height": 542
        },
        "outputId": "db78e8cd-0998-47c2-937f-90fdad73e845"
      },
      "execution_count": null,
      "outputs": [
        {
          "output_type": "display_data",
          "data": {
            "text/html": [
              "<html>\n",
              "<head><meta charset=\"utf-8\" /></head>\n",
              "<body>\n",
              "    <div>            <script src=\"https://cdnjs.cloudflare.com/ajax/libs/mathjax/2.7.5/MathJax.js?config=TeX-AMS-MML_SVG\"></script><script type=\"text/javascript\">if (window.MathJax) {MathJax.Hub.Config({SVG: {font: \"STIX-Web\"}});}</script>                <script type=\"text/javascript\">window.PlotlyConfig = {MathJaxConfig: 'local'};</script>\n",
              "        <script src=\"https://cdn.plot.ly/plotly-2.8.3.min.js\"></script>                <div id=\"0d1eeeec-8d74-478f-b0a5-2a6e6a75cb92\" class=\"plotly-graph-div\" style=\"height:525px; width:100%;\"></div>            <script type=\"text/javascript\">                                    window.PLOTLYENV=window.PLOTLYENV || {};\n",
              "                    window.PLOTLYENV.BASE_URL='https://plot.ly';                                    if (document.getElementById(\"0d1eeeec-8d74-478f-b0a5-2a6e6a75cb92\")) {                    Plotly.newPlot(                        \"0d1eeeec-8d74-478f-b0a5-2a6e6a75cb92\",                        [{\"line\":{\"color\":\"rgba(255, 153, 51, 1.0)\",\"dash\":\"solid\",\"shape\":\"linear\",\"width\":1.3},\"marker\":{\"size\":12,\"symbol\":\"circle\"},\"mode\":\"markers\",\"name\":\"B\",\"text\":\"\",\"x\":[0.15991766187357428,1.336472110488845,0.8087554615730191,0.031402204039810463,0.8713020449035054,-0.18301367589422302,0.2959982485702422,-0.6440423791992994,0.7195149636929072,2.117095783953832,-0.8861256853914704,-0.06883514519329981,0.05725830989514137,-1.5377659212125694,0.48135399584660393,0.178847943069043,0.7380656218836031,0.4986764901107574,0.15672813399413907,-0.38782096675302,-0.451502206533528,-0.2659064722708647,-0.4608990078051319,-0.8033154515498455,0.3138311621097309,-0.045844237771712884,-1.556194098903122,0.8653230717656981,-0.2051436145410211,-0.9435601487749822,0.6435578559899167,0.010746036139253729,0.9816546219518957,-0.7883760109979703,-0.4219866760514121,1.5103393223025015,-1.186530618454949,0.738364576058676,-0.9313352166354086,1.0989320382376717,0.9358976879967568,2.053460467240248,0.9355663920921059,0.1062269206415052,0.12419121758653327,0.4327896539954133,-0.0650547492445288,-1.4207367664943125,0.9275744459638233,0.0704916510444277,-1.7701057106976477,1.4151891723447745,-0.37427935543614516,-1.1177543449582599,-1.640180532656671,-0.4881493982367995,-1.1161729936527205,-1.2899556537355825,-1.244650063204049,-0.3110937126001046,0.12605130277900195,0.6375670860217763,-0.20807822578083898,0.3150380759867778,2.0634904541746866,-1.3235454571828962,-1.0707258698669206,0.1851863594454151,0.8634235543333478,0.24150247433852054,1.5025963093065222,-2.2878565096456485,1.2066024890978364,2.411621659182668,0.17738862757875634,1.1551284696970068,-0.8662666166687629,1.5997880549264378,2.3247488187702494,-0.0313543048618275,-0.9279551146150026,0.16932949466500008,0.46414088600980835,-0.41644944145529533,-0.933820221609658,0.3013142547911265,1.66591729876168,-1.8303715181731808,-0.7982821148280002,2.3205811976469697,0.4814458815776598,2.534941174370491,-1.1456873235501608,-0.07354110602854524,0.8313678951166191,-0.6861647548154984,-1.115897775753925,-2.502794387869055,-0.22210760762261078,-1.2520497220358475],\"y\":[2.0169561332861865,-0.43429233380843885,-0.43356257673214427,2.1771186367256368,0.8095500574131534,-1.3091778124359188,-0.9681007237257846,1.2850120572596524,0.6546566964279855,0.4292531604116228,1.55998047068737,-1.6879332653443762,-0.7871322190035406,-0.06602796855804274,0.16586869842900476,-1.7825105809023518,1.2901942156942292,-0.7236095084983274,1.7244080945995413,0.44760717109182,0.5395070916223994,1.1343025665670685,-0.7095537282194786,-0.2966166494095116,0.0010495700976222509,-0.7947123610749705,-0.1589210289042382,0.16793701983142267,1.3262010480237127,2.1352207815848003,0.6238969068184332,1.113052664929787,0.9184277011033406,-0.17810406921678754,-1.3839417460700068,-0.6673675175730456,1.7913281891926909,-0.8437026591921084,0.4265553946591838,-0.21300472206775586,-1.221593864730558,0.07738142159786968,0.7869222799317079,1.4780736594918247,-0.3870450818133202,-1.7701064654367429,-1.1277662728039375,-0.11044164730278658,-0.788967271191509,-0.04196094873924995,0.06282355519876329,-0.6082088099411694,-0.6901270979407248,-0.7696480126480182,-1.3281858051629787,-1.0958610815463221,2.8327547840276606,1.4790521195365034,-0.684704166150316,-2.326517577175694,0.004961157236635512,-0.7018825524478743,-0.7407491647289562,-0.7191210994170975,-0.9772919152984749,-0.30756191972316915,-1.8234225171249907,0.3101977031305282,0.1881068925350721,-0.4482297721251149,-0.5622980431393981,1.541465255724142,0.9213261541265201,0.8769460884701058,0.4450520331045591,-0.37581018273079164,-1.2196759240469361,-0.4198841545862449,-0.9971941914757909,-3.0363584923982363,-0.10871855029411716,0.6999101412980412,0.8625677640418702,-2.266728223091762,0.06574609108208804,-1.1428512206836945,-1.5140403565383014,0.20871849945854495,0.25597677902045446,0.6062616572240755,1.7790634891411108,0.04450808939889438,0.8233658178055882,-0.6253975175487747,-1.150887769149947,0.3386958645987173,-0.18279014888271924,0.06545423066742678,-0.9851210924595009,-0.22728489546670294],\"type\":\"scatter\"}],                        {\"legend\":{\"bgcolor\":\"#F5F6F9\",\"font\":{\"color\":\"#4D5663\"}},\"paper_bgcolor\":\"#F5F6F9\",\"plot_bgcolor\":\"#F5F6F9\",\"template\":{\"data\":{\"barpolar\":[{\"marker\":{\"line\":{\"color\":\"#E5ECF6\",\"width\":0.5},\"pattern\":{\"fillmode\":\"overlay\",\"size\":10,\"solidity\":0.2}},\"type\":\"barpolar\"}],\"bar\":[{\"error_x\":{\"color\":\"#2a3f5f\"},\"error_y\":{\"color\":\"#2a3f5f\"},\"marker\":{\"line\":{\"color\":\"#E5ECF6\",\"width\":0.5},\"pattern\":{\"fillmode\":\"overlay\",\"size\":10,\"solidity\":0.2}},\"type\":\"bar\"}],\"carpet\":[{\"aaxis\":{\"endlinecolor\":\"#2a3f5f\",\"gridcolor\":\"white\",\"linecolor\":\"white\",\"minorgridcolor\":\"white\",\"startlinecolor\":\"#2a3f5f\"},\"baxis\":{\"endlinecolor\":\"#2a3f5f\",\"gridcolor\":\"white\",\"linecolor\":\"white\",\"minorgridcolor\":\"white\",\"startlinecolor\":\"#2a3f5f\"},\"type\":\"carpet\"}],\"choropleth\":[{\"colorbar\":{\"outlinewidth\":0,\"ticks\":\"\"},\"type\":\"choropleth\"}],\"contourcarpet\":[{\"colorbar\":{\"outlinewidth\":0,\"ticks\":\"\"},\"type\":\"contourcarpet\"}],\"contour\":[{\"colorbar\":{\"outlinewidth\":0,\"ticks\":\"\"},\"colorscale\":[[0.0,\"#0d0887\"],[0.1111111111111111,\"#46039f\"],[0.2222222222222222,\"#7201a8\"],[0.3333333333333333,\"#9c179e\"],[0.4444444444444444,\"#bd3786\"],[0.5555555555555556,\"#d8576b\"],[0.6666666666666666,\"#ed7953\"],[0.7777777777777778,\"#fb9f3a\"],[0.8888888888888888,\"#fdca26\"],[1.0,\"#f0f921\"]],\"type\":\"contour\"}],\"heatmapgl\":[{\"colorbar\":{\"outlinewidth\":0,\"ticks\":\"\"},\"colorscale\":[[0.0,\"#0d0887\"],[0.1111111111111111,\"#46039f\"],[0.2222222222222222,\"#7201a8\"],[0.3333333333333333,\"#9c179e\"],[0.4444444444444444,\"#bd3786\"],[0.5555555555555556,\"#d8576b\"],[0.6666666666666666,\"#ed7953\"],[0.7777777777777778,\"#fb9f3a\"],[0.8888888888888888,\"#fdca26\"],[1.0,\"#f0f921\"]],\"type\":\"heatmapgl\"}],\"heatmap\":[{\"colorbar\":{\"outlinewidth\":0,\"ticks\":\"\"},\"colorscale\":[[0.0,\"#0d0887\"],[0.1111111111111111,\"#46039f\"],[0.2222222222222222,\"#7201a8\"],[0.3333333333333333,\"#9c179e\"],[0.4444444444444444,\"#bd3786\"],[0.5555555555555556,\"#d8576b\"],[0.6666666666666666,\"#ed7953\"],[0.7777777777777778,\"#fb9f3a\"],[0.8888888888888888,\"#fdca26\"],[1.0,\"#f0f921\"]],\"type\":\"heatmap\"}],\"histogram2dcontour\":[{\"colorbar\":{\"outlinewidth\":0,\"ticks\":\"\"},\"colorscale\":[[0.0,\"#0d0887\"],[0.1111111111111111,\"#46039f\"],[0.2222222222222222,\"#7201a8\"],[0.3333333333333333,\"#9c179e\"],[0.4444444444444444,\"#bd3786\"],[0.5555555555555556,\"#d8576b\"],[0.6666666666666666,\"#ed7953\"],[0.7777777777777778,\"#fb9f3a\"],[0.8888888888888888,\"#fdca26\"],[1.0,\"#f0f921\"]],\"type\":\"histogram2dcontour\"}],\"histogram2d\":[{\"colorbar\":{\"outlinewidth\":0,\"ticks\":\"\"},\"colorscale\":[[0.0,\"#0d0887\"],[0.1111111111111111,\"#46039f\"],[0.2222222222222222,\"#7201a8\"],[0.3333333333333333,\"#9c179e\"],[0.4444444444444444,\"#bd3786\"],[0.5555555555555556,\"#d8576b\"],[0.6666666666666666,\"#ed7953\"],[0.7777777777777778,\"#fb9f3a\"],[0.8888888888888888,\"#fdca26\"],[1.0,\"#f0f921\"]],\"type\":\"histogram2d\"}],\"histogram\":[{\"marker\":{\"pattern\":{\"fillmode\":\"overlay\",\"size\":10,\"solidity\":0.2}},\"type\":\"histogram\"}],\"mesh3d\":[{\"colorbar\":{\"outlinewidth\":0,\"ticks\":\"\"},\"type\":\"mesh3d\"}],\"parcoords\":[{\"line\":{\"colorbar\":{\"outlinewidth\":0,\"ticks\":\"\"}},\"type\":\"parcoords\"}],\"pie\":[{\"automargin\":true,\"type\":\"pie\"}],\"scatter3d\":[{\"line\":{\"colorbar\":{\"outlinewidth\":0,\"ticks\":\"\"}},\"marker\":{\"colorbar\":{\"outlinewidth\":0,\"ticks\":\"\"}},\"type\":\"scatter3d\"}],\"scattercarpet\":[{\"marker\":{\"colorbar\":{\"outlinewidth\":0,\"ticks\":\"\"}},\"type\":\"scattercarpet\"}],\"scattergeo\":[{\"marker\":{\"colorbar\":{\"outlinewidth\":0,\"ticks\":\"\"}},\"type\":\"scattergeo\"}],\"scattergl\":[{\"marker\":{\"colorbar\":{\"outlinewidth\":0,\"ticks\":\"\"}},\"type\":\"scattergl\"}],\"scattermapbox\":[{\"marker\":{\"colorbar\":{\"outlinewidth\":0,\"ticks\":\"\"}},\"type\":\"scattermapbox\"}],\"scatterpolargl\":[{\"marker\":{\"colorbar\":{\"outlinewidth\":0,\"ticks\":\"\"}},\"type\":\"scatterpolargl\"}],\"scatterpolar\":[{\"marker\":{\"colorbar\":{\"outlinewidth\":0,\"ticks\":\"\"}},\"type\":\"scatterpolar\"}],\"scatter\":[{\"marker\":{\"colorbar\":{\"outlinewidth\":0,\"ticks\":\"\"}},\"type\":\"scatter\"}],\"scatterternary\":[{\"marker\":{\"colorbar\":{\"outlinewidth\":0,\"ticks\":\"\"}},\"type\":\"scatterternary\"}],\"surface\":[{\"colorbar\":{\"outlinewidth\":0,\"ticks\":\"\"},\"colorscale\":[[0.0,\"#0d0887\"],[0.1111111111111111,\"#46039f\"],[0.2222222222222222,\"#7201a8\"],[0.3333333333333333,\"#9c179e\"],[0.4444444444444444,\"#bd3786\"],[0.5555555555555556,\"#d8576b\"],[0.6666666666666666,\"#ed7953\"],[0.7777777777777778,\"#fb9f3a\"],[0.8888888888888888,\"#fdca26\"],[1.0,\"#f0f921\"]],\"type\":\"surface\"}],\"table\":[{\"cells\":{\"fill\":{\"color\":\"#EBF0F8\"},\"line\":{\"color\":\"white\"}},\"header\":{\"fill\":{\"color\":\"#C8D4E3\"},\"line\":{\"color\":\"white\"}},\"type\":\"table\"}]},\"layout\":{\"annotationdefaults\":{\"arrowcolor\":\"#2a3f5f\",\"arrowhead\":0,\"arrowwidth\":1},\"autotypenumbers\":\"strict\",\"coloraxis\":{\"colorbar\":{\"outlinewidth\":0,\"ticks\":\"\"}},\"colorscale\":{\"diverging\":[[0,\"#8e0152\"],[0.1,\"#c51b7d\"],[0.2,\"#de77ae\"],[0.3,\"#f1b6da\"],[0.4,\"#fde0ef\"],[0.5,\"#f7f7f7\"],[0.6,\"#e6f5d0\"],[0.7,\"#b8e186\"],[0.8,\"#7fbc41\"],[0.9,\"#4d9221\"],[1,\"#276419\"]],\"sequential\":[[0.0,\"#0d0887\"],[0.1111111111111111,\"#46039f\"],[0.2222222222222222,\"#7201a8\"],[0.3333333333333333,\"#9c179e\"],[0.4444444444444444,\"#bd3786\"],[0.5555555555555556,\"#d8576b\"],[0.6666666666666666,\"#ed7953\"],[0.7777777777777778,\"#fb9f3a\"],[0.8888888888888888,\"#fdca26\"],[1.0,\"#f0f921\"]],\"sequentialminus\":[[0.0,\"#0d0887\"],[0.1111111111111111,\"#46039f\"],[0.2222222222222222,\"#7201a8\"],[0.3333333333333333,\"#9c179e\"],[0.4444444444444444,\"#bd3786\"],[0.5555555555555556,\"#d8576b\"],[0.6666666666666666,\"#ed7953\"],[0.7777777777777778,\"#fb9f3a\"],[0.8888888888888888,\"#fdca26\"],[1.0,\"#f0f921\"]]},\"colorway\":[\"#636efa\",\"#EF553B\",\"#00cc96\",\"#ab63fa\",\"#FFA15A\",\"#19d3f3\",\"#FF6692\",\"#B6E880\",\"#FF97FF\",\"#FECB52\"],\"font\":{\"color\":\"#2a3f5f\"},\"geo\":{\"bgcolor\":\"white\",\"lakecolor\":\"white\",\"landcolor\":\"#E5ECF6\",\"showlakes\":true,\"showland\":true,\"subunitcolor\":\"white\"},\"hoverlabel\":{\"align\":\"left\"},\"hovermode\":\"closest\",\"mapbox\":{\"style\":\"light\"},\"paper_bgcolor\":\"white\",\"plot_bgcolor\":\"#E5ECF6\",\"polar\":{\"angularaxis\":{\"gridcolor\":\"white\",\"linecolor\":\"white\",\"ticks\":\"\"},\"bgcolor\":\"#E5ECF6\",\"radialaxis\":{\"gridcolor\":\"white\",\"linecolor\":\"white\",\"ticks\":\"\"}},\"scene\":{\"xaxis\":{\"backgroundcolor\":\"#E5ECF6\",\"gridcolor\":\"white\",\"gridwidth\":2,\"linecolor\":\"white\",\"showbackground\":true,\"ticks\":\"\",\"zerolinecolor\":\"white\"},\"yaxis\":{\"backgroundcolor\":\"#E5ECF6\",\"gridcolor\":\"white\",\"gridwidth\":2,\"linecolor\":\"white\",\"showbackground\":true,\"ticks\":\"\",\"zerolinecolor\":\"white\"},\"zaxis\":{\"backgroundcolor\":\"#E5ECF6\",\"gridcolor\":\"white\",\"gridwidth\":2,\"linecolor\":\"white\",\"showbackground\":true,\"ticks\":\"\",\"zerolinecolor\":\"white\"}},\"shapedefaults\":{\"line\":{\"color\":\"#2a3f5f\"}},\"ternary\":{\"aaxis\":{\"gridcolor\":\"white\",\"linecolor\":\"white\",\"ticks\":\"\"},\"baxis\":{\"gridcolor\":\"white\",\"linecolor\":\"white\",\"ticks\":\"\"},\"bgcolor\":\"#E5ECF6\",\"caxis\":{\"gridcolor\":\"white\",\"linecolor\":\"white\",\"ticks\":\"\"}},\"title\":{\"x\":0.05},\"xaxis\":{\"automargin\":true,\"gridcolor\":\"white\",\"linecolor\":\"white\",\"ticks\":\"\",\"title\":{\"standoff\":15},\"zerolinecolor\":\"white\",\"zerolinewidth\":2},\"yaxis\":{\"automargin\":true,\"gridcolor\":\"white\",\"linecolor\":\"white\",\"ticks\":\"\",\"title\":{\"standoff\":15},\"zerolinecolor\":\"white\",\"zerolinewidth\":2}}},\"title\":{\"font\":{\"color\":\"#4D5663\"}},\"xaxis\":{\"gridcolor\":\"#E1E5ED\",\"showgrid\":true,\"tickfont\":{\"color\":\"#4D5663\"},\"title\":{\"font\":{\"color\":\"#4D5663\"},\"text\":\"\"},\"zerolinecolor\":\"#E1E5ED\"},\"yaxis\":{\"gridcolor\":\"#E1E5ED\",\"showgrid\":true,\"tickfont\":{\"color\":\"#4D5663\"},\"title\":{\"font\":{\"color\":\"#4D5663\"},\"text\":\"\"},\"zerolinecolor\":\"#E1E5ED\"}},                        {\"showLink\": true, \"linkText\": \"Export to plot.ly\", \"plotlyServerURL\": \"https://plot.ly\", \"responsive\": true}                    ).then(function(){\n",
              "                            \n",
              "var gd = document.getElementById('0d1eeeec-8d74-478f-b0a5-2a6e6a75cb92');\n",
              "var x = new MutationObserver(function (mutations, observer) {{\n",
              "        var display = window.getComputedStyle(gd).display;\n",
              "        if (!display || display === 'none') {{\n",
              "            console.log([gd, 'removed!']);\n",
              "            Plotly.purge(gd);\n",
              "            observer.disconnect();\n",
              "        }}\n",
              "}});\n",
              "\n",
              "// Listen for the removal of the full notebook cells\n",
              "var notebookContainer = gd.closest('#notebook-container');\n",
              "if (notebookContainer) {{\n",
              "    x.observe(notebookContainer, {childList: true});\n",
              "}}\n",
              "\n",
              "// Listen for the clearing of the current output cell\n",
              "var outputEl = gd.closest('.output');\n",
              "if (outputEl) {{\n",
              "    x.observe(outputEl, {childList: true});\n",
              "}}\n",
              "\n",
              "                        })                };                            </script>        </div>\n",
              "</body>\n",
              "</html>"
            ]
          },
          "metadata": {}
        }
      ]
    },
    {
      "cell_type": "markdown",
      "source": [
        "**Gráficos de Barras**"
      ],
      "metadata": {
        "id": "ainaJm8E0T8r"
      }
    },
    {
      "cell_type": "code",
      "source": [
        "df.sum().iplot(kind='bar')"
      ],
      "metadata": {
        "id": "cYZDkZSS0EkG",
        "colab": {
          "base_uri": "https://localhost:8080/",
          "height": 542
        },
        "outputId": "91536990-96f9-4c9c-9171-19d62dae6118"
      },
      "execution_count": null,
      "outputs": [
        {
          "output_type": "display_data",
          "data": {
            "text/html": [
              "<html>\n",
              "<head><meta charset=\"utf-8\" /></head>\n",
              "<body>\n",
              "    <div>            <script src=\"https://cdnjs.cloudflare.com/ajax/libs/mathjax/2.7.5/MathJax.js?config=TeX-AMS-MML_SVG\"></script><script type=\"text/javascript\">if (window.MathJax) {MathJax.Hub.Config({SVG: {font: \"STIX-Web\"}});}</script>                <script type=\"text/javascript\">window.PlotlyConfig = {MathJaxConfig: 'local'};</script>\n",
              "        <script src=\"https://cdn.plot.ly/plotly-2.8.3.min.js\"></script>                <div id=\"cdb4bc1e-ac44-443e-a807-256ff6ecde87\" class=\"plotly-graph-div\" style=\"height:525px; width:100%;\"></div>            <script type=\"text/javascript\">                                    window.PLOTLYENV=window.PLOTLYENV || {};\n",
              "                    window.PLOTLYENV.BASE_URL='https://plot.ly';                                    if (document.getElementById(\"cdb4bc1e-ac44-443e-a807-256ff6ecde87\")) {                    Plotly.newPlot(                        \"cdb4bc1e-ac44-443e-a807-256ff6ecde87\",                        [{\"marker\":{\"color\":\"rgba(255, 153, 51, 0.6)\",\"line\":{\"color\":\"rgba(255, 153, 51, 1.0)\",\"width\":1}},\"name\":\"None\",\"orientation\":\"v\",\"text\":\"\",\"x\":[\"A\",\"B\",\"C\",\"D\"],\"y\":[4.89541819871999,-7.42928942237338,-6.5994810798738825,-9.007466226848312],\"type\":\"bar\"}],                        {\"legend\":{\"bgcolor\":\"#F5F6F9\",\"font\":{\"color\":\"#4D5663\"}},\"paper_bgcolor\":\"#F5F6F9\",\"plot_bgcolor\":\"#F5F6F9\",\"template\":{\"data\":{\"barpolar\":[{\"marker\":{\"line\":{\"color\":\"#E5ECF6\",\"width\":0.5},\"pattern\":{\"fillmode\":\"overlay\",\"size\":10,\"solidity\":0.2}},\"type\":\"barpolar\"}],\"bar\":[{\"error_x\":{\"color\":\"#2a3f5f\"},\"error_y\":{\"color\":\"#2a3f5f\"},\"marker\":{\"line\":{\"color\":\"#E5ECF6\",\"width\":0.5},\"pattern\":{\"fillmode\":\"overlay\",\"size\":10,\"solidity\":0.2}},\"type\":\"bar\"}],\"carpet\":[{\"aaxis\":{\"endlinecolor\":\"#2a3f5f\",\"gridcolor\":\"white\",\"linecolor\":\"white\",\"minorgridcolor\":\"white\",\"startlinecolor\":\"#2a3f5f\"},\"baxis\":{\"endlinecolor\":\"#2a3f5f\",\"gridcolor\":\"white\",\"linecolor\":\"white\",\"minorgridcolor\":\"white\",\"startlinecolor\":\"#2a3f5f\"},\"type\":\"carpet\"}],\"choropleth\":[{\"colorbar\":{\"outlinewidth\":0,\"ticks\":\"\"},\"type\":\"choropleth\"}],\"contourcarpet\":[{\"colorbar\":{\"outlinewidth\":0,\"ticks\":\"\"},\"type\":\"contourcarpet\"}],\"contour\":[{\"colorbar\":{\"outlinewidth\":0,\"ticks\":\"\"},\"colorscale\":[[0.0,\"#0d0887\"],[0.1111111111111111,\"#46039f\"],[0.2222222222222222,\"#7201a8\"],[0.3333333333333333,\"#9c179e\"],[0.4444444444444444,\"#bd3786\"],[0.5555555555555556,\"#d8576b\"],[0.6666666666666666,\"#ed7953\"],[0.7777777777777778,\"#fb9f3a\"],[0.8888888888888888,\"#fdca26\"],[1.0,\"#f0f921\"]],\"type\":\"contour\"}],\"heatmapgl\":[{\"colorbar\":{\"outlinewidth\":0,\"ticks\":\"\"},\"colorscale\":[[0.0,\"#0d0887\"],[0.1111111111111111,\"#46039f\"],[0.2222222222222222,\"#7201a8\"],[0.3333333333333333,\"#9c179e\"],[0.4444444444444444,\"#bd3786\"],[0.5555555555555556,\"#d8576b\"],[0.6666666666666666,\"#ed7953\"],[0.7777777777777778,\"#fb9f3a\"],[0.8888888888888888,\"#fdca26\"],[1.0,\"#f0f921\"]],\"type\":\"heatmapgl\"}],\"heatmap\":[{\"colorbar\":{\"outlinewidth\":0,\"ticks\":\"\"},\"colorscale\":[[0.0,\"#0d0887\"],[0.1111111111111111,\"#46039f\"],[0.2222222222222222,\"#7201a8\"],[0.3333333333333333,\"#9c179e\"],[0.4444444444444444,\"#bd3786\"],[0.5555555555555556,\"#d8576b\"],[0.6666666666666666,\"#ed7953\"],[0.7777777777777778,\"#fb9f3a\"],[0.8888888888888888,\"#fdca26\"],[1.0,\"#f0f921\"]],\"type\":\"heatmap\"}],\"histogram2dcontour\":[{\"colorbar\":{\"outlinewidth\":0,\"ticks\":\"\"},\"colorscale\":[[0.0,\"#0d0887\"],[0.1111111111111111,\"#46039f\"],[0.2222222222222222,\"#7201a8\"],[0.3333333333333333,\"#9c179e\"],[0.4444444444444444,\"#bd3786\"],[0.5555555555555556,\"#d8576b\"],[0.6666666666666666,\"#ed7953\"],[0.7777777777777778,\"#fb9f3a\"],[0.8888888888888888,\"#fdca26\"],[1.0,\"#f0f921\"]],\"type\":\"histogram2dcontour\"}],\"histogram2d\":[{\"colorbar\":{\"outlinewidth\":0,\"ticks\":\"\"},\"colorscale\":[[0.0,\"#0d0887\"],[0.1111111111111111,\"#46039f\"],[0.2222222222222222,\"#7201a8\"],[0.3333333333333333,\"#9c179e\"],[0.4444444444444444,\"#bd3786\"],[0.5555555555555556,\"#d8576b\"],[0.6666666666666666,\"#ed7953\"],[0.7777777777777778,\"#fb9f3a\"],[0.8888888888888888,\"#fdca26\"],[1.0,\"#f0f921\"]],\"type\":\"histogram2d\"}],\"histogram\":[{\"marker\":{\"pattern\":{\"fillmode\":\"overlay\",\"size\":10,\"solidity\":0.2}},\"type\":\"histogram\"}],\"mesh3d\":[{\"colorbar\":{\"outlinewidth\":0,\"ticks\":\"\"},\"type\":\"mesh3d\"}],\"parcoords\":[{\"line\":{\"colorbar\":{\"outlinewidth\":0,\"ticks\":\"\"}},\"type\":\"parcoords\"}],\"pie\":[{\"automargin\":true,\"type\":\"pie\"}],\"scatter3d\":[{\"line\":{\"colorbar\":{\"outlinewidth\":0,\"ticks\":\"\"}},\"marker\":{\"colorbar\":{\"outlinewidth\":0,\"ticks\":\"\"}},\"type\":\"scatter3d\"}],\"scattercarpet\":[{\"marker\":{\"colorbar\":{\"outlinewidth\":0,\"ticks\":\"\"}},\"type\":\"scattercarpet\"}],\"scattergeo\":[{\"marker\":{\"colorbar\":{\"outlinewidth\":0,\"ticks\":\"\"}},\"type\":\"scattergeo\"}],\"scattergl\":[{\"marker\":{\"colorbar\":{\"outlinewidth\":0,\"ticks\":\"\"}},\"type\":\"scattergl\"}],\"scattermapbox\":[{\"marker\":{\"colorbar\":{\"outlinewidth\":0,\"ticks\":\"\"}},\"type\":\"scattermapbox\"}],\"scatterpolargl\":[{\"marker\":{\"colorbar\":{\"outlinewidth\":0,\"ticks\":\"\"}},\"type\":\"scatterpolargl\"}],\"scatterpolar\":[{\"marker\":{\"colorbar\":{\"outlinewidth\":0,\"ticks\":\"\"}},\"type\":\"scatterpolar\"}],\"scatter\":[{\"marker\":{\"colorbar\":{\"outlinewidth\":0,\"ticks\":\"\"}},\"type\":\"scatter\"}],\"scatterternary\":[{\"marker\":{\"colorbar\":{\"outlinewidth\":0,\"ticks\":\"\"}},\"type\":\"scatterternary\"}],\"surface\":[{\"colorbar\":{\"outlinewidth\":0,\"ticks\":\"\"},\"colorscale\":[[0.0,\"#0d0887\"],[0.1111111111111111,\"#46039f\"],[0.2222222222222222,\"#7201a8\"],[0.3333333333333333,\"#9c179e\"],[0.4444444444444444,\"#bd3786\"],[0.5555555555555556,\"#d8576b\"],[0.6666666666666666,\"#ed7953\"],[0.7777777777777778,\"#fb9f3a\"],[0.8888888888888888,\"#fdca26\"],[1.0,\"#f0f921\"]],\"type\":\"surface\"}],\"table\":[{\"cells\":{\"fill\":{\"color\":\"#EBF0F8\"},\"line\":{\"color\":\"white\"}},\"header\":{\"fill\":{\"color\":\"#C8D4E3\"},\"line\":{\"color\":\"white\"}},\"type\":\"table\"}]},\"layout\":{\"annotationdefaults\":{\"arrowcolor\":\"#2a3f5f\",\"arrowhead\":0,\"arrowwidth\":1},\"autotypenumbers\":\"strict\",\"coloraxis\":{\"colorbar\":{\"outlinewidth\":0,\"ticks\":\"\"}},\"colorscale\":{\"diverging\":[[0,\"#8e0152\"],[0.1,\"#c51b7d\"],[0.2,\"#de77ae\"],[0.3,\"#f1b6da\"],[0.4,\"#fde0ef\"],[0.5,\"#f7f7f7\"],[0.6,\"#e6f5d0\"],[0.7,\"#b8e186\"],[0.8,\"#7fbc41\"],[0.9,\"#4d9221\"],[1,\"#276419\"]],\"sequential\":[[0.0,\"#0d0887\"],[0.1111111111111111,\"#46039f\"],[0.2222222222222222,\"#7201a8\"],[0.3333333333333333,\"#9c179e\"],[0.4444444444444444,\"#bd3786\"],[0.5555555555555556,\"#d8576b\"],[0.6666666666666666,\"#ed7953\"],[0.7777777777777778,\"#fb9f3a\"],[0.8888888888888888,\"#fdca26\"],[1.0,\"#f0f921\"]],\"sequentialminus\":[[0.0,\"#0d0887\"],[0.1111111111111111,\"#46039f\"],[0.2222222222222222,\"#7201a8\"],[0.3333333333333333,\"#9c179e\"],[0.4444444444444444,\"#bd3786\"],[0.5555555555555556,\"#d8576b\"],[0.6666666666666666,\"#ed7953\"],[0.7777777777777778,\"#fb9f3a\"],[0.8888888888888888,\"#fdca26\"],[1.0,\"#f0f921\"]]},\"colorway\":[\"#636efa\",\"#EF553B\",\"#00cc96\",\"#ab63fa\",\"#FFA15A\",\"#19d3f3\",\"#FF6692\",\"#B6E880\",\"#FF97FF\",\"#FECB52\"],\"font\":{\"color\":\"#2a3f5f\"},\"geo\":{\"bgcolor\":\"white\",\"lakecolor\":\"white\",\"landcolor\":\"#E5ECF6\",\"showlakes\":true,\"showland\":true,\"subunitcolor\":\"white\"},\"hoverlabel\":{\"align\":\"left\"},\"hovermode\":\"closest\",\"mapbox\":{\"style\":\"light\"},\"paper_bgcolor\":\"white\",\"plot_bgcolor\":\"#E5ECF6\",\"polar\":{\"angularaxis\":{\"gridcolor\":\"white\",\"linecolor\":\"white\",\"ticks\":\"\"},\"bgcolor\":\"#E5ECF6\",\"radialaxis\":{\"gridcolor\":\"white\",\"linecolor\":\"white\",\"ticks\":\"\"}},\"scene\":{\"xaxis\":{\"backgroundcolor\":\"#E5ECF6\",\"gridcolor\":\"white\",\"gridwidth\":2,\"linecolor\":\"white\",\"showbackground\":true,\"ticks\":\"\",\"zerolinecolor\":\"white\"},\"yaxis\":{\"backgroundcolor\":\"#E5ECF6\",\"gridcolor\":\"white\",\"gridwidth\":2,\"linecolor\":\"white\",\"showbackground\":true,\"ticks\":\"\",\"zerolinecolor\":\"white\"},\"zaxis\":{\"backgroundcolor\":\"#E5ECF6\",\"gridcolor\":\"white\",\"gridwidth\":2,\"linecolor\":\"white\",\"showbackground\":true,\"ticks\":\"\",\"zerolinecolor\":\"white\"}},\"shapedefaults\":{\"line\":{\"color\":\"#2a3f5f\"}},\"ternary\":{\"aaxis\":{\"gridcolor\":\"white\",\"linecolor\":\"white\",\"ticks\":\"\"},\"baxis\":{\"gridcolor\":\"white\",\"linecolor\":\"white\",\"ticks\":\"\"},\"bgcolor\":\"#E5ECF6\",\"caxis\":{\"gridcolor\":\"white\",\"linecolor\":\"white\",\"ticks\":\"\"}},\"title\":{\"x\":0.05},\"xaxis\":{\"automargin\":true,\"gridcolor\":\"white\",\"linecolor\":\"white\",\"ticks\":\"\",\"title\":{\"standoff\":15},\"zerolinecolor\":\"white\",\"zerolinewidth\":2},\"yaxis\":{\"automargin\":true,\"gridcolor\":\"white\",\"linecolor\":\"white\",\"ticks\":\"\",\"title\":{\"standoff\":15},\"zerolinecolor\":\"white\",\"zerolinewidth\":2}}},\"title\":{\"font\":{\"color\":\"#4D5663\"}},\"xaxis\":{\"gridcolor\":\"#E1E5ED\",\"showgrid\":true,\"tickfont\":{\"color\":\"#4D5663\"},\"title\":{\"font\":{\"color\":\"#4D5663\"},\"text\":\"\"},\"zerolinecolor\":\"#E1E5ED\"},\"yaxis\":{\"gridcolor\":\"#E1E5ED\",\"showgrid\":true,\"tickfont\":{\"color\":\"#4D5663\"},\"title\":{\"font\":{\"color\":\"#4D5663\"},\"text\":\"\"},\"zerolinecolor\":\"#E1E5ED\"}},                        {\"showLink\": true, \"linkText\": \"Export to plot.ly\", \"plotlyServerURL\": \"https://plot.ly\", \"responsive\": true}                    ).then(function(){\n",
              "                            \n",
              "var gd = document.getElementById('cdb4bc1e-ac44-443e-a807-256ff6ecde87');\n",
              "var x = new MutationObserver(function (mutations, observer) {{\n",
              "        var display = window.getComputedStyle(gd).display;\n",
              "        if (!display || display === 'none') {{\n",
              "            console.log([gd, 'removed!']);\n",
              "            Plotly.purge(gd);\n",
              "            observer.disconnect();\n",
              "        }}\n",
              "}});\n",
              "\n",
              "// Listen for the removal of the full notebook cells\n",
              "var notebookContainer = gd.closest('#notebook-container');\n",
              "if (notebookContainer) {{\n",
              "    x.observe(notebookContainer, {childList: true});\n",
              "}}\n",
              "\n",
              "// Listen for the clearing of the current output cell\n",
              "var outputEl = gd.closest('.output');\n",
              "if (outputEl) {{\n",
              "    x.observe(outputEl, {childList: true});\n",
              "}}\n",
              "\n",
              "                        })                };                            </script>        </div>\n",
              "</body>\n",
              "</html>"
            ]
          },
          "metadata": {}
        }
      ]
    },
    {
      "cell_type": "markdown",
      "source": [
        "**Gráfico de Boxplots**"
      ],
      "metadata": {
        "id": "j83rLml10axg"
      }
    },
    {
      "cell_type": "code",
      "source": [
        "df.iplot(kind='box')"
      ],
      "metadata": {
        "id": "V0NcwU_C0YX_",
        "colab": {
          "base_uri": "https://localhost:8080/",
          "height": 542
        },
        "outputId": "2eddbc3d-fff2-435e-cdcb-8d22a907e4c3"
      },
      "execution_count": null,
      "outputs": [
        {
          "output_type": "display_data",
          "data": {
            "text/html": [
              "<html>\n",
              "<head><meta charset=\"utf-8\" /></head>\n",
              "<body>\n",
              "    <div>            <script src=\"https://cdnjs.cloudflare.com/ajax/libs/mathjax/2.7.5/MathJax.js?config=TeX-AMS-MML_SVG\"></script><script type=\"text/javascript\">if (window.MathJax) {MathJax.Hub.Config({SVG: {font: \"STIX-Web\"}});}</script>                <script type=\"text/javascript\">window.PlotlyConfig = {MathJaxConfig: 'local'};</script>\n",
              "        <script src=\"https://cdn.plot.ly/plotly-2.8.3.min.js\"></script>                <div id=\"7aae0a82-5398-40d7-83fa-44ec4d90bd5f\" class=\"plotly-graph-div\" style=\"height:525px; width:100%;\"></div>            <script type=\"text/javascript\">                                    window.PLOTLYENV=window.PLOTLYENV || {};\n",
              "                    window.PLOTLYENV.BASE_URL='https://plot.ly';                                    if (document.getElementById(\"7aae0a82-5398-40d7-83fa-44ec4d90bd5f\")) {                    Plotly.newPlot(                        \"7aae0a82-5398-40d7-83fa-44ec4d90bd5f\",                        [{\"boxpoints\":false,\"line\":{\"width\":1.3},\"marker\":{\"color\":\"rgba(255, 153, 51, 1.0)\"},\"name\":\"A\",\"orientation\":\"v\",\"y\":[0.15991766187357428,1.336472110488845,0.8087554615730191,0.031402204039810463,0.8713020449035054,-0.18301367589422302,0.2959982485702422,-0.6440423791992994,0.7195149636929072,2.117095783953832,-0.8861256853914704,-0.06883514519329981,0.05725830989514137,-1.5377659212125694,0.48135399584660393,0.178847943069043,0.7380656218836031,0.4986764901107574,0.15672813399413907,-0.38782096675302,-0.451502206533528,-0.2659064722708647,-0.4608990078051319,-0.8033154515498455,0.3138311621097309,-0.045844237771712884,-1.556194098903122,0.8653230717656981,-0.2051436145410211,-0.9435601487749822,0.6435578559899167,0.010746036139253729,0.9816546219518957,-0.7883760109979703,-0.4219866760514121,1.5103393223025015,-1.186530618454949,0.738364576058676,-0.9313352166354086,1.0989320382376717,0.9358976879967568,2.053460467240248,0.9355663920921059,0.1062269206415052,0.12419121758653327,0.4327896539954133,-0.0650547492445288,-1.4207367664943125,0.9275744459638233,0.0704916510444277,-1.7701057106976477,1.4151891723447745,-0.37427935543614516,-1.1177543449582599,-1.640180532656671,-0.4881493982367995,-1.1161729936527205,-1.2899556537355825,-1.244650063204049,-0.3110937126001046,0.12605130277900195,0.6375670860217763,-0.20807822578083898,0.3150380759867778,2.0634904541746866,-1.3235454571828962,-1.0707258698669206,0.1851863594454151,0.8634235543333478,0.24150247433852054,1.5025963093065222,-2.2878565096456485,1.2066024890978364,2.411621659182668,0.17738862757875634,1.1551284696970068,-0.8662666166687629,1.5997880549264378,2.3247488187702494,-0.0313543048618275,-0.9279551146150026,0.16932949466500008,0.46414088600980835,-0.41644944145529533,-0.933820221609658,0.3013142547911265,1.66591729876168,-1.8303715181731808,-0.7982821148280002,2.3205811976469697,0.4814458815776598,2.534941174370491,-1.1456873235501608,-0.07354110602854524,0.8313678951166191,-0.6861647548154984,-1.115897775753925,-2.502794387869055,-0.22210760762261078,-1.2520497220358475],\"type\":\"box\"},{\"boxpoints\":false,\"line\":{\"width\":1.3},\"marker\":{\"color\":\"rgba(55, 128, 191, 1.0)\"},\"name\":\"B\",\"orientation\":\"v\",\"y\":[2.0169561332861865,-0.43429233380843885,-0.43356257673214427,2.1771186367256368,0.8095500574131534,-1.3091778124359188,-0.9681007237257846,1.2850120572596524,0.6546566964279855,0.4292531604116228,1.55998047068737,-1.6879332653443762,-0.7871322190035406,-0.06602796855804274,0.16586869842900476,-1.7825105809023518,1.2901942156942292,-0.7236095084983274,1.7244080945995413,0.44760717109182,0.5395070916223994,1.1343025665670685,-0.7095537282194786,-0.2966166494095116,0.0010495700976222509,-0.7947123610749705,-0.1589210289042382,0.16793701983142267,1.3262010480237127,2.1352207815848003,0.6238969068184332,1.113052664929787,0.9184277011033406,-0.17810406921678754,-1.3839417460700068,-0.6673675175730456,1.7913281891926909,-0.8437026591921084,0.4265553946591838,-0.21300472206775586,-1.221593864730558,0.07738142159786968,0.7869222799317079,1.4780736594918247,-0.3870450818133202,-1.7701064654367429,-1.1277662728039375,-0.11044164730278658,-0.788967271191509,-0.04196094873924995,0.06282355519876329,-0.6082088099411694,-0.6901270979407248,-0.7696480126480182,-1.3281858051629787,-1.0958610815463221,2.8327547840276606,1.4790521195365034,-0.684704166150316,-2.326517577175694,0.004961157236635512,-0.7018825524478743,-0.7407491647289562,-0.7191210994170975,-0.9772919152984749,-0.30756191972316915,-1.8234225171249907,0.3101977031305282,0.1881068925350721,-0.4482297721251149,-0.5622980431393981,1.541465255724142,0.9213261541265201,0.8769460884701058,0.4450520331045591,-0.37581018273079164,-1.2196759240469361,-0.4198841545862449,-0.9971941914757909,-3.0363584923982363,-0.10871855029411716,0.6999101412980412,0.8625677640418702,-2.266728223091762,0.06574609108208804,-1.1428512206836945,-1.5140403565383014,0.20871849945854495,0.25597677902045446,0.6062616572240755,1.7790634891411108,0.04450808939889438,0.8233658178055882,-0.6253975175487747,-1.150887769149947,0.3386958645987173,-0.18279014888271924,0.06545423066742678,-0.9851210924595009,-0.22728489546670294],\"type\":\"box\"},{\"boxpoints\":false,\"line\":{\"width\":1.3},\"marker\":{\"color\":\"rgba(50, 171, 96, 1.0)\"},\"name\":\"C\",\"orientation\":\"v\",\"y\":[-1.1577737987756762,-0.20476595080494625,0.4785291568850827,-1.049734125039708,0.4300068110467301,1.097968763140523,-1.4833494711412478,1.7209499459661282,0.7788035564481742,1.517397294290723,0.2347246309441393,-0.7761895892157443,-2.054212294752564,0.38398809436835113,0.843160283997241,-1.039105133373964,-0.653103990267039,-0.8811868942054735,-1.2576629647434288,-1.7871724718463098,-1.4829165003834064,-0.2612305910895046,0.07960485447649558,-0.9129417380022947,0.40314647063579173,-1.0281978014509485,0.07407760046607764,1.4012430035024712,0.16905586387013996,-0.37896358478247877,1.4522024155909667,-0.8634725269983637,-0.866259811177869,0.739669512910617,1.2661250145471943,0.2404723312905949,-2.345009151983953,-0.6393692661828025,-0.8282095865689866,1.1495791124865098,0.5775963893324433,-0.19112191963172118,-0.12997132011387869,-0.4344321132064988,-0.2902928942428836,0.5891040575186413,2.1191378098914373,-0.9800028370543378,0.48286852194745195,1.1976878499910177,0.029652523881802166,-1.9742077413455394,-0.08376468314983695,-1.9216686832720937,1.2022418479585406,-0.5508535293759708,0.3450508859350295,-0.7773000032231051,0.8604839470691935,1.7707808072100537,-1.6961716564927511,0.26482781353737667,-0.46429884931418586,-0.28597015592476244,0.0816409511380148,0.8300613531825849,-0.5398743364301557,0.14191258088547384,-1.4657456730872889,0.20586309775465908,-1.8302693029027133,0.7251901655844724,-0.19119921799867812,1.9115866729271127,-0.13949806351718516,-1.5250194443222775,0.35046379178075016,-1.0169389130083448,-0.5391188103399921,-1.764140792644202,0.5383798960843764,0.1620277882257504,0.0825107687421268,-0.39151202480382136,-0.6339854169335964,1.45192400874128,-0.38521508922767606,-1.0446720598970058,0.4462581716253721,-0.9979837929134856,-0.5673137624814252,0.49199022917879587,1.0876917846859946,-1.5786288766796754,2.190087752823068,0.25234475052261124,0.8312505222465344,0.8766502386627013,2.9484800552978703,0.23606637522142704],\"type\":\"box\"},{\"boxpoints\":false,\"line\":{\"width\":1.3},\"marker\":{\"color\":\"rgba(128, 0, 128, 1.0)\"},\"name\":\"D\",\"orientation\":\"v\",\"y\":[0.28239145039917646,1.8363822521912083,0.26794720325871424,0.10208004567712484,-0.15177375816615735,0.01681072921394639,1.1374501311799545,0.03548719406323302,-0.3796591510612054,0.1675610640271451,-0.7712154256001914,0.8839414817560541,0.18093526944239666,-0.17273830439621007,1.3492286448622257,-1.742415898628937,-0.3735273368343053,-0.5819153365423312,1.0959618172528736,-0.9042902629750132,-0.6306754349886508,-0.07135926057754212,0.33860606644118335,-0.7374752184064594,-0.6499440525674023,-0.0782242453318375,0.5061336844050206,-1.4592386604250434,0.3003253143844615,-0.6380236583925735,1.2203680047139338,-0.3780707481766195,0.008533258921761985,0.026150226761191192,-0.5538168810718875,-1.7620567730065355,-0.5397618067906942,-0.7952717843039396,-0.7361298652706514,-0.3052539776912539,0.36382380571077594,-0.21755249388116144,0.06000553035783175,2.2585117505323646,-1.850780490906206,0.21255731218839877,-0.821348188403252,0.4456412796320036,0.15741499552532798,1.5714750123303496,0.3187533108895991,-0.9678880186190438,-1.2958680248570562,0.5134275820754821,1.220822871455858,-0.9727570930633096,0.7144927152472524,-0.228848938817637,0.4115779820200336,-0.2770670591676926,-0.04566156965625598,0.08704565960001388,-0.5707134553647448,1.2249943460921675,1.2644211448069649,-2.659926175928382,2.169443788320486,-1.2313551676093555,-0.5588062572050628,0.625375093036721,-0.06322056261275152,1.0195717268348636,-0.6497140823092098,-1.6468284607363297,-0.7831062358595463,-0.6874725325665811,0.3043726161100774,-1.8450020616128964,1.1385444264294615,0.7524557072696625,0.744359589043357,0.9164114408746197,-2.079241475090012,-0.07444411250046001,-0.04767363805807925,1.8167382068251494,-0.5233565342439602,-0.3208454676184389,-1.4641124824188727,-2.342535646954361,-2.4622685742111474,0.842315295153011,-1.087325408739789,1.1151311006189522,1.0656061121684293,0.8476413479708031,0.788462248794487,-0.9618119284976607,0.009020060177266946,-0.5938041451769931],\"type\":\"box\"}],                        {\"legend\":{\"bgcolor\":\"#F5F6F9\",\"font\":{\"color\":\"#4D5663\"}},\"paper_bgcolor\":\"#F5F6F9\",\"plot_bgcolor\":\"#F5F6F9\",\"template\":{\"data\":{\"barpolar\":[{\"marker\":{\"line\":{\"color\":\"#E5ECF6\",\"width\":0.5},\"pattern\":{\"fillmode\":\"overlay\",\"size\":10,\"solidity\":0.2}},\"type\":\"barpolar\"}],\"bar\":[{\"error_x\":{\"color\":\"#2a3f5f\"},\"error_y\":{\"color\":\"#2a3f5f\"},\"marker\":{\"line\":{\"color\":\"#E5ECF6\",\"width\":0.5},\"pattern\":{\"fillmode\":\"overlay\",\"size\":10,\"solidity\":0.2}},\"type\":\"bar\"}],\"carpet\":[{\"aaxis\":{\"endlinecolor\":\"#2a3f5f\",\"gridcolor\":\"white\",\"linecolor\":\"white\",\"minorgridcolor\":\"white\",\"startlinecolor\":\"#2a3f5f\"},\"baxis\":{\"endlinecolor\":\"#2a3f5f\",\"gridcolor\":\"white\",\"linecolor\":\"white\",\"minorgridcolor\":\"white\",\"startlinecolor\":\"#2a3f5f\"},\"type\":\"carpet\"}],\"choropleth\":[{\"colorbar\":{\"outlinewidth\":0,\"ticks\":\"\"},\"type\":\"choropleth\"}],\"contourcarpet\":[{\"colorbar\":{\"outlinewidth\":0,\"ticks\":\"\"},\"type\":\"contourcarpet\"}],\"contour\":[{\"colorbar\":{\"outlinewidth\":0,\"ticks\":\"\"},\"colorscale\":[[0.0,\"#0d0887\"],[0.1111111111111111,\"#46039f\"],[0.2222222222222222,\"#7201a8\"],[0.3333333333333333,\"#9c179e\"],[0.4444444444444444,\"#bd3786\"],[0.5555555555555556,\"#d8576b\"],[0.6666666666666666,\"#ed7953\"],[0.7777777777777778,\"#fb9f3a\"],[0.8888888888888888,\"#fdca26\"],[1.0,\"#f0f921\"]],\"type\":\"contour\"}],\"heatmapgl\":[{\"colorbar\":{\"outlinewidth\":0,\"ticks\":\"\"},\"colorscale\":[[0.0,\"#0d0887\"],[0.1111111111111111,\"#46039f\"],[0.2222222222222222,\"#7201a8\"],[0.3333333333333333,\"#9c179e\"],[0.4444444444444444,\"#bd3786\"],[0.5555555555555556,\"#d8576b\"],[0.6666666666666666,\"#ed7953\"],[0.7777777777777778,\"#fb9f3a\"],[0.8888888888888888,\"#fdca26\"],[1.0,\"#f0f921\"]],\"type\":\"heatmapgl\"}],\"heatmap\":[{\"colorbar\":{\"outlinewidth\":0,\"ticks\":\"\"},\"colorscale\":[[0.0,\"#0d0887\"],[0.1111111111111111,\"#46039f\"],[0.2222222222222222,\"#7201a8\"],[0.3333333333333333,\"#9c179e\"],[0.4444444444444444,\"#bd3786\"],[0.5555555555555556,\"#d8576b\"],[0.6666666666666666,\"#ed7953\"],[0.7777777777777778,\"#fb9f3a\"],[0.8888888888888888,\"#fdca26\"],[1.0,\"#f0f921\"]],\"type\":\"heatmap\"}],\"histogram2dcontour\":[{\"colorbar\":{\"outlinewidth\":0,\"ticks\":\"\"},\"colorscale\":[[0.0,\"#0d0887\"],[0.1111111111111111,\"#46039f\"],[0.2222222222222222,\"#7201a8\"],[0.3333333333333333,\"#9c179e\"],[0.4444444444444444,\"#bd3786\"],[0.5555555555555556,\"#d8576b\"],[0.6666666666666666,\"#ed7953\"],[0.7777777777777778,\"#fb9f3a\"],[0.8888888888888888,\"#fdca26\"],[1.0,\"#f0f921\"]],\"type\":\"histogram2dcontour\"}],\"histogram2d\":[{\"colorbar\":{\"outlinewidth\":0,\"ticks\":\"\"},\"colorscale\":[[0.0,\"#0d0887\"],[0.1111111111111111,\"#46039f\"],[0.2222222222222222,\"#7201a8\"],[0.3333333333333333,\"#9c179e\"],[0.4444444444444444,\"#bd3786\"],[0.5555555555555556,\"#d8576b\"],[0.6666666666666666,\"#ed7953\"],[0.7777777777777778,\"#fb9f3a\"],[0.8888888888888888,\"#fdca26\"],[1.0,\"#f0f921\"]],\"type\":\"histogram2d\"}],\"histogram\":[{\"marker\":{\"pattern\":{\"fillmode\":\"overlay\",\"size\":10,\"solidity\":0.2}},\"type\":\"histogram\"}],\"mesh3d\":[{\"colorbar\":{\"outlinewidth\":0,\"ticks\":\"\"},\"type\":\"mesh3d\"}],\"parcoords\":[{\"line\":{\"colorbar\":{\"outlinewidth\":0,\"ticks\":\"\"}},\"type\":\"parcoords\"}],\"pie\":[{\"automargin\":true,\"type\":\"pie\"}],\"scatter3d\":[{\"line\":{\"colorbar\":{\"outlinewidth\":0,\"ticks\":\"\"}},\"marker\":{\"colorbar\":{\"outlinewidth\":0,\"ticks\":\"\"}},\"type\":\"scatter3d\"}],\"scattercarpet\":[{\"marker\":{\"colorbar\":{\"outlinewidth\":0,\"ticks\":\"\"}},\"type\":\"scattercarpet\"}],\"scattergeo\":[{\"marker\":{\"colorbar\":{\"outlinewidth\":0,\"ticks\":\"\"}},\"type\":\"scattergeo\"}],\"scattergl\":[{\"marker\":{\"colorbar\":{\"outlinewidth\":0,\"ticks\":\"\"}},\"type\":\"scattergl\"}],\"scattermapbox\":[{\"marker\":{\"colorbar\":{\"outlinewidth\":0,\"ticks\":\"\"}},\"type\":\"scattermapbox\"}],\"scatterpolargl\":[{\"marker\":{\"colorbar\":{\"outlinewidth\":0,\"ticks\":\"\"}},\"type\":\"scatterpolargl\"}],\"scatterpolar\":[{\"marker\":{\"colorbar\":{\"outlinewidth\":0,\"ticks\":\"\"}},\"type\":\"scatterpolar\"}],\"scatter\":[{\"marker\":{\"colorbar\":{\"outlinewidth\":0,\"ticks\":\"\"}},\"type\":\"scatter\"}],\"scatterternary\":[{\"marker\":{\"colorbar\":{\"outlinewidth\":0,\"ticks\":\"\"}},\"type\":\"scatterternary\"}],\"surface\":[{\"colorbar\":{\"outlinewidth\":0,\"ticks\":\"\"},\"colorscale\":[[0.0,\"#0d0887\"],[0.1111111111111111,\"#46039f\"],[0.2222222222222222,\"#7201a8\"],[0.3333333333333333,\"#9c179e\"],[0.4444444444444444,\"#bd3786\"],[0.5555555555555556,\"#d8576b\"],[0.6666666666666666,\"#ed7953\"],[0.7777777777777778,\"#fb9f3a\"],[0.8888888888888888,\"#fdca26\"],[1.0,\"#f0f921\"]],\"type\":\"surface\"}],\"table\":[{\"cells\":{\"fill\":{\"color\":\"#EBF0F8\"},\"line\":{\"color\":\"white\"}},\"header\":{\"fill\":{\"color\":\"#C8D4E3\"},\"line\":{\"color\":\"white\"}},\"type\":\"table\"}]},\"layout\":{\"annotationdefaults\":{\"arrowcolor\":\"#2a3f5f\",\"arrowhead\":0,\"arrowwidth\":1},\"autotypenumbers\":\"strict\",\"coloraxis\":{\"colorbar\":{\"outlinewidth\":0,\"ticks\":\"\"}},\"colorscale\":{\"diverging\":[[0,\"#8e0152\"],[0.1,\"#c51b7d\"],[0.2,\"#de77ae\"],[0.3,\"#f1b6da\"],[0.4,\"#fde0ef\"],[0.5,\"#f7f7f7\"],[0.6,\"#e6f5d0\"],[0.7,\"#b8e186\"],[0.8,\"#7fbc41\"],[0.9,\"#4d9221\"],[1,\"#276419\"]],\"sequential\":[[0.0,\"#0d0887\"],[0.1111111111111111,\"#46039f\"],[0.2222222222222222,\"#7201a8\"],[0.3333333333333333,\"#9c179e\"],[0.4444444444444444,\"#bd3786\"],[0.5555555555555556,\"#d8576b\"],[0.6666666666666666,\"#ed7953\"],[0.7777777777777778,\"#fb9f3a\"],[0.8888888888888888,\"#fdca26\"],[1.0,\"#f0f921\"]],\"sequentialminus\":[[0.0,\"#0d0887\"],[0.1111111111111111,\"#46039f\"],[0.2222222222222222,\"#7201a8\"],[0.3333333333333333,\"#9c179e\"],[0.4444444444444444,\"#bd3786\"],[0.5555555555555556,\"#d8576b\"],[0.6666666666666666,\"#ed7953\"],[0.7777777777777778,\"#fb9f3a\"],[0.8888888888888888,\"#fdca26\"],[1.0,\"#f0f921\"]]},\"colorway\":[\"#636efa\",\"#EF553B\",\"#00cc96\",\"#ab63fa\",\"#FFA15A\",\"#19d3f3\",\"#FF6692\",\"#B6E880\",\"#FF97FF\",\"#FECB52\"],\"font\":{\"color\":\"#2a3f5f\"},\"geo\":{\"bgcolor\":\"white\",\"lakecolor\":\"white\",\"landcolor\":\"#E5ECF6\",\"showlakes\":true,\"showland\":true,\"subunitcolor\":\"white\"},\"hoverlabel\":{\"align\":\"left\"},\"hovermode\":\"closest\",\"mapbox\":{\"style\":\"light\"},\"paper_bgcolor\":\"white\",\"plot_bgcolor\":\"#E5ECF6\",\"polar\":{\"angularaxis\":{\"gridcolor\":\"white\",\"linecolor\":\"white\",\"ticks\":\"\"},\"bgcolor\":\"#E5ECF6\",\"radialaxis\":{\"gridcolor\":\"white\",\"linecolor\":\"white\",\"ticks\":\"\"}},\"scene\":{\"xaxis\":{\"backgroundcolor\":\"#E5ECF6\",\"gridcolor\":\"white\",\"gridwidth\":2,\"linecolor\":\"white\",\"showbackground\":true,\"ticks\":\"\",\"zerolinecolor\":\"white\"},\"yaxis\":{\"backgroundcolor\":\"#E5ECF6\",\"gridcolor\":\"white\",\"gridwidth\":2,\"linecolor\":\"white\",\"showbackground\":true,\"ticks\":\"\",\"zerolinecolor\":\"white\"},\"zaxis\":{\"backgroundcolor\":\"#E5ECF6\",\"gridcolor\":\"white\",\"gridwidth\":2,\"linecolor\":\"white\",\"showbackground\":true,\"ticks\":\"\",\"zerolinecolor\":\"white\"}},\"shapedefaults\":{\"line\":{\"color\":\"#2a3f5f\"}},\"ternary\":{\"aaxis\":{\"gridcolor\":\"white\",\"linecolor\":\"white\",\"ticks\":\"\"},\"baxis\":{\"gridcolor\":\"white\",\"linecolor\":\"white\",\"ticks\":\"\"},\"bgcolor\":\"#E5ECF6\",\"caxis\":{\"gridcolor\":\"white\",\"linecolor\":\"white\",\"ticks\":\"\"}},\"title\":{\"x\":0.05},\"xaxis\":{\"automargin\":true,\"gridcolor\":\"white\",\"linecolor\":\"white\",\"ticks\":\"\",\"title\":{\"standoff\":15},\"zerolinecolor\":\"white\",\"zerolinewidth\":2},\"yaxis\":{\"automargin\":true,\"gridcolor\":\"white\",\"linecolor\":\"white\",\"ticks\":\"\",\"title\":{\"standoff\":15},\"zerolinecolor\":\"white\",\"zerolinewidth\":2}}},\"title\":{\"font\":{\"color\":\"#4D5663\"}},\"xaxis\":{\"gridcolor\":\"#E1E5ED\",\"showgrid\":true,\"tickfont\":{\"color\":\"#4D5663\"},\"title\":{\"font\":{\"color\":\"#4D5663\"},\"text\":\"\"},\"zerolinecolor\":\"#E1E5ED\"},\"yaxis\":{\"gridcolor\":\"#E1E5ED\",\"showgrid\":true,\"tickfont\":{\"color\":\"#4D5663\"},\"title\":{\"font\":{\"color\":\"#4D5663\"},\"text\":\"\"},\"zerolinecolor\":\"#E1E5ED\"}},                        {\"showLink\": true, \"linkText\": \"Export to plot.ly\", \"plotlyServerURL\": \"https://plot.ly\", \"responsive\": true}                    ).then(function(){\n",
              "                            \n",
              "var gd = document.getElementById('7aae0a82-5398-40d7-83fa-44ec4d90bd5f');\n",
              "var x = new MutationObserver(function (mutations, observer) {{\n",
              "        var display = window.getComputedStyle(gd).display;\n",
              "        if (!display || display === 'none') {{\n",
              "            console.log([gd, 'removed!']);\n",
              "            Plotly.purge(gd);\n",
              "            observer.disconnect();\n",
              "        }}\n",
              "}});\n",
              "\n",
              "// Listen for the removal of the full notebook cells\n",
              "var notebookContainer = gd.closest('#notebook-container');\n",
              "if (notebookContainer) {{\n",
              "    x.observe(notebookContainer, {childList: true});\n",
              "}}\n",
              "\n",
              "// Listen for the clearing of the current output cell\n",
              "var outputEl = gd.closest('.output');\n",
              "if (outputEl) {{\n",
              "    x.observe(outputEl, {childList: true});\n",
              "}}\n",
              "\n",
              "                        })                };                            </script>        </div>\n",
              "</body>\n",
              "</html>"
            ]
          },
          "metadata": {}
        }
      ]
    },
    {
      "cell_type": "markdown",
      "source": [
        "**Histogramas**"
      ],
      "metadata": {
        "id": "P3a60vL80iJl"
      }
    },
    {
      "cell_type": "code",
      "source": [
        "df['A'].iplot(kind='hist')"
      ],
      "metadata": {
        "id": "8ZN8Vqaq0fHo",
        "colab": {
          "base_uri": "https://localhost:8080/",
          "height": 542
        },
        "outputId": "f631a904-da6e-41b1-e532-66d12dddb733"
      },
      "execution_count": null,
      "outputs": [
        {
          "output_type": "display_data",
          "data": {
            "text/html": [
              "<html>\n",
              "<head><meta charset=\"utf-8\" /></head>\n",
              "<body>\n",
              "    <div>            <script src=\"https://cdnjs.cloudflare.com/ajax/libs/mathjax/2.7.5/MathJax.js?config=TeX-AMS-MML_SVG\"></script><script type=\"text/javascript\">if (window.MathJax) {MathJax.Hub.Config({SVG: {font: \"STIX-Web\"}});}</script>                <script type=\"text/javascript\">window.PlotlyConfig = {MathJaxConfig: 'local'};</script>\n",
              "        <script src=\"https://cdn.plot.ly/plotly-2.8.3.min.js\"></script>                <div id=\"6bf1d8d3-38eb-4ad7-90d1-293ab5edd7cb\" class=\"plotly-graph-div\" style=\"height:525px; width:100%;\"></div>            <script type=\"text/javascript\">                                    window.PLOTLYENV=window.PLOTLYENV || {};\n",
              "                    window.PLOTLYENV.BASE_URL='https://plot.ly';                                    if (document.getElementById(\"6bf1d8d3-38eb-4ad7-90d1-293ab5edd7cb\")) {                    Plotly.newPlot(                        \"6bf1d8d3-38eb-4ad7-90d1-293ab5edd7cb\",                        [{\"histfunc\":\"count\",\"histnorm\":\"\",\"marker\":{\"color\":\"rgba(255, 153, 51, 1.0)\",\"line\":{\"color\":\"#4D5663\",\"width\":1.3}},\"name\":\"A\",\"opacity\":0.8,\"orientation\":\"v\",\"x\":[0.15991766187357428,1.336472110488845,0.8087554615730191,0.031402204039810463,0.8713020449035054,-0.18301367589422302,0.2959982485702422,-0.6440423791992994,0.7195149636929072,2.117095783953832,-0.8861256853914704,-0.06883514519329981,0.05725830989514137,-1.5377659212125694,0.48135399584660393,0.178847943069043,0.7380656218836031,0.4986764901107574,0.15672813399413907,-0.38782096675302,-0.451502206533528,-0.2659064722708647,-0.4608990078051319,-0.8033154515498455,0.3138311621097309,-0.045844237771712884,-1.556194098903122,0.8653230717656981,-0.2051436145410211,-0.9435601487749822,0.6435578559899167,0.010746036139253729,0.9816546219518957,-0.7883760109979703,-0.4219866760514121,1.5103393223025015,-1.186530618454949,0.738364576058676,-0.9313352166354086,1.0989320382376717,0.9358976879967568,2.053460467240248,0.9355663920921059,0.1062269206415052,0.12419121758653327,0.4327896539954133,-0.0650547492445288,-1.4207367664943125,0.9275744459638233,0.0704916510444277,-1.7701057106976477,1.4151891723447745,-0.37427935543614516,-1.1177543449582599,-1.640180532656671,-0.4881493982367995,-1.1161729936527205,-1.2899556537355825,-1.244650063204049,-0.3110937126001046,0.12605130277900195,0.6375670860217763,-0.20807822578083898,0.3150380759867778,2.0634904541746866,-1.3235454571828962,-1.0707258698669206,0.1851863594454151,0.8634235543333478,0.24150247433852054,1.5025963093065222,-2.2878565096456485,1.2066024890978364,2.411621659182668,0.17738862757875634,1.1551284696970068,-0.8662666166687629,1.5997880549264378,2.3247488187702494,-0.0313543048618275,-0.9279551146150026,0.16932949466500008,0.46414088600980835,-0.41644944145529533,-0.933820221609658,0.3013142547911265,1.66591729876168,-1.8303715181731808,-0.7982821148280002,2.3205811976469697,0.4814458815776598,2.534941174370491,-1.1456873235501608,-0.07354110602854524,0.8313678951166191,-0.6861647548154984,-1.115897775753925,-2.502794387869055,-0.22210760762261078,-1.2520497220358475],\"type\":\"histogram\"}],                        {\"barmode\":\"overlay\",\"legend\":{\"bgcolor\":\"#F5F6F9\",\"font\":{\"color\":\"#4D5663\"}},\"paper_bgcolor\":\"#F5F6F9\",\"plot_bgcolor\":\"#F5F6F9\",\"template\":{\"data\":{\"barpolar\":[{\"marker\":{\"line\":{\"color\":\"#E5ECF6\",\"width\":0.5},\"pattern\":{\"fillmode\":\"overlay\",\"size\":10,\"solidity\":0.2}},\"type\":\"barpolar\"}],\"bar\":[{\"error_x\":{\"color\":\"#2a3f5f\"},\"error_y\":{\"color\":\"#2a3f5f\"},\"marker\":{\"line\":{\"color\":\"#E5ECF6\",\"width\":0.5},\"pattern\":{\"fillmode\":\"overlay\",\"size\":10,\"solidity\":0.2}},\"type\":\"bar\"}],\"carpet\":[{\"aaxis\":{\"endlinecolor\":\"#2a3f5f\",\"gridcolor\":\"white\",\"linecolor\":\"white\",\"minorgridcolor\":\"white\",\"startlinecolor\":\"#2a3f5f\"},\"baxis\":{\"endlinecolor\":\"#2a3f5f\",\"gridcolor\":\"white\",\"linecolor\":\"white\",\"minorgridcolor\":\"white\",\"startlinecolor\":\"#2a3f5f\"},\"type\":\"carpet\"}],\"choropleth\":[{\"colorbar\":{\"outlinewidth\":0,\"ticks\":\"\"},\"type\":\"choropleth\"}],\"contourcarpet\":[{\"colorbar\":{\"outlinewidth\":0,\"ticks\":\"\"},\"type\":\"contourcarpet\"}],\"contour\":[{\"colorbar\":{\"outlinewidth\":0,\"ticks\":\"\"},\"colorscale\":[[0.0,\"#0d0887\"],[0.1111111111111111,\"#46039f\"],[0.2222222222222222,\"#7201a8\"],[0.3333333333333333,\"#9c179e\"],[0.4444444444444444,\"#bd3786\"],[0.5555555555555556,\"#d8576b\"],[0.6666666666666666,\"#ed7953\"],[0.7777777777777778,\"#fb9f3a\"],[0.8888888888888888,\"#fdca26\"],[1.0,\"#f0f921\"]],\"type\":\"contour\"}],\"heatmapgl\":[{\"colorbar\":{\"outlinewidth\":0,\"ticks\":\"\"},\"colorscale\":[[0.0,\"#0d0887\"],[0.1111111111111111,\"#46039f\"],[0.2222222222222222,\"#7201a8\"],[0.3333333333333333,\"#9c179e\"],[0.4444444444444444,\"#bd3786\"],[0.5555555555555556,\"#d8576b\"],[0.6666666666666666,\"#ed7953\"],[0.7777777777777778,\"#fb9f3a\"],[0.8888888888888888,\"#fdca26\"],[1.0,\"#f0f921\"]],\"type\":\"heatmapgl\"}],\"heatmap\":[{\"colorbar\":{\"outlinewidth\":0,\"ticks\":\"\"},\"colorscale\":[[0.0,\"#0d0887\"],[0.1111111111111111,\"#46039f\"],[0.2222222222222222,\"#7201a8\"],[0.3333333333333333,\"#9c179e\"],[0.4444444444444444,\"#bd3786\"],[0.5555555555555556,\"#d8576b\"],[0.6666666666666666,\"#ed7953\"],[0.7777777777777778,\"#fb9f3a\"],[0.8888888888888888,\"#fdca26\"],[1.0,\"#f0f921\"]],\"type\":\"heatmap\"}],\"histogram2dcontour\":[{\"colorbar\":{\"outlinewidth\":0,\"ticks\":\"\"},\"colorscale\":[[0.0,\"#0d0887\"],[0.1111111111111111,\"#46039f\"],[0.2222222222222222,\"#7201a8\"],[0.3333333333333333,\"#9c179e\"],[0.4444444444444444,\"#bd3786\"],[0.5555555555555556,\"#d8576b\"],[0.6666666666666666,\"#ed7953\"],[0.7777777777777778,\"#fb9f3a\"],[0.8888888888888888,\"#fdca26\"],[1.0,\"#f0f921\"]],\"type\":\"histogram2dcontour\"}],\"histogram2d\":[{\"colorbar\":{\"outlinewidth\":0,\"ticks\":\"\"},\"colorscale\":[[0.0,\"#0d0887\"],[0.1111111111111111,\"#46039f\"],[0.2222222222222222,\"#7201a8\"],[0.3333333333333333,\"#9c179e\"],[0.4444444444444444,\"#bd3786\"],[0.5555555555555556,\"#d8576b\"],[0.6666666666666666,\"#ed7953\"],[0.7777777777777778,\"#fb9f3a\"],[0.8888888888888888,\"#fdca26\"],[1.0,\"#f0f921\"]],\"type\":\"histogram2d\"}],\"histogram\":[{\"marker\":{\"pattern\":{\"fillmode\":\"overlay\",\"size\":10,\"solidity\":0.2}},\"type\":\"histogram\"}],\"mesh3d\":[{\"colorbar\":{\"outlinewidth\":0,\"ticks\":\"\"},\"type\":\"mesh3d\"}],\"parcoords\":[{\"line\":{\"colorbar\":{\"outlinewidth\":0,\"ticks\":\"\"}},\"type\":\"parcoords\"}],\"pie\":[{\"automargin\":true,\"type\":\"pie\"}],\"scatter3d\":[{\"line\":{\"colorbar\":{\"outlinewidth\":0,\"ticks\":\"\"}},\"marker\":{\"colorbar\":{\"outlinewidth\":0,\"ticks\":\"\"}},\"type\":\"scatter3d\"}],\"scattercarpet\":[{\"marker\":{\"colorbar\":{\"outlinewidth\":0,\"ticks\":\"\"}},\"type\":\"scattercarpet\"}],\"scattergeo\":[{\"marker\":{\"colorbar\":{\"outlinewidth\":0,\"ticks\":\"\"}},\"type\":\"scattergeo\"}],\"scattergl\":[{\"marker\":{\"colorbar\":{\"outlinewidth\":0,\"ticks\":\"\"}},\"type\":\"scattergl\"}],\"scattermapbox\":[{\"marker\":{\"colorbar\":{\"outlinewidth\":0,\"ticks\":\"\"}},\"type\":\"scattermapbox\"}],\"scatterpolargl\":[{\"marker\":{\"colorbar\":{\"outlinewidth\":0,\"ticks\":\"\"}},\"type\":\"scatterpolargl\"}],\"scatterpolar\":[{\"marker\":{\"colorbar\":{\"outlinewidth\":0,\"ticks\":\"\"}},\"type\":\"scatterpolar\"}],\"scatter\":[{\"marker\":{\"colorbar\":{\"outlinewidth\":0,\"ticks\":\"\"}},\"type\":\"scatter\"}],\"scatterternary\":[{\"marker\":{\"colorbar\":{\"outlinewidth\":0,\"ticks\":\"\"}},\"type\":\"scatterternary\"}],\"surface\":[{\"colorbar\":{\"outlinewidth\":0,\"ticks\":\"\"},\"colorscale\":[[0.0,\"#0d0887\"],[0.1111111111111111,\"#46039f\"],[0.2222222222222222,\"#7201a8\"],[0.3333333333333333,\"#9c179e\"],[0.4444444444444444,\"#bd3786\"],[0.5555555555555556,\"#d8576b\"],[0.6666666666666666,\"#ed7953\"],[0.7777777777777778,\"#fb9f3a\"],[0.8888888888888888,\"#fdca26\"],[1.0,\"#f0f921\"]],\"type\":\"surface\"}],\"table\":[{\"cells\":{\"fill\":{\"color\":\"#EBF0F8\"},\"line\":{\"color\":\"white\"}},\"header\":{\"fill\":{\"color\":\"#C8D4E3\"},\"line\":{\"color\":\"white\"}},\"type\":\"table\"}]},\"layout\":{\"annotationdefaults\":{\"arrowcolor\":\"#2a3f5f\",\"arrowhead\":0,\"arrowwidth\":1},\"autotypenumbers\":\"strict\",\"coloraxis\":{\"colorbar\":{\"outlinewidth\":0,\"ticks\":\"\"}},\"colorscale\":{\"diverging\":[[0,\"#8e0152\"],[0.1,\"#c51b7d\"],[0.2,\"#de77ae\"],[0.3,\"#f1b6da\"],[0.4,\"#fde0ef\"],[0.5,\"#f7f7f7\"],[0.6,\"#e6f5d0\"],[0.7,\"#b8e186\"],[0.8,\"#7fbc41\"],[0.9,\"#4d9221\"],[1,\"#276419\"]],\"sequential\":[[0.0,\"#0d0887\"],[0.1111111111111111,\"#46039f\"],[0.2222222222222222,\"#7201a8\"],[0.3333333333333333,\"#9c179e\"],[0.4444444444444444,\"#bd3786\"],[0.5555555555555556,\"#d8576b\"],[0.6666666666666666,\"#ed7953\"],[0.7777777777777778,\"#fb9f3a\"],[0.8888888888888888,\"#fdca26\"],[1.0,\"#f0f921\"]],\"sequentialminus\":[[0.0,\"#0d0887\"],[0.1111111111111111,\"#46039f\"],[0.2222222222222222,\"#7201a8\"],[0.3333333333333333,\"#9c179e\"],[0.4444444444444444,\"#bd3786\"],[0.5555555555555556,\"#d8576b\"],[0.6666666666666666,\"#ed7953\"],[0.7777777777777778,\"#fb9f3a\"],[0.8888888888888888,\"#fdca26\"],[1.0,\"#f0f921\"]]},\"colorway\":[\"#636efa\",\"#EF553B\",\"#00cc96\",\"#ab63fa\",\"#FFA15A\",\"#19d3f3\",\"#FF6692\",\"#B6E880\",\"#FF97FF\",\"#FECB52\"],\"font\":{\"color\":\"#2a3f5f\"},\"geo\":{\"bgcolor\":\"white\",\"lakecolor\":\"white\",\"landcolor\":\"#E5ECF6\",\"showlakes\":true,\"showland\":true,\"subunitcolor\":\"white\"},\"hoverlabel\":{\"align\":\"left\"},\"hovermode\":\"closest\",\"mapbox\":{\"style\":\"light\"},\"paper_bgcolor\":\"white\",\"plot_bgcolor\":\"#E5ECF6\",\"polar\":{\"angularaxis\":{\"gridcolor\":\"white\",\"linecolor\":\"white\",\"ticks\":\"\"},\"bgcolor\":\"#E5ECF6\",\"radialaxis\":{\"gridcolor\":\"white\",\"linecolor\":\"white\",\"ticks\":\"\"}},\"scene\":{\"xaxis\":{\"backgroundcolor\":\"#E5ECF6\",\"gridcolor\":\"white\",\"gridwidth\":2,\"linecolor\":\"white\",\"showbackground\":true,\"ticks\":\"\",\"zerolinecolor\":\"white\"},\"yaxis\":{\"backgroundcolor\":\"#E5ECF6\",\"gridcolor\":\"white\",\"gridwidth\":2,\"linecolor\":\"white\",\"showbackground\":true,\"ticks\":\"\",\"zerolinecolor\":\"white\"},\"zaxis\":{\"backgroundcolor\":\"#E5ECF6\",\"gridcolor\":\"white\",\"gridwidth\":2,\"linecolor\":\"white\",\"showbackground\":true,\"ticks\":\"\",\"zerolinecolor\":\"white\"}},\"shapedefaults\":{\"line\":{\"color\":\"#2a3f5f\"}},\"ternary\":{\"aaxis\":{\"gridcolor\":\"white\",\"linecolor\":\"white\",\"ticks\":\"\"},\"baxis\":{\"gridcolor\":\"white\",\"linecolor\":\"white\",\"ticks\":\"\"},\"bgcolor\":\"#E5ECF6\",\"caxis\":{\"gridcolor\":\"white\",\"linecolor\":\"white\",\"ticks\":\"\"}},\"title\":{\"x\":0.05},\"xaxis\":{\"automargin\":true,\"gridcolor\":\"white\",\"linecolor\":\"white\",\"ticks\":\"\",\"title\":{\"standoff\":15},\"zerolinecolor\":\"white\",\"zerolinewidth\":2},\"yaxis\":{\"automargin\":true,\"gridcolor\":\"white\",\"linecolor\":\"white\",\"ticks\":\"\",\"title\":{\"standoff\":15},\"zerolinecolor\":\"white\",\"zerolinewidth\":2}}},\"title\":{\"font\":{\"color\":\"#4D5663\"}},\"xaxis\":{\"gridcolor\":\"#E1E5ED\",\"showgrid\":true,\"tickfont\":{\"color\":\"#4D5663\"},\"title\":{\"font\":{\"color\":\"#4D5663\"},\"text\":\"\"},\"zerolinecolor\":\"#E1E5ED\"},\"yaxis\":{\"gridcolor\":\"#E1E5ED\",\"showgrid\":true,\"tickfont\":{\"color\":\"#4D5663\"},\"title\":{\"font\":{\"color\":\"#4D5663\"},\"text\":\"\"},\"zerolinecolor\":\"#E1E5ED\"}},                        {\"showLink\": true, \"linkText\": \"Export to plot.ly\", \"plotlyServerURL\": \"https://plot.ly\", \"responsive\": true}                    ).then(function(){\n",
              "                            \n",
              "var gd = document.getElementById('6bf1d8d3-38eb-4ad7-90d1-293ab5edd7cb');\n",
              "var x = new MutationObserver(function (mutations, observer) {{\n",
              "        var display = window.getComputedStyle(gd).display;\n",
              "        if (!display || display === 'none') {{\n",
              "            console.log([gd, 'removed!']);\n",
              "            Plotly.purge(gd);\n",
              "            observer.disconnect();\n",
              "        }}\n",
              "}});\n",
              "\n",
              "// Listen for the removal of the full notebook cells\n",
              "var notebookContainer = gd.closest('#notebook-container');\n",
              "if (notebookContainer) {{\n",
              "    x.observe(notebookContainer, {childList: true});\n",
              "}}\n",
              "\n",
              "// Listen for the clearing of the current output cell\n",
              "var outputEl = gd.closest('.output');\n",
              "if (outputEl) {{\n",
              "    x.observe(outputEl, {childList: true});\n",
              "}}\n",
              "\n",
              "                        })                };                            </script>        </div>\n",
              "</body>\n",
              "</html>"
            ]
          },
          "metadata": {}
        }
      ]
    },
    {
      "cell_type": "code",
      "source": [
        "df.iplot(kind='hist')"
      ],
      "metadata": {
        "id": "VEoIqRiF02_n",
        "colab": {
          "base_uri": "https://localhost:8080/",
          "height": 542
        },
        "outputId": "aa69d402-14b9-45b1-9a69-7c47a2768d18"
      },
      "execution_count": null,
      "outputs": [
        {
          "output_type": "display_data",
          "data": {
            "text/html": [
              "<html>\n",
              "<head><meta charset=\"utf-8\" /></head>\n",
              "<body>\n",
              "    <div>            <script src=\"https://cdnjs.cloudflare.com/ajax/libs/mathjax/2.7.5/MathJax.js?config=TeX-AMS-MML_SVG\"></script><script type=\"text/javascript\">if (window.MathJax) {MathJax.Hub.Config({SVG: {font: \"STIX-Web\"}});}</script>                <script type=\"text/javascript\">window.PlotlyConfig = {MathJaxConfig: 'local'};</script>\n",
              "        <script src=\"https://cdn.plot.ly/plotly-2.8.3.min.js\"></script>                <div id=\"36532afd-8eec-4113-a81a-7510f60232fc\" class=\"plotly-graph-div\" style=\"height:525px; width:100%;\"></div>            <script type=\"text/javascript\">                                    window.PLOTLYENV=window.PLOTLYENV || {};\n",
              "                    window.PLOTLYENV.BASE_URL='https://plot.ly';                                    if (document.getElementById(\"36532afd-8eec-4113-a81a-7510f60232fc\")) {                    Plotly.newPlot(                        \"36532afd-8eec-4113-a81a-7510f60232fc\",                        [{\"histfunc\":\"count\",\"histnorm\":\"\",\"marker\":{\"color\":\"rgba(255, 153, 51, 1.0)\",\"line\":{\"color\":\"#4D5663\",\"width\":1.3}},\"name\":\"A\",\"opacity\":0.8,\"orientation\":\"v\",\"x\":[0.15991766187357428,1.336472110488845,0.8087554615730191,0.031402204039810463,0.8713020449035054,-0.18301367589422302,0.2959982485702422,-0.6440423791992994,0.7195149636929072,2.117095783953832,-0.8861256853914704,-0.06883514519329981,0.05725830989514137,-1.5377659212125694,0.48135399584660393,0.178847943069043,0.7380656218836031,0.4986764901107574,0.15672813399413907,-0.38782096675302,-0.451502206533528,-0.2659064722708647,-0.4608990078051319,-0.8033154515498455,0.3138311621097309,-0.045844237771712884,-1.556194098903122,0.8653230717656981,-0.2051436145410211,-0.9435601487749822,0.6435578559899167,0.010746036139253729,0.9816546219518957,-0.7883760109979703,-0.4219866760514121,1.5103393223025015,-1.186530618454949,0.738364576058676,-0.9313352166354086,1.0989320382376717,0.9358976879967568,2.053460467240248,0.9355663920921059,0.1062269206415052,0.12419121758653327,0.4327896539954133,-0.0650547492445288,-1.4207367664943125,0.9275744459638233,0.0704916510444277,-1.7701057106976477,1.4151891723447745,-0.37427935543614516,-1.1177543449582599,-1.640180532656671,-0.4881493982367995,-1.1161729936527205,-1.2899556537355825,-1.244650063204049,-0.3110937126001046,0.12605130277900195,0.6375670860217763,-0.20807822578083898,0.3150380759867778,2.0634904541746866,-1.3235454571828962,-1.0707258698669206,0.1851863594454151,0.8634235543333478,0.24150247433852054,1.5025963093065222,-2.2878565096456485,1.2066024890978364,2.411621659182668,0.17738862757875634,1.1551284696970068,-0.8662666166687629,1.5997880549264378,2.3247488187702494,-0.0313543048618275,-0.9279551146150026,0.16932949466500008,0.46414088600980835,-0.41644944145529533,-0.933820221609658,0.3013142547911265,1.66591729876168,-1.8303715181731808,-0.7982821148280002,2.3205811976469697,0.4814458815776598,2.534941174370491,-1.1456873235501608,-0.07354110602854524,0.8313678951166191,-0.6861647548154984,-1.115897775753925,-2.502794387869055,-0.22210760762261078,-1.2520497220358475],\"type\":\"histogram\"},{\"histfunc\":\"count\",\"histnorm\":\"\",\"marker\":{\"color\":\"rgba(55, 128, 191, 1.0)\",\"line\":{\"color\":\"#4D5663\",\"width\":1.3}},\"name\":\"B\",\"opacity\":0.8,\"orientation\":\"v\",\"x\":[2.0169561332861865,-0.43429233380843885,-0.43356257673214427,2.1771186367256368,0.8095500574131534,-1.3091778124359188,-0.9681007237257846,1.2850120572596524,0.6546566964279855,0.4292531604116228,1.55998047068737,-1.6879332653443762,-0.7871322190035406,-0.06602796855804274,0.16586869842900476,-1.7825105809023518,1.2901942156942292,-0.7236095084983274,1.7244080945995413,0.44760717109182,0.5395070916223994,1.1343025665670685,-0.7095537282194786,-0.2966166494095116,0.0010495700976222509,-0.7947123610749705,-0.1589210289042382,0.16793701983142267,1.3262010480237127,2.1352207815848003,0.6238969068184332,1.113052664929787,0.9184277011033406,-0.17810406921678754,-1.3839417460700068,-0.6673675175730456,1.7913281891926909,-0.8437026591921084,0.4265553946591838,-0.21300472206775586,-1.221593864730558,0.07738142159786968,0.7869222799317079,1.4780736594918247,-0.3870450818133202,-1.7701064654367429,-1.1277662728039375,-0.11044164730278658,-0.788967271191509,-0.04196094873924995,0.06282355519876329,-0.6082088099411694,-0.6901270979407248,-0.7696480126480182,-1.3281858051629787,-1.0958610815463221,2.8327547840276606,1.4790521195365034,-0.684704166150316,-2.326517577175694,0.004961157236635512,-0.7018825524478743,-0.7407491647289562,-0.7191210994170975,-0.9772919152984749,-0.30756191972316915,-1.8234225171249907,0.3101977031305282,0.1881068925350721,-0.4482297721251149,-0.5622980431393981,1.541465255724142,0.9213261541265201,0.8769460884701058,0.4450520331045591,-0.37581018273079164,-1.2196759240469361,-0.4198841545862449,-0.9971941914757909,-3.0363584923982363,-0.10871855029411716,0.6999101412980412,0.8625677640418702,-2.266728223091762,0.06574609108208804,-1.1428512206836945,-1.5140403565383014,0.20871849945854495,0.25597677902045446,0.6062616572240755,1.7790634891411108,0.04450808939889438,0.8233658178055882,-0.6253975175487747,-1.150887769149947,0.3386958645987173,-0.18279014888271924,0.06545423066742678,-0.9851210924595009,-0.22728489546670294],\"type\":\"histogram\"},{\"histfunc\":\"count\",\"histnorm\":\"\",\"marker\":{\"color\":\"rgba(50, 171, 96, 1.0)\",\"line\":{\"color\":\"#4D5663\",\"width\":1.3}},\"name\":\"C\",\"opacity\":0.8,\"orientation\":\"v\",\"x\":[-1.1577737987756762,-0.20476595080494625,0.4785291568850827,-1.049734125039708,0.4300068110467301,1.097968763140523,-1.4833494711412478,1.7209499459661282,0.7788035564481742,1.517397294290723,0.2347246309441393,-0.7761895892157443,-2.054212294752564,0.38398809436835113,0.843160283997241,-1.039105133373964,-0.653103990267039,-0.8811868942054735,-1.2576629647434288,-1.7871724718463098,-1.4829165003834064,-0.2612305910895046,0.07960485447649558,-0.9129417380022947,0.40314647063579173,-1.0281978014509485,0.07407760046607764,1.4012430035024712,0.16905586387013996,-0.37896358478247877,1.4522024155909667,-0.8634725269983637,-0.866259811177869,0.739669512910617,1.2661250145471943,0.2404723312905949,-2.345009151983953,-0.6393692661828025,-0.8282095865689866,1.1495791124865098,0.5775963893324433,-0.19112191963172118,-0.12997132011387869,-0.4344321132064988,-0.2902928942428836,0.5891040575186413,2.1191378098914373,-0.9800028370543378,0.48286852194745195,1.1976878499910177,0.029652523881802166,-1.9742077413455394,-0.08376468314983695,-1.9216686832720937,1.2022418479585406,-0.5508535293759708,0.3450508859350295,-0.7773000032231051,0.8604839470691935,1.7707808072100537,-1.6961716564927511,0.26482781353737667,-0.46429884931418586,-0.28597015592476244,0.0816409511380148,0.8300613531825849,-0.5398743364301557,0.14191258088547384,-1.4657456730872889,0.20586309775465908,-1.8302693029027133,0.7251901655844724,-0.19119921799867812,1.9115866729271127,-0.13949806351718516,-1.5250194443222775,0.35046379178075016,-1.0169389130083448,-0.5391188103399921,-1.764140792644202,0.5383798960843764,0.1620277882257504,0.0825107687421268,-0.39151202480382136,-0.6339854169335964,1.45192400874128,-0.38521508922767606,-1.0446720598970058,0.4462581716253721,-0.9979837929134856,-0.5673137624814252,0.49199022917879587,1.0876917846859946,-1.5786288766796754,2.190087752823068,0.25234475052261124,0.8312505222465344,0.8766502386627013,2.9484800552978703,0.23606637522142704],\"type\":\"histogram\"},{\"histfunc\":\"count\",\"histnorm\":\"\",\"marker\":{\"color\":\"rgba(128, 0, 128, 1.0)\",\"line\":{\"color\":\"#4D5663\",\"width\":1.3}},\"name\":\"D\",\"opacity\":0.8,\"orientation\":\"v\",\"x\":[0.28239145039917646,1.8363822521912083,0.26794720325871424,0.10208004567712484,-0.15177375816615735,0.01681072921394639,1.1374501311799545,0.03548719406323302,-0.3796591510612054,0.1675610640271451,-0.7712154256001914,0.8839414817560541,0.18093526944239666,-0.17273830439621007,1.3492286448622257,-1.742415898628937,-0.3735273368343053,-0.5819153365423312,1.0959618172528736,-0.9042902629750132,-0.6306754349886508,-0.07135926057754212,0.33860606644118335,-0.7374752184064594,-0.6499440525674023,-0.0782242453318375,0.5061336844050206,-1.4592386604250434,0.3003253143844615,-0.6380236583925735,1.2203680047139338,-0.3780707481766195,0.008533258921761985,0.026150226761191192,-0.5538168810718875,-1.7620567730065355,-0.5397618067906942,-0.7952717843039396,-0.7361298652706514,-0.3052539776912539,0.36382380571077594,-0.21755249388116144,0.06000553035783175,2.2585117505323646,-1.850780490906206,0.21255731218839877,-0.821348188403252,0.4456412796320036,0.15741499552532798,1.5714750123303496,0.3187533108895991,-0.9678880186190438,-1.2958680248570562,0.5134275820754821,1.220822871455858,-0.9727570930633096,0.7144927152472524,-0.228848938817637,0.4115779820200336,-0.2770670591676926,-0.04566156965625598,0.08704565960001388,-0.5707134553647448,1.2249943460921675,1.2644211448069649,-2.659926175928382,2.169443788320486,-1.2313551676093555,-0.5588062572050628,0.625375093036721,-0.06322056261275152,1.0195717268348636,-0.6497140823092098,-1.6468284607363297,-0.7831062358595463,-0.6874725325665811,0.3043726161100774,-1.8450020616128964,1.1385444264294615,0.7524557072696625,0.744359589043357,0.9164114408746197,-2.079241475090012,-0.07444411250046001,-0.04767363805807925,1.8167382068251494,-0.5233565342439602,-0.3208454676184389,-1.4641124824188727,-2.342535646954361,-2.4622685742111474,0.842315295153011,-1.087325408739789,1.1151311006189522,1.0656061121684293,0.8476413479708031,0.788462248794487,-0.9618119284976607,0.009020060177266946,-0.5938041451769931],\"type\":\"histogram\"}],                        {\"barmode\":\"overlay\",\"legend\":{\"bgcolor\":\"#F5F6F9\",\"font\":{\"color\":\"#4D5663\"}},\"paper_bgcolor\":\"#F5F6F9\",\"plot_bgcolor\":\"#F5F6F9\",\"template\":{\"data\":{\"barpolar\":[{\"marker\":{\"line\":{\"color\":\"#E5ECF6\",\"width\":0.5},\"pattern\":{\"fillmode\":\"overlay\",\"size\":10,\"solidity\":0.2}},\"type\":\"barpolar\"}],\"bar\":[{\"error_x\":{\"color\":\"#2a3f5f\"},\"error_y\":{\"color\":\"#2a3f5f\"},\"marker\":{\"line\":{\"color\":\"#E5ECF6\",\"width\":0.5},\"pattern\":{\"fillmode\":\"overlay\",\"size\":10,\"solidity\":0.2}},\"type\":\"bar\"}],\"carpet\":[{\"aaxis\":{\"endlinecolor\":\"#2a3f5f\",\"gridcolor\":\"white\",\"linecolor\":\"white\",\"minorgridcolor\":\"white\",\"startlinecolor\":\"#2a3f5f\"},\"baxis\":{\"endlinecolor\":\"#2a3f5f\",\"gridcolor\":\"white\",\"linecolor\":\"white\",\"minorgridcolor\":\"white\",\"startlinecolor\":\"#2a3f5f\"},\"type\":\"carpet\"}],\"choropleth\":[{\"colorbar\":{\"outlinewidth\":0,\"ticks\":\"\"},\"type\":\"choropleth\"}],\"contourcarpet\":[{\"colorbar\":{\"outlinewidth\":0,\"ticks\":\"\"},\"type\":\"contourcarpet\"}],\"contour\":[{\"colorbar\":{\"outlinewidth\":0,\"ticks\":\"\"},\"colorscale\":[[0.0,\"#0d0887\"],[0.1111111111111111,\"#46039f\"],[0.2222222222222222,\"#7201a8\"],[0.3333333333333333,\"#9c179e\"],[0.4444444444444444,\"#bd3786\"],[0.5555555555555556,\"#d8576b\"],[0.6666666666666666,\"#ed7953\"],[0.7777777777777778,\"#fb9f3a\"],[0.8888888888888888,\"#fdca26\"],[1.0,\"#f0f921\"]],\"type\":\"contour\"}],\"heatmapgl\":[{\"colorbar\":{\"outlinewidth\":0,\"ticks\":\"\"},\"colorscale\":[[0.0,\"#0d0887\"],[0.1111111111111111,\"#46039f\"],[0.2222222222222222,\"#7201a8\"],[0.3333333333333333,\"#9c179e\"],[0.4444444444444444,\"#bd3786\"],[0.5555555555555556,\"#d8576b\"],[0.6666666666666666,\"#ed7953\"],[0.7777777777777778,\"#fb9f3a\"],[0.8888888888888888,\"#fdca26\"],[1.0,\"#f0f921\"]],\"type\":\"heatmapgl\"}],\"heatmap\":[{\"colorbar\":{\"outlinewidth\":0,\"ticks\":\"\"},\"colorscale\":[[0.0,\"#0d0887\"],[0.1111111111111111,\"#46039f\"],[0.2222222222222222,\"#7201a8\"],[0.3333333333333333,\"#9c179e\"],[0.4444444444444444,\"#bd3786\"],[0.5555555555555556,\"#d8576b\"],[0.6666666666666666,\"#ed7953\"],[0.7777777777777778,\"#fb9f3a\"],[0.8888888888888888,\"#fdca26\"],[1.0,\"#f0f921\"]],\"type\":\"heatmap\"}],\"histogram2dcontour\":[{\"colorbar\":{\"outlinewidth\":0,\"ticks\":\"\"},\"colorscale\":[[0.0,\"#0d0887\"],[0.1111111111111111,\"#46039f\"],[0.2222222222222222,\"#7201a8\"],[0.3333333333333333,\"#9c179e\"],[0.4444444444444444,\"#bd3786\"],[0.5555555555555556,\"#d8576b\"],[0.6666666666666666,\"#ed7953\"],[0.7777777777777778,\"#fb9f3a\"],[0.8888888888888888,\"#fdca26\"],[1.0,\"#f0f921\"]],\"type\":\"histogram2dcontour\"}],\"histogram2d\":[{\"colorbar\":{\"outlinewidth\":0,\"ticks\":\"\"},\"colorscale\":[[0.0,\"#0d0887\"],[0.1111111111111111,\"#46039f\"],[0.2222222222222222,\"#7201a8\"],[0.3333333333333333,\"#9c179e\"],[0.4444444444444444,\"#bd3786\"],[0.5555555555555556,\"#d8576b\"],[0.6666666666666666,\"#ed7953\"],[0.7777777777777778,\"#fb9f3a\"],[0.8888888888888888,\"#fdca26\"],[1.0,\"#f0f921\"]],\"type\":\"histogram2d\"}],\"histogram\":[{\"marker\":{\"pattern\":{\"fillmode\":\"overlay\",\"size\":10,\"solidity\":0.2}},\"type\":\"histogram\"}],\"mesh3d\":[{\"colorbar\":{\"outlinewidth\":0,\"ticks\":\"\"},\"type\":\"mesh3d\"}],\"parcoords\":[{\"line\":{\"colorbar\":{\"outlinewidth\":0,\"ticks\":\"\"}},\"type\":\"parcoords\"}],\"pie\":[{\"automargin\":true,\"type\":\"pie\"}],\"scatter3d\":[{\"line\":{\"colorbar\":{\"outlinewidth\":0,\"ticks\":\"\"}},\"marker\":{\"colorbar\":{\"outlinewidth\":0,\"ticks\":\"\"}},\"type\":\"scatter3d\"}],\"scattercarpet\":[{\"marker\":{\"colorbar\":{\"outlinewidth\":0,\"ticks\":\"\"}},\"type\":\"scattercarpet\"}],\"scattergeo\":[{\"marker\":{\"colorbar\":{\"outlinewidth\":0,\"ticks\":\"\"}},\"type\":\"scattergeo\"}],\"scattergl\":[{\"marker\":{\"colorbar\":{\"outlinewidth\":0,\"ticks\":\"\"}},\"type\":\"scattergl\"}],\"scattermapbox\":[{\"marker\":{\"colorbar\":{\"outlinewidth\":0,\"ticks\":\"\"}},\"type\":\"scattermapbox\"}],\"scatterpolargl\":[{\"marker\":{\"colorbar\":{\"outlinewidth\":0,\"ticks\":\"\"}},\"type\":\"scatterpolargl\"}],\"scatterpolar\":[{\"marker\":{\"colorbar\":{\"outlinewidth\":0,\"ticks\":\"\"}},\"type\":\"scatterpolar\"}],\"scatter\":[{\"marker\":{\"colorbar\":{\"outlinewidth\":0,\"ticks\":\"\"}},\"type\":\"scatter\"}],\"scatterternary\":[{\"marker\":{\"colorbar\":{\"outlinewidth\":0,\"ticks\":\"\"}},\"type\":\"scatterternary\"}],\"surface\":[{\"colorbar\":{\"outlinewidth\":0,\"ticks\":\"\"},\"colorscale\":[[0.0,\"#0d0887\"],[0.1111111111111111,\"#46039f\"],[0.2222222222222222,\"#7201a8\"],[0.3333333333333333,\"#9c179e\"],[0.4444444444444444,\"#bd3786\"],[0.5555555555555556,\"#d8576b\"],[0.6666666666666666,\"#ed7953\"],[0.7777777777777778,\"#fb9f3a\"],[0.8888888888888888,\"#fdca26\"],[1.0,\"#f0f921\"]],\"type\":\"surface\"}],\"table\":[{\"cells\":{\"fill\":{\"color\":\"#EBF0F8\"},\"line\":{\"color\":\"white\"}},\"header\":{\"fill\":{\"color\":\"#C8D4E3\"},\"line\":{\"color\":\"white\"}},\"type\":\"table\"}]},\"layout\":{\"annotationdefaults\":{\"arrowcolor\":\"#2a3f5f\",\"arrowhead\":0,\"arrowwidth\":1},\"autotypenumbers\":\"strict\",\"coloraxis\":{\"colorbar\":{\"outlinewidth\":0,\"ticks\":\"\"}},\"colorscale\":{\"diverging\":[[0,\"#8e0152\"],[0.1,\"#c51b7d\"],[0.2,\"#de77ae\"],[0.3,\"#f1b6da\"],[0.4,\"#fde0ef\"],[0.5,\"#f7f7f7\"],[0.6,\"#e6f5d0\"],[0.7,\"#b8e186\"],[0.8,\"#7fbc41\"],[0.9,\"#4d9221\"],[1,\"#276419\"]],\"sequential\":[[0.0,\"#0d0887\"],[0.1111111111111111,\"#46039f\"],[0.2222222222222222,\"#7201a8\"],[0.3333333333333333,\"#9c179e\"],[0.4444444444444444,\"#bd3786\"],[0.5555555555555556,\"#d8576b\"],[0.6666666666666666,\"#ed7953\"],[0.7777777777777778,\"#fb9f3a\"],[0.8888888888888888,\"#fdca26\"],[1.0,\"#f0f921\"]],\"sequentialminus\":[[0.0,\"#0d0887\"],[0.1111111111111111,\"#46039f\"],[0.2222222222222222,\"#7201a8\"],[0.3333333333333333,\"#9c179e\"],[0.4444444444444444,\"#bd3786\"],[0.5555555555555556,\"#d8576b\"],[0.6666666666666666,\"#ed7953\"],[0.7777777777777778,\"#fb9f3a\"],[0.8888888888888888,\"#fdca26\"],[1.0,\"#f0f921\"]]},\"colorway\":[\"#636efa\",\"#EF553B\",\"#00cc96\",\"#ab63fa\",\"#FFA15A\",\"#19d3f3\",\"#FF6692\",\"#B6E880\",\"#FF97FF\",\"#FECB52\"],\"font\":{\"color\":\"#2a3f5f\"},\"geo\":{\"bgcolor\":\"white\",\"lakecolor\":\"white\",\"landcolor\":\"#E5ECF6\",\"showlakes\":true,\"showland\":true,\"subunitcolor\":\"white\"},\"hoverlabel\":{\"align\":\"left\"},\"hovermode\":\"closest\",\"mapbox\":{\"style\":\"light\"},\"paper_bgcolor\":\"white\",\"plot_bgcolor\":\"#E5ECF6\",\"polar\":{\"angularaxis\":{\"gridcolor\":\"white\",\"linecolor\":\"white\",\"ticks\":\"\"},\"bgcolor\":\"#E5ECF6\",\"radialaxis\":{\"gridcolor\":\"white\",\"linecolor\":\"white\",\"ticks\":\"\"}},\"scene\":{\"xaxis\":{\"backgroundcolor\":\"#E5ECF6\",\"gridcolor\":\"white\",\"gridwidth\":2,\"linecolor\":\"white\",\"showbackground\":true,\"ticks\":\"\",\"zerolinecolor\":\"white\"},\"yaxis\":{\"backgroundcolor\":\"#E5ECF6\",\"gridcolor\":\"white\",\"gridwidth\":2,\"linecolor\":\"white\",\"showbackground\":true,\"ticks\":\"\",\"zerolinecolor\":\"white\"},\"zaxis\":{\"backgroundcolor\":\"#E5ECF6\",\"gridcolor\":\"white\",\"gridwidth\":2,\"linecolor\":\"white\",\"showbackground\":true,\"ticks\":\"\",\"zerolinecolor\":\"white\"}},\"shapedefaults\":{\"line\":{\"color\":\"#2a3f5f\"}},\"ternary\":{\"aaxis\":{\"gridcolor\":\"white\",\"linecolor\":\"white\",\"ticks\":\"\"},\"baxis\":{\"gridcolor\":\"white\",\"linecolor\":\"white\",\"ticks\":\"\"},\"bgcolor\":\"#E5ECF6\",\"caxis\":{\"gridcolor\":\"white\",\"linecolor\":\"white\",\"ticks\":\"\"}},\"title\":{\"x\":0.05},\"xaxis\":{\"automargin\":true,\"gridcolor\":\"white\",\"linecolor\":\"white\",\"ticks\":\"\",\"title\":{\"standoff\":15},\"zerolinecolor\":\"white\",\"zerolinewidth\":2},\"yaxis\":{\"automargin\":true,\"gridcolor\":\"white\",\"linecolor\":\"white\",\"ticks\":\"\",\"title\":{\"standoff\":15},\"zerolinecolor\":\"white\",\"zerolinewidth\":2}}},\"title\":{\"font\":{\"color\":\"#4D5663\"}},\"xaxis\":{\"gridcolor\":\"#E1E5ED\",\"showgrid\":true,\"tickfont\":{\"color\":\"#4D5663\"},\"title\":{\"font\":{\"color\":\"#4D5663\"},\"text\":\"\"},\"zerolinecolor\":\"#E1E5ED\"},\"yaxis\":{\"gridcolor\":\"#E1E5ED\",\"showgrid\":true,\"tickfont\":{\"color\":\"#4D5663\"},\"title\":{\"font\":{\"color\":\"#4D5663\"},\"text\":\"\"},\"zerolinecolor\":\"#E1E5ED\"}},                        {\"showLink\": true, \"linkText\": \"Export to plot.ly\", \"plotlyServerURL\": \"https://plot.ly\", \"responsive\": true}                    ).then(function(){\n",
              "                            \n",
              "var gd = document.getElementById('36532afd-8eec-4113-a81a-7510f60232fc');\n",
              "var x = new MutationObserver(function (mutations, observer) {{\n",
              "        var display = window.getComputedStyle(gd).display;\n",
              "        if (!display || display === 'none') {{\n",
              "            console.log([gd, 'removed!']);\n",
              "            Plotly.purge(gd);\n",
              "            observer.disconnect();\n",
              "        }}\n",
              "}});\n",
              "\n",
              "// Listen for the removal of the full notebook cells\n",
              "var notebookContainer = gd.closest('#notebook-container');\n",
              "if (notebookContainer) {{\n",
              "    x.observe(notebookContainer, {childList: true});\n",
              "}}\n",
              "\n",
              "// Listen for the clearing of the current output cell\n",
              "var outputEl = gd.closest('.output');\n",
              "if (outputEl) {{\n",
              "    x.observe(outputEl, {childList: true});\n",
              "}}\n",
              "\n",
              "                        })                };                            </script>        </div>\n",
              "</body>\n",
              "</html>"
            ]
          },
          "metadata": {}
        }
      ]
    },
    {
      "cell_type": "markdown",
      "source": [
        "**Spread plots**"
      ],
      "metadata": {
        "id": "DksRnUIi1CH9"
      }
    },
    {
      "cell_type": "code",
      "source": [
        "df.iplot(kind='spread')"
      ],
      "metadata": {
        "id": "7suje0Wp0534",
        "colab": {
          "base_uri": "https://localhost:8080/",
          "height": 681
        },
        "outputId": "f0e2be89-c626-426c-a8e1-553761f114db"
      },
      "execution_count": null,
      "outputs": [
        {
          "output_type": "stream",
          "name": "stderr",
          "text": [
            "/usr/local/lib/python3.8/dist-packages/cufflinks/plotlytools.py:849: FutureWarning:\n",
            "\n",
            "The pandas.np module is deprecated and will be removed from pandas in a future version. Import numpy directly instead\n",
            "\n",
            "/usr/local/lib/python3.8/dist-packages/cufflinks/plotlytools.py:850: FutureWarning:\n",
            "\n",
            "The pandas.np module is deprecated and will be removed from pandas in a future version. Import numpy directly instead\n",
            "\n"
          ]
        },
        {
          "output_type": "display_data",
          "data": {
            "text/html": [
              "<html>\n",
              "<head><meta charset=\"utf-8\" /></head>\n",
              "<body>\n",
              "    <div>            <script src=\"https://cdnjs.cloudflare.com/ajax/libs/mathjax/2.7.5/MathJax.js?config=TeX-AMS-MML_SVG\"></script><script type=\"text/javascript\">if (window.MathJax) {MathJax.Hub.Config({SVG: {font: \"STIX-Web\"}});}</script>                <script type=\"text/javascript\">window.PlotlyConfig = {MathJaxConfig: 'local'};</script>\n",
              "        <script src=\"https://cdn.plot.ly/plotly-2.8.3.min.js\"></script>                <div id=\"93b224cc-5ea1-40f3-8cf6-079b4eec248e\" class=\"plotly-graph-div\" style=\"height:525px; width:100%;\"></div>            <script type=\"text/javascript\">                                    window.PLOTLYENV=window.PLOTLYENV || {};\n",
              "                    window.PLOTLYENV.BASE_URL='https://plot.ly';                                    if (document.getElementById(\"93b224cc-5ea1-40f3-8cf6-079b4eec248e\")) {                    Plotly.newPlot(                        \"93b224cc-5ea1-40f3-8cf6-079b4eec248e\",                        [{\"line\":{\"color\":\"rgba(255, 153, 51, 1.0)\",\"dash\":\"solid\",\"shape\":\"linear\",\"width\":1.3},\"mode\":\"lines\",\"name\":\"A\",\"text\":\"\",\"x\":[0,1,2,3,4,5,6,7,8,9,10,11,12,13,14,15,16,17,18,19,20,21,22,23,24,25,26,27,28,29,30,31,32,33,34,35,36,37,38,39,40,41,42,43,44,45,46,47,48,49,50,51,52,53,54,55,56,57,58,59,60,61,62,63,64,65,66,67,68,69,70,71,72,73,74,75,76,77,78,79,80,81,82,83,84,85,86,87,88,89,90,91,92,93,94,95,96,97,98,99],\"y\":[0.15991766187357428,1.336472110488845,0.8087554615730191,0.031402204039810463,0.8713020449035054,-0.18301367589422302,0.2959982485702422,-0.6440423791992994,0.7195149636929072,2.117095783953832,-0.8861256853914704,-0.06883514519329981,0.05725830989514137,-1.5377659212125694,0.48135399584660393,0.178847943069043,0.7380656218836031,0.4986764901107574,0.15672813399413907,-0.38782096675302,-0.451502206533528,-0.2659064722708647,-0.4608990078051319,-0.8033154515498455,0.3138311621097309,-0.045844237771712884,-1.556194098903122,0.8653230717656981,-0.2051436145410211,-0.9435601487749822,0.6435578559899167,0.010746036139253729,0.9816546219518957,-0.7883760109979703,-0.4219866760514121,1.5103393223025015,-1.186530618454949,0.738364576058676,-0.9313352166354086,1.0989320382376717,0.9358976879967568,2.053460467240248,0.9355663920921059,0.1062269206415052,0.12419121758653327,0.4327896539954133,-0.0650547492445288,-1.4207367664943125,0.9275744459638233,0.0704916510444277,-1.7701057106976477,1.4151891723447745,-0.37427935543614516,-1.1177543449582599,-1.640180532656671,-0.4881493982367995,-1.1161729936527205,-1.2899556537355825,-1.244650063204049,-0.3110937126001046,0.12605130277900195,0.6375670860217763,-0.20807822578083898,0.3150380759867778,2.0634904541746866,-1.3235454571828962,-1.0707258698669206,0.1851863594454151,0.8634235543333478,0.24150247433852054,1.5025963093065222,-2.2878565096456485,1.2066024890978364,2.411621659182668,0.17738862757875634,1.1551284696970068,-0.8662666166687629,1.5997880549264378,2.3247488187702494,-0.0313543048618275,-0.9279551146150026,0.16932949466500008,0.46414088600980835,-0.41644944145529533,-0.933820221609658,0.3013142547911265,1.66591729876168,-1.8303715181731808,-0.7982821148280002,2.3205811976469697,0.4814458815776598,2.534941174370491,-1.1456873235501608,-0.07354110602854524,0.8313678951166191,-0.6861647548154984,-1.115897775753925,-2.502794387869055,-0.22210760762261078,-1.2520497220358475],\"type\":\"scatter\"},{\"line\":{\"color\":\"rgba(55, 128, 191, 1.0)\",\"dash\":\"solid\",\"shape\":\"linear\",\"width\":1.3},\"mode\":\"lines\",\"name\":\"B\",\"text\":\"\",\"x\":[0,1,2,3,4,5,6,7,8,9,10,11,12,13,14,15,16,17,18,19,20,21,22,23,24,25,26,27,28,29,30,31,32,33,34,35,36,37,38,39,40,41,42,43,44,45,46,47,48,49,50,51,52,53,54,55,56,57,58,59,60,61,62,63,64,65,66,67,68,69,70,71,72,73,74,75,76,77,78,79,80,81,82,83,84,85,86,87,88,89,90,91,92,93,94,95,96,97,98,99],\"y\":[2.0169561332861865,-0.43429233380843885,-0.43356257673214427,2.1771186367256368,0.8095500574131534,-1.3091778124359188,-0.9681007237257846,1.2850120572596524,0.6546566964279855,0.4292531604116228,1.55998047068737,-1.6879332653443762,-0.7871322190035406,-0.06602796855804274,0.16586869842900476,-1.7825105809023518,1.2901942156942292,-0.7236095084983274,1.7244080945995413,0.44760717109182,0.5395070916223994,1.1343025665670685,-0.7095537282194786,-0.2966166494095116,0.0010495700976222509,-0.7947123610749705,-0.1589210289042382,0.16793701983142267,1.3262010480237127,2.1352207815848003,0.6238969068184332,1.113052664929787,0.9184277011033406,-0.17810406921678754,-1.3839417460700068,-0.6673675175730456,1.7913281891926909,-0.8437026591921084,0.4265553946591838,-0.21300472206775586,-1.221593864730558,0.07738142159786968,0.7869222799317079,1.4780736594918247,-0.3870450818133202,-1.7701064654367429,-1.1277662728039375,-0.11044164730278658,-0.788967271191509,-0.04196094873924995,0.06282355519876329,-0.6082088099411694,-0.6901270979407248,-0.7696480126480182,-1.3281858051629787,-1.0958610815463221,2.8327547840276606,1.4790521195365034,-0.684704166150316,-2.326517577175694,0.004961157236635512,-0.7018825524478743,-0.7407491647289562,-0.7191210994170975,-0.9772919152984749,-0.30756191972316915,-1.8234225171249907,0.3101977031305282,0.1881068925350721,-0.4482297721251149,-0.5622980431393981,1.541465255724142,0.9213261541265201,0.8769460884701058,0.4450520331045591,-0.37581018273079164,-1.2196759240469361,-0.4198841545862449,-0.9971941914757909,-3.0363584923982363,-0.10871855029411716,0.6999101412980412,0.8625677640418702,-2.266728223091762,0.06574609108208804,-1.1428512206836945,-1.5140403565383014,0.20871849945854495,0.25597677902045446,0.6062616572240755,1.7790634891411108,0.04450808939889438,0.8233658178055882,-0.6253975175487747,-1.150887769149947,0.3386958645987173,-0.18279014888271924,0.06545423066742678,-0.9851210924595009,-0.22728489546670294],\"type\":\"scatter\"},{\"line\":{\"color\":\"rgba(50, 171, 96, 1.0)\",\"dash\":\"solid\",\"shape\":\"linear\",\"width\":1.3},\"mode\":\"lines\",\"name\":\"C\",\"text\":\"\",\"x\":[0,1,2,3,4,5,6,7,8,9,10,11,12,13,14,15,16,17,18,19,20,21,22,23,24,25,26,27,28,29,30,31,32,33,34,35,36,37,38,39,40,41,42,43,44,45,46,47,48,49,50,51,52,53,54,55,56,57,58,59,60,61,62,63,64,65,66,67,68,69,70,71,72,73,74,75,76,77,78,79,80,81,82,83,84,85,86,87,88,89,90,91,92,93,94,95,96,97,98,99],\"y\":[-1.1577737987756762,-0.20476595080494625,0.4785291568850827,-1.049734125039708,0.4300068110467301,1.097968763140523,-1.4833494711412478,1.7209499459661282,0.7788035564481742,1.517397294290723,0.2347246309441393,-0.7761895892157443,-2.054212294752564,0.38398809436835113,0.843160283997241,-1.039105133373964,-0.653103990267039,-0.8811868942054735,-1.2576629647434288,-1.7871724718463098,-1.4829165003834064,-0.2612305910895046,0.07960485447649558,-0.9129417380022947,0.40314647063579173,-1.0281978014509485,0.07407760046607764,1.4012430035024712,0.16905586387013996,-0.37896358478247877,1.4522024155909667,-0.8634725269983637,-0.866259811177869,0.739669512910617,1.2661250145471943,0.2404723312905949,-2.345009151983953,-0.6393692661828025,-0.8282095865689866,1.1495791124865098,0.5775963893324433,-0.19112191963172118,-0.12997132011387869,-0.4344321132064988,-0.2902928942428836,0.5891040575186413,2.1191378098914373,-0.9800028370543378,0.48286852194745195,1.1976878499910177,0.029652523881802166,-1.9742077413455394,-0.08376468314983695,-1.9216686832720937,1.2022418479585406,-0.5508535293759708,0.3450508859350295,-0.7773000032231051,0.8604839470691935,1.7707808072100537,-1.6961716564927511,0.26482781353737667,-0.46429884931418586,-0.28597015592476244,0.0816409511380148,0.8300613531825849,-0.5398743364301557,0.14191258088547384,-1.4657456730872889,0.20586309775465908,-1.8302693029027133,0.7251901655844724,-0.19119921799867812,1.9115866729271127,-0.13949806351718516,-1.5250194443222775,0.35046379178075016,-1.0169389130083448,-0.5391188103399921,-1.764140792644202,0.5383798960843764,0.1620277882257504,0.0825107687421268,-0.39151202480382136,-0.6339854169335964,1.45192400874128,-0.38521508922767606,-1.0446720598970058,0.4462581716253721,-0.9979837929134856,-0.5673137624814252,0.49199022917879587,1.0876917846859946,-1.5786288766796754,2.190087752823068,0.25234475052261124,0.8312505222465344,0.8766502386627013,2.9484800552978703,0.23606637522142704],\"type\":\"scatter\"},{\"line\":{\"color\":\"rgba(128, 0, 128, 1.0)\",\"dash\":\"solid\",\"shape\":\"linear\",\"width\":1.3},\"mode\":\"lines\",\"name\":\"D\",\"text\":\"\",\"x\":[0,1,2,3,4,5,6,7,8,9,10,11,12,13,14,15,16,17,18,19,20,21,22,23,24,25,26,27,28,29,30,31,32,33,34,35,36,37,38,39,40,41,42,43,44,45,46,47,48,49,50,51,52,53,54,55,56,57,58,59,60,61,62,63,64,65,66,67,68,69,70,71,72,73,74,75,76,77,78,79,80,81,82,83,84,85,86,87,88,89,90,91,92,93,94,95,96,97,98,99],\"y\":[0.28239145039917646,1.8363822521912083,0.26794720325871424,0.10208004567712484,-0.15177375816615735,0.01681072921394639,1.1374501311799545,0.03548719406323302,-0.3796591510612054,0.1675610640271451,-0.7712154256001914,0.8839414817560541,0.18093526944239666,-0.17273830439621007,1.3492286448622257,-1.742415898628937,-0.3735273368343053,-0.5819153365423312,1.0959618172528736,-0.9042902629750132,-0.6306754349886508,-0.07135926057754212,0.33860606644118335,-0.7374752184064594,-0.6499440525674023,-0.0782242453318375,0.5061336844050206,-1.4592386604250434,0.3003253143844615,-0.6380236583925735,1.2203680047139338,-0.3780707481766195,0.008533258921761985,0.026150226761191192,-0.5538168810718875,-1.7620567730065355,-0.5397618067906942,-0.7952717843039396,-0.7361298652706514,-0.3052539776912539,0.36382380571077594,-0.21755249388116144,0.06000553035783175,2.2585117505323646,-1.850780490906206,0.21255731218839877,-0.821348188403252,0.4456412796320036,0.15741499552532798,1.5714750123303496,0.3187533108895991,-0.9678880186190438,-1.2958680248570562,0.5134275820754821,1.220822871455858,-0.9727570930633096,0.7144927152472524,-0.228848938817637,0.4115779820200336,-0.2770670591676926,-0.04566156965625598,0.08704565960001388,-0.5707134553647448,1.2249943460921675,1.2644211448069649,-2.659926175928382,2.169443788320486,-1.2313551676093555,-0.5588062572050628,0.625375093036721,-0.06322056261275152,1.0195717268348636,-0.6497140823092098,-1.6468284607363297,-0.7831062358595463,-0.6874725325665811,0.3043726161100774,-1.8450020616128964,1.1385444264294615,0.7524557072696625,0.744359589043357,0.9164114408746197,-2.079241475090012,-0.07444411250046001,-0.04767363805807925,1.8167382068251494,-0.5233565342439602,-0.3208454676184389,-1.4641124824188727,-2.342535646954361,-2.4622685742111474,0.842315295153011,-1.087325408739789,1.1151311006189522,1.0656061121684293,0.8476413479708031,0.788462248794487,-0.9618119284976607,0.009020060177266946,-0.5938041451769931],\"type\":\"scatter\"},{\"connectgaps\":false,\"fill\":\"tozeroy\",\"line\":{\"color\":\"green\",\"dash\":\"solid\",\"shape\":\"linear\",\"width\":0.5},\"mode\":\"lines\",\"name\":\"Spread\",\"showlegend\":false,\"x\":[0,1,2,3,4,5,6,7,8,9,10,11,12,13,14,15,16,17,18,19,20,21,22,23,24,25,26,27,28,29,30,31,32,33,34,35,36,37,38,39,40,41,42,43,44,45,46,47,48,49,50,51,52,53,54,55,56,57,58,59,60,61,62,63,64,65,66,67,68,69,70,71,72,73,74,75,76,77,78,79,80,81,82,83,84,85,86,87,88,89,90,91,92,93,94,95,96,97,98,99],\"xaxis\":\"x2\",\"y\":[\"\",1.7707644442972839,1.2423180383051635,\"\",0.061751987490351934,1.126164136541696,1.2640989722960267,\"\",0.06485826726492172,1.6878426235422093,\"\",1.6190981201510763,0.8443905288986819,\"\",0.3154852974175992,1.9613585239713949,\"\",1.2222859986090848,\"\",\"\",\"\",\"\",0.24865472041434672,\"\",0.31278159201210864,0.7488681233032576,\"\",0.6973860519342754,\"\",\"\",0.01966094917148342,\"\",0.06322692084855508,\"\",0.9619550700185946,2.177706839875547,\"\",1.5820672352507845,\"\",1.3119367603054275,2.157491552727315,1.9760790456423785,0.14864411216039797,\"\",0.5112362993998535,2.202896119432156,1.0627115235594087,\"\",1.7165417171553323,0.11245259978367765,\"\",2.023397982285944,0.31584774250457964,\"\",\"\",0.6077116833095226,\"\",\"\",\"\",2.015423864575589,0.12109014554236644,1.3394496384696506,0.5326709389481172,1.0341591754038753,3.0407823694731615,\"\",0.7526966472580701,\"\",0.6753166617982758,0.6897322464636354,2.0648943524459202,\"\",0.2852763349713163,1.534675570712562,\"\",1.5309386524277984,0.3534093073781732,2.0196722095126827,3.3219430102460406,3.0050041875364086,\"\",\"\",\"\",1.8502787816364668,\"\",1.444165475474821,3.1799576552999813,\"\",\"\",1.7143195404228941,\"\",2.4904330849715963,\"\",0.5518564115202295,1.982255664266566,\"\",\"\",\"\",0.7630134848368901,\"\"],\"yaxis\":\"y2\",\"type\":\"scatter\"},{\"connectgaps\":false,\"fill\":\"tozeroy\",\"line\":{\"color\":\"red\",\"dash\":\"solid\",\"shape\":\"linear\",\"width\":0.5},\"mode\":\"lines\",\"name\":\"Spread\",\"showlegend\":false,\"x\":[0,1,2,3,4,5,6,7,8,9,10,11,12,13,14,15,16,17,18,19,20,21,22,23,24,25,26,27,28,29,30,31,32,33,34,35,36,37,38,39,40,41,42,43,44,45,46,47,48,49,50,51,52,53,54,55,56,57,58,59,60,61,62,63,64,65,66,67,68,69,70,71,72,73,74,75,76,77,78,79,80,81,82,83,84,85,86,87,88,89,90,91,92,93,94,95,96,97,98,99],\"xaxis\":\"x2\",\"y\":[-1.8570384714126122,\"\",\"\",-2.1457164326858265,\"\",\"\",\"\",-1.929054436458952,\"\",\"\",-2.4461061560788404,\"\",\"\",-1.4717379526545267,\"\",\"\",-0.5521285938106261,\"\",-1.5676799606054022,-0.83542813784484,-0.9910092981559274,-1.4002090388379331,\"\",-0.5066988021403339,\"\",\"\",-1.3972730699988838,\"\",-1.5313446625647338,-3.0787809303597826,\"\",-1.1023066287905332,\"\",-0.6102719417811827,\"\",\"\",-2.9778588076476398,\"\",-1.3578906112945925,\"\",\"\",\"\",\"\",-1.3718467388503195,\"\",\"\",\"\",-1.310295119191526,\"\",\"\",-1.832929265896411,\"\",\"\",-0.3481063323102417,-0.3119947274936923,\"\",-3.948927777680381,-2.7690077732720857,-0.5599458970537329,\"\",\"\",\"\",\"\",\"\",\"\",-1.015983537459727,\"\",-0.1250113436851131,\"\",\"\",\"\",-3.8293217653697904,\"\",\"\",-0.26766340552580276,\"\",\"\",\"\",\"\",\"\",-0.8192365643208854,-0.5305806466330412,-0.39842687803206184,\"\",-0.9995663126917461,\"\",\"\",-2.0390900176317257,-1.0542588938484547,\"\",-1.297617607563451,\"\",-1.969053141355749,\"\",\"\",-1.0248606194142158,-0.9331076268712057,-2.5682486185364817,\"\",-1.0247648265691445],\"yaxis\":\"y2\",\"type\":\"scatter\"}],                        {\"hovermode\":\"x\",\"legend\":{\"bgcolor\":\"#F5F6F9\",\"font\":{\"color\":\"#4D5663\"}},\"paper_bgcolor\":\"#F5F6F9\",\"plot_bgcolor\":\"#F5F6F9\",\"template\":{\"data\":{\"barpolar\":[{\"marker\":{\"line\":{\"color\":\"#E5ECF6\",\"width\":0.5},\"pattern\":{\"fillmode\":\"overlay\",\"size\":10,\"solidity\":0.2}},\"type\":\"barpolar\"}],\"bar\":[{\"error_x\":{\"color\":\"#2a3f5f\"},\"error_y\":{\"color\":\"#2a3f5f\"},\"marker\":{\"line\":{\"color\":\"#E5ECF6\",\"width\":0.5},\"pattern\":{\"fillmode\":\"overlay\",\"size\":10,\"solidity\":0.2}},\"type\":\"bar\"}],\"carpet\":[{\"aaxis\":{\"endlinecolor\":\"#2a3f5f\",\"gridcolor\":\"white\",\"linecolor\":\"white\",\"minorgridcolor\":\"white\",\"startlinecolor\":\"#2a3f5f\"},\"baxis\":{\"endlinecolor\":\"#2a3f5f\",\"gridcolor\":\"white\",\"linecolor\":\"white\",\"minorgridcolor\":\"white\",\"startlinecolor\":\"#2a3f5f\"},\"type\":\"carpet\"}],\"choropleth\":[{\"colorbar\":{\"outlinewidth\":0,\"ticks\":\"\"},\"type\":\"choropleth\"}],\"contourcarpet\":[{\"colorbar\":{\"outlinewidth\":0,\"ticks\":\"\"},\"type\":\"contourcarpet\"}],\"contour\":[{\"colorbar\":{\"outlinewidth\":0,\"ticks\":\"\"},\"colorscale\":[[0.0,\"#0d0887\"],[0.1111111111111111,\"#46039f\"],[0.2222222222222222,\"#7201a8\"],[0.3333333333333333,\"#9c179e\"],[0.4444444444444444,\"#bd3786\"],[0.5555555555555556,\"#d8576b\"],[0.6666666666666666,\"#ed7953\"],[0.7777777777777778,\"#fb9f3a\"],[0.8888888888888888,\"#fdca26\"],[1.0,\"#f0f921\"]],\"type\":\"contour\"}],\"heatmapgl\":[{\"colorbar\":{\"outlinewidth\":0,\"ticks\":\"\"},\"colorscale\":[[0.0,\"#0d0887\"],[0.1111111111111111,\"#46039f\"],[0.2222222222222222,\"#7201a8\"],[0.3333333333333333,\"#9c179e\"],[0.4444444444444444,\"#bd3786\"],[0.5555555555555556,\"#d8576b\"],[0.6666666666666666,\"#ed7953\"],[0.7777777777777778,\"#fb9f3a\"],[0.8888888888888888,\"#fdca26\"],[1.0,\"#f0f921\"]],\"type\":\"heatmapgl\"}],\"heatmap\":[{\"colorbar\":{\"outlinewidth\":0,\"ticks\":\"\"},\"colorscale\":[[0.0,\"#0d0887\"],[0.1111111111111111,\"#46039f\"],[0.2222222222222222,\"#7201a8\"],[0.3333333333333333,\"#9c179e\"],[0.4444444444444444,\"#bd3786\"],[0.5555555555555556,\"#d8576b\"],[0.6666666666666666,\"#ed7953\"],[0.7777777777777778,\"#fb9f3a\"],[0.8888888888888888,\"#fdca26\"],[1.0,\"#f0f921\"]],\"type\":\"heatmap\"}],\"histogram2dcontour\":[{\"colorbar\":{\"outlinewidth\":0,\"ticks\":\"\"},\"colorscale\":[[0.0,\"#0d0887\"],[0.1111111111111111,\"#46039f\"],[0.2222222222222222,\"#7201a8\"],[0.3333333333333333,\"#9c179e\"],[0.4444444444444444,\"#bd3786\"],[0.5555555555555556,\"#d8576b\"],[0.6666666666666666,\"#ed7953\"],[0.7777777777777778,\"#fb9f3a\"],[0.8888888888888888,\"#fdca26\"],[1.0,\"#f0f921\"]],\"type\":\"histogram2dcontour\"}],\"histogram2d\":[{\"colorbar\":{\"outlinewidth\":0,\"ticks\":\"\"},\"colorscale\":[[0.0,\"#0d0887\"],[0.1111111111111111,\"#46039f\"],[0.2222222222222222,\"#7201a8\"],[0.3333333333333333,\"#9c179e\"],[0.4444444444444444,\"#bd3786\"],[0.5555555555555556,\"#d8576b\"],[0.6666666666666666,\"#ed7953\"],[0.7777777777777778,\"#fb9f3a\"],[0.8888888888888888,\"#fdca26\"],[1.0,\"#f0f921\"]],\"type\":\"histogram2d\"}],\"histogram\":[{\"marker\":{\"pattern\":{\"fillmode\":\"overlay\",\"size\":10,\"solidity\":0.2}},\"type\":\"histogram\"}],\"mesh3d\":[{\"colorbar\":{\"outlinewidth\":0,\"ticks\":\"\"},\"type\":\"mesh3d\"}],\"parcoords\":[{\"line\":{\"colorbar\":{\"outlinewidth\":0,\"ticks\":\"\"}},\"type\":\"parcoords\"}],\"pie\":[{\"automargin\":true,\"type\":\"pie\"}],\"scatter3d\":[{\"line\":{\"colorbar\":{\"outlinewidth\":0,\"ticks\":\"\"}},\"marker\":{\"colorbar\":{\"outlinewidth\":0,\"ticks\":\"\"}},\"type\":\"scatter3d\"}],\"scattercarpet\":[{\"marker\":{\"colorbar\":{\"outlinewidth\":0,\"ticks\":\"\"}},\"type\":\"scattercarpet\"}],\"scattergeo\":[{\"marker\":{\"colorbar\":{\"outlinewidth\":0,\"ticks\":\"\"}},\"type\":\"scattergeo\"}],\"scattergl\":[{\"marker\":{\"colorbar\":{\"outlinewidth\":0,\"ticks\":\"\"}},\"type\":\"scattergl\"}],\"scattermapbox\":[{\"marker\":{\"colorbar\":{\"outlinewidth\":0,\"ticks\":\"\"}},\"type\":\"scattermapbox\"}],\"scatterpolargl\":[{\"marker\":{\"colorbar\":{\"outlinewidth\":0,\"ticks\":\"\"}},\"type\":\"scatterpolargl\"}],\"scatterpolar\":[{\"marker\":{\"colorbar\":{\"outlinewidth\":0,\"ticks\":\"\"}},\"type\":\"scatterpolar\"}],\"scatter\":[{\"marker\":{\"colorbar\":{\"outlinewidth\":0,\"ticks\":\"\"}},\"type\":\"scatter\"}],\"scatterternary\":[{\"marker\":{\"colorbar\":{\"outlinewidth\":0,\"ticks\":\"\"}},\"type\":\"scatterternary\"}],\"surface\":[{\"colorbar\":{\"outlinewidth\":0,\"ticks\":\"\"},\"colorscale\":[[0.0,\"#0d0887\"],[0.1111111111111111,\"#46039f\"],[0.2222222222222222,\"#7201a8\"],[0.3333333333333333,\"#9c179e\"],[0.4444444444444444,\"#bd3786\"],[0.5555555555555556,\"#d8576b\"],[0.6666666666666666,\"#ed7953\"],[0.7777777777777778,\"#fb9f3a\"],[0.8888888888888888,\"#fdca26\"],[1.0,\"#f0f921\"]],\"type\":\"surface\"}],\"table\":[{\"cells\":{\"fill\":{\"color\":\"#EBF0F8\"},\"line\":{\"color\":\"white\"}},\"header\":{\"fill\":{\"color\":\"#C8D4E3\"},\"line\":{\"color\":\"white\"}},\"type\":\"table\"}]},\"layout\":{\"annotationdefaults\":{\"arrowcolor\":\"#2a3f5f\",\"arrowhead\":0,\"arrowwidth\":1},\"autotypenumbers\":\"strict\",\"coloraxis\":{\"colorbar\":{\"outlinewidth\":0,\"ticks\":\"\"}},\"colorscale\":{\"diverging\":[[0,\"#8e0152\"],[0.1,\"#c51b7d\"],[0.2,\"#de77ae\"],[0.3,\"#f1b6da\"],[0.4,\"#fde0ef\"],[0.5,\"#f7f7f7\"],[0.6,\"#e6f5d0\"],[0.7,\"#b8e186\"],[0.8,\"#7fbc41\"],[0.9,\"#4d9221\"],[1,\"#276419\"]],\"sequential\":[[0.0,\"#0d0887\"],[0.1111111111111111,\"#46039f\"],[0.2222222222222222,\"#7201a8\"],[0.3333333333333333,\"#9c179e\"],[0.4444444444444444,\"#bd3786\"],[0.5555555555555556,\"#d8576b\"],[0.6666666666666666,\"#ed7953\"],[0.7777777777777778,\"#fb9f3a\"],[0.8888888888888888,\"#fdca26\"],[1.0,\"#f0f921\"]],\"sequentialminus\":[[0.0,\"#0d0887\"],[0.1111111111111111,\"#46039f\"],[0.2222222222222222,\"#7201a8\"],[0.3333333333333333,\"#9c179e\"],[0.4444444444444444,\"#bd3786\"],[0.5555555555555556,\"#d8576b\"],[0.6666666666666666,\"#ed7953\"],[0.7777777777777778,\"#fb9f3a\"],[0.8888888888888888,\"#fdca26\"],[1.0,\"#f0f921\"]]},\"colorway\":[\"#636efa\",\"#EF553B\",\"#00cc96\",\"#ab63fa\",\"#FFA15A\",\"#19d3f3\",\"#FF6692\",\"#B6E880\",\"#FF97FF\",\"#FECB52\"],\"font\":{\"color\":\"#2a3f5f\"},\"geo\":{\"bgcolor\":\"white\",\"lakecolor\":\"white\",\"landcolor\":\"#E5ECF6\",\"showlakes\":true,\"showland\":true,\"subunitcolor\":\"white\"},\"hoverlabel\":{\"align\":\"left\"},\"hovermode\":\"closest\",\"mapbox\":{\"style\":\"light\"},\"paper_bgcolor\":\"white\",\"plot_bgcolor\":\"#E5ECF6\",\"polar\":{\"angularaxis\":{\"gridcolor\":\"white\",\"linecolor\":\"white\",\"ticks\":\"\"},\"bgcolor\":\"#E5ECF6\",\"radialaxis\":{\"gridcolor\":\"white\",\"linecolor\":\"white\",\"ticks\":\"\"}},\"scene\":{\"xaxis\":{\"backgroundcolor\":\"#E5ECF6\",\"gridcolor\":\"white\",\"gridwidth\":2,\"linecolor\":\"white\",\"showbackground\":true,\"ticks\":\"\",\"zerolinecolor\":\"white\"},\"yaxis\":{\"backgroundcolor\":\"#E5ECF6\",\"gridcolor\":\"white\",\"gridwidth\":2,\"linecolor\":\"white\",\"showbackground\":true,\"ticks\":\"\",\"zerolinecolor\":\"white\"},\"zaxis\":{\"backgroundcolor\":\"#E5ECF6\",\"gridcolor\":\"white\",\"gridwidth\":2,\"linecolor\":\"white\",\"showbackground\":true,\"ticks\":\"\",\"zerolinecolor\":\"white\"}},\"shapedefaults\":{\"line\":{\"color\":\"#2a3f5f\"}},\"ternary\":{\"aaxis\":{\"gridcolor\":\"white\",\"linecolor\":\"white\",\"ticks\":\"\"},\"baxis\":{\"gridcolor\":\"white\",\"linecolor\":\"white\",\"ticks\":\"\"},\"bgcolor\":\"#E5ECF6\",\"caxis\":{\"gridcolor\":\"white\",\"linecolor\":\"white\",\"ticks\":\"\"}},\"title\":{\"x\":0.05},\"xaxis\":{\"automargin\":true,\"gridcolor\":\"white\",\"linecolor\":\"white\",\"ticks\":\"\",\"title\":{\"standoff\":15},\"zerolinecolor\":\"white\",\"zerolinewidth\":2},\"yaxis\":{\"automargin\":true,\"gridcolor\":\"white\",\"linecolor\":\"white\",\"ticks\":\"\",\"title\":{\"standoff\":15},\"zerolinecolor\":\"white\",\"zerolinewidth\":2}}},\"title\":{\"font\":{\"color\":\"#4D5663\"}},\"xaxis\":{\"gridcolor\":\"#E1E5ED\",\"showgrid\":true,\"tickfont\":{\"color\":\"#4D5663\"},\"title\":{\"font\":{\"color\":\"#4D5663\"},\"text\":\"\"},\"zerolinecolor\":\"#E1E5ED\"},\"yaxis\":{\"domain\":[0.3,1],\"gridcolor\":\"#E1E5ED\",\"showgrid\":true,\"tickfont\":{\"color\":\"#4D5663\"},\"title\":{\"font\":{\"color\":\"#4D5663\"},\"text\":\"\"},\"zerolinecolor\":\"#E1E5ED\"},\"yaxis2\":{\"domain\":[0,0.25],\"gridcolor\":\"#E1E5ED\",\"showgrid\":true,\"tickfont\":{\"color\":\"#4D5663\"},\"title\":{\"font\":{\"color\":\"#4D5663\"},\"text\":\"Spread\"},\"zerolinecolor\":\"#E1E5ED\"},\"xaxis2\":{\"anchor\":\"y2\",\"gridcolor\":\"#E1E5ED\",\"showgrid\":true,\"showticklabels\":false,\"tickfont\":{\"color\":\"#4D5663\"},\"title\":{\"font\":{\"color\":\"#4D5663\"},\"text\":\"\"},\"zerolinecolor\":\"#E1E5ED\"}},                        {\"showLink\": true, \"linkText\": \"Export to plot.ly\", \"plotlyServerURL\": \"https://plot.ly\", \"responsive\": true}                    ).then(function(){\n",
              "                            \n",
              "var gd = document.getElementById('93b224cc-5ea1-40f3-8cf6-079b4eec248e');\n",
              "var x = new MutationObserver(function (mutations, observer) {{\n",
              "        var display = window.getComputedStyle(gd).display;\n",
              "        if (!display || display === 'none') {{\n",
              "            console.log([gd, 'removed!']);\n",
              "            Plotly.purge(gd);\n",
              "            observer.disconnect();\n",
              "        }}\n",
              "}});\n",
              "\n",
              "// Listen for the removal of the full notebook cells\n",
              "var notebookContainer = gd.closest('#notebook-container');\n",
              "if (notebookContainer) {{\n",
              "    x.observe(notebookContainer, {childList: true});\n",
              "}}\n",
              "\n",
              "// Listen for the clearing of the current output cell\n",
              "var outputEl = gd.closest('.output');\n",
              "if (outputEl) {{\n",
              "    x.observe(outputEl, {childList: true});\n",
              "}}\n",
              "\n",
              "                        })                };                            </script>        </div>\n",
              "</body>\n",
              "</html>"
            ]
          },
          "metadata": {}
        }
      ]
    },
    {
      "cell_type": "code",
      "source": [
        "df[['A','D','C','B']].iplot(kind='spread')"
      ],
      "metadata": {
        "id": "E_QBA5ph1GBf",
        "colab": {
          "base_uri": "https://localhost:8080/",
          "height": 542
        },
        "outputId": "3e9d9270-b65b-4737-b4f3-d80e4ba1ce0b"
      },
      "execution_count": null,
      "outputs": [
        {
          "output_type": "display_data",
          "data": {
            "text/html": [
              "<html>\n",
              "<head><meta charset=\"utf-8\" /></head>\n",
              "<body>\n",
              "    <div>            <script src=\"https://cdnjs.cloudflare.com/ajax/libs/mathjax/2.7.5/MathJax.js?config=TeX-AMS-MML_SVG\"></script><script type=\"text/javascript\">if (window.MathJax) {MathJax.Hub.Config({SVG: {font: \"STIX-Web\"}});}</script>                <script type=\"text/javascript\">window.PlotlyConfig = {MathJaxConfig: 'local'};</script>\n",
              "        <script src=\"https://cdn.plot.ly/plotly-2.8.3.min.js\"></script>                <div id=\"1b9f4fef-12d3-4c0b-beaf-aeecf909e852\" class=\"plotly-graph-div\" style=\"height:525px; width:100%;\"></div>            <script type=\"text/javascript\">                                    window.PLOTLYENV=window.PLOTLYENV || {};\n",
              "                    window.PLOTLYENV.BASE_URL='https://plot.ly';                                    if (document.getElementById(\"1b9f4fef-12d3-4c0b-beaf-aeecf909e852\")) {                    Plotly.newPlot(                        \"1b9f4fef-12d3-4c0b-beaf-aeecf909e852\",                        [{\"line\":{\"color\":\"rgba(255, 153, 51, 1.0)\",\"dash\":\"solid\",\"shape\":\"linear\",\"width\":1.3},\"mode\":\"lines\",\"name\":\"A\",\"text\":\"\",\"x\":[0,1,2,3,4,5,6,7,8,9,10,11,12,13,14,15,16,17,18,19,20,21,22,23,24,25,26,27,28,29,30,31,32,33,34,35,36,37,38,39,40,41,42,43,44,45,46,47,48,49,50,51,52,53,54,55,56,57,58,59,60,61,62,63,64,65,66,67,68,69,70,71,72,73,74,75,76,77,78,79,80,81,82,83,84,85,86,87,88,89,90,91,92,93,94,95,96,97,98,99],\"y\":[0.15991766187357428,1.336472110488845,0.8087554615730191,0.031402204039810463,0.8713020449035054,-0.18301367589422302,0.2959982485702422,-0.6440423791992994,0.7195149636929072,2.117095783953832,-0.8861256853914704,-0.06883514519329981,0.05725830989514137,-1.5377659212125694,0.48135399584660393,0.178847943069043,0.7380656218836031,0.4986764901107574,0.15672813399413907,-0.38782096675302,-0.451502206533528,-0.2659064722708647,-0.4608990078051319,-0.8033154515498455,0.3138311621097309,-0.045844237771712884,-1.556194098903122,0.8653230717656981,-0.2051436145410211,-0.9435601487749822,0.6435578559899167,0.010746036139253729,0.9816546219518957,-0.7883760109979703,-0.4219866760514121,1.5103393223025015,-1.186530618454949,0.738364576058676,-0.9313352166354086,1.0989320382376717,0.9358976879967568,2.053460467240248,0.9355663920921059,0.1062269206415052,0.12419121758653327,0.4327896539954133,-0.0650547492445288,-1.4207367664943125,0.9275744459638233,0.0704916510444277,-1.7701057106976477,1.4151891723447745,-0.37427935543614516,-1.1177543449582599,-1.640180532656671,-0.4881493982367995,-1.1161729936527205,-1.2899556537355825,-1.244650063204049,-0.3110937126001046,0.12605130277900195,0.6375670860217763,-0.20807822578083898,0.3150380759867778,2.0634904541746866,-1.3235454571828962,-1.0707258698669206,0.1851863594454151,0.8634235543333478,0.24150247433852054,1.5025963093065222,-2.2878565096456485,1.2066024890978364,2.411621659182668,0.17738862757875634,1.1551284696970068,-0.8662666166687629,1.5997880549264378,2.3247488187702494,-0.0313543048618275,-0.9279551146150026,0.16932949466500008,0.46414088600980835,-0.41644944145529533,-0.933820221609658,0.3013142547911265,1.66591729876168,-1.8303715181731808,-0.7982821148280002,2.3205811976469697,0.4814458815776598,2.534941174370491,-1.1456873235501608,-0.07354110602854524,0.8313678951166191,-0.6861647548154984,-1.115897775753925,-2.502794387869055,-0.22210760762261078,-1.2520497220358475],\"type\":\"scatter\"},{\"line\":{\"color\":\"rgba(55, 128, 191, 1.0)\",\"dash\":\"solid\",\"shape\":\"linear\",\"width\":1.3},\"mode\":\"lines\",\"name\":\"D\",\"text\":\"\",\"x\":[0,1,2,3,4,5,6,7,8,9,10,11,12,13,14,15,16,17,18,19,20,21,22,23,24,25,26,27,28,29,30,31,32,33,34,35,36,37,38,39,40,41,42,43,44,45,46,47,48,49,50,51,52,53,54,55,56,57,58,59,60,61,62,63,64,65,66,67,68,69,70,71,72,73,74,75,76,77,78,79,80,81,82,83,84,85,86,87,88,89,90,91,92,93,94,95,96,97,98,99],\"y\":[0.28239145039917646,1.8363822521912083,0.26794720325871424,0.10208004567712484,-0.15177375816615735,0.01681072921394639,1.1374501311799545,0.03548719406323302,-0.3796591510612054,0.1675610640271451,-0.7712154256001914,0.8839414817560541,0.18093526944239666,-0.17273830439621007,1.3492286448622257,-1.742415898628937,-0.3735273368343053,-0.5819153365423312,1.0959618172528736,-0.9042902629750132,-0.6306754349886508,-0.07135926057754212,0.33860606644118335,-0.7374752184064594,-0.6499440525674023,-0.0782242453318375,0.5061336844050206,-1.4592386604250434,0.3003253143844615,-0.6380236583925735,1.2203680047139338,-0.3780707481766195,0.008533258921761985,0.026150226761191192,-0.5538168810718875,-1.7620567730065355,-0.5397618067906942,-0.7952717843039396,-0.7361298652706514,-0.3052539776912539,0.36382380571077594,-0.21755249388116144,0.06000553035783175,2.2585117505323646,-1.850780490906206,0.21255731218839877,-0.821348188403252,0.4456412796320036,0.15741499552532798,1.5714750123303496,0.3187533108895991,-0.9678880186190438,-1.2958680248570562,0.5134275820754821,1.220822871455858,-0.9727570930633096,0.7144927152472524,-0.228848938817637,0.4115779820200336,-0.2770670591676926,-0.04566156965625598,0.08704565960001388,-0.5707134553647448,1.2249943460921675,1.2644211448069649,-2.659926175928382,2.169443788320486,-1.2313551676093555,-0.5588062572050628,0.625375093036721,-0.06322056261275152,1.0195717268348636,-0.6497140823092098,-1.6468284607363297,-0.7831062358595463,-0.6874725325665811,0.3043726161100774,-1.8450020616128964,1.1385444264294615,0.7524557072696625,0.744359589043357,0.9164114408746197,-2.079241475090012,-0.07444411250046001,-0.04767363805807925,1.8167382068251494,-0.5233565342439602,-0.3208454676184389,-1.4641124824188727,-2.342535646954361,-2.4622685742111474,0.842315295153011,-1.087325408739789,1.1151311006189522,1.0656061121684293,0.8476413479708031,0.788462248794487,-0.9618119284976607,0.009020060177266946,-0.5938041451769931],\"type\":\"scatter\"},{\"line\":{\"color\":\"rgba(50, 171, 96, 1.0)\",\"dash\":\"solid\",\"shape\":\"linear\",\"width\":1.3},\"mode\":\"lines\",\"name\":\"C\",\"text\":\"\",\"x\":[0,1,2,3,4,5,6,7,8,9,10,11,12,13,14,15,16,17,18,19,20,21,22,23,24,25,26,27,28,29,30,31,32,33,34,35,36,37,38,39,40,41,42,43,44,45,46,47,48,49,50,51,52,53,54,55,56,57,58,59,60,61,62,63,64,65,66,67,68,69,70,71,72,73,74,75,76,77,78,79,80,81,82,83,84,85,86,87,88,89,90,91,92,93,94,95,96,97,98,99],\"y\":[-1.1577737987756762,-0.20476595080494625,0.4785291568850827,-1.049734125039708,0.4300068110467301,1.097968763140523,-1.4833494711412478,1.7209499459661282,0.7788035564481742,1.517397294290723,0.2347246309441393,-0.7761895892157443,-2.054212294752564,0.38398809436835113,0.843160283997241,-1.039105133373964,-0.653103990267039,-0.8811868942054735,-1.2576629647434288,-1.7871724718463098,-1.4829165003834064,-0.2612305910895046,0.07960485447649558,-0.9129417380022947,0.40314647063579173,-1.0281978014509485,0.07407760046607764,1.4012430035024712,0.16905586387013996,-0.37896358478247877,1.4522024155909667,-0.8634725269983637,-0.866259811177869,0.739669512910617,1.2661250145471943,0.2404723312905949,-2.345009151983953,-0.6393692661828025,-0.8282095865689866,1.1495791124865098,0.5775963893324433,-0.19112191963172118,-0.12997132011387869,-0.4344321132064988,-0.2902928942428836,0.5891040575186413,2.1191378098914373,-0.9800028370543378,0.48286852194745195,1.1976878499910177,0.029652523881802166,-1.9742077413455394,-0.08376468314983695,-1.9216686832720937,1.2022418479585406,-0.5508535293759708,0.3450508859350295,-0.7773000032231051,0.8604839470691935,1.7707808072100537,-1.6961716564927511,0.26482781353737667,-0.46429884931418586,-0.28597015592476244,0.0816409511380148,0.8300613531825849,-0.5398743364301557,0.14191258088547384,-1.4657456730872889,0.20586309775465908,-1.8302693029027133,0.7251901655844724,-0.19119921799867812,1.9115866729271127,-0.13949806351718516,-1.5250194443222775,0.35046379178075016,-1.0169389130083448,-0.5391188103399921,-1.764140792644202,0.5383798960843764,0.1620277882257504,0.0825107687421268,-0.39151202480382136,-0.6339854169335964,1.45192400874128,-0.38521508922767606,-1.0446720598970058,0.4462581716253721,-0.9979837929134856,-0.5673137624814252,0.49199022917879587,1.0876917846859946,-1.5786288766796754,2.190087752823068,0.25234475052261124,0.8312505222465344,0.8766502386627013,2.9484800552978703,0.23606637522142704],\"type\":\"scatter\"},{\"line\":{\"color\":\"rgba(128, 0, 128, 1.0)\",\"dash\":\"solid\",\"shape\":\"linear\",\"width\":1.3},\"mode\":\"lines\",\"name\":\"B\",\"text\":\"\",\"x\":[0,1,2,3,4,5,6,7,8,9,10,11,12,13,14,15,16,17,18,19,20,21,22,23,24,25,26,27,28,29,30,31,32,33,34,35,36,37,38,39,40,41,42,43,44,45,46,47,48,49,50,51,52,53,54,55,56,57,58,59,60,61,62,63,64,65,66,67,68,69,70,71,72,73,74,75,76,77,78,79,80,81,82,83,84,85,86,87,88,89,90,91,92,93,94,95,96,97,98,99],\"y\":[2.0169561332861865,-0.43429233380843885,-0.43356257673214427,2.1771186367256368,0.8095500574131534,-1.3091778124359188,-0.9681007237257846,1.2850120572596524,0.6546566964279855,0.4292531604116228,1.55998047068737,-1.6879332653443762,-0.7871322190035406,-0.06602796855804274,0.16586869842900476,-1.7825105809023518,1.2901942156942292,-0.7236095084983274,1.7244080945995413,0.44760717109182,0.5395070916223994,1.1343025665670685,-0.7095537282194786,-0.2966166494095116,0.0010495700976222509,-0.7947123610749705,-0.1589210289042382,0.16793701983142267,1.3262010480237127,2.1352207815848003,0.6238969068184332,1.113052664929787,0.9184277011033406,-0.17810406921678754,-1.3839417460700068,-0.6673675175730456,1.7913281891926909,-0.8437026591921084,0.4265553946591838,-0.21300472206775586,-1.221593864730558,0.07738142159786968,0.7869222799317079,1.4780736594918247,-0.3870450818133202,-1.7701064654367429,-1.1277662728039375,-0.11044164730278658,-0.788967271191509,-0.04196094873924995,0.06282355519876329,-0.6082088099411694,-0.6901270979407248,-0.7696480126480182,-1.3281858051629787,-1.0958610815463221,2.8327547840276606,1.4790521195365034,-0.684704166150316,-2.326517577175694,0.004961157236635512,-0.7018825524478743,-0.7407491647289562,-0.7191210994170975,-0.9772919152984749,-0.30756191972316915,-1.8234225171249907,0.3101977031305282,0.1881068925350721,-0.4482297721251149,-0.5622980431393981,1.541465255724142,0.9213261541265201,0.8769460884701058,0.4450520331045591,-0.37581018273079164,-1.2196759240469361,-0.4198841545862449,-0.9971941914757909,-3.0363584923982363,-0.10871855029411716,0.6999101412980412,0.8625677640418702,-2.266728223091762,0.06574609108208804,-1.1428512206836945,-1.5140403565383014,0.20871849945854495,0.25597677902045446,0.6062616572240755,1.7790634891411108,0.04450808939889438,0.8233658178055882,-0.6253975175487747,-1.150887769149947,0.3386958645987173,-0.18279014888271924,0.06545423066742678,-0.9851210924595009,-0.22728489546670294],\"type\":\"scatter\"},{\"connectgaps\":false,\"fill\":\"tozeroy\",\"line\":{\"color\":\"green\",\"dash\":\"solid\",\"shape\":\"linear\",\"width\":0.5},\"mode\":\"lines\",\"name\":\"Spread\",\"showlegend\":false,\"x\":[0,1,2,3,4,5,6,7,8,9,10,11,12,13,14,15,16,17,18,19,20,21,22,23,24,25,26,27,28,29,30,31,32,33,34,35,36,37,38,39,40,41,42,43,44,45,46,47,48,49,50,51,52,53,54,55,56,57,58,59,60,61,62,63,64,65,66,67,68,69,70,71,72,73,74,75,76,77,78,79,80,81,82,83,84,85,86,87,88,89,90,91,92,93,94,95,96,97,98,99],\"xaxis\":\"x2\",\"y\":[\"\",\"\",0.5408082583143049,\"\",1.0230758030696627,\"\",\"\",\"\",1.0991741147541125,1.949534719926687,\"\",\"\",\"\",\"\",\"\",1.9212638416979801,1.1115929587179085,1.0805918266530885,\"\",0.5164692962219932,0.17917322845512273,\"\",\"\",\"\",0.9637752146771332,0.032380007560124616,\"\",2.3245617321907415,\"\",\"\",\"\",0.38881678431587324,0.9731213630301337,\"\",0.13183020502047543,3.2723960953090367,\"\",1.5336363603626157,\"\",1.4041860159289257,0.5720738822859808,2.2710129611214094,0.8755608617342742,\"\",1.9749717084927392,0.22023234180701454,0.7562934391587232,\"\",0.7701594504384953,\"\",\"\",2.383077190963818,0.921588669420911,\"\",\"\",0.4846076948265101,\"\",\"\",\"\",\"\",0.17171287243525793,0.5505214264217624,0.3626352295839058,\"\",0.7990693093677217,1.336380718745486,\"\",1.4165415270547705,1.4222298115384107,\"\",1.5658168719192738,\"\",1.8563165714070462,4.058450119918998,0.9604948634383026,1.842601002263588,\"\",3.444790116539334,1.186204392340788,\"\",\"\",\"\",2.54338236109982,\"\",\"\",\"\",2.18927383300564,\"\",0.6658303675908726,4.663116844601331,2.943714455788807,1.6926258792174798,\"\",\"\",\"\",\"\",\"\",\"\",\"\",\"\"],\"yaxis\":\"y2\",\"type\":\"scatter\"},{\"connectgaps\":false,\"fill\":\"tozeroy\",\"line\":{\"color\":\"red\",\"dash\":\"solid\",\"shape\":\"linear\",\"width\":0.5},\"mode\":\"lines\",\"name\":\"Spread\",\"showlegend\":false,\"x\":[0,1,2,3,4,5,6,7,8,9,10,11,12,13,14,15,16,17,18,19,20,21,22,23,24,25,26,27,28,29,30,31,32,33,34,35,36,37,38,39,40,41,42,43,44,45,46,47,48,49,50,51,52,53,54,55,56,57,58,59,60,61,62,63,64,65,66,67,68,69,70,71,72,73,74,75,76,77,78,79,80,81,82,83,84,85,86,87,88,89,90,91,92,93,94,95,96,97,98,99],\"xaxis\":\"x2\",\"y\":[-0.12247378852560217,-0.49991014170236325,\"\",-0.07067784163731437,\"\",-0.1998244051081694,-0.8414518826097124,-0.6795295732625324,\"\",\"\",-0.114910259791279,-0.9527766269493539,-0.12367695954725529,-1.3650276168163593,-0.8678746490156217,\"\",\"\",\"\",-0.9392336832587345,\"\",\"\",-0.19454721169332262,-0.7995050742463152,-0.06584023314338616,\"\",\"\",-2.0623277833081426,\"\",-0.5054689289254826,-0.3055364903824087,-0.5768101487240171,\"\",\"\",-0.8145262377591614,\"\",\"\",-0.6467688116642547,\"\",-0.19520535136475725,\"\",\"\",\"\",\"\",-2.1522848298908595,\"\",\"\",\"\",-1.8663780461263162,\"\",-1.5009833612859218,-2.088859021587247,\"\",\"\",-1.631181927033742,-2.861003404112529,\"\",-1.830665708899973,-1.0611067149179456,-1.6562280452240825,-0.03402665343241201,\"\",\"\",\"\",-0.9099562701053897,\"\",\"\",-3.2401696581874067,\"\",\"\",-0.38387261869820044,\"\",-3.3074282364805123,\"\",\"\",\"\",\"\",-1.1706392327788402,\"\",\"\",-0.7838100121314899,-1.6723147036583597,-0.7470819462096197,\"\",-0.3420053289548353,-0.8861465835515788,-1.515423952034023,\"\",-1.5095260505547419,\"\",\"\",\"\",\"\",-0.058361914810371784,-1.1886722066474973,-0.23423821705181014,-1.5338061027863015,-1.904360024548412,-1.540982459371394,-0.23112766779987773,-0.6582455768588544],\"yaxis\":\"y2\",\"type\":\"scatter\"}],                        {\"hovermode\":\"x\",\"legend\":{\"bgcolor\":\"#F5F6F9\",\"font\":{\"color\":\"#4D5663\"}},\"paper_bgcolor\":\"#F5F6F9\",\"plot_bgcolor\":\"#F5F6F9\",\"template\":{\"data\":{\"barpolar\":[{\"marker\":{\"line\":{\"color\":\"#E5ECF6\",\"width\":0.5},\"pattern\":{\"fillmode\":\"overlay\",\"size\":10,\"solidity\":0.2}},\"type\":\"barpolar\"}],\"bar\":[{\"error_x\":{\"color\":\"#2a3f5f\"},\"error_y\":{\"color\":\"#2a3f5f\"},\"marker\":{\"line\":{\"color\":\"#E5ECF6\",\"width\":0.5},\"pattern\":{\"fillmode\":\"overlay\",\"size\":10,\"solidity\":0.2}},\"type\":\"bar\"}],\"carpet\":[{\"aaxis\":{\"endlinecolor\":\"#2a3f5f\",\"gridcolor\":\"white\",\"linecolor\":\"white\",\"minorgridcolor\":\"white\",\"startlinecolor\":\"#2a3f5f\"},\"baxis\":{\"endlinecolor\":\"#2a3f5f\",\"gridcolor\":\"white\",\"linecolor\":\"white\",\"minorgridcolor\":\"white\",\"startlinecolor\":\"#2a3f5f\"},\"type\":\"carpet\"}],\"choropleth\":[{\"colorbar\":{\"outlinewidth\":0,\"ticks\":\"\"},\"type\":\"choropleth\"}],\"contourcarpet\":[{\"colorbar\":{\"outlinewidth\":0,\"ticks\":\"\"},\"type\":\"contourcarpet\"}],\"contour\":[{\"colorbar\":{\"outlinewidth\":0,\"ticks\":\"\"},\"colorscale\":[[0.0,\"#0d0887\"],[0.1111111111111111,\"#46039f\"],[0.2222222222222222,\"#7201a8\"],[0.3333333333333333,\"#9c179e\"],[0.4444444444444444,\"#bd3786\"],[0.5555555555555556,\"#d8576b\"],[0.6666666666666666,\"#ed7953\"],[0.7777777777777778,\"#fb9f3a\"],[0.8888888888888888,\"#fdca26\"],[1.0,\"#f0f921\"]],\"type\":\"contour\"}],\"heatmapgl\":[{\"colorbar\":{\"outlinewidth\":0,\"ticks\":\"\"},\"colorscale\":[[0.0,\"#0d0887\"],[0.1111111111111111,\"#46039f\"],[0.2222222222222222,\"#7201a8\"],[0.3333333333333333,\"#9c179e\"],[0.4444444444444444,\"#bd3786\"],[0.5555555555555556,\"#d8576b\"],[0.6666666666666666,\"#ed7953\"],[0.7777777777777778,\"#fb9f3a\"],[0.8888888888888888,\"#fdca26\"],[1.0,\"#f0f921\"]],\"type\":\"heatmapgl\"}],\"heatmap\":[{\"colorbar\":{\"outlinewidth\":0,\"ticks\":\"\"},\"colorscale\":[[0.0,\"#0d0887\"],[0.1111111111111111,\"#46039f\"],[0.2222222222222222,\"#7201a8\"],[0.3333333333333333,\"#9c179e\"],[0.4444444444444444,\"#bd3786\"],[0.5555555555555556,\"#d8576b\"],[0.6666666666666666,\"#ed7953\"],[0.7777777777777778,\"#fb9f3a\"],[0.8888888888888888,\"#fdca26\"],[1.0,\"#f0f921\"]],\"type\":\"heatmap\"}],\"histogram2dcontour\":[{\"colorbar\":{\"outlinewidth\":0,\"ticks\":\"\"},\"colorscale\":[[0.0,\"#0d0887\"],[0.1111111111111111,\"#46039f\"],[0.2222222222222222,\"#7201a8\"],[0.3333333333333333,\"#9c179e\"],[0.4444444444444444,\"#bd3786\"],[0.5555555555555556,\"#d8576b\"],[0.6666666666666666,\"#ed7953\"],[0.7777777777777778,\"#fb9f3a\"],[0.8888888888888888,\"#fdca26\"],[1.0,\"#f0f921\"]],\"type\":\"histogram2dcontour\"}],\"histogram2d\":[{\"colorbar\":{\"outlinewidth\":0,\"ticks\":\"\"},\"colorscale\":[[0.0,\"#0d0887\"],[0.1111111111111111,\"#46039f\"],[0.2222222222222222,\"#7201a8\"],[0.3333333333333333,\"#9c179e\"],[0.4444444444444444,\"#bd3786\"],[0.5555555555555556,\"#d8576b\"],[0.6666666666666666,\"#ed7953\"],[0.7777777777777778,\"#fb9f3a\"],[0.8888888888888888,\"#fdca26\"],[1.0,\"#f0f921\"]],\"type\":\"histogram2d\"}],\"histogram\":[{\"marker\":{\"pattern\":{\"fillmode\":\"overlay\",\"size\":10,\"solidity\":0.2}},\"type\":\"histogram\"}],\"mesh3d\":[{\"colorbar\":{\"outlinewidth\":0,\"ticks\":\"\"},\"type\":\"mesh3d\"}],\"parcoords\":[{\"line\":{\"colorbar\":{\"outlinewidth\":0,\"ticks\":\"\"}},\"type\":\"parcoords\"}],\"pie\":[{\"automargin\":true,\"type\":\"pie\"}],\"scatter3d\":[{\"line\":{\"colorbar\":{\"outlinewidth\":0,\"ticks\":\"\"}},\"marker\":{\"colorbar\":{\"outlinewidth\":0,\"ticks\":\"\"}},\"type\":\"scatter3d\"}],\"scattercarpet\":[{\"marker\":{\"colorbar\":{\"outlinewidth\":0,\"ticks\":\"\"}},\"type\":\"scattercarpet\"}],\"scattergeo\":[{\"marker\":{\"colorbar\":{\"outlinewidth\":0,\"ticks\":\"\"}},\"type\":\"scattergeo\"}],\"scattergl\":[{\"marker\":{\"colorbar\":{\"outlinewidth\":0,\"ticks\":\"\"}},\"type\":\"scattergl\"}],\"scattermapbox\":[{\"marker\":{\"colorbar\":{\"outlinewidth\":0,\"ticks\":\"\"}},\"type\":\"scattermapbox\"}],\"scatterpolargl\":[{\"marker\":{\"colorbar\":{\"outlinewidth\":0,\"ticks\":\"\"}},\"type\":\"scatterpolargl\"}],\"scatterpolar\":[{\"marker\":{\"colorbar\":{\"outlinewidth\":0,\"ticks\":\"\"}},\"type\":\"scatterpolar\"}],\"scatter\":[{\"marker\":{\"colorbar\":{\"outlinewidth\":0,\"ticks\":\"\"}},\"type\":\"scatter\"}],\"scatterternary\":[{\"marker\":{\"colorbar\":{\"outlinewidth\":0,\"ticks\":\"\"}},\"type\":\"scatterternary\"}],\"surface\":[{\"colorbar\":{\"outlinewidth\":0,\"ticks\":\"\"},\"colorscale\":[[0.0,\"#0d0887\"],[0.1111111111111111,\"#46039f\"],[0.2222222222222222,\"#7201a8\"],[0.3333333333333333,\"#9c179e\"],[0.4444444444444444,\"#bd3786\"],[0.5555555555555556,\"#d8576b\"],[0.6666666666666666,\"#ed7953\"],[0.7777777777777778,\"#fb9f3a\"],[0.8888888888888888,\"#fdca26\"],[1.0,\"#f0f921\"]],\"type\":\"surface\"}],\"table\":[{\"cells\":{\"fill\":{\"color\":\"#EBF0F8\"},\"line\":{\"color\":\"white\"}},\"header\":{\"fill\":{\"color\":\"#C8D4E3\"},\"line\":{\"color\":\"white\"}},\"type\":\"table\"}]},\"layout\":{\"annotationdefaults\":{\"arrowcolor\":\"#2a3f5f\",\"arrowhead\":0,\"arrowwidth\":1},\"autotypenumbers\":\"strict\",\"coloraxis\":{\"colorbar\":{\"outlinewidth\":0,\"ticks\":\"\"}},\"colorscale\":{\"diverging\":[[0,\"#8e0152\"],[0.1,\"#c51b7d\"],[0.2,\"#de77ae\"],[0.3,\"#f1b6da\"],[0.4,\"#fde0ef\"],[0.5,\"#f7f7f7\"],[0.6,\"#e6f5d0\"],[0.7,\"#b8e186\"],[0.8,\"#7fbc41\"],[0.9,\"#4d9221\"],[1,\"#276419\"]],\"sequential\":[[0.0,\"#0d0887\"],[0.1111111111111111,\"#46039f\"],[0.2222222222222222,\"#7201a8\"],[0.3333333333333333,\"#9c179e\"],[0.4444444444444444,\"#bd3786\"],[0.5555555555555556,\"#d8576b\"],[0.6666666666666666,\"#ed7953\"],[0.7777777777777778,\"#fb9f3a\"],[0.8888888888888888,\"#fdca26\"],[1.0,\"#f0f921\"]],\"sequentialminus\":[[0.0,\"#0d0887\"],[0.1111111111111111,\"#46039f\"],[0.2222222222222222,\"#7201a8\"],[0.3333333333333333,\"#9c179e\"],[0.4444444444444444,\"#bd3786\"],[0.5555555555555556,\"#d8576b\"],[0.6666666666666666,\"#ed7953\"],[0.7777777777777778,\"#fb9f3a\"],[0.8888888888888888,\"#fdca26\"],[1.0,\"#f0f921\"]]},\"colorway\":[\"#636efa\",\"#EF553B\",\"#00cc96\",\"#ab63fa\",\"#FFA15A\",\"#19d3f3\",\"#FF6692\",\"#B6E880\",\"#FF97FF\",\"#FECB52\"],\"font\":{\"color\":\"#2a3f5f\"},\"geo\":{\"bgcolor\":\"white\",\"lakecolor\":\"white\",\"landcolor\":\"#E5ECF6\",\"showlakes\":true,\"showland\":true,\"subunitcolor\":\"white\"},\"hoverlabel\":{\"align\":\"left\"},\"hovermode\":\"closest\",\"mapbox\":{\"style\":\"light\"},\"paper_bgcolor\":\"white\",\"plot_bgcolor\":\"#E5ECF6\",\"polar\":{\"angularaxis\":{\"gridcolor\":\"white\",\"linecolor\":\"white\",\"ticks\":\"\"},\"bgcolor\":\"#E5ECF6\",\"radialaxis\":{\"gridcolor\":\"white\",\"linecolor\":\"white\",\"ticks\":\"\"}},\"scene\":{\"xaxis\":{\"backgroundcolor\":\"#E5ECF6\",\"gridcolor\":\"white\",\"gridwidth\":2,\"linecolor\":\"white\",\"showbackground\":true,\"ticks\":\"\",\"zerolinecolor\":\"white\"},\"yaxis\":{\"backgroundcolor\":\"#E5ECF6\",\"gridcolor\":\"white\",\"gridwidth\":2,\"linecolor\":\"white\",\"showbackground\":true,\"ticks\":\"\",\"zerolinecolor\":\"white\"},\"zaxis\":{\"backgroundcolor\":\"#E5ECF6\",\"gridcolor\":\"white\",\"gridwidth\":2,\"linecolor\":\"white\",\"showbackground\":true,\"ticks\":\"\",\"zerolinecolor\":\"white\"}},\"shapedefaults\":{\"line\":{\"color\":\"#2a3f5f\"}},\"ternary\":{\"aaxis\":{\"gridcolor\":\"white\",\"linecolor\":\"white\",\"ticks\":\"\"},\"baxis\":{\"gridcolor\":\"white\",\"linecolor\":\"white\",\"ticks\":\"\"},\"bgcolor\":\"#E5ECF6\",\"caxis\":{\"gridcolor\":\"white\",\"linecolor\":\"white\",\"ticks\":\"\"}},\"title\":{\"x\":0.05},\"xaxis\":{\"automargin\":true,\"gridcolor\":\"white\",\"linecolor\":\"white\",\"ticks\":\"\",\"title\":{\"standoff\":15},\"zerolinecolor\":\"white\",\"zerolinewidth\":2},\"yaxis\":{\"automargin\":true,\"gridcolor\":\"white\",\"linecolor\":\"white\",\"ticks\":\"\",\"title\":{\"standoff\":15},\"zerolinecolor\":\"white\",\"zerolinewidth\":2}}},\"title\":{\"font\":{\"color\":\"#4D5663\"}},\"xaxis\":{\"gridcolor\":\"#E1E5ED\",\"showgrid\":true,\"tickfont\":{\"color\":\"#4D5663\"},\"title\":{\"font\":{\"color\":\"#4D5663\"},\"text\":\"\"},\"zerolinecolor\":\"#E1E5ED\"},\"yaxis\":{\"domain\":[0.3,1],\"gridcolor\":\"#E1E5ED\",\"showgrid\":true,\"tickfont\":{\"color\":\"#4D5663\"},\"title\":{\"font\":{\"color\":\"#4D5663\"},\"text\":\"\"},\"zerolinecolor\":\"#E1E5ED\"},\"yaxis2\":{\"domain\":[0,0.25],\"gridcolor\":\"#E1E5ED\",\"showgrid\":true,\"tickfont\":{\"color\":\"#4D5663\"},\"title\":{\"font\":{\"color\":\"#4D5663\"},\"text\":\"Spread\"},\"zerolinecolor\":\"#E1E5ED\"},\"xaxis2\":{\"anchor\":\"y2\",\"gridcolor\":\"#E1E5ED\",\"showgrid\":true,\"showticklabels\":false,\"tickfont\":{\"color\":\"#4D5663\"},\"title\":{\"font\":{\"color\":\"#4D5663\"},\"text\":\"\"},\"zerolinecolor\":\"#E1E5ED\"}},                        {\"showLink\": true, \"linkText\": \"Export to plot.ly\", \"plotlyServerURL\": \"https://plot.ly\", \"responsive\": true}                    ).then(function(){\n",
              "                            \n",
              "var gd = document.getElementById('1b9f4fef-12d3-4c0b-beaf-aeecf909e852');\n",
              "var x = new MutationObserver(function (mutations, observer) {{\n",
              "        var display = window.getComputedStyle(gd).display;\n",
              "        if (!display || display === 'none') {{\n",
              "            console.log([gd, 'removed!']);\n",
              "            Plotly.purge(gd);\n",
              "            observer.disconnect();\n",
              "        }}\n",
              "}});\n",
              "\n",
              "// Listen for the removal of the full notebook cells\n",
              "var notebookContainer = gd.closest('#notebook-container');\n",
              "if (notebookContainer) {{\n",
              "    x.observe(notebookContainer, {childList: true});\n",
              "}}\n",
              "\n",
              "// Listen for the clearing of the current output cell\n",
              "var outputEl = gd.closest('.output');\n",
              "if (outputEl) {{\n",
              "    x.observe(outputEl, {childList: true});\n",
              "}}\n",
              "\n",
              "                        })                };                            </script>        </div>\n",
              "</body>\n",
              "</html>"
            ]
          },
          "metadata": {}
        }
      ]
    },
    {
      "cell_type": "markdown",
      "source": [
        "**Bubble Plots**"
      ],
      "metadata": {
        "id": "lEzFVkm71jjr"
      }
    },
    {
      "cell_type": "code",
      "source": [
        "df.iplot(kind='bubble', x='A', y='B', size='C')"
      ],
      "metadata": {
        "id": "XnhBDDu21cD3",
        "colab": {
          "base_uri": "https://localhost:8080/",
          "height": 542
        },
        "outputId": "daf30bd3-66ee-462d-d803-2e2ff512baa7"
      },
      "execution_count": null,
      "outputs": [
        {
          "output_type": "display_data",
          "data": {
            "text/html": [
              "<html>\n",
              "<head><meta charset=\"utf-8\" /></head>\n",
              "<body>\n",
              "    <div>            <script src=\"https://cdnjs.cloudflare.com/ajax/libs/mathjax/2.7.5/MathJax.js?config=TeX-AMS-MML_SVG\"></script><script type=\"text/javascript\">if (window.MathJax) {MathJax.Hub.Config({SVG: {font: \"STIX-Web\"}});}</script>                <script type=\"text/javascript\">window.PlotlyConfig = {MathJaxConfig: 'local'};</script>\n",
              "        <script src=\"https://cdn.plot.ly/plotly-2.8.3.min.js\"></script>                <div id=\"58b09eab-7760-4e09-b60d-6caf81a68fc6\" class=\"plotly-graph-div\" style=\"height:525px; width:100%;\"></div>            <script type=\"text/javascript\">                                    window.PLOTLYENV=window.PLOTLYENV || {};\n",
              "                    window.PLOTLYENV.BASE_URL='https://plot.ly';                                    if (document.getElementById(\"58b09eab-7760-4e09-b60d-6caf81a68fc6\")) {                    Plotly.newPlot(                        \"58b09eab-7760-4e09-b60d-6caf81a68fc6\",                        [{\"marker\":{\"color\":[\"rgb(255, 153, 51)\",\"rgb(55, 128, 191)\",\"rgb(50, 171, 96)\",\"rgb(128, 0, 128)\",\"rgb(219, 64, 82)\",\"rgb(0, 128, 128)\",\"rgb(255, 255, 51)\",\"rgb(128, 128, 0)\",\"rgb(251, 128, 114)\",\"rgb(128, 177, 211)\"],\"line\":{\"width\":1.3},\"size\":[34,52,65,36,64,77,28,88,71,84,60,41,17,63,72,36,43,39,32,22,28,51,57,39,63,36,57,82,59,49,83,39,39,70,80,60,12,44,40,78,67,52,53,48,50,67,96,37,65,78,56,19,54,19,79,45,62,41,72,89,24,61,47,50,57,71,46,58,28,60,21,69,52,92,53,27,62,37,46,22,66,59,57,48,44,83,49,36,64,37,45,65,76,26,97,61,72,72,112,60],\"symbol\":\"circle\"},\"mode\":\"markers\",\"text\":\"\",\"x\":[0.15991766187357428,1.336472110488845,0.8087554615730191,0.031402204039810463,0.8713020449035054,-0.18301367589422302,0.2959982485702422,-0.6440423791992994,0.7195149636929072,2.117095783953832,-0.8861256853914704,-0.06883514519329981,0.05725830989514137,-1.5377659212125694,0.48135399584660393,0.178847943069043,0.7380656218836031,0.4986764901107574,0.15672813399413907,-0.38782096675302,-0.451502206533528,-0.2659064722708647,-0.4608990078051319,-0.8033154515498455,0.3138311621097309,-0.045844237771712884,-1.556194098903122,0.8653230717656981,-0.2051436145410211,-0.9435601487749822,0.6435578559899167,0.010746036139253729,0.9816546219518957,-0.7883760109979703,-0.4219866760514121,1.5103393223025015,-1.186530618454949,0.738364576058676,-0.9313352166354086,1.0989320382376717,0.9358976879967568,2.053460467240248,0.9355663920921059,0.1062269206415052,0.12419121758653327,0.4327896539954133,-0.0650547492445288,-1.4207367664943125,0.9275744459638233,0.0704916510444277,-1.7701057106976477,1.4151891723447745,-0.37427935543614516,-1.1177543449582599,-1.640180532656671,-0.4881493982367995,-1.1161729936527205,-1.2899556537355825,-1.244650063204049,-0.3110937126001046,0.12605130277900195,0.6375670860217763,-0.20807822578083898,0.3150380759867778,2.0634904541746866,-1.3235454571828962,-1.0707258698669206,0.1851863594454151,0.8634235543333478,0.24150247433852054,1.5025963093065222,-2.2878565096456485,1.2066024890978364,2.411621659182668,0.17738862757875634,1.1551284696970068,-0.8662666166687629,1.5997880549264378,2.3247488187702494,-0.0313543048618275,-0.9279551146150026,0.16932949466500008,0.46414088600980835,-0.41644944145529533,-0.933820221609658,0.3013142547911265,1.66591729876168,-1.8303715181731808,-0.7982821148280002,2.3205811976469697,0.4814458815776598,2.534941174370491,-1.1456873235501608,-0.07354110602854524,0.8313678951166191,-0.6861647548154984,-1.115897775753925,-2.502794387869055,-0.22210760762261078,-1.2520497220358475],\"y\":[2.0169561332861865,-0.43429233380843885,-0.43356257673214427,2.1771186367256368,0.8095500574131534,-1.3091778124359188,-0.9681007237257846,1.2850120572596524,0.6546566964279855,0.4292531604116228,1.55998047068737,-1.6879332653443762,-0.7871322190035406,-0.06602796855804274,0.16586869842900476,-1.7825105809023518,1.2901942156942292,-0.7236095084983274,1.7244080945995413,0.44760717109182,0.5395070916223994,1.1343025665670685,-0.7095537282194786,-0.2966166494095116,0.0010495700976222509,-0.7947123610749705,-0.1589210289042382,0.16793701983142267,1.3262010480237127,2.1352207815848003,0.6238969068184332,1.113052664929787,0.9184277011033406,-0.17810406921678754,-1.3839417460700068,-0.6673675175730456,1.7913281891926909,-0.8437026591921084,0.4265553946591838,-0.21300472206775586,-1.221593864730558,0.07738142159786968,0.7869222799317079,1.4780736594918247,-0.3870450818133202,-1.7701064654367429,-1.1277662728039375,-0.11044164730278658,-0.788967271191509,-0.04196094873924995,0.06282355519876329,-0.6082088099411694,-0.6901270979407248,-0.7696480126480182,-1.3281858051629787,-1.0958610815463221,2.8327547840276606,1.4790521195365034,-0.684704166150316,-2.326517577175694,0.004961157236635512,-0.7018825524478743,-0.7407491647289562,-0.7191210994170975,-0.9772919152984749,-0.30756191972316915,-1.8234225171249907,0.3101977031305282,0.1881068925350721,-0.4482297721251149,-0.5622980431393981,1.541465255724142,0.9213261541265201,0.8769460884701058,0.4450520331045591,-0.37581018273079164,-1.2196759240469361,-0.4198841545862449,-0.9971941914757909,-3.0363584923982363,-0.10871855029411716,0.6999101412980412,0.8625677640418702,-2.266728223091762,0.06574609108208804,-1.1428512206836945,-1.5140403565383014,0.20871849945854495,0.25597677902045446,0.6062616572240755,1.7790634891411108,0.04450808939889438,0.8233658178055882,-0.6253975175487747,-1.150887769149947,0.3386958645987173,-0.18279014888271924,0.06545423066742678,-0.9851210924595009,-0.22728489546670294],\"type\":\"scatter\"}],                        {\"legend\":{\"bgcolor\":\"#F5F6F9\",\"font\":{\"color\":\"#4D5663\"}},\"paper_bgcolor\":\"#F5F6F9\",\"plot_bgcolor\":\"#F5F6F9\",\"template\":{\"data\":{\"barpolar\":[{\"marker\":{\"line\":{\"color\":\"#E5ECF6\",\"width\":0.5},\"pattern\":{\"fillmode\":\"overlay\",\"size\":10,\"solidity\":0.2}},\"type\":\"barpolar\"}],\"bar\":[{\"error_x\":{\"color\":\"#2a3f5f\"},\"error_y\":{\"color\":\"#2a3f5f\"},\"marker\":{\"line\":{\"color\":\"#E5ECF6\",\"width\":0.5},\"pattern\":{\"fillmode\":\"overlay\",\"size\":10,\"solidity\":0.2}},\"type\":\"bar\"}],\"carpet\":[{\"aaxis\":{\"endlinecolor\":\"#2a3f5f\",\"gridcolor\":\"white\",\"linecolor\":\"white\",\"minorgridcolor\":\"white\",\"startlinecolor\":\"#2a3f5f\"},\"baxis\":{\"endlinecolor\":\"#2a3f5f\",\"gridcolor\":\"white\",\"linecolor\":\"white\",\"minorgridcolor\":\"white\",\"startlinecolor\":\"#2a3f5f\"},\"type\":\"carpet\"}],\"choropleth\":[{\"colorbar\":{\"outlinewidth\":0,\"ticks\":\"\"},\"type\":\"choropleth\"}],\"contourcarpet\":[{\"colorbar\":{\"outlinewidth\":0,\"ticks\":\"\"},\"type\":\"contourcarpet\"}],\"contour\":[{\"colorbar\":{\"outlinewidth\":0,\"ticks\":\"\"},\"colorscale\":[[0.0,\"#0d0887\"],[0.1111111111111111,\"#46039f\"],[0.2222222222222222,\"#7201a8\"],[0.3333333333333333,\"#9c179e\"],[0.4444444444444444,\"#bd3786\"],[0.5555555555555556,\"#d8576b\"],[0.6666666666666666,\"#ed7953\"],[0.7777777777777778,\"#fb9f3a\"],[0.8888888888888888,\"#fdca26\"],[1.0,\"#f0f921\"]],\"type\":\"contour\"}],\"heatmapgl\":[{\"colorbar\":{\"outlinewidth\":0,\"ticks\":\"\"},\"colorscale\":[[0.0,\"#0d0887\"],[0.1111111111111111,\"#46039f\"],[0.2222222222222222,\"#7201a8\"],[0.3333333333333333,\"#9c179e\"],[0.4444444444444444,\"#bd3786\"],[0.5555555555555556,\"#d8576b\"],[0.6666666666666666,\"#ed7953\"],[0.7777777777777778,\"#fb9f3a\"],[0.8888888888888888,\"#fdca26\"],[1.0,\"#f0f921\"]],\"type\":\"heatmapgl\"}],\"heatmap\":[{\"colorbar\":{\"outlinewidth\":0,\"ticks\":\"\"},\"colorscale\":[[0.0,\"#0d0887\"],[0.1111111111111111,\"#46039f\"],[0.2222222222222222,\"#7201a8\"],[0.3333333333333333,\"#9c179e\"],[0.4444444444444444,\"#bd3786\"],[0.5555555555555556,\"#d8576b\"],[0.6666666666666666,\"#ed7953\"],[0.7777777777777778,\"#fb9f3a\"],[0.8888888888888888,\"#fdca26\"],[1.0,\"#f0f921\"]],\"type\":\"heatmap\"}],\"histogram2dcontour\":[{\"colorbar\":{\"outlinewidth\":0,\"ticks\":\"\"},\"colorscale\":[[0.0,\"#0d0887\"],[0.1111111111111111,\"#46039f\"],[0.2222222222222222,\"#7201a8\"],[0.3333333333333333,\"#9c179e\"],[0.4444444444444444,\"#bd3786\"],[0.5555555555555556,\"#d8576b\"],[0.6666666666666666,\"#ed7953\"],[0.7777777777777778,\"#fb9f3a\"],[0.8888888888888888,\"#fdca26\"],[1.0,\"#f0f921\"]],\"type\":\"histogram2dcontour\"}],\"histogram2d\":[{\"colorbar\":{\"outlinewidth\":0,\"ticks\":\"\"},\"colorscale\":[[0.0,\"#0d0887\"],[0.1111111111111111,\"#46039f\"],[0.2222222222222222,\"#7201a8\"],[0.3333333333333333,\"#9c179e\"],[0.4444444444444444,\"#bd3786\"],[0.5555555555555556,\"#d8576b\"],[0.6666666666666666,\"#ed7953\"],[0.7777777777777778,\"#fb9f3a\"],[0.8888888888888888,\"#fdca26\"],[1.0,\"#f0f921\"]],\"type\":\"histogram2d\"}],\"histogram\":[{\"marker\":{\"pattern\":{\"fillmode\":\"overlay\",\"size\":10,\"solidity\":0.2}},\"type\":\"histogram\"}],\"mesh3d\":[{\"colorbar\":{\"outlinewidth\":0,\"ticks\":\"\"},\"type\":\"mesh3d\"}],\"parcoords\":[{\"line\":{\"colorbar\":{\"outlinewidth\":0,\"ticks\":\"\"}},\"type\":\"parcoords\"}],\"pie\":[{\"automargin\":true,\"type\":\"pie\"}],\"scatter3d\":[{\"line\":{\"colorbar\":{\"outlinewidth\":0,\"ticks\":\"\"}},\"marker\":{\"colorbar\":{\"outlinewidth\":0,\"ticks\":\"\"}},\"type\":\"scatter3d\"}],\"scattercarpet\":[{\"marker\":{\"colorbar\":{\"outlinewidth\":0,\"ticks\":\"\"}},\"type\":\"scattercarpet\"}],\"scattergeo\":[{\"marker\":{\"colorbar\":{\"outlinewidth\":0,\"ticks\":\"\"}},\"type\":\"scattergeo\"}],\"scattergl\":[{\"marker\":{\"colorbar\":{\"outlinewidth\":0,\"ticks\":\"\"}},\"type\":\"scattergl\"}],\"scattermapbox\":[{\"marker\":{\"colorbar\":{\"outlinewidth\":0,\"ticks\":\"\"}},\"type\":\"scattermapbox\"}],\"scatterpolargl\":[{\"marker\":{\"colorbar\":{\"outlinewidth\":0,\"ticks\":\"\"}},\"type\":\"scatterpolargl\"}],\"scatterpolar\":[{\"marker\":{\"colorbar\":{\"outlinewidth\":0,\"ticks\":\"\"}},\"type\":\"scatterpolar\"}],\"scatter\":[{\"marker\":{\"colorbar\":{\"outlinewidth\":0,\"ticks\":\"\"}},\"type\":\"scatter\"}],\"scatterternary\":[{\"marker\":{\"colorbar\":{\"outlinewidth\":0,\"ticks\":\"\"}},\"type\":\"scatterternary\"}],\"surface\":[{\"colorbar\":{\"outlinewidth\":0,\"ticks\":\"\"},\"colorscale\":[[0.0,\"#0d0887\"],[0.1111111111111111,\"#46039f\"],[0.2222222222222222,\"#7201a8\"],[0.3333333333333333,\"#9c179e\"],[0.4444444444444444,\"#bd3786\"],[0.5555555555555556,\"#d8576b\"],[0.6666666666666666,\"#ed7953\"],[0.7777777777777778,\"#fb9f3a\"],[0.8888888888888888,\"#fdca26\"],[1.0,\"#f0f921\"]],\"type\":\"surface\"}],\"table\":[{\"cells\":{\"fill\":{\"color\":\"#EBF0F8\"},\"line\":{\"color\":\"white\"}},\"header\":{\"fill\":{\"color\":\"#C8D4E3\"},\"line\":{\"color\":\"white\"}},\"type\":\"table\"}]},\"layout\":{\"annotationdefaults\":{\"arrowcolor\":\"#2a3f5f\",\"arrowhead\":0,\"arrowwidth\":1},\"autotypenumbers\":\"strict\",\"coloraxis\":{\"colorbar\":{\"outlinewidth\":0,\"ticks\":\"\"}},\"colorscale\":{\"diverging\":[[0,\"#8e0152\"],[0.1,\"#c51b7d\"],[0.2,\"#de77ae\"],[0.3,\"#f1b6da\"],[0.4,\"#fde0ef\"],[0.5,\"#f7f7f7\"],[0.6,\"#e6f5d0\"],[0.7,\"#b8e186\"],[0.8,\"#7fbc41\"],[0.9,\"#4d9221\"],[1,\"#276419\"]],\"sequential\":[[0.0,\"#0d0887\"],[0.1111111111111111,\"#46039f\"],[0.2222222222222222,\"#7201a8\"],[0.3333333333333333,\"#9c179e\"],[0.4444444444444444,\"#bd3786\"],[0.5555555555555556,\"#d8576b\"],[0.6666666666666666,\"#ed7953\"],[0.7777777777777778,\"#fb9f3a\"],[0.8888888888888888,\"#fdca26\"],[1.0,\"#f0f921\"]],\"sequentialminus\":[[0.0,\"#0d0887\"],[0.1111111111111111,\"#46039f\"],[0.2222222222222222,\"#7201a8\"],[0.3333333333333333,\"#9c179e\"],[0.4444444444444444,\"#bd3786\"],[0.5555555555555556,\"#d8576b\"],[0.6666666666666666,\"#ed7953\"],[0.7777777777777778,\"#fb9f3a\"],[0.8888888888888888,\"#fdca26\"],[1.0,\"#f0f921\"]]},\"colorway\":[\"#636efa\",\"#EF553B\",\"#00cc96\",\"#ab63fa\",\"#FFA15A\",\"#19d3f3\",\"#FF6692\",\"#B6E880\",\"#FF97FF\",\"#FECB52\"],\"font\":{\"color\":\"#2a3f5f\"},\"geo\":{\"bgcolor\":\"white\",\"lakecolor\":\"white\",\"landcolor\":\"#E5ECF6\",\"showlakes\":true,\"showland\":true,\"subunitcolor\":\"white\"},\"hoverlabel\":{\"align\":\"left\"},\"hovermode\":\"closest\",\"mapbox\":{\"style\":\"light\"},\"paper_bgcolor\":\"white\",\"plot_bgcolor\":\"#E5ECF6\",\"polar\":{\"angularaxis\":{\"gridcolor\":\"white\",\"linecolor\":\"white\",\"ticks\":\"\"},\"bgcolor\":\"#E5ECF6\",\"radialaxis\":{\"gridcolor\":\"white\",\"linecolor\":\"white\",\"ticks\":\"\"}},\"scene\":{\"xaxis\":{\"backgroundcolor\":\"#E5ECF6\",\"gridcolor\":\"white\",\"gridwidth\":2,\"linecolor\":\"white\",\"showbackground\":true,\"ticks\":\"\",\"zerolinecolor\":\"white\"},\"yaxis\":{\"backgroundcolor\":\"#E5ECF6\",\"gridcolor\":\"white\",\"gridwidth\":2,\"linecolor\":\"white\",\"showbackground\":true,\"ticks\":\"\",\"zerolinecolor\":\"white\"},\"zaxis\":{\"backgroundcolor\":\"#E5ECF6\",\"gridcolor\":\"white\",\"gridwidth\":2,\"linecolor\":\"white\",\"showbackground\":true,\"ticks\":\"\",\"zerolinecolor\":\"white\"}},\"shapedefaults\":{\"line\":{\"color\":\"#2a3f5f\"}},\"ternary\":{\"aaxis\":{\"gridcolor\":\"white\",\"linecolor\":\"white\",\"ticks\":\"\"},\"baxis\":{\"gridcolor\":\"white\",\"linecolor\":\"white\",\"ticks\":\"\"},\"bgcolor\":\"#E5ECF6\",\"caxis\":{\"gridcolor\":\"white\",\"linecolor\":\"white\",\"ticks\":\"\"}},\"title\":{\"x\":0.05},\"xaxis\":{\"automargin\":true,\"gridcolor\":\"white\",\"linecolor\":\"white\",\"ticks\":\"\",\"title\":{\"standoff\":15},\"zerolinecolor\":\"white\",\"zerolinewidth\":2},\"yaxis\":{\"automargin\":true,\"gridcolor\":\"white\",\"linecolor\":\"white\",\"ticks\":\"\",\"title\":{\"standoff\":15},\"zerolinecolor\":\"white\",\"zerolinewidth\":2}}},\"title\":{\"font\":{\"color\":\"#4D5663\"}},\"xaxis\":{\"gridcolor\":\"#E1E5ED\",\"showgrid\":true,\"tickfont\":{\"color\":\"#4D5663\"},\"title\":{\"font\":{\"color\":\"#4D5663\"},\"text\":\"\"},\"zerolinecolor\":\"#E1E5ED\"},\"yaxis\":{\"gridcolor\":\"#E1E5ED\",\"showgrid\":true,\"tickfont\":{\"color\":\"#4D5663\"},\"title\":{\"font\":{\"color\":\"#4D5663\"},\"text\":\"\"},\"zerolinecolor\":\"#E1E5ED\"}},                        {\"showLink\": true, \"linkText\": \"Export to plot.ly\", \"plotlyServerURL\": \"https://plot.ly\", \"responsive\": true}                    ).then(function(){\n",
              "                            \n",
              "var gd = document.getElementById('58b09eab-7760-4e09-b60d-6caf81a68fc6');\n",
              "var x = new MutationObserver(function (mutations, observer) {{\n",
              "        var display = window.getComputedStyle(gd).display;\n",
              "        if (!display || display === 'none') {{\n",
              "            console.log([gd, 'removed!']);\n",
              "            Plotly.purge(gd);\n",
              "            observer.disconnect();\n",
              "        }}\n",
              "}});\n",
              "\n",
              "// Listen for the removal of the full notebook cells\n",
              "var notebookContainer = gd.closest('#notebook-container');\n",
              "if (notebookContainer) {{\n",
              "    x.observe(notebookContainer, {childList: true});\n",
              "}}\n",
              "\n",
              "// Listen for the clearing of the current output cell\n",
              "var outputEl = gd.closest('.output');\n",
              "if (outputEl) {{\n",
              "    x.observe(outputEl, {childList: true});\n",
              "}}\n",
              "\n",
              "                        })                };                            </script>        </div>\n",
              "</body>\n",
              "</html>"
            ]
          },
          "metadata": {}
        }
      ]
    },
    {
      "cell_type": "markdown",
      "source": [
        "**Scatter Matrix**"
      ],
      "metadata": {
        "id": "cFqbX1ES166M"
      }
    },
    {
      "cell_type": "code",
      "source": [
        "df.scatter_matrix()"
      ],
      "metadata": {
        "id": "fRhciNTY1rM_",
        "colab": {
          "base_uri": "https://localhost:8080/",
          "height": 542
        },
        "outputId": "a66b4ff0-3891-41b2-8e4e-2f9a6b51bc4e"
      },
      "execution_count": null,
      "outputs": [
        {
          "output_type": "display_data",
          "data": {
            "text/html": [
              "<html>\n",
              "<head><meta charset=\"utf-8\" /></head>\n",
              "<body>\n",
              "    <div>            <script src=\"https://cdnjs.cloudflare.com/ajax/libs/mathjax/2.7.5/MathJax.js?config=TeX-AMS-MML_SVG\"></script><script type=\"text/javascript\">if (window.MathJax) {MathJax.Hub.Config({SVG: {font: \"STIX-Web\"}});}</script>                <script type=\"text/javascript\">window.PlotlyConfig = {MathJaxConfig: 'local'};</script>\n",
              "        <script src=\"https://cdn.plot.ly/plotly-2.8.3.min.js\"></script>                <div id=\"f28137b9-2faa-4ba1-b3d7-82ee519b354c\" class=\"plotly-graph-div\" style=\"height:525px; width:100%;\"></div>            <script type=\"text/javascript\">                                    window.PLOTLYENV=window.PLOTLYENV || {};\n",
              "                    window.PLOTLYENV.BASE_URL='https://plot.ly';                                    if (document.getElementById(\"f28137b9-2faa-4ba1-b3d7-82ee519b354c\")) {                    Plotly.newPlot(                        \"f28137b9-2faa-4ba1-b3d7-82ee519b354c\",                        [{\"histfunc\":\"count\",\"histnorm\":\"\",\"marker\":{\"color\":\"rgba(255, 153, 51, 1.0)\",\"line\":{\"color\":\"#4D5663\",\"width\":1.3}},\"name\":\"A\",\"nbinsx\":10,\"opacity\":0.8,\"orientation\":\"v\",\"x\":[0.15991766187357428,1.336472110488845,0.8087554615730191,0.031402204039810463,0.8713020449035054,-0.18301367589422302,0.2959982485702422,-0.6440423791992994,0.7195149636929072,2.117095783953832,-0.8861256853914704,-0.06883514519329981,0.05725830989514137,-1.5377659212125694,0.48135399584660393,0.178847943069043,0.7380656218836031,0.4986764901107574,0.15672813399413907,-0.38782096675302,-0.451502206533528,-0.2659064722708647,-0.4608990078051319,-0.8033154515498455,0.3138311621097309,-0.045844237771712884,-1.556194098903122,0.8653230717656981,-0.2051436145410211,-0.9435601487749822,0.6435578559899167,0.010746036139253729,0.9816546219518957,-0.7883760109979703,-0.4219866760514121,1.5103393223025015,-1.186530618454949,0.738364576058676,-0.9313352166354086,1.0989320382376717,0.9358976879967568,2.053460467240248,0.9355663920921059,0.1062269206415052,0.12419121758653327,0.4327896539954133,-0.0650547492445288,-1.4207367664943125,0.9275744459638233,0.0704916510444277,-1.7701057106976477,1.4151891723447745,-0.37427935543614516,-1.1177543449582599,-1.640180532656671,-0.4881493982367995,-1.1161729936527205,-1.2899556537355825,-1.244650063204049,-0.3110937126001046,0.12605130277900195,0.6375670860217763,-0.20807822578083898,0.3150380759867778,2.0634904541746866,-1.3235454571828962,-1.0707258698669206,0.1851863594454151,0.8634235543333478,0.24150247433852054,1.5025963093065222,-2.2878565096456485,1.2066024890978364,2.411621659182668,0.17738862757875634,1.1551284696970068,-0.8662666166687629,1.5997880549264378,2.3247488187702494,-0.0313543048618275,-0.9279551146150026,0.16932949466500008,0.46414088600980835,-0.41644944145529533,-0.933820221609658,0.3013142547911265,1.66591729876168,-1.8303715181731808,-0.7982821148280002,2.3205811976469697,0.4814458815776598,2.534941174370491,-1.1456873235501608,-0.07354110602854524,0.8313678951166191,-0.6861647548154984,-1.115897775753925,-2.502794387869055,-0.22210760762261078,-1.2520497220358475],\"xaxis\":\"x\",\"yaxis\":\"y\",\"type\":\"histogram\"},{\"line\":{\"color\":\"rgba(128, 128, 128, 1.0)\",\"dash\":\"solid\",\"shape\":\"linear\",\"width\":1.3},\"marker\":{\"size\":2,\"symbol\":\"circle\"},\"mode\":\"markers\",\"name\":\"A\",\"text\":\"\",\"x\":[2.0169561332861865,-0.43429233380843885,-0.43356257673214427,2.1771186367256368,0.8095500574131534,-1.3091778124359188,-0.9681007237257846,1.2850120572596524,0.6546566964279855,0.4292531604116228,1.55998047068737,-1.6879332653443762,-0.7871322190035406,-0.06602796855804274,0.16586869842900476,-1.7825105809023518,1.2901942156942292,-0.7236095084983274,1.7244080945995413,0.44760717109182,0.5395070916223994,1.1343025665670685,-0.7095537282194786,-0.2966166494095116,0.0010495700976222509,-0.7947123610749705,-0.1589210289042382,0.16793701983142267,1.3262010480237127,2.1352207815848003,0.6238969068184332,1.113052664929787,0.9184277011033406,-0.17810406921678754,-1.3839417460700068,-0.6673675175730456,1.7913281891926909,-0.8437026591921084,0.4265553946591838,-0.21300472206775586,-1.221593864730558,0.07738142159786968,0.7869222799317079,1.4780736594918247,-0.3870450818133202,-1.7701064654367429,-1.1277662728039375,-0.11044164730278658,-0.788967271191509,-0.04196094873924995,0.06282355519876329,-0.6082088099411694,-0.6901270979407248,-0.7696480126480182,-1.3281858051629787,-1.0958610815463221,2.8327547840276606,1.4790521195365034,-0.684704166150316,-2.326517577175694,0.004961157236635512,-0.7018825524478743,-0.7407491647289562,-0.7191210994170975,-0.9772919152984749,-0.30756191972316915,-1.8234225171249907,0.3101977031305282,0.1881068925350721,-0.4482297721251149,-0.5622980431393981,1.541465255724142,0.9213261541265201,0.8769460884701058,0.4450520331045591,-0.37581018273079164,-1.2196759240469361,-0.4198841545862449,-0.9971941914757909,-3.0363584923982363,-0.10871855029411716,0.6999101412980412,0.8625677640418702,-2.266728223091762,0.06574609108208804,-1.1428512206836945,-1.5140403565383014,0.20871849945854495,0.25597677902045446,0.6062616572240755,1.7790634891411108,0.04450808939889438,0.8233658178055882,-0.6253975175487747,-1.150887769149947,0.3386958645987173,-0.18279014888271924,0.06545423066742678,-0.9851210924595009,-0.22728489546670294],\"xaxis\":\"x2\",\"y\":[0.15991766187357428,1.336472110488845,0.8087554615730191,0.031402204039810463,0.8713020449035054,-0.18301367589422302,0.2959982485702422,-0.6440423791992994,0.7195149636929072,2.117095783953832,-0.8861256853914704,-0.06883514519329981,0.05725830989514137,-1.5377659212125694,0.48135399584660393,0.178847943069043,0.7380656218836031,0.4986764901107574,0.15672813399413907,-0.38782096675302,-0.451502206533528,-0.2659064722708647,-0.4608990078051319,-0.8033154515498455,0.3138311621097309,-0.045844237771712884,-1.556194098903122,0.8653230717656981,-0.2051436145410211,-0.9435601487749822,0.6435578559899167,0.010746036139253729,0.9816546219518957,-0.7883760109979703,-0.4219866760514121,1.5103393223025015,-1.186530618454949,0.738364576058676,-0.9313352166354086,1.0989320382376717,0.9358976879967568,2.053460467240248,0.9355663920921059,0.1062269206415052,0.12419121758653327,0.4327896539954133,-0.0650547492445288,-1.4207367664943125,0.9275744459638233,0.0704916510444277,-1.7701057106976477,1.4151891723447745,-0.37427935543614516,-1.1177543449582599,-1.640180532656671,-0.4881493982367995,-1.1161729936527205,-1.2899556537355825,-1.244650063204049,-0.3110937126001046,0.12605130277900195,0.6375670860217763,-0.20807822578083898,0.3150380759867778,2.0634904541746866,-1.3235454571828962,-1.0707258698669206,0.1851863594454151,0.8634235543333478,0.24150247433852054,1.5025963093065222,-2.2878565096456485,1.2066024890978364,2.411621659182668,0.17738862757875634,1.1551284696970068,-0.8662666166687629,1.5997880549264378,2.3247488187702494,-0.0313543048618275,-0.9279551146150026,0.16932949466500008,0.46414088600980835,-0.41644944145529533,-0.933820221609658,0.3013142547911265,1.66591729876168,-1.8303715181731808,-0.7982821148280002,2.3205811976469697,0.4814458815776598,2.534941174370491,-1.1456873235501608,-0.07354110602854524,0.8313678951166191,-0.6861647548154984,-1.115897775753925,-2.502794387869055,-0.22210760762261078,-1.2520497220358475],\"yaxis\":\"y2\",\"type\":\"scatter\"},{\"line\":{\"color\":\"rgba(128, 128, 128, 1.0)\",\"dash\":\"solid\",\"shape\":\"linear\",\"width\":1.3},\"marker\":{\"size\":2,\"symbol\":\"circle\"},\"mode\":\"markers\",\"name\":\"A\",\"text\":\"\",\"x\":[-1.1577737987756762,-0.20476595080494625,0.4785291568850827,-1.049734125039708,0.4300068110467301,1.097968763140523,-1.4833494711412478,1.7209499459661282,0.7788035564481742,1.517397294290723,0.2347246309441393,-0.7761895892157443,-2.054212294752564,0.38398809436835113,0.843160283997241,-1.039105133373964,-0.653103990267039,-0.8811868942054735,-1.2576629647434288,-1.7871724718463098,-1.4829165003834064,-0.2612305910895046,0.07960485447649558,-0.9129417380022947,0.40314647063579173,-1.0281978014509485,0.07407760046607764,1.4012430035024712,0.16905586387013996,-0.37896358478247877,1.4522024155909667,-0.8634725269983637,-0.866259811177869,0.739669512910617,1.2661250145471943,0.2404723312905949,-2.345009151983953,-0.6393692661828025,-0.8282095865689866,1.1495791124865098,0.5775963893324433,-0.19112191963172118,-0.12997132011387869,-0.4344321132064988,-0.2902928942428836,0.5891040575186413,2.1191378098914373,-0.9800028370543378,0.48286852194745195,1.1976878499910177,0.029652523881802166,-1.9742077413455394,-0.08376468314983695,-1.9216686832720937,1.2022418479585406,-0.5508535293759708,0.3450508859350295,-0.7773000032231051,0.8604839470691935,1.7707808072100537,-1.6961716564927511,0.26482781353737667,-0.46429884931418586,-0.28597015592476244,0.0816409511380148,0.8300613531825849,-0.5398743364301557,0.14191258088547384,-1.4657456730872889,0.20586309775465908,-1.8302693029027133,0.7251901655844724,-0.19119921799867812,1.9115866729271127,-0.13949806351718516,-1.5250194443222775,0.35046379178075016,-1.0169389130083448,-0.5391188103399921,-1.764140792644202,0.5383798960843764,0.1620277882257504,0.0825107687421268,-0.39151202480382136,-0.6339854169335964,1.45192400874128,-0.38521508922767606,-1.0446720598970058,0.4462581716253721,-0.9979837929134856,-0.5673137624814252,0.49199022917879587,1.0876917846859946,-1.5786288766796754,2.190087752823068,0.25234475052261124,0.8312505222465344,0.8766502386627013,2.9484800552978703,0.23606637522142704],\"xaxis\":\"x3\",\"y\":[0.15991766187357428,1.336472110488845,0.8087554615730191,0.031402204039810463,0.8713020449035054,-0.18301367589422302,0.2959982485702422,-0.6440423791992994,0.7195149636929072,2.117095783953832,-0.8861256853914704,-0.06883514519329981,0.05725830989514137,-1.5377659212125694,0.48135399584660393,0.178847943069043,0.7380656218836031,0.4986764901107574,0.15672813399413907,-0.38782096675302,-0.451502206533528,-0.2659064722708647,-0.4608990078051319,-0.8033154515498455,0.3138311621097309,-0.045844237771712884,-1.556194098903122,0.8653230717656981,-0.2051436145410211,-0.9435601487749822,0.6435578559899167,0.010746036139253729,0.9816546219518957,-0.7883760109979703,-0.4219866760514121,1.5103393223025015,-1.186530618454949,0.738364576058676,-0.9313352166354086,1.0989320382376717,0.9358976879967568,2.053460467240248,0.9355663920921059,0.1062269206415052,0.12419121758653327,0.4327896539954133,-0.0650547492445288,-1.4207367664943125,0.9275744459638233,0.0704916510444277,-1.7701057106976477,1.4151891723447745,-0.37427935543614516,-1.1177543449582599,-1.640180532656671,-0.4881493982367995,-1.1161729936527205,-1.2899556537355825,-1.244650063204049,-0.3110937126001046,0.12605130277900195,0.6375670860217763,-0.20807822578083898,0.3150380759867778,2.0634904541746866,-1.3235454571828962,-1.0707258698669206,0.1851863594454151,0.8634235543333478,0.24150247433852054,1.5025963093065222,-2.2878565096456485,1.2066024890978364,2.411621659182668,0.17738862757875634,1.1551284696970068,-0.8662666166687629,1.5997880549264378,2.3247488187702494,-0.0313543048618275,-0.9279551146150026,0.16932949466500008,0.46414088600980835,-0.41644944145529533,-0.933820221609658,0.3013142547911265,1.66591729876168,-1.8303715181731808,-0.7982821148280002,2.3205811976469697,0.4814458815776598,2.534941174370491,-1.1456873235501608,-0.07354110602854524,0.8313678951166191,-0.6861647548154984,-1.115897775753925,-2.502794387869055,-0.22210760762261078,-1.2520497220358475],\"yaxis\":\"y3\",\"type\":\"scatter\"},{\"line\":{\"color\":\"rgba(128, 128, 128, 1.0)\",\"dash\":\"solid\",\"shape\":\"linear\",\"width\":1.3},\"marker\":{\"size\":2,\"symbol\":\"circle\"},\"mode\":\"markers\",\"name\":\"A\",\"text\":\"\",\"x\":[0.28239145039917646,1.8363822521912083,0.26794720325871424,0.10208004567712484,-0.15177375816615735,0.01681072921394639,1.1374501311799545,0.03548719406323302,-0.3796591510612054,0.1675610640271451,-0.7712154256001914,0.8839414817560541,0.18093526944239666,-0.17273830439621007,1.3492286448622257,-1.742415898628937,-0.3735273368343053,-0.5819153365423312,1.0959618172528736,-0.9042902629750132,-0.6306754349886508,-0.07135926057754212,0.33860606644118335,-0.7374752184064594,-0.6499440525674023,-0.0782242453318375,0.5061336844050206,-1.4592386604250434,0.3003253143844615,-0.6380236583925735,1.2203680047139338,-0.3780707481766195,0.008533258921761985,0.026150226761191192,-0.5538168810718875,-1.7620567730065355,-0.5397618067906942,-0.7952717843039396,-0.7361298652706514,-0.3052539776912539,0.36382380571077594,-0.21755249388116144,0.06000553035783175,2.2585117505323646,-1.850780490906206,0.21255731218839877,-0.821348188403252,0.4456412796320036,0.15741499552532798,1.5714750123303496,0.3187533108895991,-0.9678880186190438,-1.2958680248570562,0.5134275820754821,1.220822871455858,-0.9727570930633096,0.7144927152472524,-0.228848938817637,0.4115779820200336,-0.2770670591676926,-0.04566156965625598,0.08704565960001388,-0.5707134553647448,1.2249943460921675,1.2644211448069649,-2.659926175928382,2.169443788320486,-1.2313551676093555,-0.5588062572050628,0.625375093036721,-0.06322056261275152,1.0195717268348636,-0.6497140823092098,-1.6468284607363297,-0.7831062358595463,-0.6874725325665811,0.3043726161100774,-1.8450020616128964,1.1385444264294615,0.7524557072696625,0.744359589043357,0.9164114408746197,-2.079241475090012,-0.07444411250046001,-0.04767363805807925,1.8167382068251494,-0.5233565342439602,-0.3208454676184389,-1.4641124824188727,-2.342535646954361,-2.4622685742111474,0.842315295153011,-1.087325408739789,1.1151311006189522,1.0656061121684293,0.8476413479708031,0.788462248794487,-0.9618119284976607,0.009020060177266946,-0.5938041451769931],\"xaxis\":\"x4\",\"y\":[0.15991766187357428,1.336472110488845,0.8087554615730191,0.031402204039810463,0.8713020449035054,-0.18301367589422302,0.2959982485702422,-0.6440423791992994,0.7195149636929072,2.117095783953832,-0.8861256853914704,-0.06883514519329981,0.05725830989514137,-1.5377659212125694,0.48135399584660393,0.178847943069043,0.7380656218836031,0.4986764901107574,0.15672813399413907,-0.38782096675302,-0.451502206533528,-0.2659064722708647,-0.4608990078051319,-0.8033154515498455,0.3138311621097309,-0.045844237771712884,-1.556194098903122,0.8653230717656981,-0.2051436145410211,-0.9435601487749822,0.6435578559899167,0.010746036139253729,0.9816546219518957,-0.7883760109979703,-0.4219866760514121,1.5103393223025015,-1.186530618454949,0.738364576058676,-0.9313352166354086,1.0989320382376717,0.9358976879967568,2.053460467240248,0.9355663920921059,0.1062269206415052,0.12419121758653327,0.4327896539954133,-0.0650547492445288,-1.4207367664943125,0.9275744459638233,0.0704916510444277,-1.7701057106976477,1.4151891723447745,-0.37427935543614516,-1.1177543449582599,-1.640180532656671,-0.4881493982367995,-1.1161729936527205,-1.2899556537355825,-1.244650063204049,-0.3110937126001046,0.12605130277900195,0.6375670860217763,-0.20807822578083898,0.3150380759867778,2.0634904541746866,-1.3235454571828962,-1.0707258698669206,0.1851863594454151,0.8634235543333478,0.24150247433852054,1.5025963093065222,-2.2878565096456485,1.2066024890978364,2.411621659182668,0.17738862757875634,1.1551284696970068,-0.8662666166687629,1.5997880549264378,2.3247488187702494,-0.0313543048618275,-0.9279551146150026,0.16932949466500008,0.46414088600980835,-0.41644944145529533,-0.933820221609658,0.3013142547911265,1.66591729876168,-1.8303715181731808,-0.7982821148280002,2.3205811976469697,0.4814458815776598,2.534941174370491,-1.1456873235501608,-0.07354110602854524,0.8313678951166191,-0.6861647548154984,-1.115897775753925,-2.502794387869055,-0.22210760762261078,-1.2520497220358475],\"yaxis\":\"y4\",\"type\":\"scatter\"},{\"line\":{\"color\":\"rgba(128, 128, 128, 1.0)\",\"dash\":\"solid\",\"shape\":\"linear\",\"width\":1.3},\"marker\":{\"size\":2,\"symbol\":\"circle\"},\"mode\":\"markers\",\"name\":\"B\",\"text\":\"\",\"x\":[0.15991766187357428,1.336472110488845,0.8087554615730191,0.031402204039810463,0.8713020449035054,-0.18301367589422302,0.2959982485702422,-0.6440423791992994,0.7195149636929072,2.117095783953832,-0.8861256853914704,-0.06883514519329981,0.05725830989514137,-1.5377659212125694,0.48135399584660393,0.178847943069043,0.7380656218836031,0.4986764901107574,0.15672813399413907,-0.38782096675302,-0.451502206533528,-0.2659064722708647,-0.4608990078051319,-0.8033154515498455,0.3138311621097309,-0.045844237771712884,-1.556194098903122,0.8653230717656981,-0.2051436145410211,-0.9435601487749822,0.6435578559899167,0.010746036139253729,0.9816546219518957,-0.7883760109979703,-0.4219866760514121,1.5103393223025015,-1.186530618454949,0.738364576058676,-0.9313352166354086,1.0989320382376717,0.9358976879967568,2.053460467240248,0.9355663920921059,0.1062269206415052,0.12419121758653327,0.4327896539954133,-0.0650547492445288,-1.4207367664943125,0.9275744459638233,0.0704916510444277,-1.7701057106976477,1.4151891723447745,-0.37427935543614516,-1.1177543449582599,-1.640180532656671,-0.4881493982367995,-1.1161729936527205,-1.2899556537355825,-1.244650063204049,-0.3110937126001046,0.12605130277900195,0.6375670860217763,-0.20807822578083898,0.3150380759867778,2.0634904541746866,-1.3235454571828962,-1.0707258698669206,0.1851863594454151,0.8634235543333478,0.24150247433852054,1.5025963093065222,-2.2878565096456485,1.2066024890978364,2.411621659182668,0.17738862757875634,1.1551284696970068,-0.8662666166687629,1.5997880549264378,2.3247488187702494,-0.0313543048618275,-0.9279551146150026,0.16932949466500008,0.46414088600980835,-0.41644944145529533,-0.933820221609658,0.3013142547911265,1.66591729876168,-1.8303715181731808,-0.7982821148280002,2.3205811976469697,0.4814458815776598,2.534941174370491,-1.1456873235501608,-0.07354110602854524,0.8313678951166191,-0.6861647548154984,-1.115897775753925,-2.502794387869055,-0.22210760762261078,-1.2520497220358475],\"xaxis\":\"x5\",\"y\":[2.0169561332861865,-0.43429233380843885,-0.43356257673214427,2.1771186367256368,0.8095500574131534,-1.3091778124359188,-0.9681007237257846,1.2850120572596524,0.6546566964279855,0.4292531604116228,1.55998047068737,-1.6879332653443762,-0.7871322190035406,-0.06602796855804274,0.16586869842900476,-1.7825105809023518,1.2901942156942292,-0.7236095084983274,1.7244080945995413,0.44760717109182,0.5395070916223994,1.1343025665670685,-0.7095537282194786,-0.2966166494095116,0.0010495700976222509,-0.7947123610749705,-0.1589210289042382,0.16793701983142267,1.3262010480237127,2.1352207815848003,0.6238969068184332,1.113052664929787,0.9184277011033406,-0.17810406921678754,-1.3839417460700068,-0.6673675175730456,1.7913281891926909,-0.8437026591921084,0.4265553946591838,-0.21300472206775586,-1.221593864730558,0.07738142159786968,0.7869222799317079,1.4780736594918247,-0.3870450818133202,-1.7701064654367429,-1.1277662728039375,-0.11044164730278658,-0.788967271191509,-0.04196094873924995,0.06282355519876329,-0.6082088099411694,-0.6901270979407248,-0.7696480126480182,-1.3281858051629787,-1.0958610815463221,2.8327547840276606,1.4790521195365034,-0.684704166150316,-2.326517577175694,0.004961157236635512,-0.7018825524478743,-0.7407491647289562,-0.7191210994170975,-0.9772919152984749,-0.30756191972316915,-1.8234225171249907,0.3101977031305282,0.1881068925350721,-0.4482297721251149,-0.5622980431393981,1.541465255724142,0.9213261541265201,0.8769460884701058,0.4450520331045591,-0.37581018273079164,-1.2196759240469361,-0.4198841545862449,-0.9971941914757909,-3.0363584923982363,-0.10871855029411716,0.6999101412980412,0.8625677640418702,-2.266728223091762,0.06574609108208804,-1.1428512206836945,-1.5140403565383014,0.20871849945854495,0.25597677902045446,0.6062616572240755,1.7790634891411108,0.04450808939889438,0.8233658178055882,-0.6253975175487747,-1.150887769149947,0.3386958645987173,-0.18279014888271924,0.06545423066742678,-0.9851210924595009,-0.22728489546670294],\"yaxis\":\"y5\",\"type\":\"scatter\"},{\"histfunc\":\"count\",\"histnorm\":\"\",\"marker\":{\"color\":\"rgba(55, 128, 191, 1.0)\",\"line\":{\"color\":\"#4D5663\",\"width\":1.3}},\"name\":\"B\",\"nbinsx\":10,\"opacity\":0.8,\"orientation\":\"v\",\"x\":[2.0169561332861865,-0.43429233380843885,-0.43356257673214427,2.1771186367256368,0.8095500574131534,-1.3091778124359188,-0.9681007237257846,1.2850120572596524,0.6546566964279855,0.4292531604116228,1.55998047068737,-1.6879332653443762,-0.7871322190035406,-0.06602796855804274,0.16586869842900476,-1.7825105809023518,1.2901942156942292,-0.7236095084983274,1.7244080945995413,0.44760717109182,0.5395070916223994,1.1343025665670685,-0.7095537282194786,-0.2966166494095116,0.0010495700976222509,-0.7947123610749705,-0.1589210289042382,0.16793701983142267,1.3262010480237127,2.1352207815848003,0.6238969068184332,1.113052664929787,0.9184277011033406,-0.17810406921678754,-1.3839417460700068,-0.6673675175730456,1.7913281891926909,-0.8437026591921084,0.4265553946591838,-0.21300472206775586,-1.221593864730558,0.07738142159786968,0.7869222799317079,1.4780736594918247,-0.3870450818133202,-1.7701064654367429,-1.1277662728039375,-0.11044164730278658,-0.788967271191509,-0.04196094873924995,0.06282355519876329,-0.6082088099411694,-0.6901270979407248,-0.7696480126480182,-1.3281858051629787,-1.0958610815463221,2.8327547840276606,1.4790521195365034,-0.684704166150316,-2.326517577175694,0.004961157236635512,-0.7018825524478743,-0.7407491647289562,-0.7191210994170975,-0.9772919152984749,-0.30756191972316915,-1.8234225171249907,0.3101977031305282,0.1881068925350721,-0.4482297721251149,-0.5622980431393981,1.541465255724142,0.9213261541265201,0.8769460884701058,0.4450520331045591,-0.37581018273079164,-1.2196759240469361,-0.4198841545862449,-0.9971941914757909,-3.0363584923982363,-0.10871855029411716,0.6999101412980412,0.8625677640418702,-2.266728223091762,0.06574609108208804,-1.1428512206836945,-1.5140403565383014,0.20871849945854495,0.25597677902045446,0.6062616572240755,1.7790634891411108,0.04450808939889438,0.8233658178055882,-0.6253975175487747,-1.150887769149947,0.3386958645987173,-0.18279014888271924,0.06545423066742678,-0.9851210924595009,-0.22728489546670294],\"xaxis\":\"x6\",\"yaxis\":\"y6\",\"type\":\"histogram\"},{\"line\":{\"color\":\"rgba(128, 128, 128, 1.0)\",\"dash\":\"solid\",\"shape\":\"linear\",\"width\":1.3},\"marker\":{\"size\":2,\"symbol\":\"circle\"},\"mode\":\"markers\",\"name\":\"B\",\"text\":\"\",\"x\":[-1.1577737987756762,-0.20476595080494625,0.4785291568850827,-1.049734125039708,0.4300068110467301,1.097968763140523,-1.4833494711412478,1.7209499459661282,0.7788035564481742,1.517397294290723,0.2347246309441393,-0.7761895892157443,-2.054212294752564,0.38398809436835113,0.843160283997241,-1.039105133373964,-0.653103990267039,-0.8811868942054735,-1.2576629647434288,-1.7871724718463098,-1.4829165003834064,-0.2612305910895046,0.07960485447649558,-0.9129417380022947,0.40314647063579173,-1.0281978014509485,0.07407760046607764,1.4012430035024712,0.16905586387013996,-0.37896358478247877,1.4522024155909667,-0.8634725269983637,-0.866259811177869,0.739669512910617,1.2661250145471943,0.2404723312905949,-2.345009151983953,-0.6393692661828025,-0.8282095865689866,1.1495791124865098,0.5775963893324433,-0.19112191963172118,-0.12997132011387869,-0.4344321132064988,-0.2902928942428836,0.5891040575186413,2.1191378098914373,-0.9800028370543378,0.48286852194745195,1.1976878499910177,0.029652523881802166,-1.9742077413455394,-0.08376468314983695,-1.9216686832720937,1.2022418479585406,-0.5508535293759708,0.3450508859350295,-0.7773000032231051,0.8604839470691935,1.7707808072100537,-1.6961716564927511,0.26482781353737667,-0.46429884931418586,-0.28597015592476244,0.0816409511380148,0.8300613531825849,-0.5398743364301557,0.14191258088547384,-1.4657456730872889,0.20586309775465908,-1.8302693029027133,0.7251901655844724,-0.19119921799867812,1.9115866729271127,-0.13949806351718516,-1.5250194443222775,0.35046379178075016,-1.0169389130083448,-0.5391188103399921,-1.764140792644202,0.5383798960843764,0.1620277882257504,0.0825107687421268,-0.39151202480382136,-0.6339854169335964,1.45192400874128,-0.38521508922767606,-1.0446720598970058,0.4462581716253721,-0.9979837929134856,-0.5673137624814252,0.49199022917879587,1.0876917846859946,-1.5786288766796754,2.190087752823068,0.25234475052261124,0.8312505222465344,0.8766502386627013,2.9484800552978703,0.23606637522142704],\"xaxis\":\"x7\",\"y\":[2.0169561332861865,-0.43429233380843885,-0.43356257673214427,2.1771186367256368,0.8095500574131534,-1.3091778124359188,-0.9681007237257846,1.2850120572596524,0.6546566964279855,0.4292531604116228,1.55998047068737,-1.6879332653443762,-0.7871322190035406,-0.06602796855804274,0.16586869842900476,-1.7825105809023518,1.2901942156942292,-0.7236095084983274,1.7244080945995413,0.44760717109182,0.5395070916223994,1.1343025665670685,-0.7095537282194786,-0.2966166494095116,0.0010495700976222509,-0.7947123610749705,-0.1589210289042382,0.16793701983142267,1.3262010480237127,2.1352207815848003,0.6238969068184332,1.113052664929787,0.9184277011033406,-0.17810406921678754,-1.3839417460700068,-0.6673675175730456,1.7913281891926909,-0.8437026591921084,0.4265553946591838,-0.21300472206775586,-1.221593864730558,0.07738142159786968,0.7869222799317079,1.4780736594918247,-0.3870450818133202,-1.7701064654367429,-1.1277662728039375,-0.11044164730278658,-0.788967271191509,-0.04196094873924995,0.06282355519876329,-0.6082088099411694,-0.6901270979407248,-0.7696480126480182,-1.3281858051629787,-1.0958610815463221,2.8327547840276606,1.4790521195365034,-0.684704166150316,-2.326517577175694,0.004961157236635512,-0.7018825524478743,-0.7407491647289562,-0.7191210994170975,-0.9772919152984749,-0.30756191972316915,-1.8234225171249907,0.3101977031305282,0.1881068925350721,-0.4482297721251149,-0.5622980431393981,1.541465255724142,0.9213261541265201,0.8769460884701058,0.4450520331045591,-0.37581018273079164,-1.2196759240469361,-0.4198841545862449,-0.9971941914757909,-3.0363584923982363,-0.10871855029411716,0.6999101412980412,0.8625677640418702,-2.266728223091762,0.06574609108208804,-1.1428512206836945,-1.5140403565383014,0.20871849945854495,0.25597677902045446,0.6062616572240755,1.7790634891411108,0.04450808939889438,0.8233658178055882,-0.6253975175487747,-1.150887769149947,0.3386958645987173,-0.18279014888271924,0.06545423066742678,-0.9851210924595009,-0.22728489546670294],\"yaxis\":\"y7\",\"type\":\"scatter\"},{\"line\":{\"color\":\"rgba(128, 128, 128, 1.0)\",\"dash\":\"solid\",\"shape\":\"linear\",\"width\":1.3},\"marker\":{\"size\":2,\"symbol\":\"circle\"},\"mode\":\"markers\",\"name\":\"B\",\"text\":\"\",\"x\":[0.28239145039917646,1.8363822521912083,0.26794720325871424,0.10208004567712484,-0.15177375816615735,0.01681072921394639,1.1374501311799545,0.03548719406323302,-0.3796591510612054,0.1675610640271451,-0.7712154256001914,0.8839414817560541,0.18093526944239666,-0.17273830439621007,1.3492286448622257,-1.742415898628937,-0.3735273368343053,-0.5819153365423312,1.0959618172528736,-0.9042902629750132,-0.6306754349886508,-0.07135926057754212,0.33860606644118335,-0.7374752184064594,-0.6499440525674023,-0.0782242453318375,0.5061336844050206,-1.4592386604250434,0.3003253143844615,-0.6380236583925735,1.2203680047139338,-0.3780707481766195,0.008533258921761985,0.026150226761191192,-0.5538168810718875,-1.7620567730065355,-0.5397618067906942,-0.7952717843039396,-0.7361298652706514,-0.3052539776912539,0.36382380571077594,-0.21755249388116144,0.06000553035783175,2.2585117505323646,-1.850780490906206,0.21255731218839877,-0.821348188403252,0.4456412796320036,0.15741499552532798,1.5714750123303496,0.3187533108895991,-0.9678880186190438,-1.2958680248570562,0.5134275820754821,1.220822871455858,-0.9727570930633096,0.7144927152472524,-0.228848938817637,0.4115779820200336,-0.2770670591676926,-0.04566156965625598,0.08704565960001388,-0.5707134553647448,1.2249943460921675,1.2644211448069649,-2.659926175928382,2.169443788320486,-1.2313551676093555,-0.5588062572050628,0.625375093036721,-0.06322056261275152,1.0195717268348636,-0.6497140823092098,-1.6468284607363297,-0.7831062358595463,-0.6874725325665811,0.3043726161100774,-1.8450020616128964,1.1385444264294615,0.7524557072696625,0.744359589043357,0.9164114408746197,-2.079241475090012,-0.07444411250046001,-0.04767363805807925,1.8167382068251494,-0.5233565342439602,-0.3208454676184389,-1.4641124824188727,-2.342535646954361,-2.4622685742111474,0.842315295153011,-1.087325408739789,1.1151311006189522,1.0656061121684293,0.8476413479708031,0.788462248794487,-0.9618119284976607,0.009020060177266946,-0.5938041451769931],\"xaxis\":\"x8\",\"y\":[2.0169561332861865,-0.43429233380843885,-0.43356257673214427,2.1771186367256368,0.8095500574131534,-1.3091778124359188,-0.9681007237257846,1.2850120572596524,0.6546566964279855,0.4292531604116228,1.55998047068737,-1.6879332653443762,-0.7871322190035406,-0.06602796855804274,0.16586869842900476,-1.7825105809023518,1.2901942156942292,-0.7236095084983274,1.7244080945995413,0.44760717109182,0.5395070916223994,1.1343025665670685,-0.7095537282194786,-0.2966166494095116,0.0010495700976222509,-0.7947123610749705,-0.1589210289042382,0.16793701983142267,1.3262010480237127,2.1352207815848003,0.6238969068184332,1.113052664929787,0.9184277011033406,-0.17810406921678754,-1.3839417460700068,-0.6673675175730456,1.7913281891926909,-0.8437026591921084,0.4265553946591838,-0.21300472206775586,-1.221593864730558,0.07738142159786968,0.7869222799317079,1.4780736594918247,-0.3870450818133202,-1.7701064654367429,-1.1277662728039375,-0.11044164730278658,-0.788967271191509,-0.04196094873924995,0.06282355519876329,-0.6082088099411694,-0.6901270979407248,-0.7696480126480182,-1.3281858051629787,-1.0958610815463221,2.8327547840276606,1.4790521195365034,-0.684704166150316,-2.326517577175694,0.004961157236635512,-0.7018825524478743,-0.7407491647289562,-0.7191210994170975,-0.9772919152984749,-0.30756191972316915,-1.8234225171249907,0.3101977031305282,0.1881068925350721,-0.4482297721251149,-0.5622980431393981,1.541465255724142,0.9213261541265201,0.8769460884701058,0.4450520331045591,-0.37581018273079164,-1.2196759240469361,-0.4198841545862449,-0.9971941914757909,-3.0363584923982363,-0.10871855029411716,0.6999101412980412,0.8625677640418702,-2.266728223091762,0.06574609108208804,-1.1428512206836945,-1.5140403565383014,0.20871849945854495,0.25597677902045446,0.6062616572240755,1.7790634891411108,0.04450808939889438,0.8233658178055882,-0.6253975175487747,-1.150887769149947,0.3386958645987173,-0.18279014888271924,0.06545423066742678,-0.9851210924595009,-0.22728489546670294],\"yaxis\":\"y8\",\"type\":\"scatter\"},{\"line\":{\"color\":\"rgba(128, 128, 128, 1.0)\",\"dash\":\"solid\",\"shape\":\"linear\",\"width\":1.3},\"marker\":{\"size\":2,\"symbol\":\"circle\"},\"mode\":\"markers\",\"name\":\"C\",\"text\":\"\",\"x\":[0.15991766187357428,1.336472110488845,0.8087554615730191,0.031402204039810463,0.8713020449035054,-0.18301367589422302,0.2959982485702422,-0.6440423791992994,0.7195149636929072,2.117095783953832,-0.8861256853914704,-0.06883514519329981,0.05725830989514137,-1.5377659212125694,0.48135399584660393,0.178847943069043,0.7380656218836031,0.4986764901107574,0.15672813399413907,-0.38782096675302,-0.451502206533528,-0.2659064722708647,-0.4608990078051319,-0.8033154515498455,0.3138311621097309,-0.045844237771712884,-1.556194098903122,0.8653230717656981,-0.2051436145410211,-0.9435601487749822,0.6435578559899167,0.010746036139253729,0.9816546219518957,-0.7883760109979703,-0.4219866760514121,1.5103393223025015,-1.186530618454949,0.738364576058676,-0.9313352166354086,1.0989320382376717,0.9358976879967568,2.053460467240248,0.9355663920921059,0.1062269206415052,0.12419121758653327,0.4327896539954133,-0.0650547492445288,-1.4207367664943125,0.9275744459638233,0.0704916510444277,-1.7701057106976477,1.4151891723447745,-0.37427935543614516,-1.1177543449582599,-1.640180532656671,-0.4881493982367995,-1.1161729936527205,-1.2899556537355825,-1.244650063204049,-0.3110937126001046,0.12605130277900195,0.6375670860217763,-0.20807822578083898,0.3150380759867778,2.0634904541746866,-1.3235454571828962,-1.0707258698669206,0.1851863594454151,0.8634235543333478,0.24150247433852054,1.5025963093065222,-2.2878565096456485,1.2066024890978364,2.411621659182668,0.17738862757875634,1.1551284696970068,-0.8662666166687629,1.5997880549264378,2.3247488187702494,-0.0313543048618275,-0.9279551146150026,0.16932949466500008,0.46414088600980835,-0.41644944145529533,-0.933820221609658,0.3013142547911265,1.66591729876168,-1.8303715181731808,-0.7982821148280002,2.3205811976469697,0.4814458815776598,2.534941174370491,-1.1456873235501608,-0.07354110602854524,0.8313678951166191,-0.6861647548154984,-1.115897775753925,-2.502794387869055,-0.22210760762261078,-1.2520497220358475],\"xaxis\":\"x9\",\"y\":[-1.1577737987756762,-0.20476595080494625,0.4785291568850827,-1.049734125039708,0.4300068110467301,1.097968763140523,-1.4833494711412478,1.7209499459661282,0.7788035564481742,1.517397294290723,0.2347246309441393,-0.7761895892157443,-2.054212294752564,0.38398809436835113,0.843160283997241,-1.039105133373964,-0.653103990267039,-0.8811868942054735,-1.2576629647434288,-1.7871724718463098,-1.4829165003834064,-0.2612305910895046,0.07960485447649558,-0.9129417380022947,0.40314647063579173,-1.0281978014509485,0.07407760046607764,1.4012430035024712,0.16905586387013996,-0.37896358478247877,1.4522024155909667,-0.8634725269983637,-0.866259811177869,0.739669512910617,1.2661250145471943,0.2404723312905949,-2.345009151983953,-0.6393692661828025,-0.8282095865689866,1.1495791124865098,0.5775963893324433,-0.19112191963172118,-0.12997132011387869,-0.4344321132064988,-0.2902928942428836,0.5891040575186413,2.1191378098914373,-0.9800028370543378,0.48286852194745195,1.1976878499910177,0.029652523881802166,-1.9742077413455394,-0.08376468314983695,-1.9216686832720937,1.2022418479585406,-0.5508535293759708,0.3450508859350295,-0.7773000032231051,0.8604839470691935,1.7707808072100537,-1.6961716564927511,0.26482781353737667,-0.46429884931418586,-0.28597015592476244,0.0816409511380148,0.8300613531825849,-0.5398743364301557,0.14191258088547384,-1.4657456730872889,0.20586309775465908,-1.8302693029027133,0.7251901655844724,-0.19119921799867812,1.9115866729271127,-0.13949806351718516,-1.5250194443222775,0.35046379178075016,-1.0169389130083448,-0.5391188103399921,-1.764140792644202,0.5383798960843764,0.1620277882257504,0.0825107687421268,-0.39151202480382136,-0.6339854169335964,1.45192400874128,-0.38521508922767606,-1.0446720598970058,0.4462581716253721,-0.9979837929134856,-0.5673137624814252,0.49199022917879587,1.0876917846859946,-1.5786288766796754,2.190087752823068,0.25234475052261124,0.8312505222465344,0.8766502386627013,2.9484800552978703,0.23606637522142704],\"yaxis\":\"y9\",\"type\":\"scatter\"},{\"line\":{\"color\":\"rgba(128, 128, 128, 1.0)\",\"dash\":\"solid\",\"shape\":\"linear\",\"width\":1.3},\"marker\":{\"size\":2,\"symbol\":\"circle\"},\"mode\":\"markers\",\"name\":\"C\",\"text\":\"\",\"x\":[2.0169561332861865,-0.43429233380843885,-0.43356257673214427,2.1771186367256368,0.8095500574131534,-1.3091778124359188,-0.9681007237257846,1.2850120572596524,0.6546566964279855,0.4292531604116228,1.55998047068737,-1.6879332653443762,-0.7871322190035406,-0.06602796855804274,0.16586869842900476,-1.7825105809023518,1.2901942156942292,-0.7236095084983274,1.7244080945995413,0.44760717109182,0.5395070916223994,1.1343025665670685,-0.7095537282194786,-0.2966166494095116,0.0010495700976222509,-0.7947123610749705,-0.1589210289042382,0.16793701983142267,1.3262010480237127,2.1352207815848003,0.6238969068184332,1.113052664929787,0.9184277011033406,-0.17810406921678754,-1.3839417460700068,-0.6673675175730456,1.7913281891926909,-0.8437026591921084,0.4265553946591838,-0.21300472206775586,-1.221593864730558,0.07738142159786968,0.7869222799317079,1.4780736594918247,-0.3870450818133202,-1.7701064654367429,-1.1277662728039375,-0.11044164730278658,-0.788967271191509,-0.04196094873924995,0.06282355519876329,-0.6082088099411694,-0.6901270979407248,-0.7696480126480182,-1.3281858051629787,-1.0958610815463221,2.8327547840276606,1.4790521195365034,-0.684704166150316,-2.326517577175694,0.004961157236635512,-0.7018825524478743,-0.7407491647289562,-0.7191210994170975,-0.9772919152984749,-0.30756191972316915,-1.8234225171249907,0.3101977031305282,0.1881068925350721,-0.4482297721251149,-0.5622980431393981,1.541465255724142,0.9213261541265201,0.8769460884701058,0.4450520331045591,-0.37581018273079164,-1.2196759240469361,-0.4198841545862449,-0.9971941914757909,-3.0363584923982363,-0.10871855029411716,0.6999101412980412,0.8625677640418702,-2.266728223091762,0.06574609108208804,-1.1428512206836945,-1.5140403565383014,0.20871849945854495,0.25597677902045446,0.6062616572240755,1.7790634891411108,0.04450808939889438,0.8233658178055882,-0.6253975175487747,-1.150887769149947,0.3386958645987173,-0.18279014888271924,0.06545423066742678,-0.9851210924595009,-0.22728489546670294],\"xaxis\":\"x10\",\"y\":[-1.1577737987756762,-0.20476595080494625,0.4785291568850827,-1.049734125039708,0.4300068110467301,1.097968763140523,-1.4833494711412478,1.7209499459661282,0.7788035564481742,1.517397294290723,0.2347246309441393,-0.7761895892157443,-2.054212294752564,0.38398809436835113,0.843160283997241,-1.039105133373964,-0.653103990267039,-0.8811868942054735,-1.2576629647434288,-1.7871724718463098,-1.4829165003834064,-0.2612305910895046,0.07960485447649558,-0.9129417380022947,0.40314647063579173,-1.0281978014509485,0.07407760046607764,1.4012430035024712,0.16905586387013996,-0.37896358478247877,1.4522024155909667,-0.8634725269983637,-0.866259811177869,0.739669512910617,1.2661250145471943,0.2404723312905949,-2.345009151983953,-0.6393692661828025,-0.8282095865689866,1.1495791124865098,0.5775963893324433,-0.19112191963172118,-0.12997132011387869,-0.4344321132064988,-0.2902928942428836,0.5891040575186413,2.1191378098914373,-0.9800028370543378,0.48286852194745195,1.1976878499910177,0.029652523881802166,-1.9742077413455394,-0.08376468314983695,-1.9216686832720937,1.2022418479585406,-0.5508535293759708,0.3450508859350295,-0.7773000032231051,0.8604839470691935,1.7707808072100537,-1.6961716564927511,0.26482781353737667,-0.46429884931418586,-0.28597015592476244,0.0816409511380148,0.8300613531825849,-0.5398743364301557,0.14191258088547384,-1.4657456730872889,0.20586309775465908,-1.8302693029027133,0.7251901655844724,-0.19119921799867812,1.9115866729271127,-0.13949806351718516,-1.5250194443222775,0.35046379178075016,-1.0169389130083448,-0.5391188103399921,-1.764140792644202,0.5383798960843764,0.1620277882257504,0.0825107687421268,-0.39151202480382136,-0.6339854169335964,1.45192400874128,-0.38521508922767606,-1.0446720598970058,0.4462581716253721,-0.9979837929134856,-0.5673137624814252,0.49199022917879587,1.0876917846859946,-1.5786288766796754,2.190087752823068,0.25234475052261124,0.8312505222465344,0.8766502386627013,2.9484800552978703,0.23606637522142704],\"yaxis\":\"y10\",\"type\":\"scatter\"},{\"histfunc\":\"count\",\"histnorm\":\"\",\"marker\":{\"color\":\"rgba(50, 171, 96, 1.0)\",\"line\":{\"color\":\"#4D5663\",\"width\":1.3}},\"name\":\"C\",\"nbinsx\":10,\"opacity\":0.8,\"orientation\":\"v\",\"x\":[-1.1577737987756762,-0.20476595080494625,0.4785291568850827,-1.049734125039708,0.4300068110467301,1.097968763140523,-1.4833494711412478,1.7209499459661282,0.7788035564481742,1.517397294290723,0.2347246309441393,-0.7761895892157443,-2.054212294752564,0.38398809436835113,0.843160283997241,-1.039105133373964,-0.653103990267039,-0.8811868942054735,-1.2576629647434288,-1.7871724718463098,-1.4829165003834064,-0.2612305910895046,0.07960485447649558,-0.9129417380022947,0.40314647063579173,-1.0281978014509485,0.07407760046607764,1.4012430035024712,0.16905586387013996,-0.37896358478247877,1.4522024155909667,-0.8634725269983637,-0.866259811177869,0.739669512910617,1.2661250145471943,0.2404723312905949,-2.345009151983953,-0.6393692661828025,-0.8282095865689866,1.1495791124865098,0.5775963893324433,-0.19112191963172118,-0.12997132011387869,-0.4344321132064988,-0.2902928942428836,0.5891040575186413,2.1191378098914373,-0.9800028370543378,0.48286852194745195,1.1976878499910177,0.029652523881802166,-1.9742077413455394,-0.08376468314983695,-1.9216686832720937,1.2022418479585406,-0.5508535293759708,0.3450508859350295,-0.7773000032231051,0.8604839470691935,1.7707808072100537,-1.6961716564927511,0.26482781353737667,-0.46429884931418586,-0.28597015592476244,0.0816409511380148,0.8300613531825849,-0.5398743364301557,0.14191258088547384,-1.4657456730872889,0.20586309775465908,-1.8302693029027133,0.7251901655844724,-0.19119921799867812,1.9115866729271127,-0.13949806351718516,-1.5250194443222775,0.35046379178075016,-1.0169389130083448,-0.5391188103399921,-1.764140792644202,0.5383798960843764,0.1620277882257504,0.0825107687421268,-0.39151202480382136,-0.6339854169335964,1.45192400874128,-0.38521508922767606,-1.0446720598970058,0.4462581716253721,-0.9979837929134856,-0.5673137624814252,0.49199022917879587,1.0876917846859946,-1.5786288766796754,2.190087752823068,0.25234475052261124,0.8312505222465344,0.8766502386627013,2.9484800552978703,0.23606637522142704],\"xaxis\":\"x11\",\"yaxis\":\"y11\",\"type\":\"histogram\"},{\"line\":{\"color\":\"rgba(128, 128, 128, 1.0)\",\"dash\":\"solid\",\"shape\":\"linear\",\"width\":1.3},\"marker\":{\"size\":2,\"symbol\":\"circle\"},\"mode\":\"markers\",\"name\":\"C\",\"text\":\"\",\"x\":[0.28239145039917646,1.8363822521912083,0.26794720325871424,0.10208004567712484,-0.15177375816615735,0.01681072921394639,1.1374501311799545,0.03548719406323302,-0.3796591510612054,0.1675610640271451,-0.7712154256001914,0.8839414817560541,0.18093526944239666,-0.17273830439621007,1.3492286448622257,-1.742415898628937,-0.3735273368343053,-0.5819153365423312,1.0959618172528736,-0.9042902629750132,-0.6306754349886508,-0.07135926057754212,0.33860606644118335,-0.7374752184064594,-0.6499440525674023,-0.0782242453318375,0.5061336844050206,-1.4592386604250434,0.3003253143844615,-0.6380236583925735,1.2203680047139338,-0.3780707481766195,0.008533258921761985,0.026150226761191192,-0.5538168810718875,-1.7620567730065355,-0.5397618067906942,-0.7952717843039396,-0.7361298652706514,-0.3052539776912539,0.36382380571077594,-0.21755249388116144,0.06000553035783175,2.2585117505323646,-1.850780490906206,0.21255731218839877,-0.821348188403252,0.4456412796320036,0.15741499552532798,1.5714750123303496,0.3187533108895991,-0.9678880186190438,-1.2958680248570562,0.5134275820754821,1.220822871455858,-0.9727570930633096,0.7144927152472524,-0.228848938817637,0.4115779820200336,-0.2770670591676926,-0.04566156965625598,0.08704565960001388,-0.5707134553647448,1.2249943460921675,1.2644211448069649,-2.659926175928382,2.169443788320486,-1.2313551676093555,-0.5588062572050628,0.625375093036721,-0.06322056261275152,1.0195717268348636,-0.6497140823092098,-1.6468284607363297,-0.7831062358595463,-0.6874725325665811,0.3043726161100774,-1.8450020616128964,1.1385444264294615,0.7524557072696625,0.744359589043357,0.9164114408746197,-2.079241475090012,-0.07444411250046001,-0.04767363805807925,1.8167382068251494,-0.5233565342439602,-0.3208454676184389,-1.4641124824188727,-2.342535646954361,-2.4622685742111474,0.842315295153011,-1.087325408739789,1.1151311006189522,1.0656061121684293,0.8476413479708031,0.788462248794487,-0.9618119284976607,0.009020060177266946,-0.5938041451769931],\"xaxis\":\"x12\",\"y\":[-1.1577737987756762,-0.20476595080494625,0.4785291568850827,-1.049734125039708,0.4300068110467301,1.097968763140523,-1.4833494711412478,1.7209499459661282,0.7788035564481742,1.517397294290723,0.2347246309441393,-0.7761895892157443,-2.054212294752564,0.38398809436835113,0.843160283997241,-1.039105133373964,-0.653103990267039,-0.8811868942054735,-1.2576629647434288,-1.7871724718463098,-1.4829165003834064,-0.2612305910895046,0.07960485447649558,-0.9129417380022947,0.40314647063579173,-1.0281978014509485,0.07407760046607764,1.4012430035024712,0.16905586387013996,-0.37896358478247877,1.4522024155909667,-0.8634725269983637,-0.866259811177869,0.739669512910617,1.2661250145471943,0.2404723312905949,-2.345009151983953,-0.6393692661828025,-0.8282095865689866,1.1495791124865098,0.5775963893324433,-0.19112191963172118,-0.12997132011387869,-0.4344321132064988,-0.2902928942428836,0.5891040575186413,2.1191378098914373,-0.9800028370543378,0.48286852194745195,1.1976878499910177,0.029652523881802166,-1.9742077413455394,-0.08376468314983695,-1.9216686832720937,1.2022418479585406,-0.5508535293759708,0.3450508859350295,-0.7773000032231051,0.8604839470691935,1.7707808072100537,-1.6961716564927511,0.26482781353737667,-0.46429884931418586,-0.28597015592476244,0.0816409511380148,0.8300613531825849,-0.5398743364301557,0.14191258088547384,-1.4657456730872889,0.20586309775465908,-1.8302693029027133,0.7251901655844724,-0.19119921799867812,1.9115866729271127,-0.13949806351718516,-1.5250194443222775,0.35046379178075016,-1.0169389130083448,-0.5391188103399921,-1.764140792644202,0.5383798960843764,0.1620277882257504,0.0825107687421268,-0.39151202480382136,-0.6339854169335964,1.45192400874128,-0.38521508922767606,-1.0446720598970058,0.4462581716253721,-0.9979837929134856,-0.5673137624814252,0.49199022917879587,1.0876917846859946,-1.5786288766796754,2.190087752823068,0.25234475052261124,0.8312505222465344,0.8766502386627013,2.9484800552978703,0.23606637522142704],\"yaxis\":\"y12\",\"type\":\"scatter\"},{\"line\":{\"color\":\"rgba(128, 128, 128, 1.0)\",\"dash\":\"solid\",\"shape\":\"linear\",\"width\":1.3},\"marker\":{\"size\":2,\"symbol\":\"circle\"},\"mode\":\"markers\",\"name\":\"D\",\"text\":\"\",\"x\":[0.15991766187357428,1.336472110488845,0.8087554615730191,0.031402204039810463,0.8713020449035054,-0.18301367589422302,0.2959982485702422,-0.6440423791992994,0.7195149636929072,2.117095783953832,-0.8861256853914704,-0.06883514519329981,0.05725830989514137,-1.5377659212125694,0.48135399584660393,0.178847943069043,0.7380656218836031,0.4986764901107574,0.15672813399413907,-0.38782096675302,-0.451502206533528,-0.2659064722708647,-0.4608990078051319,-0.8033154515498455,0.3138311621097309,-0.045844237771712884,-1.556194098903122,0.8653230717656981,-0.2051436145410211,-0.9435601487749822,0.6435578559899167,0.010746036139253729,0.9816546219518957,-0.7883760109979703,-0.4219866760514121,1.5103393223025015,-1.186530618454949,0.738364576058676,-0.9313352166354086,1.0989320382376717,0.9358976879967568,2.053460467240248,0.9355663920921059,0.1062269206415052,0.12419121758653327,0.4327896539954133,-0.0650547492445288,-1.4207367664943125,0.9275744459638233,0.0704916510444277,-1.7701057106976477,1.4151891723447745,-0.37427935543614516,-1.1177543449582599,-1.640180532656671,-0.4881493982367995,-1.1161729936527205,-1.2899556537355825,-1.244650063204049,-0.3110937126001046,0.12605130277900195,0.6375670860217763,-0.20807822578083898,0.3150380759867778,2.0634904541746866,-1.3235454571828962,-1.0707258698669206,0.1851863594454151,0.8634235543333478,0.24150247433852054,1.5025963093065222,-2.2878565096456485,1.2066024890978364,2.411621659182668,0.17738862757875634,1.1551284696970068,-0.8662666166687629,1.5997880549264378,2.3247488187702494,-0.0313543048618275,-0.9279551146150026,0.16932949466500008,0.46414088600980835,-0.41644944145529533,-0.933820221609658,0.3013142547911265,1.66591729876168,-1.8303715181731808,-0.7982821148280002,2.3205811976469697,0.4814458815776598,2.534941174370491,-1.1456873235501608,-0.07354110602854524,0.8313678951166191,-0.6861647548154984,-1.115897775753925,-2.502794387869055,-0.22210760762261078,-1.2520497220358475],\"xaxis\":\"x13\",\"y\":[0.28239145039917646,1.8363822521912083,0.26794720325871424,0.10208004567712484,-0.15177375816615735,0.01681072921394639,1.1374501311799545,0.03548719406323302,-0.3796591510612054,0.1675610640271451,-0.7712154256001914,0.8839414817560541,0.18093526944239666,-0.17273830439621007,1.3492286448622257,-1.742415898628937,-0.3735273368343053,-0.5819153365423312,1.0959618172528736,-0.9042902629750132,-0.6306754349886508,-0.07135926057754212,0.33860606644118335,-0.7374752184064594,-0.6499440525674023,-0.0782242453318375,0.5061336844050206,-1.4592386604250434,0.3003253143844615,-0.6380236583925735,1.2203680047139338,-0.3780707481766195,0.008533258921761985,0.026150226761191192,-0.5538168810718875,-1.7620567730065355,-0.5397618067906942,-0.7952717843039396,-0.7361298652706514,-0.3052539776912539,0.36382380571077594,-0.21755249388116144,0.06000553035783175,2.2585117505323646,-1.850780490906206,0.21255731218839877,-0.821348188403252,0.4456412796320036,0.15741499552532798,1.5714750123303496,0.3187533108895991,-0.9678880186190438,-1.2958680248570562,0.5134275820754821,1.220822871455858,-0.9727570930633096,0.7144927152472524,-0.228848938817637,0.4115779820200336,-0.2770670591676926,-0.04566156965625598,0.08704565960001388,-0.5707134553647448,1.2249943460921675,1.2644211448069649,-2.659926175928382,2.169443788320486,-1.2313551676093555,-0.5588062572050628,0.625375093036721,-0.06322056261275152,1.0195717268348636,-0.6497140823092098,-1.6468284607363297,-0.7831062358595463,-0.6874725325665811,0.3043726161100774,-1.8450020616128964,1.1385444264294615,0.7524557072696625,0.744359589043357,0.9164114408746197,-2.079241475090012,-0.07444411250046001,-0.04767363805807925,1.8167382068251494,-0.5233565342439602,-0.3208454676184389,-1.4641124824188727,-2.342535646954361,-2.4622685742111474,0.842315295153011,-1.087325408739789,1.1151311006189522,1.0656061121684293,0.8476413479708031,0.788462248794487,-0.9618119284976607,0.009020060177266946,-0.5938041451769931],\"yaxis\":\"y13\",\"type\":\"scatter\"},{\"line\":{\"color\":\"rgba(128, 128, 128, 1.0)\",\"dash\":\"solid\",\"shape\":\"linear\",\"width\":1.3},\"marker\":{\"size\":2,\"symbol\":\"circle\"},\"mode\":\"markers\",\"name\":\"D\",\"text\":\"\",\"x\":[2.0169561332861865,-0.43429233380843885,-0.43356257673214427,2.1771186367256368,0.8095500574131534,-1.3091778124359188,-0.9681007237257846,1.2850120572596524,0.6546566964279855,0.4292531604116228,1.55998047068737,-1.6879332653443762,-0.7871322190035406,-0.06602796855804274,0.16586869842900476,-1.7825105809023518,1.2901942156942292,-0.7236095084983274,1.7244080945995413,0.44760717109182,0.5395070916223994,1.1343025665670685,-0.7095537282194786,-0.2966166494095116,0.0010495700976222509,-0.7947123610749705,-0.1589210289042382,0.16793701983142267,1.3262010480237127,2.1352207815848003,0.6238969068184332,1.113052664929787,0.9184277011033406,-0.17810406921678754,-1.3839417460700068,-0.6673675175730456,1.7913281891926909,-0.8437026591921084,0.4265553946591838,-0.21300472206775586,-1.221593864730558,0.07738142159786968,0.7869222799317079,1.4780736594918247,-0.3870450818133202,-1.7701064654367429,-1.1277662728039375,-0.11044164730278658,-0.788967271191509,-0.04196094873924995,0.06282355519876329,-0.6082088099411694,-0.6901270979407248,-0.7696480126480182,-1.3281858051629787,-1.0958610815463221,2.8327547840276606,1.4790521195365034,-0.684704166150316,-2.326517577175694,0.004961157236635512,-0.7018825524478743,-0.7407491647289562,-0.7191210994170975,-0.9772919152984749,-0.30756191972316915,-1.8234225171249907,0.3101977031305282,0.1881068925350721,-0.4482297721251149,-0.5622980431393981,1.541465255724142,0.9213261541265201,0.8769460884701058,0.4450520331045591,-0.37581018273079164,-1.2196759240469361,-0.4198841545862449,-0.9971941914757909,-3.0363584923982363,-0.10871855029411716,0.6999101412980412,0.8625677640418702,-2.266728223091762,0.06574609108208804,-1.1428512206836945,-1.5140403565383014,0.20871849945854495,0.25597677902045446,0.6062616572240755,1.7790634891411108,0.04450808939889438,0.8233658178055882,-0.6253975175487747,-1.150887769149947,0.3386958645987173,-0.18279014888271924,0.06545423066742678,-0.9851210924595009,-0.22728489546670294],\"xaxis\":\"x14\",\"y\":[0.28239145039917646,1.8363822521912083,0.26794720325871424,0.10208004567712484,-0.15177375816615735,0.01681072921394639,1.1374501311799545,0.03548719406323302,-0.3796591510612054,0.1675610640271451,-0.7712154256001914,0.8839414817560541,0.18093526944239666,-0.17273830439621007,1.3492286448622257,-1.742415898628937,-0.3735273368343053,-0.5819153365423312,1.0959618172528736,-0.9042902629750132,-0.6306754349886508,-0.07135926057754212,0.33860606644118335,-0.7374752184064594,-0.6499440525674023,-0.0782242453318375,0.5061336844050206,-1.4592386604250434,0.3003253143844615,-0.6380236583925735,1.2203680047139338,-0.3780707481766195,0.008533258921761985,0.026150226761191192,-0.5538168810718875,-1.7620567730065355,-0.5397618067906942,-0.7952717843039396,-0.7361298652706514,-0.3052539776912539,0.36382380571077594,-0.21755249388116144,0.06000553035783175,2.2585117505323646,-1.850780490906206,0.21255731218839877,-0.821348188403252,0.4456412796320036,0.15741499552532798,1.5714750123303496,0.3187533108895991,-0.9678880186190438,-1.2958680248570562,0.5134275820754821,1.220822871455858,-0.9727570930633096,0.7144927152472524,-0.228848938817637,0.4115779820200336,-0.2770670591676926,-0.04566156965625598,0.08704565960001388,-0.5707134553647448,1.2249943460921675,1.2644211448069649,-2.659926175928382,2.169443788320486,-1.2313551676093555,-0.5588062572050628,0.625375093036721,-0.06322056261275152,1.0195717268348636,-0.6497140823092098,-1.6468284607363297,-0.7831062358595463,-0.6874725325665811,0.3043726161100774,-1.8450020616128964,1.1385444264294615,0.7524557072696625,0.744359589043357,0.9164114408746197,-2.079241475090012,-0.07444411250046001,-0.04767363805807925,1.8167382068251494,-0.5233565342439602,-0.3208454676184389,-1.4641124824188727,-2.342535646954361,-2.4622685742111474,0.842315295153011,-1.087325408739789,1.1151311006189522,1.0656061121684293,0.8476413479708031,0.788462248794487,-0.9618119284976607,0.009020060177266946,-0.5938041451769931],\"yaxis\":\"y14\",\"type\":\"scatter\"},{\"line\":{\"color\":\"rgba(128, 128, 128, 1.0)\",\"dash\":\"solid\",\"shape\":\"linear\",\"width\":1.3},\"marker\":{\"size\":2,\"symbol\":\"circle\"},\"mode\":\"markers\",\"name\":\"D\",\"text\":\"\",\"x\":[-1.1577737987756762,-0.20476595080494625,0.4785291568850827,-1.049734125039708,0.4300068110467301,1.097968763140523,-1.4833494711412478,1.7209499459661282,0.7788035564481742,1.517397294290723,0.2347246309441393,-0.7761895892157443,-2.054212294752564,0.38398809436835113,0.843160283997241,-1.039105133373964,-0.653103990267039,-0.8811868942054735,-1.2576629647434288,-1.7871724718463098,-1.4829165003834064,-0.2612305910895046,0.07960485447649558,-0.9129417380022947,0.40314647063579173,-1.0281978014509485,0.07407760046607764,1.4012430035024712,0.16905586387013996,-0.37896358478247877,1.4522024155909667,-0.8634725269983637,-0.866259811177869,0.739669512910617,1.2661250145471943,0.2404723312905949,-2.345009151983953,-0.6393692661828025,-0.8282095865689866,1.1495791124865098,0.5775963893324433,-0.19112191963172118,-0.12997132011387869,-0.4344321132064988,-0.2902928942428836,0.5891040575186413,2.1191378098914373,-0.9800028370543378,0.48286852194745195,1.1976878499910177,0.029652523881802166,-1.9742077413455394,-0.08376468314983695,-1.9216686832720937,1.2022418479585406,-0.5508535293759708,0.3450508859350295,-0.7773000032231051,0.8604839470691935,1.7707808072100537,-1.6961716564927511,0.26482781353737667,-0.46429884931418586,-0.28597015592476244,0.0816409511380148,0.8300613531825849,-0.5398743364301557,0.14191258088547384,-1.4657456730872889,0.20586309775465908,-1.8302693029027133,0.7251901655844724,-0.19119921799867812,1.9115866729271127,-0.13949806351718516,-1.5250194443222775,0.35046379178075016,-1.0169389130083448,-0.5391188103399921,-1.764140792644202,0.5383798960843764,0.1620277882257504,0.0825107687421268,-0.39151202480382136,-0.6339854169335964,1.45192400874128,-0.38521508922767606,-1.0446720598970058,0.4462581716253721,-0.9979837929134856,-0.5673137624814252,0.49199022917879587,1.0876917846859946,-1.5786288766796754,2.190087752823068,0.25234475052261124,0.8312505222465344,0.8766502386627013,2.9484800552978703,0.23606637522142704],\"xaxis\":\"x15\",\"y\":[0.28239145039917646,1.8363822521912083,0.26794720325871424,0.10208004567712484,-0.15177375816615735,0.01681072921394639,1.1374501311799545,0.03548719406323302,-0.3796591510612054,0.1675610640271451,-0.7712154256001914,0.8839414817560541,0.18093526944239666,-0.17273830439621007,1.3492286448622257,-1.742415898628937,-0.3735273368343053,-0.5819153365423312,1.0959618172528736,-0.9042902629750132,-0.6306754349886508,-0.07135926057754212,0.33860606644118335,-0.7374752184064594,-0.6499440525674023,-0.0782242453318375,0.5061336844050206,-1.4592386604250434,0.3003253143844615,-0.6380236583925735,1.2203680047139338,-0.3780707481766195,0.008533258921761985,0.026150226761191192,-0.5538168810718875,-1.7620567730065355,-0.5397618067906942,-0.7952717843039396,-0.7361298652706514,-0.3052539776912539,0.36382380571077594,-0.21755249388116144,0.06000553035783175,2.2585117505323646,-1.850780490906206,0.21255731218839877,-0.821348188403252,0.4456412796320036,0.15741499552532798,1.5714750123303496,0.3187533108895991,-0.9678880186190438,-1.2958680248570562,0.5134275820754821,1.220822871455858,-0.9727570930633096,0.7144927152472524,-0.228848938817637,0.4115779820200336,-0.2770670591676926,-0.04566156965625598,0.08704565960001388,-0.5707134553647448,1.2249943460921675,1.2644211448069649,-2.659926175928382,2.169443788320486,-1.2313551676093555,-0.5588062572050628,0.625375093036721,-0.06322056261275152,1.0195717268348636,-0.6497140823092098,-1.6468284607363297,-0.7831062358595463,-0.6874725325665811,0.3043726161100774,-1.8450020616128964,1.1385444264294615,0.7524557072696625,0.744359589043357,0.9164114408746197,-2.079241475090012,-0.07444411250046001,-0.04767363805807925,1.8167382068251494,-0.5233565342439602,-0.3208454676184389,-1.4641124824188727,-2.342535646954361,-2.4622685742111474,0.842315295153011,-1.087325408739789,1.1151311006189522,1.0656061121684293,0.8476413479708031,0.788462248794487,-0.9618119284976607,0.009020060177266946,-0.5938041451769931],\"yaxis\":\"y15\",\"type\":\"scatter\"},{\"histfunc\":\"count\",\"histnorm\":\"\",\"marker\":{\"color\":\"rgba(128, 0, 128, 1.0)\",\"line\":{\"color\":\"#4D5663\",\"width\":1.3}},\"name\":\"D\",\"nbinsx\":10,\"opacity\":0.8,\"orientation\":\"v\",\"x\":[0.28239145039917646,1.8363822521912083,0.26794720325871424,0.10208004567712484,-0.15177375816615735,0.01681072921394639,1.1374501311799545,0.03548719406323302,-0.3796591510612054,0.1675610640271451,-0.7712154256001914,0.8839414817560541,0.18093526944239666,-0.17273830439621007,1.3492286448622257,-1.742415898628937,-0.3735273368343053,-0.5819153365423312,1.0959618172528736,-0.9042902629750132,-0.6306754349886508,-0.07135926057754212,0.33860606644118335,-0.7374752184064594,-0.6499440525674023,-0.0782242453318375,0.5061336844050206,-1.4592386604250434,0.3003253143844615,-0.6380236583925735,1.2203680047139338,-0.3780707481766195,0.008533258921761985,0.026150226761191192,-0.5538168810718875,-1.7620567730065355,-0.5397618067906942,-0.7952717843039396,-0.7361298652706514,-0.3052539776912539,0.36382380571077594,-0.21755249388116144,0.06000553035783175,2.2585117505323646,-1.850780490906206,0.21255731218839877,-0.821348188403252,0.4456412796320036,0.15741499552532798,1.5714750123303496,0.3187533108895991,-0.9678880186190438,-1.2958680248570562,0.5134275820754821,1.220822871455858,-0.9727570930633096,0.7144927152472524,-0.228848938817637,0.4115779820200336,-0.2770670591676926,-0.04566156965625598,0.08704565960001388,-0.5707134553647448,1.2249943460921675,1.2644211448069649,-2.659926175928382,2.169443788320486,-1.2313551676093555,-0.5588062572050628,0.625375093036721,-0.06322056261275152,1.0195717268348636,-0.6497140823092098,-1.6468284607363297,-0.7831062358595463,-0.6874725325665811,0.3043726161100774,-1.8450020616128964,1.1385444264294615,0.7524557072696625,0.744359589043357,0.9164114408746197,-2.079241475090012,-0.07444411250046001,-0.04767363805807925,1.8167382068251494,-0.5233565342439602,-0.3208454676184389,-1.4641124824188727,-2.342535646954361,-2.4622685742111474,0.842315295153011,-1.087325408739789,1.1151311006189522,1.0656061121684293,0.8476413479708031,0.788462248794487,-0.9618119284976607,0.009020060177266946,-0.5938041451769931],\"xaxis\":\"x16\",\"yaxis\":\"y16\",\"type\":\"histogram\"}],                        {\"bargap\":0.02,\"legend\":{\"bgcolor\":\"#F5F6F9\",\"font\":{\"color\":\"#4D5663\"}},\"paper_bgcolor\":\"#F5F6F9\",\"plot_bgcolor\":\"#F5F6F9\",\"showlegend\":false,\"template\":{\"data\":{\"barpolar\":[{\"marker\":{\"line\":{\"color\":\"#E5ECF6\",\"width\":0.5},\"pattern\":{\"fillmode\":\"overlay\",\"size\":10,\"solidity\":0.2}},\"type\":\"barpolar\"}],\"bar\":[{\"error_x\":{\"color\":\"#2a3f5f\"},\"error_y\":{\"color\":\"#2a3f5f\"},\"marker\":{\"line\":{\"color\":\"#E5ECF6\",\"width\":0.5},\"pattern\":{\"fillmode\":\"overlay\",\"size\":10,\"solidity\":0.2}},\"type\":\"bar\"}],\"carpet\":[{\"aaxis\":{\"endlinecolor\":\"#2a3f5f\",\"gridcolor\":\"white\",\"linecolor\":\"white\",\"minorgridcolor\":\"white\",\"startlinecolor\":\"#2a3f5f\"},\"baxis\":{\"endlinecolor\":\"#2a3f5f\",\"gridcolor\":\"white\",\"linecolor\":\"white\",\"minorgridcolor\":\"white\",\"startlinecolor\":\"#2a3f5f\"},\"type\":\"carpet\"}],\"choropleth\":[{\"colorbar\":{\"outlinewidth\":0,\"ticks\":\"\"},\"type\":\"choropleth\"}],\"contourcarpet\":[{\"colorbar\":{\"outlinewidth\":0,\"ticks\":\"\"},\"type\":\"contourcarpet\"}],\"contour\":[{\"colorbar\":{\"outlinewidth\":0,\"ticks\":\"\"},\"colorscale\":[[0.0,\"#0d0887\"],[0.1111111111111111,\"#46039f\"],[0.2222222222222222,\"#7201a8\"],[0.3333333333333333,\"#9c179e\"],[0.4444444444444444,\"#bd3786\"],[0.5555555555555556,\"#d8576b\"],[0.6666666666666666,\"#ed7953\"],[0.7777777777777778,\"#fb9f3a\"],[0.8888888888888888,\"#fdca26\"],[1.0,\"#f0f921\"]],\"type\":\"contour\"}],\"heatmapgl\":[{\"colorbar\":{\"outlinewidth\":0,\"ticks\":\"\"},\"colorscale\":[[0.0,\"#0d0887\"],[0.1111111111111111,\"#46039f\"],[0.2222222222222222,\"#7201a8\"],[0.3333333333333333,\"#9c179e\"],[0.4444444444444444,\"#bd3786\"],[0.5555555555555556,\"#d8576b\"],[0.6666666666666666,\"#ed7953\"],[0.7777777777777778,\"#fb9f3a\"],[0.8888888888888888,\"#fdca26\"],[1.0,\"#f0f921\"]],\"type\":\"heatmapgl\"}],\"heatmap\":[{\"colorbar\":{\"outlinewidth\":0,\"ticks\":\"\"},\"colorscale\":[[0.0,\"#0d0887\"],[0.1111111111111111,\"#46039f\"],[0.2222222222222222,\"#7201a8\"],[0.3333333333333333,\"#9c179e\"],[0.4444444444444444,\"#bd3786\"],[0.5555555555555556,\"#d8576b\"],[0.6666666666666666,\"#ed7953\"],[0.7777777777777778,\"#fb9f3a\"],[0.8888888888888888,\"#fdca26\"],[1.0,\"#f0f921\"]],\"type\":\"heatmap\"}],\"histogram2dcontour\":[{\"colorbar\":{\"outlinewidth\":0,\"ticks\":\"\"},\"colorscale\":[[0.0,\"#0d0887\"],[0.1111111111111111,\"#46039f\"],[0.2222222222222222,\"#7201a8\"],[0.3333333333333333,\"#9c179e\"],[0.4444444444444444,\"#bd3786\"],[0.5555555555555556,\"#d8576b\"],[0.6666666666666666,\"#ed7953\"],[0.7777777777777778,\"#fb9f3a\"],[0.8888888888888888,\"#fdca26\"],[1.0,\"#f0f921\"]],\"type\":\"histogram2dcontour\"}],\"histogram2d\":[{\"colorbar\":{\"outlinewidth\":0,\"ticks\":\"\"},\"colorscale\":[[0.0,\"#0d0887\"],[0.1111111111111111,\"#46039f\"],[0.2222222222222222,\"#7201a8\"],[0.3333333333333333,\"#9c179e\"],[0.4444444444444444,\"#bd3786\"],[0.5555555555555556,\"#d8576b\"],[0.6666666666666666,\"#ed7953\"],[0.7777777777777778,\"#fb9f3a\"],[0.8888888888888888,\"#fdca26\"],[1.0,\"#f0f921\"]],\"type\":\"histogram2d\"}],\"histogram\":[{\"marker\":{\"pattern\":{\"fillmode\":\"overlay\",\"size\":10,\"solidity\":0.2}},\"type\":\"histogram\"}],\"mesh3d\":[{\"colorbar\":{\"outlinewidth\":0,\"ticks\":\"\"},\"type\":\"mesh3d\"}],\"parcoords\":[{\"line\":{\"colorbar\":{\"outlinewidth\":0,\"ticks\":\"\"}},\"type\":\"parcoords\"}],\"pie\":[{\"automargin\":true,\"type\":\"pie\"}],\"scatter3d\":[{\"line\":{\"colorbar\":{\"outlinewidth\":0,\"ticks\":\"\"}},\"marker\":{\"colorbar\":{\"outlinewidth\":0,\"ticks\":\"\"}},\"type\":\"scatter3d\"}],\"scattercarpet\":[{\"marker\":{\"colorbar\":{\"outlinewidth\":0,\"ticks\":\"\"}},\"type\":\"scattercarpet\"}],\"scattergeo\":[{\"marker\":{\"colorbar\":{\"outlinewidth\":0,\"ticks\":\"\"}},\"type\":\"scattergeo\"}],\"scattergl\":[{\"marker\":{\"colorbar\":{\"outlinewidth\":0,\"ticks\":\"\"}},\"type\":\"scattergl\"}],\"scattermapbox\":[{\"marker\":{\"colorbar\":{\"outlinewidth\":0,\"ticks\":\"\"}},\"type\":\"scattermapbox\"}],\"scatterpolargl\":[{\"marker\":{\"colorbar\":{\"outlinewidth\":0,\"ticks\":\"\"}},\"type\":\"scatterpolargl\"}],\"scatterpolar\":[{\"marker\":{\"colorbar\":{\"outlinewidth\":0,\"ticks\":\"\"}},\"type\":\"scatterpolar\"}],\"scatter\":[{\"marker\":{\"colorbar\":{\"outlinewidth\":0,\"ticks\":\"\"}},\"type\":\"scatter\"}],\"scatterternary\":[{\"marker\":{\"colorbar\":{\"outlinewidth\":0,\"ticks\":\"\"}},\"type\":\"scatterternary\"}],\"surface\":[{\"colorbar\":{\"outlinewidth\":0,\"ticks\":\"\"},\"colorscale\":[[0.0,\"#0d0887\"],[0.1111111111111111,\"#46039f\"],[0.2222222222222222,\"#7201a8\"],[0.3333333333333333,\"#9c179e\"],[0.4444444444444444,\"#bd3786\"],[0.5555555555555556,\"#d8576b\"],[0.6666666666666666,\"#ed7953\"],[0.7777777777777778,\"#fb9f3a\"],[0.8888888888888888,\"#fdca26\"],[1.0,\"#f0f921\"]],\"type\":\"surface\"}],\"table\":[{\"cells\":{\"fill\":{\"color\":\"#EBF0F8\"},\"line\":{\"color\":\"white\"}},\"header\":{\"fill\":{\"color\":\"#C8D4E3\"},\"line\":{\"color\":\"white\"}},\"type\":\"table\"}]},\"layout\":{\"annotationdefaults\":{\"arrowcolor\":\"#2a3f5f\",\"arrowhead\":0,\"arrowwidth\":1},\"autotypenumbers\":\"strict\",\"coloraxis\":{\"colorbar\":{\"outlinewidth\":0,\"ticks\":\"\"}},\"colorscale\":{\"diverging\":[[0,\"#8e0152\"],[0.1,\"#c51b7d\"],[0.2,\"#de77ae\"],[0.3,\"#f1b6da\"],[0.4,\"#fde0ef\"],[0.5,\"#f7f7f7\"],[0.6,\"#e6f5d0\"],[0.7,\"#b8e186\"],[0.8,\"#7fbc41\"],[0.9,\"#4d9221\"],[1,\"#276419\"]],\"sequential\":[[0.0,\"#0d0887\"],[0.1111111111111111,\"#46039f\"],[0.2222222222222222,\"#7201a8\"],[0.3333333333333333,\"#9c179e\"],[0.4444444444444444,\"#bd3786\"],[0.5555555555555556,\"#d8576b\"],[0.6666666666666666,\"#ed7953\"],[0.7777777777777778,\"#fb9f3a\"],[0.8888888888888888,\"#fdca26\"],[1.0,\"#f0f921\"]],\"sequentialminus\":[[0.0,\"#0d0887\"],[0.1111111111111111,\"#46039f\"],[0.2222222222222222,\"#7201a8\"],[0.3333333333333333,\"#9c179e\"],[0.4444444444444444,\"#bd3786\"],[0.5555555555555556,\"#d8576b\"],[0.6666666666666666,\"#ed7953\"],[0.7777777777777778,\"#fb9f3a\"],[0.8888888888888888,\"#fdca26\"],[1.0,\"#f0f921\"]]},\"colorway\":[\"#636efa\",\"#EF553B\",\"#00cc96\",\"#ab63fa\",\"#FFA15A\",\"#19d3f3\",\"#FF6692\",\"#B6E880\",\"#FF97FF\",\"#FECB52\"],\"font\":{\"color\":\"#2a3f5f\"},\"geo\":{\"bgcolor\":\"white\",\"lakecolor\":\"white\",\"landcolor\":\"#E5ECF6\",\"showlakes\":true,\"showland\":true,\"subunitcolor\":\"white\"},\"hoverlabel\":{\"align\":\"left\"},\"hovermode\":\"closest\",\"mapbox\":{\"style\":\"light\"},\"paper_bgcolor\":\"white\",\"plot_bgcolor\":\"#E5ECF6\",\"polar\":{\"angularaxis\":{\"gridcolor\":\"white\",\"linecolor\":\"white\",\"ticks\":\"\"},\"bgcolor\":\"#E5ECF6\",\"radialaxis\":{\"gridcolor\":\"white\",\"linecolor\":\"white\",\"ticks\":\"\"}},\"scene\":{\"xaxis\":{\"backgroundcolor\":\"#E5ECF6\",\"gridcolor\":\"white\",\"gridwidth\":2,\"linecolor\":\"white\",\"showbackground\":true,\"ticks\":\"\",\"zerolinecolor\":\"white\"},\"yaxis\":{\"backgroundcolor\":\"#E5ECF6\",\"gridcolor\":\"white\",\"gridwidth\":2,\"linecolor\":\"white\",\"showbackground\":true,\"ticks\":\"\",\"zerolinecolor\":\"white\"},\"zaxis\":{\"backgroundcolor\":\"#E5ECF6\",\"gridcolor\":\"white\",\"gridwidth\":2,\"linecolor\":\"white\",\"showbackground\":true,\"ticks\":\"\",\"zerolinecolor\":\"white\"}},\"shapedefaults\":{\"line\":{\"color\":\"#2a3f5f\"}},\"ternary\":{\"aaxis\":{\"gridcolor\":\"white\",\"linecolor\":\"white\",\"ticks\":\"\"},\"baxis\":{\"gridcolor\":\"white\",\"linecolor\":\"white\",\"ticks\":\"\"},\"bgcolor\":\"#E5ECF6\",\"caxis\":{\"gridcolor\":\"white\",\"linecolor\":\"white\",\"ticks\":\"\"}},\"title\":{\"x\":0.05},\"xaxis\":{\"automargin\":true,\"gridcolor\":\"white\",\"linecolor\":\"white\",\"ticks\":\"\",\"title\":{\"standoff\":15},\"zerolinecolor\":\"white\",\"zerolinewidth\":2},\"yaxis\":{\"automargin\":true,\"gridcolor\":\"white\",\"linecolor\":\"white\",\"ticks\":\"\",\"title\":{\"standoff\":15},\"zerolinecolor\":\"white\",\"zerolinewidth\":2}}},\"title\":{\"font\":{\"color\":\"#4D5663\"}},\"xaxis\":{\"anchor\":\"y\",\"domain\":[0.0,0.2125],\"gridcolor\":\"#E1E5ED\",\"showgrid\":false,\"tickfont\":{\"color\":\"#4D5663\"},\"title\":{\"font\":{\"color\":\"#4D5663\"},\"text\":\"\"},\"zerolinecolor\":\"#E1E5ED\"},\"yaxis\":{\"anchor\":\"x\",\"domain\":[0.8025,1.0],\"gridcolor\":\"#E1E5ED\",\"showgrid\":false,\"tickfont\":{\"color\":\"#4D5663\"},\"title\":{\"font\":{\"color\":\"#4D5663\"},\"text\":\"\"},\"zerolinecolor\":\"#E1E5ED\"},\"xaxis2\":{\"anchor\":\"y2\",\"domain\":[0.2625,0.475],\"gridcolor\":\"#E1E5ED\",\"showgrid\":false,\"tickfont\":{\"color\":\"#4D5663\"},\"title\":{\"font\":{\"color\":\"#4D5663\"},\"text\":\"\"},\"zerolinecolor\":\"#E1E5ED\"},\"yaxis2\":{\"anchor\":\"x2\",\"domain\":[0.8025,1.0],\"gridcolor\":\"#E1E5ED\",\"showgrid\":false,\"tickfont\":{\"color\":\"#4D5663\"},\"title\":{\"font\":{\"color\":\"#4D5663\"},\"text\":\"\"},\"zerolinecolor\":\"#E1E5ED\"},\"xaxis3\":{\"anchor\":\"y3\",\"domain\":[0.525,0.7375],\"gridcolor\":\"#E1E5ED\",\"showgrid\":false,\"tickfont\":{\"color\":\"#4D5663\"},\"title\":{\"font\":{\"color\":\"#4D5663\"},\"text\":\"\"},\"zerolinecolor\":\"#E1E5ED\"},\"yaxis3\":{\"anchor\":\"x3\",\"domain\":[0.8025,1.0],\"gridcolor\":\"#E1E5ED\",\"showgrid\":false,\"tickfont\":{\"color\":\"#4D5663\"},\"title\":{\"font\":{\"color\":\"#4D5663\"},\"text\":\"\"},\"zerolinecolor\":\"#E1E5ED\"},\"xaxis4\":{\"anchor\":\"y4\",\"domain\":[0.7875,1.0],\"gridcolor\":\"#E1E5ED\",\"showgrid\":false,\"tickfont\":{\"color\":\"#4D5663\"},\"title\":{\"font\":{\"color\":\"#4D5663\"},\"text\":\"\"},\"zerolinecolor\":\"#E1E5ED\"},\"yaxis4\":{\"anchor\":\"x4\",\"domain\":[0.8025,1.0],\"gridcolor\":\"#E1E5ED\",\"showgrid\":false,\"tickfont\":{\"color\":\"#4D5663\"},\"title\":{\"font\":{\"color\":\"#4D5663\"},\"text\":\"\"},\"zerolinecolor\":\"#E1E5ED\"},\"xaxis5\":{\"anchor\":\"y5\",\"domain\":[0.0,0.2125],\"gridcolor\":\"#E1E5ED\",\"showgrid\":false,\"tickfont\":{\"color\":\"#4D5663\"},\"title\":{\"font\":{\"color\":\"#4D5663\"},\"text\":\"\"},\"zerolinecolor\":\"#E1E5ED\"},\"yaxis5\":{\"anchor\":\"x5\",\"domain\":[0.535,0.7325],\"gridcolor\":\"#E1E5ED\",\"showgrid\":false,\"tickfont\":{\"color\":\"#4D5663\"},\"title\":{\"font\":{\"color\":\"#4D5663\"},\"text\":\"\"},\"zerolinecolor\":\"#E1E5ED\"},\"xaxis6\":{\"anchor\":\"y6\",\"domain\":[0.2625,0.475],\"gridcolor\":\"#E1E5ED\",\"showgrid\":false,\"tickfont\":{\"color\":\"#4D5663\"},\"title\":{\"font\":{\"color\":\"#4D5663\"},\"text\":\"\"},\"zerolinecolor\":\"#E1E5ED\"},\"yaxis6\":{\"anchor\":\"x6\",\"domain\":[0.535,0.7325],\"gridcolor\":\"#E1E5ED\",\"showgrid\":false,\"tickfont\":{\"color\":\"#4D5663\"},\"title\":{\"font\":{\"color\":\"#4D5663\"},\"text\":\"\"},\"zerolinecolor\":\"#E1E5ED\"},\"xaxis7\":{\"anchor\":\"y7\",\"domain\":[0.525,0.7375],\"gridcolor\":\"#E1E5ED\",\"showgrid\":false,\"tickfont\":{\"color\":\"#4D5663\"},\"title\":{\"font\":{\"color\":\"#4D5663\"},\"text\":\"\"},\"zerolinecolor\":\"#E1E5ED\"},\"yaxis7\":{\"anchor\":\"x7\",\"domain\":[0.535,0.7325],\"gridcolor\":\"#E1E5ED\",\"showgrid\":false,\"tickfont\":{\"color\":\"#4D5663\"},\"title\":{\"font\":{\"color\":\"#4D5663\"},\"text\":\"\"},\"zerolinecolor\":\"#E1E5ED\"},\"xaxis8\":{\"anchor\":\"y8\",\"domain\":[0.7875,1.0],\"gridcolor\":\"#E1E5ED\",\"showgrid\":false,\"tickfont\":{\"color\":\"#4D5663\"},\"title\":{\"font\":{\"color\":\"#4D5663\"},\"text\":\"\"},\"zerolinecolor\":\"#E1E5ED\"},\"yaxis8\":{\"anchor\":\"x8\",\"domain\":[0.535,0.7325],\"gridcolor\":\"#E1E5ED\",\"showgrid\":false,\"tickfont\":{\"color\":\"#4D5663\"},\"title\":{\"font\":{\"color\":\"#4D5663\"},\"text\":\"\"},\"zerolinecolor\":\"#E1E5ED\"},\"xaxis9\":{\"anchor\":\"y9\",\"domain\":[0.0,0.2125],\"gridcolor\":\"#E1E5ED\",\"showgrid\":false,\"tickfont\":{\"color\":\"#4D5663\"},\"title\":{\"font\":{\"color\":\"#4D5663\"},\"text\":\"\"},\"zerolinecolor\":\"#E1E5ED\"},\"yaxis9\":{\"anchor\":\"x9\",\"domain\":[0.2675,0.465],\"gridcolor\":\"#E1E5ED\",\"showgrid\":false,\"tickfont\":{\"color\":\"#4D5663\"},\"title\":{\"font\":{\"color\":\"#4D5663\"},\"text\":\"\"},\"zerolinecolor\":\"#E1E5ED\"},\"xaxis10\":{\"anchor\":\"y10\",\"domain\":[0.2625,0.475],\"gridcolor\":\"#E1E5ED\",\"showgrid\":false,\"tickfont\":{\"color\":\"#4D5663\"},\"title\":{\"font\":{\"color\":\"#4D5663\"},\"text\":\"\"},\"zerolinecolor\":\"#E1E5ED\"},\"yaxis10\":{\"anchor\":\"x10\",\"domain\":[0.2675,0.465],\"gridcolor\":\"#E1E5ED\",\"showgrid\":false,\"tickfont\":{\"color\":\"#4D5663\"},\"title\":{\"font\":{\"color\":\"#4D5663\"},\"text\":\"\"},\"zerolinecolor\":\"#E1E5ED\"},\"xaxis11\":{\"anchor\":\"y11\",\"domain\":[0.525,0.7375],\"gridcolor\":\"#E1E5ED\",\"showgrid\":false,\"tickfont\":{\"color\":\"#4D5663\"},\"title\":{\"font\":{\"color\":\"#4D5663\"},\"text\":\"\"},\"zerolinecolor\":\"#E1E5ED\"},\"yaxis11\":{\"anchor\":\"x11\",\"domain\":[0.2675,0.465],\"gridcolor\":\"#E1E5ED\",\"showgrid\":false,\"tickfont\":{\"color\":\"#4D5663\"},\"title\":{\"font\":{\"color\":\"#4D5663\"},\"text\":\"\"},\"zerolinecolor\":\"#E1E5ED\"},\"xaxis12\":{\"anchor\":\"y12\",\"domain\":[0.7875,1.0],\"gridcolor\":\"#E1E5ED\",\"showgrid\":false,\"tickfont\":{\"color\":\"#4D5663\"},\"title\":{\"font\":{\"color\":\"#4D5663\"},\"text\":\"\"},\"zerolinecolor\":\"#E1E5ED\"},\"yaxis12\":{\"anchor\":\"x12\",\"domain\":[0.2675,0.465],\"gridcolor\":\"#E1E5ED\",\"showgrid\":false,\"tickfont\":{\"color\":\"#4D5663\"},\"title\":{\"font\":{\"color\":\"#4D5663\"},\"text\":\"\"},\"zerolinecolor\":\"#E1E5ED\"},\"xaxis13\":{\"anchor\":\"y13\",\"domain\":[0.0,0.2125],\"gridcolor\":\"#E1E5ED\",\"showgrid\":false,\"tickfont\":{\"color\":\"#4D5663\"},\"title\":{\"font\":{\"color\":\"#4D5663\"},\"text\":\"\"},\"zerolinecolor\":\"#E1E5ED\"},\"yaxis13\":{\"anchor\":\"x13\",\"domain\":[0.0,0.1975],\"gridcolor\":\"#E1E5ED\",\"showgrid\":false,\"tickfont\":{\"color\":\"#4D5663\"},\"title\":{\"font\":{\"color\":\"#4D5663\"},\"text\":\"\"},\"zerolinecolor\":\"#E1E5ED\"},\"xaxis14\":{\"anchor\":\"y14\",\"domain\":[0.2625,0.475],\"gridcolor\":\"#E1E5ED\",\"showgrid\":false,\"tickfont\":{\"color\":\"#4D5663\"},\"title\":{\"font\":{\"color\":\"#4D5663\"},\"text\":\"\"},\"zerolinecolor\":\"#E1E5ED\"},\"yaxis14\":{\"anchor\":\"x14\",\"domain\":[0.0,0.1975],\"gridcolor\":\"#E1E5ED\",\"showgrid\":false,\"tickfont\":{\"color\":\"#4D5663\"},\"title\":{\"font\":{\"color\":\"#4D5663\"},\"text\":\"\"},\"zerolinecolor\":\"#E1E5ED\"},\"xaxis15\":{\"anchor\":\"y15\",\"domain\":[0.525,0.7375],\"gridcolor\":\"#E1E5ED\",\"showgrid\":false,\"tickfont\":{\"color\":\"#4D5663\"},\"title\":{\"font\":{\"color\":\"#4D5663\"},\"text\":\"\"},\"zerolinecolor\":\"#E1E5ED\"},\"yaxis15\":{\"anchor\":\"x15\",\"domain\":[0.0,0.1975],\"gridcolor\":\"#E1E5ED\",\"showgrid\":false,\"tickfont\":{\"color\":\"#4D5663\"},\"title\":{\"font\":{\"color\":\"#4D5663\"},\"text\":\"\"},\"zerolinecolor\":\"#E1E5ED\"},\"xaxis16\":{\"anchor\":\"y16\",\"domain\":[0.7875,1.0],\"gridcolor\":\"#E1E5ED\",\"showgrid\":false,\"tickfont\":{\"color\":\"#4D5663\"},\"title\":{\"font\":{\"color\":\"#4D5663\"},\"text\":\"\"},\"zerolinecolor\":\"#E1E5ED\"},\"yaxis16\":{\"anchor\":\"x16\",\"domain\":[0.0,0.1975],\"gridcolor\":\"#E1E5ED\",\"showgrid\":false,\"tickfont\":{\"color\":\"#4D5663\"},\"title\":{\"font\":{\"color\":\"#4D5663\"},\"text\":\"\"},\"zerolinecolor\":\"#E1E5ED\"}},                        {\"showLink\": true, \"linkText\": \"Export to plot.ly\", \"plotlyServerURL\": \"https://plot.ly\", \"responsive\": true}                    ).then(function(){\n",
              "                            \n",
              "var gd = document.getElementById('f28137b9-2faa-4ba1-b3d7-82ee519b354c');\n",
              "var x = new MutationObserver(function (mutations, observer) {{\n",
              "        var display = window.getComputedStyle(gd).display;\n",
              "        if (!display || display === 'none') {{\n",
              "            console.log([gd, 'removed!']);\n",
              "            Plotly.purge(gd);\n",
              "            observer.disconnect();\n",
              "        }}\n",
              "}});\n",
              "\n",
              "// Listen for the removal of the full notebook cells\n",
              "var notebookContainer = gd.closest('#notebook-container');\n",
              "if (notebookContainer) {{\n",
              "    x.observe(notebookContainer, {childList: true});\n",
              "}}\n",
              "\n",
              "// Listen for the clearing of the current output cell\n",
              "var outputEl = gd.closest('.output');\n",
              "if (outputEl) {{\n",
              "    x.observe(outputEl, {childList: true});\n",
              "}}\n",
              "\n",
              "                        })                };                            </script>        </div>\n",
              "</body>\n",
              "</html>"
            ]
          },
          "metadata": {}
        }
      ]
    },
    {
      "cell_type": "markdown",
      "source": [
        "# **Visualização de dados reais**"
      ],
      "metadata": {
        "id": "q8I1Mj_Z2Dtq"
      }
    },
    {
      "cell_type": "code",
      "source": [
        "import cufflinks as cf\n",
        "cf.go_offline()"
      ],
      "metadata": {
        "colab": {
          "base_uri": "https://localhost:8080/",
          "height": 17
        },
        "id": "WUmcl1Am1-Pn",
        "outputId": "1937bdf8-5866-4a57-9062-46b93abcde1a"
      },
      "execution_count": null,
      "outputs": [
        {
          "output_type": "display_data",
          "data": {
            "text/html": [
              "        <script type=\"text/javascript\">\n",
              "        window.PlotlyConfig = {MathJaxConfig: 'local'};\n",
              "        if (window.MathJax) {MathJax.Hub.Config({SVG: {font: \"STIX-Web\"}});}\n",
              "        if (typeof require !== 'undefined') {\n",
              "        require.undef(\"plotly\");\n",
              "        requirejs.config({\n",
              "            paths: {\n",
              "                'plotly': ['https://cdn.plot.ly/plotly-2.8.3.min']\n",
              "            }\n",
              "        });\n",
              "        require(['plotly'], function(Plotly) {\n",
              "            window._Plotly = Plotly;\n",
              "        });\n",
              "        }\n",
              "        </script>\n",
              "        "
            ]
          },
          "metadata": {}
        }
      ]
    },
    {
      "cell_type": "markdown",
      "source": [
        "**importação pandas**"
      ],
      "metadata": {
        "id": "FLozkzyz2V4P"
      }
    },
    {
      "cell_type": "code",
      "source": [
        "import pandas as pd"
      ],
      "metadata": {
        "id": "3lUHqiuo2Uv4"
      },
      "execution_count": null,
      "outputs": []
    },
    {
      "cell_type": "code",
      "source": [
        "df = pd.read_csv('/content/drive/MyDrive/Data Science do Zero/Módulo 7 - Visualização de Dados/olist_classified_public_dataset.csv')"
      ],
      "metadata": {
        "id": "eAEXJhYK2Zw-"
      },
      "execution_count": null,
      "outputs": []
    },
    {
      "cell_type": "markdown",
      "source": [
        "**Visualização da base**"
      ],
      "metadata": {
        "id": "s-oWBlRn3l18"
      }
    },
    {
      "cell_type": "code",
      "source": [
        "df.head()"
      ],
      "metadata": {
        "colab": {
          "base_uri": "https://localhost:8080/",
          "height": 404
        },
        "id": "utG_iHEI3jWp",
        "outputId": "c6104a6d-c597-4061-cae8-b2f688190a95"
      },
      "execution_count": null,
      "outputs": [
        {
          "output_type": "execute_result",
          "data": {
            "text/plain": [
              "   Unnamed: 0  id order_status  order_products_value  order_freight_value  \\\n",
              "0           0   1    delivered                 89.99                14.38   \n",
              "1           1   2    delivered                 69.00                15.23   \n",
              "2           2   3    delivered                 99.80                15.86   \n",
              "3           3   4    delivered                 87.00                12.74   \n",
              "4           4   5    delivered                 99.90                17.95   \n",
              "\n",
              "   order_items_qty  order_sellers_qty    order_purchase_timestamp  \\\n",
              "0                1                  1  2017-08-30 11:41:01.000000   \n",
              "1                1                  1  2017-09-26 09:13:36.000000   \n",
              "2                2                  4  2018-01-15 15:50:42.000000   \n",
              "3                1                  1  2018-02-04 11:16:42.000000   \n",
              "4                1                  2  2017-12-07 11:58:42.000000   \n",
              "\n",
              "             order_aproved_at order_estimated_delivery_date  ...  \\\n",
              "0  2017-08-30 11:55:08.970352    2017-09-21 00:00:00.000000  ...   \n",
              "1  2017-09-26 09:28:10.922048    2017-10-24 00:00:00.000000  ...   \n",
              "2  2018-01-17 07:29:56.419769    2018-02-05 00:00:00.000000  ...   \n",
              "3  2018-02-06 05:31:50.990164    2018-03-13 00:00:00.000000  ...   \n",
              "4  2017-12-08 02:36:49.587515    2018-01-03 00:00:00.000000  ...   \n",
              "\n",
              "  votes_delayed votes_low_quality votes_return  votes_not_as_anounced  \\\n",
              "0             0                 0            0                      0   \n",
              "1             0                 0            0                      0   \n",
              "2             0                 0            0                      0   \n",
              "3             3                 0            0                      0   \n",
              "4             0                 0            0                      0   \n",
              "\n",
              "  votes_partial_delivery  votes_other_delivery  votes_other_order  \\\n",
              "0                      0                     0                  0   \n",
              "1                      0                     0                  0   \n",
              "2                      3                     0                  0   \n",
              "3                      0                     0                  0   \n",
              "4                      3                     0                  0   \n",
              "\n",
              "   votes_satisfied  most_voted_subclass       most_voted_class  \n",
              "0                3           satisfeito  satisfeito_com_pedido  \n",
              "1                0          antes_prazo  satisfeito_com_pedido  \n",
              "2                0      entrega_parcial   problemas_de_entrega  \n",
              "3                0             atrasado   problemas_de_entrega  \n",
              "4                0      entrega_parcial   problemas_de_entrega  \n",
              "\n",
              "[5 rows x 34 columns]"
            ],
            "text/html": [
              "\n",
              "  <div id=\"df-791b5cfe-a279-4763-b2eb-c9e7afe60d7b\">\n",
              "    <div class=\"colab-df-container\">\n",
              "      <div>\n",
              "<style scoped>\n",
              "    .dataframe tbody tr th:only-of-type {\n",
              "        vertical-align: middle;\n",
              "    }\n",
              "\n",
              "    .dataframe tbody tr th {\n",
              "        vertical-align: top;\n",
              "    }\n",
              "\n",
              "    .dataframe thead th {\n",
              "        text-align: right;\n",
              "    }\n",
              "</style>\n",
              "<table border=\"1\" class=\"dataframe\">\n",
              "  <thead>\n",
              "    <tr style=\"text-align: right;\">\n",
              "      <th></th>\n",
              "      <th>Unnamed: 0</th>\n",
              "      <th>id</th>\n",
              "      <th>order_status</th>\n",
              "      <th>order_products_value</th>\n",
              "      <th>order_freight_value</th>\n",
              "      <th>order_items_qty</th>\n",
              "      <th>order_sellers_qty</th>\n",
              "      <th>order_purchase_timestamp</th>\n",
              "      <th>order_aproved_at</th>\n",
              "      <th>order_estimated_delivery_date</th>\n",
              "      <th>...</th>\n",
              "      <th>votes_delayed</th>\n",
              "      <th>votes_low_quality</th>\n",
              "      <th>votes_return</th>\n",
              "      <th>votes_not_as_anounced</th>\n",
              "      <th>votes_partial_delivery</th>\n",
              "      <th>votes_other_delivery</th>\n",
              "      <th>votes_other_order</th>\n",
              "      <th>votes_satisfied</th>\n",
              "      <th>most_voted_subclass</th>\n",
              "      <th>most_voted_class</th>\n",
              "    </tr>\n",
              "  </thead>\n",
              "  <tbody>\n",
              "    <tr>\n",
              "      <th>0</th>\n",
              "      <td>0</td>\n",
              "      <td>1</td>\n",
              "      <td>delivered</td>\n",
              "      <td>89.99</td>\n",
              "      <td>14.38</td>\n",
              "      <td>1</td>\n",
              "      <td>1</td>\n",
              "      <td>2017-08-30 11:41:01.000000</td>\n",
              "      <td>2017-08-30 11:55:08.970352</td>\n",
              "      <td>2017-09-21 00:00:00.000000</td>\n",
              "      <td>...</td>\n",
              "      <td>0</td>\n",
              "      <td>0</td>\n",
              "      <td>0</td>\n",
              "      <td>0</td>\n",
              "      <td>0</td>\n",
              "      <td>0</td>\n",
              "      <td>0</td>\n",
              "      <td>3</td>\n",
              "      <td>satisfeito</td>\n",
              "      <td>satisfeito_com_pedido</td>\n",
              "    </tr>\n",
              "    <tr>\n",
              "      <th>1</th>\n",
              "      <td>1</td>\n",
              "      <td>2</td>\n",
              "      <td>delivered</td>\n",
              "      <td>69.00</td>\n",
              "      <td>15.23</td>\n",
              "      <td>1</td>\n",
              "      <td>1</td>\n",
              "      <td>2017-09-26 09:13:36.000000</td>\n",
              "      <td>2017-09-26 09:28:10.922048</td>\n",
              "      <td>2017-10-24 00:00:00.000000</td>\n",
              "      <td>...</td>\n",
              "      <td>0</td>\n",
              "      <td>0</td>\n",
              "      <td>0</td>\n",
              "      <td>0</td>\n",
              "      <td>0</td>\n",
              "      <td>0</td>\n",
              "      <td>0</td>\n",
              "      <td>0</td>\n",
              "      <td>antes_prazo</td>\n",
              "      <td>satisfeito_com_pedido</td>\n",
              "    </tr>\n",
              "    <tr>\n",
              "      <th>2</th>\n",
              "      <td>2</td>\n",
              "      <td>3</td>\n",
              "      <td>delivered</td>\n",
              "      <td>99.80</td>\n",
              "      <td>15.86</td>\n",
              "      <td>2</td>\n",
              "      <td>4</td>\n",
              "      <td>2018-01-15 15:50:42.000000</td>\n",
              "      <td>2018-01-17 07:29:56.419769</td>\n",
              "      <td>2018-02-05 00:00:00.000000</td>\n",
              "      <td>...</td>\n",
              "      <td>0</td>\n",
              "      <td>0</td>\n",
              "      <td>0</td>\n",
              "      <td>0</td>\n",
              "      <td>3</td>\n",
              "      <td>0</td>\n",
              "      <td>0</td>\n",
              "      <td>0</td>\n",
              "      <td>entrega_parcial</td>\n",
              "      <td>problemas_de_entrega</td>\n",
              "    </tr>\n",
              "    <tr>\n",
              "      <th>3</th>\n",
              "      <td>3</td>\n",
              "      <td>4</td>\n",
              "      <td>delivered</td>\n",
              "      <td>87.00</td>\n",
              "      <td>12.74</td>\n",
              "      <td>1</td>\n",
              "      <td>1</td>\n",
              "      <td>2018-02-04 11:16:42.000000</td>\n",
              "      <td>2018-02-06 05:31:50.990164</td>\n",
              "      <td>2018-03-13 00:00:00.000000</td>\n",
              "      <td>...</td>\n",
              "      <td>3</td>\n",
              "      <td>0</td>\n",
              "      <td>0</td>\n",
              "      <td>0</td>\n",
              "      <td>0</td>\n",
              "      <td>0</td>\n",
              "      <td>0</td>\n",
              "      <td>0</td>\n",
              "      <td>atrasado</td>\n",
              "      <td>problemas_de_entrega</td>\n",
              "    </tr>\n",
              "    <tr>\n",
              "      <th>4</th>\n",
              "      <td>4</td>\n",
              "      <td>5</td>\n",
              "      <td>delivered</td>\n",
              "      <td>99.90</td>\n",
              "      <td>17.95</td>\n",
              "      <td>1</td>\n",
              "      <td>2</td>\n",
              "      <td>2017-12-07 11:58:42.000000</td>\n",
              "      <td>2017-12-08 02:36:49.587515</td>\n",
              "      <td>2018-01-03 00:00:00.000000</td>\n",
              "      <td>...</td>\n",
              "      <td>0</td>\n",
              "      <td>0</td>\n",
              "      <td>0</td>\n",
              "      <td>0</td>\n",
              "      <td>3</td>\n",
              "      <td>0</td>\n",
              "      <td>0</td>\n",
              "      <td>0</td>\n",
              "      <td>entrega_parcial</td>\n",
              "      <td>problemas_de_entrega</td>\n",
              "    </tr>\n",
              "  </tbody>\n",
              "</table>\n",
              "<p>5 rows × 34 columns</p>\n",
              "</div>\n",
              "      <button class=\"colab-df-convert\" onclick=\"convertToInteractive('df-791b5cfe-a279-4763-b2eb-c9e7afe60d7b')\"\n",
              "              title=\"Convert this dataframe to an interactive table.\"\n",
              "              style=\"display:none;\">\n",
              "        \n",
              "  <svg xmlns=\"http://www.w3.org/2000/svg\" height=\"24px\"viewBox=\"0 0 24 24\"\n",
              "       width=\"24px\">\n",
              "    <path d=\"M0 0h24v24H0V0z\" fill=\"none\"/>\n",
              "    <path d=\"M18.56 5.44l.94 2.06.94-2.06 2.06-.94-2.06-.94-.94-2.06-.94 2.06-2.06.94zm-11 1L8.5 8.5l.94-2.06 2.06-.94-2.06-.94L8.5 2.5l-.94 2.06-2.06.94zm10 10l.94 2.06.94-2.06 2.06-.94-2.06-.94-.94-2.06-.94 2.06-2.06.94z\"/><path d=\"M17.41 7.96l-1.37-1.37c-.4-.4-.92-.59-1.43-.59-.52 0-1.04.2-1.43.59L10.3 9.45l-7.72 7.72c-.78.78-.78 2.05 0 2.83L4 21.41c.39.39.9.59 1.41.59.51 0 1.02-.2 1.41-.59l7.78-7.78 2.81-2.81c.8-.78.8-2.07 0-2.86zM5.41 20L4 18.59l7.72-7.72 1.47 1.35L5.41 20z\"/>\n",
              "  </svg>\n",
              "      </button>\n",
              "      \n",
              "  <style>\n",
              "    .colab-df-container {\n",
              "      display:flex;\n",
              "      flex-wrap:wrap;\n",
              "      gap: 12px;\n",
              "    }\n",
              "\n",
              "    .colab-df-convert {\n",
              "      background-color: #E8F0FE;\n",
              "      border: none;\n",
              "      border-radius: 50%;\n",
              "      cursor: pointer;\n",
              "      display: none;\n",
              "      fill: #1967D2;\n",
              "      height: 32px;\n",
              "      padding: 0 0 0 0;\n",
              "      width: 32px;\n",
              "    }\n",
              "\n",
              "    .colab-df-convert:hover {\n",
              "      background-color: #E2EBFA;\n",
              "      box-shadow: 0px 1px 2px rgba(60, 64, 67, 0.3), 0px 1px 3px 1px rgba(60, 64, 67, 0.15);\n",
              "      fill: #174EA6;\n",
              "    }\n",
              "\n",
              "    [theme=dark] .colab-df-convert {\n",
              "      background-color: #3B4455;\n",
              "      fill: #D2E3FC;\n",
              "    }\n",
              "\n",
              "    [theme=dark] .colab-df-convert:hover {\n",
              "      background-color: #434B5C;\n",
              "      box-shadow: 0px 1px 3px 1px rgba(0, 0, 0, 0.15);\n",
              "      filter: drop-shadow(0px 1px 2px rgba(0, 0, 0, 0.3));\n",
              "      fill: #FFFFFF;\n",
              "    }\n",
              "  </style>\n",
              "\n",
              "      <script>\n",
              "        const buttonEl =\n",
              "          document.querySelector('#df-791b5cfe-a279-4763-b2eb-c9e7afe60d7b button.colab-df-convert');\n",
              "        buttonEl.style.display =\n",
              "          google.colab.kernel.accessAllowed ? 'block' : 'none';\n",
              "\n",
              "        async function convertToInteractive(key) {\n",
              "          const element = document.querySelector('#df-791b5cfe-a279-4763-b2eb-c9e7afe60d7b');\n",
              "          const dataTable =\n",
              "            await google.colab.kernel.invokeFunction('convertToInteractive',\n",
              "                                                     [key], {});\n",
              "          if (!dataTable) return;\n",
              "\n",
              "          const docLinkHtml = 'Like what you see? Visit the ' +\n",
              "            '<a target=\"_blank\" href=https://colab.research.google.com/notebooks/data_table.ipynb>data table notebook</a>'\n",
              "            + ' to learn more about interactive tables.';\n",
              "          element.innerHTML = '';\n",
              "          dataTable['output_type'] = 'display_data';\n",
              "          await google.colab.output.renderOutput(dataTable, element);\n",
              "          const docLink = document.createElement('div');\n",
              "          docLink.innerHTML = docLinkHtml;\n",
              "          element.appendChild(docLink);\n",
              "        }\n",
              "      </script>\n",
              "    </div>\n",
              "  </div>\n",
              "  "
            ]
          },
          "metadata": {},
          "execution_count": 42
        }
      ]
    },
    {
      "cell_type": "code",
      "source": [
        "df.info()"
      ],
      "metadata": {
        "colab": {
          "base_uri": "https://localhost:8080/"
        },
        "id": "uyjzJY2l3kZ3",
        "outputId": "d90cb8fe-f31d-4666-cff3-05fc238efa64"
      },
      "execution_count": null,
      "outputs": [
        {
          "output_type": "stream",
          "name": "stdout",
          "text": [
            "<class 'pandas.core.frame.DataFrame'>\n",
            "RangeIndex: 3584 entries, 0 to 3583\n",
            "Data columns (total 34 columns):\n",
            " #   Column                         Non-Null Count  Dtype  \n",
            "---  ------                         --------------  -----  \n",
            " 0   Unnamed: 0                     3584 non-null   int64  \n",
            " 1   id                             3584 non-null   int64  \n",
            " 2   order_status                   3584 non-null   object \n",
            " 3   order_products_value           3584 non-null   float64\n",
            " 4   order_freight_value            3584 non-null   float64\n",
            " 5   order_items_qty                3584 non-null   int64  \n",
            " 6   order_sellers_qty              3584 non-null   int64  \n",
            " 7   order_purchase_timestamp       3584 non-null   object \n",
            " 8   order_aproved_at               3584 non-null   object \n",
            " 9   order_estimated_delivery_date  3584 non-null   object \n",
            " 10  order_delivered_customer_date  3467 non-null   object \n",
            " 11  customer_city                  3584 non-null   object \n",
            " 12  customer_state                 3584 non-null   object \n",
            " 13  customer_zip_code_prefix       3584 non-null   int64  \n",
            " 14  product_category_name          3584 non-null   object \n",
            " 15  product_name_lenght            3584 non-null   int64  \n",
            " 16  product_description_lenght     3584 non-null   int64  \n",
            " 17  product_photos_qty             3584 non-null   int64  \n",
            " 18  review_score                   3584 non-null   int64  \n",
            " 19  review_comment_title           0 non-null      float64\n",
            " 20  review_comment_message         3584 non-null   object \n",
            " 21  review_creation_date           3584 non-null   object \n",
            " 22  review_answer_timestamp        3584 non-null   object \n",
            " 23  votes_before_estimate          3584 non-null   int64  \n",
            " 24  votes_delayed                  3584 non-null   int64  \n",
            " 25  votes_low_quality              3584 non-null   int64  \n",
            " 26  votes_return                   3584 non-null   int64  \n",
            " 27  votes_not_as_anounced          3584 non-null   int64  \n",
            " 28  votes_partial_delivery         3584 non-null   int64  \n",
            " 29  votes_other_delivery           3584 non-null   int64  \n",
            " 30  votes_other_order              3584 non-null   int64  \n",
            " 31  votes_satisfied                3584 non-null   int64  \n",
            " 32  most_voted_subclass            3413 non-null   object \n",
            " 33  most_voted_class               3413 non-null   object \n",
            "dtypes: float64(3), int64(18), object(13)\n",
            "memory usage: 952.1+ KB\n"
          ]
        }
      ]
    },
    {
      "cell_type": "markdown",
      "source": [
        "**Informações sobre o dataset**"
      ],
      "metadata": {
        "id": "Ar7ciBmo3ra4"
      }
    },
    {
      "cell_type": "markdown",
      "source": [
        "**Pergunta aos dados**\n",
        "\n",
        "\n",
        "* Quais as distribuições dos status dos pedidos?\n",
        "* Quais os meses do ano houve mais vendas?\n",
        "* Qual a quantidade de itens de um pedido? (médio)\n",
        "* Qual a quantidade de vendedores em um pedido? (médio)\n",
        "* O valor do frete tende a aumentar com o preço do produto?\n",
        "* Qual o tempo médio de entrega?\n",
        "* Como foi as vendas por mês?\n",
        "* Quais meses superaram a meta de vendas?\n",
        "* Como foi a venda por mês se comparado ao ano de 2016?\n",
        "\n"
      ],
      "metadata": {
        "id": "DaAzYLF73uzK"
      }
    },
    {
      "cell_type": "code",
      "source": [
        "pio.renderers.default = 'colab' \n",
        "df.order_status.value_counts().iplot(kind='bar')"
      ],
      "metadata": {
        "colab": {
          "base_uri": "https://localhost:8080/",
          "height": 542
        },
        "id": "hmry_uvE3lLm",
        "outputId": "507968af-506f-4e9b-b104-97390e8a4df4"
      },
      "execution_count": null,
      "outputs": [
        {
          "output_type": "display_data",
          "data": {
            "text/html": [
              "<html>\n",
              "<head><meta charset=\"utf-8\" /></head>\n",
              "<body>\n",
              "    <div>            <script src=\"https://cdnjs.cloudflare.com/ajax/libs/mathjax/2.7.5/MathJax.js?config=TeX-AMS-MML_SVG\"></script><script type=\"text/javascript\">if (window.MathJax) {MathJax.Hub.Config({SVG: {font: \"STIX-Web\"}});}</script>                <script type=\"text/javascript\">window.PlotlyConfig = {MathJaxConfig: 'local'};</script>\n",
              "        <script src=\"https://cdn.plot.ly/plotly-2.8.3.min.js\"></script>                <div id=\"d90feb1a-eb62-4722-b6ea-13eee95dfd05\" class=\"plotly-graph-div\" style=\"height:525px; width:100%;\"></div>            <script type=\"text/javascript\">                                    window.PLOTLYENV=window.PLOTLYENV || {};\n",
              "                    window.PLOTLYENV.BASE_URL='https://plot.ly';                                    if (document.getElementById(\"d90feb1a-eb62-4722-b6ea-13eee95dfd05\")) {                    Plotly.newPlot(                        \"d90feb1a-eb62-4722-b6ea-13eee95dfd05\",                        [{\"marker\":{\"color\":\"rgba(255, 153, 51, 0.6)\",\"line\":{\"color\":\"rgba(255, 153, 51, 1.0)\",\"width\":1}},\"name\":\"order_status\",\"orientation\":\"v\",\"text\":\"\",\"x\":[\"delivered\",\"shipped\",\"canceled\",\"invoiced\",\"processing\"],\"y\":[3467,48,25,24,20],\"type\":\"bar\"}],                        {\"legend\":{\"bgcolor\":\"#F5F6F9\",\"font\":{\"color\":\"#4D5663\"}},\"paper_bgcolor\":\"#F5F6F9\",\"plot_bgcolor\":\"#F5F6F9\",\"template\":{\"data\":{\"barpolar\":[{\"marker\":{\"line\":{\"color\":\"#E5ECF6\",\"width\":0.5},\"pattern\":{\"fillmode\":\"overlay\",\"size\":10,\"solidity\":0.2}},\"type\":\"barpolar\"}],\"bar\":[{\"error_x\":{\"color\":\"#2a3f5f\"},\"error_y\":{\"color\":\"#2a3f5f\"},\"marker\":{\"line\":{\"color\":\"#E5ECF6\",\"width\":0.5},\"pattern\":{\"fillmode\":\"overlay\",\"size\":10,\"solidity\":0.2}},\"type\":\"bar\"}],\"carpet\":[{\"aaxis\":{\"endlinecolor\":\"#2a3f5f\",\"gridcolor\":\"white\",\"linecolor\":\"white\",\"minorgridcolor\":\"white\",\"startlinecolor\":\"#2a3f5f\"},\"baxis\":{\"endlinecolor\":\"#2a3f5f\",\"gridcolor\":\"white\",\"linecolor\":\"white\",\"minorgridcolor\":\"white\",\"startlinecolor\":\"#2a3f5f\"},\"type\":\"carpet\"}],\"choropleth\":[{\"colorbar\":{\"outlinewidth\":0,\"ticks\":\"\"},\"type\":\"choropleth\"}],\"contourcarpet\":[{\"colorbar\":{\"outlinewidth\":0,\"ticks\":\"\"},\"type\":\"contourcarpet\"}],\"contour\":[{\"colorbar\":{\"outlinewidth\":0,\"ticks\":\"\"},\"colorscale\":[[0.0,\"#0d0887\"],[0.1111111111111111,\"#46039f\"],[0.2222222222222222,\"#7201a8\"],[0.3333333333333333,\"#9c179e\"],[0.4444444444444444,\"#bd3786\"],[0.5555555555555556,\"#d8576b\"],[0.6666666666666666,\"#ed7953\"],[0.7777777777777778,\"#fb9f3a\"],[0.8888888888888888,\"#fdca26\"],[1.0,\"#f0f921\"]],\"type\":\"contour\"}],\"heatmapgl\":[{\"colorbar\":{\"outlinewidth\":0,\"ticks\":\"\"},\"colorscale\":[[0.0,\"#0d0887\"],[0.1111111111111111,\"#46039f\"],[0.2222222222222222,\"#7201a8\"],[0.3333333333333333,\"#9c179e\"],[0.4444444444444444,\"#bd3786\"],[0.5555555555555556,\"#d8576b\"],[0.6666666666666666,\"#ed7953\"],[0.7777777777777778,\"#fb9f3a\"],[0.8888888888888888,\"#fdca26\"],[1.0,\"#f0f921\"]],\"type\":\"heatmapgl\"}],\"heatmap\":[{\"colorbar\":{\"outlinewidth\":0,\"ticks\":\"\"},\"colorscale\":[[0.0,\"#0d0887\"],[0.1111111111111111,\"#46039f\"],[0.2222222222222222,\"#7201a8\"],[0.3333333333333333,\"#9c179e\"],[0.4444444444444444,\"#bd3786\"],[0.5555555555555556,\"#d8576b\"],[0.6666666666666666,\"#ed7953\"],[0.7777777777777778,\"#fb9f3a\"],[0.8888888888888888,\"#fdca26\"],[1.0,\"#f0f921\"]],\"type\":\"heatmap\"}],\"histogram2dcontour\":[{\"colorbar\":{\"outlinewidth\":0,\"ticks\":\"\"},\"colorscale\":[[0.0,\"#0d0887\"],[0.1111111111111111,\"#46039f\"],[0.2222222222222222,\"#7201a8\"],[0.3333333333333333,\"#9c179e\"],[0.4444444444444444,\"#bd3786\"],[0.5555555555555556,\"#d8576b\"],[0.6666666666666666,\"#ed7953\"],[0.7777777777777778,\"#fb9f3a\"],[0.8888888888888888,\"#fdca26\"],[1.0,\"#f0f921\"]],\"type\":\"histogram2dcontour\"}],\"histogram2d\":[{\"colorbar\":{\"outlinewidth\":0,\"ticks\":\"\"},\"colorscale\":[[0.0,\"#0d0887\"],[0.1111111111111111,\"#46039f\"],[0.2222222222222222,\"#7201a8\"],[0.3333333333333333,\"#9c179e\"],[0.4444444444444444,\"#bd3786\"],[0.5555555555555556,\"#d8576b\"],[0.6666666666666666,\"#ed7953\"],[0.7777777777777778,\"#fb9f3a\"],[0.8888888888888888,\"#fdca26\"],[1.0,\"#f0f921\"]],\"type\":\"histogram2d\"}],\"histogram\":[{\"marker\":{\"pattern\":{\"fillmode\":\"overlay\",\"size\":10,\"solidity\":0.2}},\"type\":\"histogram\"}],\"mesh3d\":[{\"colorbar\":{\"outlinewidth\":0,\"ticks\":\"\"},\"type\":\"mesh3d\"}],\"parcoords\":[{\"line\":{\"colorbar\":{\"outlinewidth\":0,\"ticks\":\"\"}},\"type\":\"parcoords\"}],\"pie\":[{\"automargin\":true,\"type\":\"pie\"}],\"scatter3d\":[{\"line\":{\"colorbar\":{\"outlinewidth\":0,\"ticks\":\"\"}},\"marker\":{\"colorbar\":{\"outlinewidth\":0,\"ticks\":\"\"}},\"type\":\"scatter3d\"}],\"scattercarpet\":[{\"marker\":{\"colorbar\":{\"outlinewidth\":0,\"ticks\":\"\"}},\"type\":\"scattercarpet\"}],\"scattergeo\":[{\"marker\":{\"colorbar\":{\"outlinewidth\":0,\"ticks\":\"\"}},\"type\":\"scattergeo\"}],\"scattergl\":[{\"marker\":{\"colorbar\":{\"outlinewidth\":0,\"ticks\":\"\"}},\"type\":\"scattergl\"}],\"scattermapbox\":[{\"marker\":{\"colorbar\":{\"outlinewidth\":0,\"ticks\":\"\"}},\"type\":\"scattermapbox\"}],\"scatterpolargl\":[{\"marker\":{\"colorbar\":{\"outlinewidth\":0,\"ticks\":\"\"}},\"type\":\"scatterpolargl\"}],\"scatterpolar\":[{\"marker\":{\"colorbar\":{\"outlinewidth\":0,\"ticks\":\"\"}},\"type\":\"scatterpolar\"}],\"scatter\":[{\"marker\":{\"colorbar\":{\"outlinewidth\":0,\"ticks\":\"\"}},\"type\":\"scatter\"}],\"scatterternary\":[{\"marker\":{\"colorbar\":{\"outlinewidth\":0,\"ticks\":\"\"}},\"type\":\"scatterternary\"}],\"surface\":[{\"colorbar\":{\"outlinewidth\":0,\"ticks\":\"\"},\"colorscale\":[[0.0,\"#0d0887\"],[0.1111111111111111,\"#46039f\"],[0.2222222222222222,\"#7201a8\"],[0.3333333333333333,\"#9c179e\"],[0.4444444444444444,\"#bd3786\"],[0.5555555555555556,\"#d8576b\"],[0.6666666666666666,\"#ed7953\"],[0.7777777777777778,\"#fb9f3a\"],[0.8888888888888888,\"#fdca26\"],[1.0,\"#f0f921\"]],\"type\":\"surface\"}],\"table\":[{\"cells\":{\"fill\":{\"color\":\"#EBF0F8\"},\"line\":{\"color\":\"white\"}},\"header\":{\"fill\":{\"color\":\"#C8D4E3\"},\"line\":{\"color\":\"white\"}},\"type\":\"table\"}]},\"layout\":{\"annotationdefaults\":{\"arrowcolor\":\"#2a3f5f\",\"arrowhead\":0,\"arrowwidth\":1},\"autotypenumbers\":\"strict\",\"coloraxis\":{\"colorbar\":{\"outlinewidth\":0,\"ticks\":\"\"}},\"colorscale\":{\"diverging\":[[0,\"#8e0152\"],[0.1,\"#c51b7d\"],[0.2,\"#de77ae\"],[0.3,\"#f1b6da\"],[0.4,\"#fde0ef\"],[0.5,\"#f7f7f7\"],[0.6,\"#e6f5d0\"],[0.7,\"#b8e186\"],[0.8,\"#7fbc41\"],[0.9,\"#4d9221\"],[1,\"#276419\"]],\"sequential\":[[0.0,\"#0d0887\"],[0.1111111111111111,\"#46039f\"],[0.2222222222222222,\"#7201a8\"],[0.3333333333333333,\"#9c179e\"],[0.4444444444444444,\"#bd3786\"],[0.5555555555555556,\"#d8576b\"],[0.6666666666666666,\"#ed7953\"],[0.7777777777777778,\"#fb9f3a\"],[0.8888888888888888,\"#fdca26\"],[1.0,\"#f0f921\"]],\"sequentialminus\":[[0.0,\"#0d0887\"],[0.1111111111111111,\"#46039f\"],[0.2222222222222222,\"#7201a8\"],[0.3333333333333333,\"#9c179e\"],[0.4444444444444444,\"#bd3786\"],[0.5555555555555556,\"#d8576b\"],[0.6666666666666666,\"#ed7953\"],[0.7777777777777778,\"#fb9f3a\"],[0.8888888888888888,\"#fdca26\"],[1.0,\"#f0f921\"]]},\"colorway\":[\"#636efa\",\"#EF553B\",\"#00cc96\",\"#ab63fa\",\"#FFA15A\",\"#19d3f3\",\"#FF6692\",\"#B6E880\",\"#FF97FF\",\"#FECB52\"],\"font\":{\"color\":\"#2a3f5f\"},\"geo\":{\"bgcolor\":\"white\",\"lakecolor\":\"white\",\"landcolor\":\"#E5ECF6\",\"showlakes\":true,\"showland\":true,\"subunitcolor\":\"white\"},\"hoverlabel\":{\"align\":\"left\"},\"hovermode\":\"closest\",\"mapbox\":{\"style\":\"light\"},\"paper_bgcolor\":\"white\",\"plot_bgcolor\":\"#E5ECF6\",\"polar\":{\"angularaxis\":{\"gridcolor\":\"white\",\"linecolor\":\"white\",\"ticks\":\"\"},\"bgcolor\":\"#E5ECF6\",\"radialaxis\":{\"gridcolor\":\"white\",\"linecolor\":\"white\",\"ticks\":\"\"}},\"scene\":{\"xaxis\":{\"backgroundcolor\":\"#E5ECF6\",\"gridcolor\":\"white\",\"gridwidth\":2,\"linecolor\":\"white\",\"showbackground\":true,\"ticks\":\"\",\"zerolinecolor\":\"white\"},\"yaxis\":{\"backgroundcolor\":\"#E5ECF6\",\"gridcolor\":\"white\",\"gridwidth\":2,\"linecolor\":\"white\",\"showbackground\":true,\"ticks\":\"\",\"zerolinecolor\":\"white\"},\"zaxis\":{\"backgroundcolor\":\"#E5ECF6\",\"gridcolor\":\"white\",\"gridwidth\":2,\"linecolor\":\"white\",\"showbackground\":true,\"ticks\":\"\",\"zerolinecolor\":\"white\"}},\"shapedefaults\":{\"line\":{\"color\":\"#2a3f5f\"}},\"ternary\":{\"aaxis\":{\"gridcolor\":\"white\",\"linecolor\":\"white\",\"ticks\":\"\"},\"baxis\":{\"gridcolor\":\"white\",\"linecolor\":\"white\",\"ticks\":\"\"},\"bgcolor\":\"#E5ECF6\",\"caxis\":{\"gridcolor\":\"white\",\"linecolor\":\"white\",\"ticks\":\"\"}},\"title\":{\"x\":0.05},\"xaxis\":{\"automargin\":true,\"gridcolor\":\"white\",\"linecolor\":\"white\",\"ticks\":\"\",\"title\":{\"standoff\":15},\"zerolinecolor\":\"white\",\"zerolinewidth\":2},\"yaxis\":{\"automargin\":true,\"gridcolor\":\"white\",\"linecolor\":\"white\",\"ticks\":\"\",\"title\":{\"standoff\":15},\"zerolinecolor\":\"white\",\"zerolinewidth\":2}}},\"title\":{\"font\":{\"color\":\"#4D5663\"}},\"xaxis\":{\"gridcolor\":\"#E1E5ED\",\"showgrid\":true,\"tickfont\":{\"color\":\"#4D5663\"},\"title\":{\"font\":{\"color\":\"#4D5663\"},\"text\":\"\"},\"zerolinecolor\":\"#E1E5ED\"},\"yaxis\":{\"gridcolor\":\"#E1E5ED\",\"showgrid\":true,\"tickfont\":{\"color\":\"#4D5663\"},\"title\":{\"font\":{\"color\":\"#4D5663\"},\"text\":\"\"},\"zerolinecolor\":\"#E1E5ED\"}},                        {\"showLink\": true, \"linkText\": \"Export to plot.ly\", \"plotlyServerURL\": \"https://plot.ly\", \"responsive\": true}                    ).then(function(){\n",
              "                            \n",
              "var gd = document.getElementById('d90feb1a-eb62-4722-b6ea-13eee95dfd05');\n",
              "var x = new MutationObserver(function (mutations, observer) {{\n",
              "        var display = window.getComputedStyle(gd).display;\n",
              "        if (!display || display === 'none') {{\n",
              "            console.log([gd, 'removed!']);\n",
              "            Plotly.purge(gd);\n",
              "            observer.disconnect();\n",
              "        }}\n",
              "}});\n",
              "\n",
              "// Listen for the removal of the full notebook cells\n",
              "var notebookContainer = gd.closest('#notebook-container');\n",
              "if (notebookContainer) {{\n",
              "    x.observe(notebookContainer, {childList: true});\n",
              "}}\n",
              "\n",
              "// Listen for the clearing of the current output cell\n",
              "var outputEl = gd.closest('.output');\n",
              "if (outputEl) {{\n",
              "    x.observe(outputEl, {childList: true});\n",
              "}}\n",
              "\n",
              "                        })                };                            </script>        </div>\n",
              "</body>\n",
              "</html>"
            ]
          },
          "metadata": {}
        }
      ]
    },
    {
      "cell_type": "markdown",
      "source": [
        "**Transformando colunas para o formato datetime**"
      ],
      "metadata": {
        "id": "lRFm7P6q5hkB"
      }
    },
    {
      "cell_type": "code",
      "source": [
        "df.order_purchase_timestamp = pd.to_datetime(df.order_purchase_timestamp)"
      ],
      "metadata": {
        "id": "w0ASyCE15Lvw"
      },
      "execution_count": null,
      "outputs": []
    },
    {
      "cell_type": "markdown",
      "source": [
        "**Visualizando as colunas com em Datetime**"
      ],
      "metadata": {
        "id": "PyJui2If5tJG"
      }
    },
    {
      "cell_type": "code",
      "source": [
        "df.info()"
      ],
      "metadata": {
        "colab": {
          "base_uri": "https://localhost:8080/"
        },
        "id": "ZKDNwZtj5wmV",
        "outputId": "fe754569-c601-4809-f3db-ea3e9ba0377f"
      },
      "execution_count": null,
      "outputs": [
        {
          "output_type": "stream",
          "name": "stdout",
          "text": [
            "<class 'pandas.core.frame.DataFrame'>\n",
            "RangeIndex: 3584 entries, 0 to 3583\n",
            "Data columns (total 34 columns):\n",
            " #   Column                         Non-Null Count  Dtype         \n",
            "---  ------                         --------------  -----         \n",
            " 0   Unnamed: 0                     3584 non-null   int64         \n",
            " 1   id                             3584 non-null   int64         \n",
            " 2   order_status                   3584 non-null   object        \n",
            " 3   order_products_value           3584 non-null   float64       \n",
            " 4   order_freight_value            3584 non-null   float64       \n",
            " 5   order_items_qty                3584 non-null   int64         \n",
            " 6   order_sellers_qty              3584 non-null   int64         \n",
            " 7   order_purchase_timestamp       3584 non-null   datetime64[ns]\n",
            " 8   order_aproved_at               3584 non-null   object        \n",
            " 9   order_estimated_delivery_date  3584 non-null   object        \n",
            " 10  order_delivered_customer_date  3467 non-null   object        \n",
            " 11  customer_city                  3584 non-null   object        \n",
            " 12  customer_state                 3584 non-null   object        \n",
            " 13  customer_zip_code_prefix       3584 non-null   int64         \n",
            " 14  product_category_name          3584 non-null   object        \n",
            " 15  product_name_lenght            3584 non-null   int64         \n",
            " 16  product_description_lenght     3584 non-null   int64         \n",
            " 17  product_photos_qty             3584 non-null   int64         \n",
            " 18  review_score                   3584 non-null   int64         \n",
            " 19  review_comment_title           0 non-null      float64       \n",
            " 20  review_comment_message         3584 non-null   object        \n",
            " 21  review_creation_date           3584 non-null   object        \n",
            " 22  review_answer_timestamp        3584 non-null   object        \n",
            " 23  votes_before_estimate          3584 non-null   int64         \n",
            " 24  votes_delayed                  3584 non-null   int64         \n",
            " 25  votes_low_quality              3584 non-null   int64         \n",
            " 26  votes_return                   3584 non-null   int64         \n",
            " 27  votes_not_as_anounced          3584 non-null   int64         \n",
            " 28  votes_partial_delivery         3584 non-null   int64         \n",
            " 29  votes_other_delivery           3584 non-null   int64         \n",
            " 30  votes_other_order              3584 non-null   int64         \n",
            " 31  votes_satisfied                3584 non-null   int64         \n",
            " 32  most_voted_subclass            3413 non-null   object        \n",
            " 33  most_voted_class               3413 non-null   object        \n",
            "dtypes: datetime64[ns](1), float64(3), int64(18), object(12)\n",
            "memory usage: 952.1+ KB\n"
          ]
        }
      ]
    },
    {
      "cell_type": "markdown",
      "source": [
        "\n",
        "\n",
        "* O método to_period() com 'M' para obter informações no formato de meses\n",
        "* Criando a coluna order_purchase_month\n",
        "\n"
      ],
      "metadata": {
        "id": "lmmm1nwZ542F"
      }
    },
    {
      "cell_type": "code",
      "source": [
        "df['order_purchase_month'] = df.order_purchase_timestamp.dt.to_period('M').astype(str)"
      ],
      "metadata": {
        "id": "bjMmd9ts6FAu"
      },
      "execution_count": null,
      "outputs": []
    },
    {
      "cell_type": "code",
      "source": [
        "df.order_purchase_month.head()"
      ],
      "metadata": {
        "colab": {
          "base_uri": "https://localhost:8080/"
        },
        "id": "kAU21fnm6POH",
        "outputId": "9bb991e0-65ec-44ba-dfe3-b22099ec77b8"
      },
      "execution_count": null,
      "outputs": [
        {
          "output_type": "execute_result",
          "data": {
            "text/plain": [
              "0    2017-08\n",
              "1    2017-09\n",
              "2    2018-01\n",
              "3    2018-02\n",
              "4    2017-12\n",
              "Name: order_purchase_month, dtype: object"
            ]
          },
          "metadata": {},
          "execution_count": 48
        }
      ]
    },
    {
      "cell_type": "markdown",
      "source": [
        "**Visualizando a nova coluna no dataframe**"
      ],
      "metadata": {
        "id": "guYRzHOr-SJA"
      }
    },
    {
      "cell_type": "code",
      "source": [
        "df.head()"
      ],
      "metadata": {
        "colab": {
          "base_uri": "https://localhost:8080/",
          "height": 404
        },
        "id": "BvCOkUjA6R14",
        "outputId": "9b49e19c-46f4-4b54-bdbc-9b41016a3215"
      },
      "execution_count": null,
      "outputs": [
        {
          "output_type": "execute_result",
          "data": {
            "text/plain": [
              "   Unnamed: 0  id order_status  order_products_value  order_freight_value  \\\n",
              "0           0   1    delivered                 89.99                14.38   \n",
              "1           1   2    delivered                 69.00                15.23   \n",
              "2           2   3    delivered                 99.80                15.86   \n",
              "3           3   4    delivered                 87.00                12.74   \n",
              "4           4   5    delivered                 99.90                17.95   \n",
              "\n",
              "   order_items_qty  order_sellers_qty order_purchase_timestamp  \\\n",
              "0                1                  1      2017-08-30 11:41:01   \n",
              "1                1                  1      2017-09-26 09:13:36   \n",
              "2                2                  4      2018-01-15 15:50:42   \n",
              "3                1                  1      2018-02-04 11:16:42   \n",
              "4                1                  2      2017-12-07 11:58:42   \n",
              "\n",
              "             order_aproved_at order_estimated_delivery_date  ...  \\\n",
              "0  2017-08-30 11:55:08.970352    2017-09-21 00:00:00.000000  ...   \n",
              "1  2017-09-26 09:28:10.922048    2017-10-24 00:00:00.000000  ...   \n",
              "2  2018-01-17 07:29:56.419769    2018-02-05 00:00:00.000000  ...   \n",
              "3  2018-02-06 05:31:50.990164    2018-03-13 00:00:00.000000  ...   \n",
              "4  2017-12-08 02:36:49.587515    2018-01-03 00:00:00.000000  ...   \n",
              "\n",
              "  votes_low_quality votes_return votes_not_as_anounced  \\\n",
              "0                 0            0                     0   \n",
              "1                 0            0                     0   \n",
              "2                 0            0                     0   \n",
              "3                 0            0                     0   \n",
              "4                 0            0                     0   \n",
              "\n",
              "   votes_partial_delivery votes_other_delivery  votes_other_order  \\\n",
              "0                       0                    0                  0   \n",
              "1                       0                    0                  0   \n",
              "2                       3                    0                  0   \n",
              "3                       0                    0                  0   \n",
              "4                       3                    0                  0   \n",
              "\n",
              "   votes_satisfied  most_voted_subclass       most_voted_class  \\\n",
              "0                3           satisfeito  satisfeito_com_pedido   \n",
              "1                0          antes_prazo  satisfeito_com_pedido   \n",
              "2                0      entrega_parcial   problemas_de_entrega   \n",
              "3                0             atrasado   problemas_de_entrega   \n",
              "4                0      entrega_parcial   problemas_de_entrega   \n",
              "\n",
              "   order_purchase_month  \n",
              "0               2017-08  \n",
              "1               2017-09  \n",
              "2               2018-01  \n",
              "3               2018-02  \n",
              "4               2017-12  \n",
              "\n",
              "[5 rows x 35 columns]"
            ],
            "text/html": [
              "\n",
              "  <div id=\"df-b866042a-2ece-4907-9693-f5154792524b\">\n",
              "    <div class=\"colab-df-container\">\n",
              "      <div>\n",
              "<style scoped>\n",
              "    .dataframe tbody tr th:only-of-type {\n",
              "        vertical-align: middle;\n",
              "    }\n",
              "\n",
              "    .dataframe tbody tr th {\n",
              "        vertical-align: top;\n",
              "    }\n",
              "\n",
              "    .dataframe thead th {\n",
              "        text-align: right;\n",
              "    }\n",
              "</style>\n",
              "<table border=\"1\" class=\"dataframe\">\n",
              "  <thead>\n",
              "    <tr style=\"text-align: right;\">\n",
              "      <th></th>\n",
              "      <th>Unnamed: 0</th>\n",
              "      <th>id</th>\n",
              "      <th>order_status</th>\n",
              "      <th>order_products_value</th>\n",
              "      <th>order_freight_value</th>\n",
              "      <th>order_items_qty</th>\n",
              "      <th>order_sellers_qty</th>\n",
              "      <th>order_purchase_timestamp</th>\n",
              "      <th>order_aproved_at</th>\n",
              "      <th>order_estimated_delivery_date</th>\n",
              "      <th>...</th>\n",
              "      <th>votes_low_quality</th>\n",
              "      <th>votes_return</th>\n",
              "      <th>votes_not_as_anounced</th>\n",
              "      <th>votes_partial_delivery</th>\n",
              "      <th>votes_other_delivery</th>\n",
              "      <th>votes_other_order</th>\n",
              "      <th>votes_satisfied</th>\n",
              "      <th>most_voted_subclass</th>\n",
              "      <th>most_voted_class</th>\n",
              "      <th>order_purchase_month</th>\n",
              "    </tr>\n",
              "  </thead>\n",
              "  <tbody>\n",
              "    <tr>\n",
              "      <th>0</th>\n",
              "      <td>0</td>\n",
              "      <td>1</td>\n",
              "      <td>delivered</td>\n",
              "      <td>89.99</td>\n",
              "      <td>14.38</td>\n",
              "      <td>1</td>\n",
              "      <td>1</td>\n",
              "      <td>2017-08-30 11:41:01</td>\n",
              "      <td>2017-08-30 11:55:08.970352</td>\n",
              "      <td>2017-09-21 00:00:00.000000</td>\n",
              "      <td>...</td>\n",
              "      <td>0</td>\n",
              "      <td>0</td>\n",
              "      <td>0</td>\n",
              "      <td>0</td>\n",
              "      <td>0</td>\n",
              "      <td>0</td>\n",
              "      <td>3</td>\n",
              "      <td>satisfeito</td>\n",
              "      <td>satisfeito_com_pedido</td>\n",
              "      <td>2017-08</td>\n",
              "    </tr>\n",
              "    <tr>\n",
              "      <th>1</th>\n",
              "      <td>1</td>\n",
              "      <td>2</td>\n",
              "      <td>delivered</td>\n",
              "      <td>69.00</td>\n",
              "      <td>15.23</td>\n",
              "      <td>1</td>\n",
              "      <td>1</td>\n",
              "      <td>2017-09-26 09:13:36</td>\n",
              "      <td>2017-09-26 09:28:10.922048</td>\n",
              "      <td>2017-10-24 00:00:00.000000</td>\n",
              "      <td>...</td>\n",
              "      <td>0</td>\n",
              "      <td>0</td>\n",
              "      <td>0</td>\n",
              "      <td>0</td>\n",
              "      <td>0</td>\n",
              "      <td>0</td>\n",
              "      <td>0</td>\n",
              "      <td>antes_prazo</td>\n",
              "      <td>satisfeito_com_pedido</td>\n",
              "      <td>2017-09</td>\n",
              "    </tr>\n",
              "    <tr>\n",
              "      <th>2</th>\n",
              "      <td>2</td>\n",
              "      <td>3</td>\n",
              "      <td>delivered</td>\n",
              "      <td>99.80</td>\n",
              "      <td>15.86</td>\n",
              "      <td>2</td>\n",
              "      <td>4</td>\n",
              "      <td>2018-01-15 15:50:42</td>\n",
              "      <td>2018-01-17 07:29:56.419769</td>\n",
              "      <td>2018-02-05 00:00:00.000000</td>\n",
              "      <td>...</td>\n",
              "      <td>0</td>\n",
              "      <td>0</td>\n",
              "      <td>0</td>\n",
              "      <td>3</td>\n",
              "      <td>0</td>\n",
              "      <td>0</td>\n",
              "      <td>0</td>\n",
              "      <td>entrega_parcial</td>\n",
              "      <td>problemas_de_entrega</td>\n",
              "      <td>2018-01</td>\n",
              "    </tr>\n",
              "    <tr>\n",
              "      <th>3</th>\n",
              "      <td>3</td>\n",
              "      <td>4</td>\n",
              "      <td>delivered</td>\n",
              "      <td>87.00</td>\n",
              "      <td>12.74</td>\n",
              "      <td>1</td>\n",
              "      <td>1</td>\n",
              "      <td>2018-02-04 11:16:42</td>\n",
              "      <td>2018-02-06 05:31:50.990164</td>\n",
              "      <td>2018-03-13 00:00:00.000000</td>\n",
              "      <td>...</td>\n",
              "      <td>0</td>\n",
              "      <td>0</td>\n",
              "      <td>0</td>\n",
              "      <td>0</td>\n",
              "      <td>0</td>\n",
              "      <td>0</td>\n",
              "      <td>0</td>\n",
              "      <td>atrasado</td>\n",
              "      <td>problemas_de_entrega</td>\n",
              "      <td>2018-02</td>\n",
              "    </tr>\n",
              "    <tr>\n",
              "      <th>4</th>\n",
              "      <td>4</td>\n",
              "      <td>5</td>\n",
              "      <td>delivered</td>\n",
              "      <td>99.90</td>\n",
              "      <td>17.95</td>\n",
              "      <td>1</td>\n",
              "      <td>2</td>\n",
              "      <td>2017-12-07 11:58:42</td>\n",
              "      <td>2017-12-08 02:36:49.587515</td>\n",
              "      <td>2018-01-03 00:00:00.000000</td>\n",
              "      <td>...</td>\n",
              "      <td>0</td>\n",
              "      <td>0</td>\n",
              "      <td>0</td>\n",
              "      <td>3</td>\n",
              "      <td>0</td>\n",
              "      <td>0</td>\n",
              "      <td>0</td>\n",
              "      <td>entrega_parcial</td>\n",
              "      <td>problemas_de_entrega</td>\n",
              "      <td>2017-12</td>\n",
              "    </tr>\n",
              "  </tbody>\n",
              "</table>\n",
              "<p>5 rows × 35 columns</p>\n",
              "</div>\n",
              "      <button class=\"colab-df-convert\" onclick=\"convertToInteractive('df-b866042a-2ece-4907-9693-f5154792524b')\"\n",
              "              title=\"Convert this dataframe to an interactive table.\"\n",
              "              style=\"display:none;\">\n",
              "        \n",
              "  <svg xmlns=\"http://www.w3.org/2000/svg\" height=\"24px\"viewBox=\"0 0 24 24\"\n",
              "       width=\"24px\">\n",
              "    <path d=\"M0 0h24v24H0V0z\" fill=\"none\"/>\n",
              "    <path d=\"M18.56 5.44l.94 2.06.94-2.06 2.06-.94-2.06-.94-.94-2.06-.94 2.06-2.06.94zm-11 1L8.5 8.5l.94-2.06 2.06-.94-2.06-.94L8.5 2.5l-.94 2.06-2.06.94zm10 10l.94 2.06.94-2.06 2.06-.94-2.06-.94-.94-2.06-.94 2.06-2.06.94z\"/><path d=\"M17.41 7.96l-1.37-1.37c-.4-.4-.92-.59-1.43-.59-.52 0-1.04.2-1.43.59L10.3 9.45l-7.72 7.72c-.78.78-.78 2.05 0 2.83L4 21.41c.39.39.9.59 1.41.59.51 0 1.02-.2 1.41-.59l7.78-7.78 2.81-2.81c.8-.78.8-2.07 0-2.86zM5.41 20L4 18.59l7.72-7.72 1.47 1.35L5.41 20z\"/>\n",
              "  </svg>\n",
              "      </button>\n",
              "      \n",
              "  <style>\n",
              "    .colab-df-container {\n",
              "      display:flex;\n",
              "      flex-wrap:wrap;\n",
              "      gap: 12px;\n",
              "    }\n",
              "\n",
              "    .colab-df-convert {\n",
              "      background-color: #E8F0FE;\n",
              "      border: none;\n",
              "      border-radius: 50%;\n",
              "      cursor: pointer;\n",
              "      display: none;\n",
              "      fill: #1967D2;\n",
              "      height: 32px;\n",
              "      padding: 0 0 0 0;\n",
              "      width: 32px;\n",
              "    }\n",
              "\n",
              "    .colab-df-convert:hover {\n",
              "      background-color: #E2EBFA;\n",
              "      box-shadow: 0px 1px 2px rgba(60, 64, 67, 0.3), 0px 1px 3px 1px rgba(60, 64, 67, 0.15);\n",
              "      fill: #174EA6;\n",
              "    }\n",
              "\n",
              "    [theme=dark] .colab-df-convert {\n",
              "      background-color: #3B4455;\n",
              "      fill: #D2E3FC;\n",
              "    }\n",
              "\n",
              "    [theme=dark] .colab-df-convert:hover {\n",
              "      background-color: #434B5C;\n",
              "      box-shadow: 0px 1px 3px 1px rgba(0, 0, 0, 0.15);\n",
              "      filter: drop-shadow(0px 1px 2px rgba(0, 0, 0, 0.3));\n",
              "      fill: #FFFFFF;\n",
              "    }\n",
              "  </style>\n",
              "\n",
              "      <script>\n",
              "        const buttonEl =\n",
              "          document.querySelector('#df-b866042a-2ece-4907-9693-f5154792524b button.colab-df-convert');\n",
              "        buttonEl.style.display =\n",
              "          google.colab.kernel.accessAllowed ? 'block' : 'none';\n",
              "\n",
              "        async function convertToInteractive(key) {\n",
              "          const element = document.querySelector('#df-b866042a-2ece-4907-9693-f5154792524b');\n",
              "          const dataTable =\n",
              "            await google.colab.kernel.invokeFunction('convertToInteractive',\n",
              "                                                     [key], {});\n",
              "          if (!dataTable) return;\n",
              "\n",
              "          const docLinkHtml = 'Like what you see? Visit the ' +\n",
              "            '<a target=\"_blank\" href=https://colab.research.google.com/notebooks/data_table.ipynb>data table notebook</a>'\n",
              "            + ' to learn more about interactive tables.';\n",
              "          element.innerHTML = '';\n",
              "          dataTable['output_type'] = 'display_data';\n",
              "          await google.colab.output.renderOutput(dataTable, element);\n",
              "          const docLink = document.createElement('div');\n",
              "          docLink.innerHTML = docLinkHtml;\n",
              "          element.appendChild(docLink);\n",
              "        }\n",
              "      </script>\n",
              "    </div>\n",
              "  </div>\n",
              "  "
            ]
          },
          "metadata": {},
          "execution_count": 49
        }
      ]
    },
    {
      "cell_type": "markdown",
      "source": [
        "**Cria a variável vendas_por_mes que é a soma do valor dos produtos agrupados por mês**"
      ],
      "metadata": {
        "id": "rDdTBbEM-Y3-"
      }
    },
    {
      "cell_type": "code",
      "source": [
        "vendas_por_mes = df.groupby(by='order_purchase_month').order_products_value.sum()"
      ],
      "metadata": {
        "id": "31kM63N7-XIQ"
      },
      "execution_count": null,
      "outputs": []
    },
    {
      "cell_type": "code",
      "source": [
        "type(vendas_por_mes)"
      ],
      "metadata": {
        "colab": {
          "base_uri": "https://localhost:8080/"
        },
        "id": "ft3IGJ9U-m2Z",
        "outputId": "6fcd315b-7011-4dc6-844f-c28f687e68a9"
      },
      "execution_count": null,
      "outputs": [
        {
          "output_type": "execute_result",
          "data": {
            "text/plain": [
              "pandas.core.series.Series"
            ]
          },
          "metadata": {},
          "execution_count": 51
        }
      ]
    },
    {
      "cell_type": "markdown",
      "source": [
        "**Visualizando os valores de vendas por mês**"
      ],
      "metadata": {
        "id": "llFWODIX-zPr"
      }
    },
    {
      "cell_type": "code",
      "source": [
        "vendas_por_mes.head()"
      ],
      "metadata": {
        "colab": {
          "base_uri": "https://localhost:8080/"
        },
        "id": "QP3jdyt6-x0Q",
        "outputId": "9dfc8d57-b599-436d-f3c8-2e0149a746fe"
      },
      "execution_count": null,
      "outputs": [
        {
          "output_type": "execute_result",
          "data": {
            "text/plain": [
              "order_purchase_month\n",
              "2017-02        9.99\n",
              "2017-03      902.86\n",
              "2017-04    17654.19\n",
              "2017-05    25556.23\n",
              "2017-06    34172.86\n",
              "Name: order_products_value, dtype: float64"
            ]
          },
          "metadata": {},
          "execution_count": 52
        }
      ]
    },
    {
      "cell_type": "code",
      "source": [
        "vendas_por_mes.index.item"
      ],
      "metadata": {
        "colab": {
          "base_uri": "https://localhost:8080/"
        },
        "id": "v_ww59UD-3mg",
        "outputId": "02ab5ab2-de64-4396-a590-65e1e13e3a5b"
      },
      "execution_count": null,
      "outputs": [
        {
          "output_type": "execute_result",
          "data": {
            "text/plain": [
              "<bound method IndexOpsMixin.item of Index(['2017-02', '2017-03', '2017-04', '2017-05', '2017-06', '2017-07',\n",
              "       '2017-08', '2017-09', '2017-10', '2017-11', '2017-12', '2018-01',\n",
              "       '2018-02', '2018-03', '2018-04'],\n",
              "      dtype='object', name='order_purchase_month')>"
            ]
          },
          "metadata": {},
          "execution_count": 53
        }
      ]
    },
    {
      "cell_type": "code",
      "source": [
        "vendas_por_mes.values"
      ],
      "metadata": {
        "colab": {
          "base_uri": "https://localhost:8080/"
        },
        "id": "f3DsxiAJ-8H4",
        "outputId": "c610ff77-96c7-4124-e96d-c88069de3ca0"
      },
      "execution_count": null,
      "outputs": [
        {
          "output_type": "execute_result",
          "data": {
            "text/plain": [
              "array([9.990000e+00, 9.028600e+02, 1.765419e+04, 2.555623e+04,\n",
              "       3.417286e+04, 4.728474e+04, 3.989885e+04, 4.546220e+04,\n",
              "       4.091040e+04, 5.537392e+04, 4.380657e+04, 4.675556e+04,\n",
              "       4.256054e+04, 3.343548e+04, 3.754330e+03])"
            ]
          },
          "metadata": {},
          "execution_count": 54
        }
      ]
    },
    {
      "cell_type": "markdown",
      "source": [
        "**Pontos importantes a lembrar:**\n",
        "\n",
        "* init_notebook_mode()\n",
        "* plotly.offline.iplot\n",
        "\n"
      ],
      "metadata": {
        "id": "4ys8jqrj_AIO"
      }
    },
    {
      "cell_type": "code",
      "source": [
        "import plotly\n",
        "import plotly.graph_objs as go\n",
        "import plotly.offline as py"
      ],
      "metadata": {
        "id": "_n6mUqWy-92B"
      },
      "execution_count": null,
      "outputs": []
    },
    {
      "cell_type": "code",
      "source": [
        "#modo off\n",
        "plotly.offline.init_notebook_mode(connected=True)"
      ],
      "metadata": {
        "colab": {
          "base_uri": "https://localhost:8080/",
          "height": 17
        },
        "id": "kqUGxQr__Pgp",
        "outputId": "aff48cfa-3789-4fe9-cbd9-7d3f05a69d33"
      },
      "execution_count": null,
      "outputs": [
        {
          "output_type": "display_data",
          "data": {
            "text/html": [
              "        <script type=\"text/javascript\">\n",
              "        window.PlotlyConfig = {MathJaxConfig: 'local'};\n",
              "        if (window.MathJax) {MathJax.Hub.Config({SVG: {font: \"STIX-Web\"}});}\n",
              "        if (typeof require !== 'undefined') {\n",
              "        require.undef(\"plotly\");\n",
              "        requirejs.config({\n",
              "            paths: {\n",
              "                'plotly': ['https://cdn.plot.ly/plotly-2.8.3.min']\n",
              "            }\n",
              "        });\n",
              "        require(['plotly'], function(Plotly) {\n",
              "            window._Plotly = Plotly;\n",
              "        });\n",
              "        }\n",
              "        </script>\n",
              "        "
            ]
          },
          "metadata": {}
        }
      ]
    },
    {
      "cell_type": "code",
      "source": [
        "pio.renderers.default = 'colab' "
      ],
      "metadata": {
        "id": "glZNMfMB_sfM"
      },
      "execution_count": null,
      "outputs": []
    },
    {
      "cell_type": "markdown",
      "source": [
        "**Vendas por mês**"
      ],
      "metadata": {
        "id": "_3rl2ZLt_vwU"
      }
    },
    {
      "cell_type": "code",
      "source": [
        "import plotly.graph_objs as go\n",
        "data = [go.Scatter(x=vendas_por_mes.index,\n",
        "                   y=vendas_por_mes.values)]\n",
        "\n",
        "py.iplot(data)\n",
        "pyo.plot(fig)"
      ],
      "metadata": {
        "colab": {
          "base_uri": "https://localhost:8080/",
          "height": 560
        },
        "id": "D8YzQOxp_WXg",
        "outputId": "5e69deda-44f5-421c-faa3-1d1e8cb8fa3d"
      },
      "execution_count": null,
      "outputs": [
        {
          "output_type": "display_data",
          "data": {
            "text/html": [
              "<html>\n",
              "<head><meta charset=\"utf-8\" /></head>\n",
              "<body>\n",
              "    <div>            <script src=\"https://cdnjs.cloudflare.com/ajax/libs/mathjax/2.7.5/MathJax.js?config=TeX-AMS-MML_SVG\"></script><script type=\"text/javascript\">if (window.MathJax) {MathJax.Hub.Config({SVG: {font: \"STIX-Web\"}});}</script>                <script type=\"text/javascript\">window.PlotlyConfig = {MathJaxConfig: 'local'};</script>\n",
              "        <script src=\"https://cdn.plot.ly/plotly-2.8.3.min.js\"></script>                <div id=\"21ccc95c-70f7-485c-9de9-0c42f41a56f3\" class=\"plotly-graph-div\" style=\"height:525px; width:100%;\"></div>            <script type=\"text/javascript\">                                    window.PLOTLYENV=window.PLOTLYENV || {};                                    if (document.getElementById(\"21ccc95c-70f7-485c-9de9-0c42f41a56f3\")) {                    Plotly.newPlot(                        \"21ccc95c-70f7-485c-9de9-0c42f41a56f3\",                        [{\"x\":[\"2017-02\",\"2017-03\",\"2017-04\",\"2017-05\",\"2017-06\",\"2017-07\",\"2017-08\",\"2017-09\",\"2017-10\",\"2017-11\",\"2017-12\",\"2018-01\",\"2018-02\",\"2018-03\",\"2018-04\"],\"y\":[9.99,902.86,17654.190000000002,25556.23,34172.86,47284.74,39898.85,45462.2,40910.4,55373.92,43806.57,46755.56,42560.54,33435.48,3754.33],\"type\":\"scatter\"}],                        {\"template\":{\"data\":{\"barpolar\":[{\"marker\":{\"line\":{\"color\":\"#E5ECF6\",\"width\":0.5},\"pattern\":{\"fillmode\":\"overlay\",\"size\":10,\"solidity\":0.2}},\"type\":\"barpolar\"}],\"bar\":[{\"error_x\":{\"color\":\"#2a3f5f\"},\"error_y\":{\"color\":\"#2a3f5f\"},\"marker\":{\"line\":{\"color\":\"#E5ECF6\",\"width\":0.5},\"pattern\":{\"fillmode\":\"overlay\",\"size\":10,\"solidity\":0.2}},\"type\":\"bar\"}],\"carpet\":[{\"aaxis\":{\"endlinecolor\":\"#2a3f5f\",\"gridcolor\":\"white\",\"linecolor\":\"white\",\"minorgridcolor\":\"white\",\"startlinecolor\":\"#2a3f5f\"},\"baxis\":{\"endlinecolor\":\"#2a3f5f\",\"gridcolor\":\"white\",\"linecolor\":\"white\",\"minorgridcolor\":\"white\",\"startlinecolor\":\"#2a3f5f\"},\"type\":\"carpet\"}],\"choropleth\":[{\"colorbar\":{\"outlinewidth\":0,\"ticks\":\"\"},\"type\":\"choropleth\"}],\"contourcarpet\":[{\"colorbar\":{\"outlinewidth\":0,\"ticks\":\"\"},\"type\":\"contourcarpet\"}],\"contour\":[{\"colorbar\":{\"outlinewidth\":0,\"ticks\":\"\"},\"colorscale\":[[0.0,\"#0d0887\"],[0.1111111111111111,\"#46039f\"],[0.2222222222222222,\"#7201a8\"],[0.3333333333333333,\"#9c179e\"],[0.4444444444444444,\"#bd3786\"],[0.5555555555555556,\"#d8576b\"],[0.6666666666666666,\"#ed7953\"],[0.7777777777777778,\"#fb9f3a\"],[0.8888888888888888,\"#fdca26\"],[1.0,\"#f0f921\"]],\"type\":\"contour\"}],\"heatmapgl\":[{\"colorbar\":{\"outlinewidth\":0,\"ticks\":\"\"},\"colorscale\":[[0.0,\"#0d0887\"],[0.1111111111111111,\"#46039f\"],[0.2222222222222222,\"#7201a8\"],[0.3333333333333333,\"#9c179e\"],[0.4444444444444444,\"#bd3786\"],[0.5555555555555556,\"#d8576b\"],[0.6666666666666666,\"#ed7953\"],[0.7777777777777778,\"#fb9f3a\"],[0.8888888888888888,\"#fdca26\"],[1.0,\"#f0f921\"]],\"type\":\"heatmapgl\"}],\"heatmap\":[{\"colorbar\":{\"outlinewidth\":0,\"ticks\":\"\"},\"colorscale\":[[0.0,\"#0d0887\"],[0.1111111111111111,\"#46039f\"],[0.2222222222222222,\"#7201a8\"],[0.3333333333333333,\"#9c179e\"],[0.4444444444444444,\"#bd3786\"],[0.5555555555555556,\"#d8576b\"],[0.6666666666666666,\"#ed7953\"],[0.7777777777777778,\"#fb9f3a\"],[0.8888888888888888,\"#fdca26\"],[1.0,\"#f0f921\"]],\"type\":\"heatmap\"}],\"histogram2dcontour\":[{\"colorbar\":{\"outlinewidth\":0,\"ticks\":\"\"},\"colorscale\":[[0.0,\"#0d0887\"],[0.1111111111111111,\"#46039f\"],[0.2222222222222222,\"#7201a8\"],[0.3333333333333333,\"#9c179e\"],[0.4444444444444444,\"#bd3786\"],[0.5555555555555556,\"#d8576b\"],[0.6666666666666666,\"#ed7953\"],[0.7777777777777778,\"#fb9f3a\"],[0.8888888888888888,\"#fdca26\"],[1.0,\"#f0f921\"]],\"type\":\"histogram2dcontour\"}],\"histogram2d\":[{\"colorbar\":{\"outlinewidth\":0,\"ticks\":\"\"},\"colorscale\":[[0.0,\"#0d0887\"],[0.1111111111111111,\"#46039f\"],[0.2222222222222222,\"#7201a8\"],[0.3333333333333333,\"#9c179e\"],[0.4444444444444444,\"#bd3786\"],[0.5555555555555556,\"#d8576b\"],[0.6666666666666666,\"#ed7953\"],[0.7777777777777778,\"#fb9f3a\"],[0.8888888888888888,\"#fdca26\"],[1.0,\"#f0f921\"]],\"type\":\"histogram2d\"}],\"histogram\":[{\"marker\":{\"pattern\":{\"fillmode\":\"overlay\",\"size\":10,\"solidity\":0.2}},\"type\":\"histogram\"}],\"mesh3d\":[{\"colorbar\":{\"outlinewidth\":0,\"ticks\":\"\"},\"type\":\"mesh3d\"}],\"parcoords\":[{\"line\":{\"colorbar\":{\"outlinewidth\":0,\"ticks\":\"\"}},\"type\":\"parcoords\"}],\"pie\":[{\"automargin\":true,\"type\":\"pie\"}],\"scatter3d\":[{\"line\":{\"colorbar\":{\"outlinewidth\":0,\"ticks\":\"\"}},\"marker\":{\"colorbar\":{\"outlinewidth\":0,\"ticks\":\"\"}},\"type\":\"scatter3d\"}],\"scattercarpet\":[{\"marker\":{\"colorbar\":{\"outlinewidth\":0,\"ticks\":\"\"}},\"type\":\"scattercarpet\"}],\"scattergeo\":[{\"marker\":{\"colorbar\":{\"outlinewidth\":0,\"ticks\":\"\"}},\"type\":\"scattergeo\"}],\"scattergl\":[{\"marker\":{\"colorbar\":{\"outlinewidth\":0,\"ticks\":\"\"}},\"type\":\"scattergl\"}],\"scattermapbox\":[{\"marker\":{\"colorbar\":{\"outlinewidth\":0,\"ticks\":\"\"}},\"type\":\"scattermapbox\"}],\"scatterpolargl\":[{\"marker\":{\"colorbar\":{\"outlinewidth\":0,\"ticks\":\"\"}},\"type\":\"scatterpolargl\"}],\"scatterpolar\":[{\"marker\":{\"colorbar\":{\"outlinewidth\":0,\"ticks\":\"\"}},\"type\":\"scatterpolar\"}],\"scatter\":[{\"marker\":{\"colorbar\":{\"outlinewidth\":0,\"ticks\":\"\"}},\"type\":\"scatter\"}],\"scatterternary\":[{\"marker\":{\"colorbar\":{\"outlinewidth\":0,\"ticks\":\"\"}},\"type\":\"scatterternary\"}],\"surface\":[{\"colorbar\":{\"outlinewidth\":0,\"ticks\":\"\"},\"colorscale\":[[0.0,\"#0d0887\"],[0.1111111111111111,\"#46039f\"],[0.2222222222222222,\"#7201a8\"],[0.3333333333333333,\"#9c179e\"],[0.4444444444444444,\"#bd3786\"],[0.5555555555555556,\"#d8576b\"],[0.6666666666666666,\"#ed7953\"],[0.7777777777777778,\"#fb9f3a\"],[0.8888888888888888,\"#fdca26\"],[1.0,\"#f0f921\"]],\"type\":\"surface\"}],\"table\":[{\"cells\":{\"fill\":{\"color\":\"#EBF0F8\"},\"line\":{\"color\":\"white\"}},\"header\":{\"fill\":{\"color\":\"#C8D4E3\"},\"line\":{\"color\":\"white\"}},\"type\":\"table\"}]},\"layout\":{\"annotationdefaults\":{\"arrowcolor\":\"#2a3f5f\",\"arrowhead\":0,\"arrowwidth\":1},\"autotypenumbers\":\"strict\",\"coloraxis\":{\"colorbar\":{\"outlinewidth\":0,\"ticks\":\"\"}},\"colorscale\":{\"diverging\":[[0,\"#8e0152\"],[0.1,\"#c51b7d\"],[0.2,\"#de77ae\"],[0.3,\"#f1b6da\"],[0.4,\"#fde0ef\"],[0.5,\"#f7f7f7\"],[0.6,\"#e6f5d0\"],[0.7,\"#b8e186\"],[0.8,\"#7fbc41\"],[0.9,\"#4d9221\"],[1,\"#276419\"]],\"sequential\":[[0.0,\"#0d0887\"],[0.1111111111111111,\"#46039f\"],[0.2222222222222222,\"#7201a8\"],[0.3333333333333333,\"#9c179e\"],[0.4444444444444444,\"#bd3786\"],[0.5555555555555556,\"#d8576b\"],[0.6666666666666666,\"#ed7953\"],[0.7777777777777778,\"#fb9f3a\"],[0.8888888888888888,\"#fdca26\"],[1.0,\"#f0f921\"]],\"sequentialminus\":[[0.0,\"#0d0887\"],[0.1111111111111111,\"#46039f\"],[0.2222222222222222,\"#7201a8\"],[0.3333333333333333,\"#9c179e\"],[0.4444444444444444,\"#bd3786\"],[0.5555555555555556,\"#d8576b\"],[0.6666666666666666,\"#ed7953\"],[0.7777777777777778,\"#fb9f3a\"],[0.8888888888888888,\"#fdca26\"],[1.0,\"#f0f921\"]]},\"colorway\":[\"#636efa\",\"#EF553B\",\"#00cc96\",\"#ab63fa\",\"#FFA15A\",\"#19d3f3\",\"#FF6692\",\"#B6E880\",\"#FF97FF\",\"#FECB52\"],\"font\":{\"color\":\"#2a3f5f\"},\"geo\":{\"bgcolor\":\"white\",\"lakecolor\":\"white\",\"landcolor\":\"#E5ECF6\",\"showlakes\":true,\"showland\":true,\"subunitcolor\":\"white\"},\"hoverlabel\":{\"align\":\"left\"},\"hovermode\":\"closest\",\"mapbox\":{\"style\":\"light\"},\"paper_bgcolor\":\"white\",\"plot_bgcolor\":\"#E5ECF6\",\"polar\":{\"angularaxis\":{\"gridcolor\":\"white\",\"linecolor\":\"white\",\"ticks\":\"\"},\"bgcolor\":\"#E5ECF6\",\"radialaxis\":{\"gridcolor\":\"white\",\"linecolor\":\"white\",\"ticks\":\"\"}},\"scene\":{\"xaxis\":{\"backgroundcolor\":\"#E5ECF6\",\"gridcolor\":\"white\",\"gridwidth\":2,\"linecolor\":\"white\",\"showbackground\":true,\"ticks\":\"\",\"zerolinecolor\":\"white\"},\"yaxis\":{\"backgroundcolor\":\"#E5ECF6\",\"gridcolor\":\"white\",\"gridwidth\":2,\"linecolor\":\"white\",\"showbackground\":true,\"ticks\":\"\",\"zerolinecolor\":\"white\"},\"zaxis\":{\"backgroundcolor\":\"#E5ECF6\",\"gridcolor\":\"white\",\"gridwidth\":2,\"linecolor\":\"white\",\"showbackground\":true,\"ticks\":\"\",\"zerolinecolor\":\"white\"}},\"shapedefaults\":{\"line\":{\"color\":\"#2a3f5f\"}},\"ternary\":{\"aaxis\":{\"gridcolor\":\"white\",\"linecolor\":\"white\",\"ticks\":\"\"},\"baxis\":{\"gridcolor\":\"white\",\"linecolor\":\"white\",\"ticks\":\"\"},\"bgcolor\":\"#E5ECF6\",\"caxis\":{\"gridcolor\":\"white\",\"linecolor\":\"white\",\"ticks\":\"\"}},\"title\":{\"x\":0.05},\"xaxis\":{\"automargin\":true,\"gridcolor\":\"white\",\"linecolor\":\"white\",\"ticks\":\"\",\"title\":{\"standoff\":15},\"zerolinecolor\":\"white\",\"zerolinewidth\":2},\"yaxis\":{\"automargin\":true,\"gridcolor\":\"white\",\"linecolor\":\"white\",\"ticks\":\"\",\"title\":{\"standoff\":15},\"zerolinecolor\":\"white\",\"zerolinewidth\":2}}}},                        {\"responsive\": true}                    ).then(function(){\n",
              "                            \n",
              "var gd = document.getElementById('21ccc95c-70f7-485c-9de9-0c42f41a56f3');\n",
              "var x = new MutationObserver(function (mutations, observer) {{\n",
              "        var display = window.getComputedStyle(gd).display;\n",
              "        if (!display || display === 'none') {{\n",
              "            console.log([gd, 'removed!']);\n",
              "            Plotly.purge(gd);\n",
              "            observer.disconnect();\n",
              "        }}\n",
              "}});\n",
              "\n",
              "// Listen for the removal of the full notebook cells\n",
              "var notebookContainer = gd.closest('#notebook-container');\n",
              "if (notebookContainer) {{\n",
              "    x.observe(notebookContainer, {childList: true});\n",
              "}}\n",
              "\n",
              "// Listen for the clearing of the current output cell\n",
              "var outputEl = gd.closest('.output');\n",
              "if (outputEl) {{\n",
              "    x.observe(outputEl, {childList: true});\n",
              "}}\n",
              "\n",
              "                        })                };                            </script>        </div>\n",
              "</body>\n",
              "</html>"
            ]
          },
          "metadata": {}
        },
        {
          "output_type": "execute_result",
          "data": {
            "text/plain": [
              "'https://plotly.com/~sebast.rogers/35/'"
            ],
            "application/vnd.google.colaboratory.intrinsic+json": {
              "type": "string"
            }
          },
          "metadata": {},
          "execution_count": 118
        }
      ]
    },
    {
      "cell_type": "markdown",
      "source": [
        "**Gráfico de Barras**\n",
        "\n",
        "* Customizando gráficos de barras: títulos e labels dos eixos\n",
        "\n"
      ],
      "metadata": {
        "id": "PJaBTQYr_3xk"
      }
    },
    {
      "cell_type": "code",
      "source": [
        "data = [go.Bar(x=vendas_por_mes.index,\n",
        "               y=vendas_por_mes.values,\n",
        "               marker= {'color': 'lightblue'})]\n",
        "\n",
        "#criando layout\n",
        "configuracoes_layout = go.Layout(title='Vendas no Período',\n",
        "                                 yaxis={'title': 'Valores em Vendas'},\n",
        "                                 xaxis={'title': 'Período'})\n",
        "\n",
        "#objeto figura\n",
        "\n",
        "fig = go.Figure(data=data, layout=configuracoes_layout)\n",
        "\n",
        "#plotando o grafico\n",
        "py.iplot(fig)\n",
        "pyo.plot(fig)"
      ],
      "metadata": {
        "id": "viBbsynr_l8p",
        "colab": {
          "base_uri": "https://localhost:8080/",
          "height": 560
        },
        "outputId": "b54cfa67-f497-4770-e71d-823aa4872097"
      },
      "execution_count": null,
      "outputs": [
        {
          "output_type": "display_data",
          "data": {
            "text/html": [
              "<html>\n",
              "<head><meta charset=\"utf-8\" /></head>\n",
              "<body>\n",
              "    <div>            <script src=\"https://cdnjs.cloudflare.com/ajax/libs/mathjax/2.7.5/MathJax.js?config=TeX-AMS-MML_SVG\"></script><script type=\"text/javascript\">if (window.MathJax) {MathJax.Hub.Config({SVG: {font: \"STIX-Web\"}});}</script>                <script type=\"text/javascript\">window.PlotlyConfig = {MathJaxConfig: 'local'};</script>\n",
              "        <script src=\"https://cdn.plot.ly/plotly-2.8.3.min.js\"></script>                <div id=\"4cb6dd04-f1fd-4fda-ba2c-7143419a5653\" class=\"plotly-graph-div\" style=\"height:525px; width:100%;\"></div>            <script type=\"text/javascript\">                                    window.PLOTLYENV=window.PLOTLYENV || {};                                    if (document.getElementById(\"4cb6dd04-f1fd-4fda-ba2c-7143419a5653\")) {                    Plotly.newPlot(                        \"4cb6dd04-f1fd-4fda-ba2c-7143419a5653\",                        [{\"marker\":{\"color\":\"lightblue\"},\"x\":[\"2017-02\",\"2017-03\",\"2017-04\",\"2017-05\",\"2017-06\",\"2017-07\",\"2017-08\",\"2017-09\",\"2017-10\",\"2017-11\",\"2017-12\",\"2018-01\",\"2018-02\",\"2018-03\",\"2018-04\"],\"y\":[9.99,902.86,17654.190000000002,25556.23,34172.86,47284.74,39898.85,45462.2,40910.4,55373.92,43806.57,46755.56,42560.54,33435.48,3754.33],\"type\":\"bar\"}],                        {\"template\":{\"data\":{\"barpolar\":[{\"marker\":{\"line\":{\"color\":\"#E5ECF6\",\"width\":0.5},\"pattern\":{\"fillmode\":\"overlay\",\"size\":10,\"solidity\":0.2}},\"type\":\"barpolar\"}],\"bar\":[{\"error_x\":{\"color\":\"#2a3f5f\"},\"error_y\":{\"color\":\"#2a3f5f\"},\"marker\":{\"line\":{\"color\":\"#E5ECF6\",\"width\":0.5},\"pattern\":{\"fillmode\":\"overlay\",\"size\":10,\"solidity\":0.2}},\"type\":\"bar\"}],\"carpet\":[{\"aaxis\":{\"endlinecolor\":\"#2a3f5f\",\"gridcolor\":\"white\",\"linecolor\":\"white\",\"minorgridcolor\":\"white\",\"startlinecolor\":\"#2a3f5f\"},\"baxis\":{\"endlinecolor\":\"#2a3f5f\",\"gridcolor\":\"white\",\"linecolor\":\"white\",\"minorgridcolor\":\"white\",\"startlinecolor\":\"#2a3f5f\"},\"type\":\"carpet\"}],\"choropleth\":[{\"colorbar\":{\"outlinewidth\":0,\"ticks\":\"\"},\"type\":\"choropleth\"}],\"contourcarpet\":[{\"colorbar\":{\"outlinewidth\":0,\"ticks\":\"\"},\"type\":\"contourcarpet\"}],\"contour\":[{\"colorbar\":{\"outlinewidth\":0,\"ticks\":\"\"},\"colorscale\":[[0.0,\"#0d0887\"],[0.1111111111111111,\"#46039f\"],[0.2222222222222222,\"#7201a8\"],[0.3333333333333333,\"#9c179e\"],[0.4444444444444444,\"#bd3786\"],[0.5555555555555556,\"#d8576b\"],[0.6666666666666666,\"#ed7953\"],[0.7777777777777778,\"#fb9f3a\"],[0.8888888888888888,\"#fdca26\"],[1.0,\"#f0f921\"]],\"type\":\"contour\"}],\"heatmapgl\":[{\"colorbar\":{\"outlinewidth\":0,\"ticks\":\"\"},\"colorscale\":[[0.0,\"#0d0887\"],[0.1111111111111111,\"#46039f\"],[0.2222222222222222,\"#7201a8\"],[0.3333333333333333,\"#9c179e\"],[0.4444444444444444,\"#bd3786\"],[0.5555555555555556,\"#d8576b\"],[0.6666666666666666,\"#ed7953\"],[0.7777777777777778,\"#fb9f3a\"],[0.8888888888888888,\"#fdca26\"],[1.0,\"#f0f921\"]],\"type\":\"heatmapgl\"}],\"heatmap\":[{\"colorbar\":{\"outlinewidth\":0,\"ticks\":\"\"},\"colorscale\":[[0.0,\"#0d0887\"],[0.1111111111111111,\"#46039f\"],[0.2222222222222222,\"#7201a8\"],[0.3333333333333333,\"#9c179e\"],[0.4444444444444444,\"#bd3786\"],[0.5555555555555556,\"#d8576b\"],[0.6666666666666666,\"#ed7953\"],[0.7777777777777778,\"#fb9f3a\"],[0.8888888888888888,\"#fdca26\"],[1.0,\"#f0f921\"]],\"type\":\"heatmap\"}],\"histogram2dcontour\":[{\"colorbar\":{\"outlinewidth\":0,\"ticks\":\"\"},\"colorscale\":[[0.0,\"#0d0887\"],[0.1111111111111111,\"#46039f\"],[0.2222222222222222,\"#7201a8\"],[0.3333333333333333,\"#9c179e\"],[0.4444444444444444,\"#bd3786\"],[0.5555555555555556,\"#d8576b\"],[0.6666666666666666,\"#ed7953\"],[0.7777777777777778,\"#fb9f3a\"],[0.8888888888888888,\"#fdca26\"],[1.0,\"#f0f921\"]],\"type\":\"histogram2dcontour\"}],\"histogram2d\":[{\"colorbar\":{\"outlinewidth\":0,\"ticks\":\"\"},\"colorscale\":[[0.0,\"#0d0887\"],[0.1111111111111111,\"#46039f\"],[0.2222222222222222,\"#7201a8\"],[0.3333333333333333,\"#9c179e\"],[0.4444444444444444,\"#bd3786\"],[0.5555555555555556,\"#d8576b\"],[0.6666666666666666,\"#ed7953\"],[0.7777777777777778,\"#fb9f3a\"],[0.8888888888888888,\"#fdca26\"],[1.0,\"#f0f921\"]],\"type\":\"histogram2d\"}],\"histogram\":[{\"marker\":{\"pattern\":{\"fillmode\":\"overlay\",\"size\":10,\"solidity\":0.2}},\"type\":\"histogram\"}],\"mesh3d\":[{\"colorbar\":{\"outlinewidth\":0,\"ticks\":\"\"},\"type\":\"mesh3d\"}],\"parcoords\":[{\"line\":{\"colorbar\":{\"outlinewidth\":0,\"ticks\":\"\"}},\"type\":\"parcoords\"}],\"pie\":[{\"automargin\":true,\"type\":\"pie\"}],\"scatter3d\":[{\"line\":{\"colorbar\":{\"outlinewidth\":0,\"ticks\":\"\"}},\"marker\":{\"colorbar\":{\"outlinewidth\":0,\"ticks\":\"\"}},\"type\":\"scatter3d\"}],\"scattercarpet\":[{\"marker\":{\"colorbar\":{\"outlinewidth\":0,\"ticks\":\"\"}},\"type\":\"scattercarpet\"}],\"scattergeo\":[{\"marker\":{\"colorbar\":{\"outlinewidth\":0,\"ticks\":\"\"}},\"type\":\"scattergeo\"}],\"scattergl\":[{\"marker\":{\"colorbar\":{\"outlinewidth\":0,\"ticks\":\"\"}},\"type\":\"scattergl\"}],\"scattermapbox\":[{\"marker\":{\"colorbar\":{\"outlinewidth\":0,\"ticks\":\"\"}},\"type\":\"scattermapbox\"}],\"scatterpolargl\":[{\"marker\":{\"colorbar\":{\"outlinewidth\":0,\"ticks\":\"\"}},\"type\":\"scatterpolargl\"}],\"scatterpolar\":[{\"marker\":{\"colorbar\":{\"outlinewidth\":0,\"ticks\":\"\"}},\"type\":\"scatterpolar\"}],\"scatter\":[{\"marker\":{\"colorbar\":{\"outlinewidth\":0,\"ticks\":\"\"}},\"type\":\"scatter\"}],\"scatterternary\":[{\"marker\":{\"colorbar\":{\"outlinewidth\":0,\"ticks\":\"\"}},\"type\":\"scatterternary\"}],\"surface\":[{\"colorbar\":{\"outlinewidth\":0,\"ticks\":\"\"},\"colorscale\":[[0.0,\"#0d0887\"],[0.1111111111111111,\"#46039f\"],[0.2222222222222222,\"#7201a8\"],[0.3333333333333333,\"#9c179e\"],[0.4444444444444444,\"#bd3786\"],[0.5555555555555556,\"#d8576b\"],[0.6666666666666666,\"#ed7953\"],[0.7777777777777778,\"#fb9f3a\"],[0.8888888888888888,\"#fdca26\"],[1.0,\"#f0f921\"]],\"type\":\"surface\"}],\"table\":[{\"cells\":{\"fill\":{\"color\":\"#EBF0F8\"},\"line\":{\"color\":\"white\"}},\"header\":{\"fill\":{\"color\":\"#C8D4E3\"},\"line\":{\"color\":\"white\"}},\"type\":\"table\"}]},\"layout\":{\"annotationdefaults\":{\"arrowcolor\":\"#2a3f5f\",\"arrowhead\":0,\"arrowwidth\":1},\"autotypenumbers\":\"strict\",\"coloraxis\":{\"colorbar\":{\"outlinewidth\":0,\"ticks\":\"\"}},\"colorscale\":{\"diverging\":[[0,\"#8e0152\"],[0.1,\"#c51b7d\"],[0.2,\"#de77ae\"],[0.3,\"#f1b6da\"],[0.4,\"#fde0ef\"],[0.5,\"#f7f7f7\"],[0.6,\"#e6f5d0\"],[0.7,\"#b8e186\"],[0.8,\"#7fbc41\"],[0.9,\"#4d9221\"],[1,\"#276419\"]],\"sequential\":[[0.0,\"#0d0887\"],[0.1111111111111111,\"#46039f\"],[0.2222222222222222,\"#7201a8\"],[0.3333333333333333,\"#9c179e\"],[0.4444444444444444,\"#bd3786\"],[0.5555555555555556,\"#d8576b\"],[0.6666666666666666,\"#ed7953\"],[0.7777777777777778,\"#fb9f3a\"],[0.8888888888888888,\"#fdca26\"],[1.0,\"#f0f921\"]],\"sequentialminus\":[[0.0,\"#0d0887\"],[0.1111111111111111,\"#46039f\"],[0.2222222222222222,\"#7201a8\"],[0.3333333333333333,\"#9c179e\"],[0.4444444444444444,\"#bd3786\"],[0.5555555555555556,\"#d8576b\"],[0.6666666666666666,\"#ed7953\"],[0.7777777777777778,\"#fb9f3a\"],[0.8888888888888888,\"#fdca26\"],[1.0,\"#f0f921\"]]},\"colorway\":[\"#636efa\",\"#EF553B\",\"#00cc96\",\"#ab63fa\",\"#FFA15A\",\"#19d3f3\",\"#FF6692\",\"#B6E880\",\"#FF97FF\",\"#FECB52\"],\"font\":{\"color\":\"#2a3f5f\"},\"geo\":{\"bgcolor\":\"white\",\"lakecolor\":\"white\",\"landcolor\":\"#E5ECF6\",\"showlakes\":true,\"showland\":true,\"subunitcolor\":\"white\"},\"hoverlabel\":{\"align\":\"left\"},\"hovermode\":\"closest\",\"mapbox\":{\"style\":\"light\"},\"paper_bgcolor\":\"white\",\"plot_bgcolor\":\"#E5ECF6\",\"polar\":{\"angularaxis\":{\"gridcolor\":\"white\",\"linecolor\":\"white\",\"ticks\":\"\"},\"bgcolor\":\"#E5ECF6\",\"radialaxis\":{\"gridcolor\":\"white\",\"linecolor\":\"white\",\"ticks\":\"\"}},\"scene\":{\"xaxis\":{\"backgroundcolor\":\"#E5ECF6\",\"gridcolor\":\"white\",\"gridwidth\":2,\"linecolor\":\"white\",\"showbackground\":true,\"ticks\":\"\",\"zerolinecolor\":\"white\"},\"yaxis\":{\"backgroundcolor\":\"#E5ECF6\",\"gridcolor\":\"white\",\"gridwidth\":2,\"linecolor\":\"white\",\"showbackground\":true,\"ticks\":\"\",\"zerolinecolor\":\"white\"},\"zaxis\":{\"backgroundcolor\":\"#E5ECF6\",\"gridcolor\":\"white\",\"gridwidth\":2,\"linecolor\":\"white\",\"showbackground\":true,\"ticks\":\"\",\"zerolinecolor\":\"white\"}},\"shapedefaults\":{\"line\":{\"color\":\"#2a3f5f\"}},\"ternary\":{\"aaxis\":{\"gridcolor\":\"white\",\"linecolor\":\"white\",\"ticks\":\"\"},\"baxis\":{\"gridcolor\":\"white\",\"linecolor\":\"white\",\"ticks\":\"\"},\"bgcolor\":\"#E5ECF6\",\"caxis\":{\"gridcolor\":\"white\",\"linecolor\":\"white\",\"ticks\":\"\"}},\"title\":{\"x\":0.05},\"xaxis\":{\"automargin\":true,\"gridcolor\":\"white\",\"linecolor\":\"white\",\"ticks\":\"\",\"title\":{\"standoff\":15},\"zerolinecolor\":\"white\",\"zerolinewidth\":2},\"yaxis\":{\"automargin\":true,\"gridcolor\":\"white\",\"linecolor\":\"white\",\"ticks\":\"\",\"title\":{\"standoff\":15},\"zerolinecolor\":\"white\",\"zerolinewidth\":2}}},\"title\":{\"text\":\"Vendas no Per\\u00edodo\"},\"xaxis\":{\"title\":{\"text\":\"Per\\u00edodo\"}},\"yaxis\":{\"title\":{\"text\":\"Valores em Vendas\"}}},                        {\"responsive\": true}                    ).then(function(){\n",
              "                            \n",
              "var gd = document.getElementById('4cb6dd04-f1fd-4fda-ba2c-7143419a5653');\n",
              "var x = new MutationObserver(function (mutations, observer) {{\n",
              "        var display = window.getComputedStyle(gd).display;\n",
              "        if (!display || display === 'none') {{\n",
              "            console.log([gd, 'removed!']);\n",
              "            Plotly.purge(gd);\n",
              "            observer.disconnect();\n",
              "        }}\n",
              "}});\n",
              "\n",
              "// Listen for the removal of the full notebook cells\n",
              "var notebookContainer = gd.closest('#notebook-container');\n",
              "if (notebookContainer) {{\n",
              "    x.observe(notebookContainer, {childList: true});\n",
              "}}\n",
              "\n",
              "// Listen for the clearing of the current output cell\n",
              "var outputEl = gd.closest('.output');\n",
              "if (outputEl) {{\n",
              "    x.observe(outputEl, {childList: true});\n",
              "}}\n",
              "\n",
              "                        })                };                            </script>        </div>\n",
              "</body>\n",
              "</html>"
            ]
          },
          "metadata": {}
        },
        {
          "output_type": "execute_result",
          "data": {
            "text/plain": [
              "'https://plotly.com/~sebast.rogers/33/'"
            ],
            "application/vnd.google.colaboratory.intrinsic+json": {
              "type": "string"
            }
          },
          "metadata": {},
          "execution_count": 117
        }
      ]
    },
    {
      "cell_type": "markdown",
      "source": [
        "**Definindo ajustes em linhas e cores**\n",
        "\n",
        "* Parâmetro opacity e width\n",
        "\n"
      ],
      "metadata": {
        "id": "JRI4V-TPDfKn"
      }
    },
    {
      "cell_type": "code",
      "source": [
        "data = [go.Bar(x=vendas_por_mes.index,\n",
        "               y=vendas_por_mes.values,\n",
        "               marker= {'color': 'lightblue',\n",
        "                        'line': {'color': '#333',\n",
        "                                 'width': 2}\n",
        "                        },\n",
        "               opacity=0.7\n",
        "               )\n",
        "        ]\n",
        "\n",
        "#criando layout\n",
        "configuracoes_layout = go.Layout(title='Vendas no Período',\n",
        "                                 yaxis={'title': 'Valores em Vendas'},\n",
        "                                 xaxis={'title': 'Período'})\n",
        "\n",
        "#objeto figura\n",
        "\n",
        "fig = go.Figure(data=data, layout=configuracoes_layout)\n",
        "\n",
        "#plotando o grafico\n",
        "py.iplot(fig)\n",
        "pyo.plot(fig)"
      ],
      "metadata": {
        "id": "G6ksYYGvDRk5",
        "colab": {
          "base_uri": "https://localhost:8080/",
          "height": 560
        },
        "outputId": "21e28535-7a2a-4357-d387-69c7172d8957"
      },
      "execution_count": null,
      "outputs": [
        {
          "output_type": "display_data",
          "data": {
            "text/html": [
              "<html>\n",
              "<head><meta charset=\"utf-8\" /></head>\n",
              "<body>\n",
              "    <div>            <script src=\"https://cdnjs.cloudflare.com/ajax/libs/mathjax/2.7.5/MathJax.js?config=TeX-AMS-MML_SVG\"></script><script type=\"text/javascript\">if (window.MathJax) {MathJax.Hub.Config({SVG: {font: \"STIX-Web\"}});}</script>                <script type=\"text/javascript\">window.PlotlyConfig = {MathJaxConfig: 'local'};</script>\n",
              "        <script src=\"https://cdn.plot.ly/plotly-2.8.3.min.js\"></script>                <div id=\"83073222-f062-42bc-9d2a-65c63513cdb6\" class=\"plotly-graph-div\" style=\"height:525px; width:100%;\"></div>            <script type=\"text/javascript\">                                    window.PLOTLYENV=window.PLOTLYENV || {};                                    if (document.getElementById(\"83073222-f062-42bc-9d2a-65c63513cdb6\")) {                    Plotly.newPlot(                        \"83073222-f062-42bc-9d2a-65c63513cdb6\",                        [{\"marker\":{\"color\":\"lightblue\",\"line\":{\"color\":\"#333\",\"width\":2}},\"opacity\":0.7,\"x\":[\"2017-02\",\"2017-03\",\"2017-04\",\"2017-05\",\"2017-06\",\"2017-07\",\"2017-08\",\"2017-09\",\"2017-10\",\"2017-11\",\"2017-12\",\"2018-01\",\"2018-02\",\"2018-03\",\"2018-04\"],\"y\":[9.99,902.86,17654.190000000002,25556.23,34172.86,47284.74,39898.85,45462.2,40910.4,55373.92,43806.57,46755.56,42560.54,33435.48,3754.33],\"type\":\"bar\"}],                        {\"template\":{\"data\":{\"barpolar\":[{\"marker\":{\"line\":{\"color\":\"#E5ECF6\",\"width\":0.5},\"pattern\":{\"fillmode\":\"overlay\",\"size\":10,\"solidity\":0.2}},\"type\":\"barpolar\"}],\"bar\":[{\"error_x\":{\"color\":\"#2a3f5f\"},\"error_y\":{\"color\":\"#2a3f5f\"},\"marker\":{\"line\":{\"color\":\"#E5ECF6\",\"width\":0.5},\"pattern\":{\"fillmode\":\"overlay\",\"size\":10,\"solidity\":0.2}},\"type\":\"bar\"}],\"carpet\":[{\"aaxis\":{\"endlinecolor\":\"#2a3f5f\",\"gridcolor\":\"white\",\"linecolor\":\"white\",\"minorgridcolor\":\"white\",\"startlinecolor\":\"#2a3f5f\"},\"baxis\":{\"endlinecolor\":\"#2a3f5f\",\"gridcolor\":\"white\",\"linecolor\":\"white\",\"minorgridcolor\":\"white\",\"startlinecolor\":\"#2a3f5f\"},\"type\":\"carpet\"}],\"choropleth\":[{\"colorbar\":{\"outlinewidth\":0,\"ticks\":\"\"},\"type\":\"choropleth\"}],\"contourcarpet\":[{\"colorbar\":{\"outlinewidth\":0,\"ticks\":\"\"},\"type\":\"contourcarpet\"}],\"contour\":[{\"colorbar\":{\"outlinewidth\":0,\"ticks\":\"\"},\"colorscale\":[[0.0,\"#0d0887\"],[0.1111111111111111,\"#46039f\"],[0.2222222222222222,\"#7201a8\"],[0.3333333333333333,\"#9c179e\"],[0.4444444444444444,\"#bd3786\"],[0.5555555555555556,\"#d8576b\"],[0.6666666666666666,\"#ed7953\"],[0.7777777777777778,\"#fb9f3a\"],[0.8888888888888888,\"#fdca26\"],[1.0,\"#f0f921\"]],\"type\":\"contour\"}],\"heatmapgl\":[{\"colorbar\":{\"outlinewidth\":0,\"ticks\":\"\"},\"colorscale\":[[0.0,\"#0d0887\"],[0.1111111111111111,\"#46039f\"],[0.2222222222222222,\"#7201a8\"],[0.3333333333333333,\"#9c179e\"],[0.4444444444444444,\"#bd3786\"],[0.5555555555555556,\"#d8576b\"],[0.6666666666666666,\"#ed7953\"],[0.7777777777777778,\"#fb9f3a\"],[0.8888888888888888,\"#fdca26\"],[1.0,\"#f0f921\"]],\"type\":\"heatmapgl\"}],\"heatmap\":[{\"colorbar\":{\"outlinewidth\":0,\"ticks\":\"\"},\"colorscale\":[[0.0,\"#0d0887\"],[0.1111111111111111,\"#46039f\"],[0.2222222222222222,\"#7201a8\"],[0.3333333333333333,\"#9c179e\"],[0.4444444444444444,\"#bd3786\"],[0.5555555555555556,\"#d8576b\"],[0.6666666666666666,\"#ed7953\"],[0.7777777777777778,\"#fb9f3a\"],[0.8888888888888888,\"#fdca26\"],[1.0,\"#f0f921\"]],\"type\":\"heatmap\"}],\"histogram2dcontour\":[{\"colorbar\":{\"outlinewidth\":0,\"ticks\":\"\"},\"colorscale\":[[0.0,\"#0d0887\"],[0.1111111111111111,\"#46039f\"],[0.2222222222222222,\"#7201a8\"],[0.3333333333333333,\"#9c179e\"],[0.4444444444444444,\"#bd3786\"],[0.5555555555555556,\"#d8576b\"],[0.6666666666666666,\"#ed7953\"],[0.7777777777777778,\"#fb9f3a\"],[0.8888888888888888,\"#fdca26\"],[1.0,\"#f0f921\"]],\"type\":\"histogram2dcontour\"}],\"histogram2d\":[{\"colorbar\":{\"outlinewidth\":0,\"ticks\":\"\"},\"colorscale\":[[0.0,\"#0d0887\"],[0.1111111111111111,\"#46039f\"],[0.2222222222222222,\"#7201a8\"],[0.3333333333333333,\"#9c179e\"],[0.4444444444444444,\"#bd3786\"],[0.5555555555555556,\"#d8576b\"],[0.6666666666666666,\"#ed7953\"],[0.7777777777777778,\"#fb9f3a\"],[0.8888888888888888,\"#fdca26\"],[1.0,\"#f0f921\"]],\"type\":\"histogram2d\"}],\"histogram\":[{\"marker\":{\"pattern\":{\"fillmode\":\"overlay\",\"size\":10,\"solidity\":0.2}},\"type\":\"histogram\"}],\"mesh3d\":[{\"colorbar\":{\"outlinewidth\":0,\"ticks\":\"\"},\"type\":\"mesh3d\"}],\"parcoords\":[{\"line\":{\"colorbar\":{\"outlinewidth\":0,\"ticks\":\"\"}},\"type\":\"parcoords\"}],\"pie\":[{\"automargin\":true,\"type\":\"pie\"}],\"scatter3d\":[{\"line\":{\"colorbar\":{\"outlinewidth\":0,\"ticks\":\"\"}},\"marker\":{\"colorbar\":{\"outlinewidth\":0,\"ticks\":\"\"}},\"type\":\"scatter3d\"}],\"scattercarpet\":[{\"marker\":{\"colorbar\":{\"outlinewidth\":0,\"ticks\":\"\"}},\"type\":\"scattercarpet\"}],\"scattergeo\":[{\"marker\":{\"colorbar\":{\"outlinewidth\":0,\"ticks\":\"\"}},\"type\":\"scattergeo\"}],\"scattergl\":[{\"marker\":{\"colorbar\":{\"outlinewidth\":0,\"ticks\":\"\"}},\"type\":\"scattergl\"}],\"scattermapbox\":[{\"marker\":{\"colorbar\":{\"outlinewidth\":0,\"ticks\":\"\"}},\"type\":\"scattermapbox\"}],\"scatterpolargl\":[{\"marker\":{\"colorbar\":{\"outlinewidth\":0,\"ticks\":\"\"}},\"type\":\"scatterpolargl\"}],\"scatterpolar\":[{\"marker\":{\"colorbar\":{\"outlinewidth\":0,\"ticks\":\"\"}},\"type\":\"scatterpolar\"}],\"scatter\":[{\"marker\":{\"colorbar\":{\"outlinewidth\":0,\"ticks\":\"\"}},\"type\":\"scatter\"}],\"scatterternary\":[{\"marker\":{\"colorbar\":{\"outlinewidth\":0,\"ticks\":\"\"}},\"type\":\"scatterternary\"}],\"surface\":[{\"colorbar\":{\"outlinewidth\":0,\"ticks\":\"\"},\"colorscale\":[[0.0,\"#0d0887\"],[0.1111111111111111,\"#46039f\"],[0.2222222222222222,\"#7201a8\"],[0.3333333333333333,\"#9c179e\"],[0.4444444444444444,\"#bd3786\"],[0.5555555555555556,\"#d8576b\"],[0.6666666666666666,\"#ed7953\"],[0.7777777777777778,\"#fb9f3a\"],[0.8888888888888888,\"#fdca26\"],[1.0,\"#f0f921\"]],\"type\":\"surface\"}],\"table\":[{\"cells\":{\"fill\":{\"color\":\"#EBF0F8\"},\"line\":{\"color\":\"white\"}},\"header\":{\"fill\":{\"color\":\"#C8D4E3\"},\"line\":{\"color\":\"white\"}},\"type\":\"table\"}]},\"layout\":{\"annotationdefaults\":{\"arrowcolor\":\"#2a3f5f\",\"arrowhead\":0,\"arrowwidth\":1},\"autotypenumbers\":\"strict\",\"coloraxis\":{\"colorbar\":{\"outlinewidth\":0,\"ticks\":\"\"}},\"colorscale\":{\"diverging\":[[0,\"#8e0152\"],[0.1,\"#c51b7d\"],[0.2,\"#de77ae\"],[0.3,\"#f1b6da\"],[0.4,\"#fde0ef\"],[0.5,\"#f7f7f7\"],[0.6,\"#e6f5d0\"],[0.7,\"#b8e186\"],[0.8,\"#7fbc41\"],[0.9,\"#4d9221\"],[1,\"#276419\"]],\"sequential\":[[0.0,\"#0d0887\"],[0.1111111111111111,\"#46039f\"],[0.2222222222222222,\"#7201a8\"],[0.3333333333333333,\"#9c179e\"],[0.4444444444444444,\"#bd3786\"],[0.5555555555555556,\"#d8576b\"],[0.6666666666666666,\"#ed7953\"],[0.7777777777777778,\"#fb9f3a\"],[0.8888888888888888,\"#fdca26\"],[1.0,\"#f0f921\"]],\"sequentialminus\":[[0.0,\"#0d0887\"],[0.1111111111111111,\"#46039f\"],[0.2222222222222222,\"#7201a8\"],[0.3333333333333333,\"#9c179e\"],[0.4444444444444444,\"#bd3786\"],[0.5555555555555556,\"#d8576b\"],[0.6666666666666666,\"#ed7953\"],[0.7777777777777778,\"#fb9f3a\"],[0.8888888888888888,\"#fdca26\"],[1.0,\"#f0f921\"]]},\"colorway\":[\"#636efa\",\"#EF553B\",\"#00cc96\",\"#ab63fa\",\"#FFA15A\",\"#19d3f3\",\"#FF6692\",\"#B6E880\",\"#FF97FF\",\"#FECB52\"],\"font\":{\"color\":\"#2a3f5f\"},\"geo\":{\"bgcolor\":\"white\",\"lakecolor\":\"white\",\"landcolor\":\"#E5ECF6\",\"showlakes\":true,\"showland\":true,\"subunitcolor\":\"white\"},\"hoverlabel\":{\"align\":\"left\"},\"hovermode\":\"closest\",\"mapbox\":{\"style\":\"light\"},\"paper_bgcolor\":\"white\",\"plot_bgcolor\":\"#E5ECF6\",\"polar\":{\"angularaxis\":{\"gridcolor\":\"white\",\"linecolor\":\"white\",\"ticks\":\"\"},\"bgcolor\":\"#E5ECF6\",\"radialaxis\":{\"gridcolor\":\"white\",\"linecolor\":\"white\",\"ticks\":\"\"}},\"scene\":{\"xaxis\":{\"backgroundcolor\":\"#E5ECF6\",\"gridcolor\":\"white\",\"gridwidth\":2,\"linecolor\":\"white\",\"showbackground\":true,\"ticks\":\"\",\"zerolinecolor\":\"white\"},\"yaxis\":{\"backgroundcolor\":\"#E5ECF6\",\"gridcolor\":\"white\",\"gridwidth\":2,\"linecolor\":\"white\",\"showbackground\":true,\"ticks\":\"\",\"zerolinecolor\":\"white\"},\"zaxis\":{\"backgroundcolor\":\"#E5ECF6\",\"gridcolor\":\"white\",\"gridwidth\":2,\"linecolor\":\"white\",\"showbackground\":true,\"ticks\":\"\",\"zerolinecolor\":\"white\"}},\"shapedefaults\":{\"line\":{\"color\":\"#2a3f5f\"}},\"ternary\":{\"aaxis\":{\"gridcolor\":\"white\",\"linecolor\":\"white\",\"ticks\":\"\"},\"baxis\":{\"gridcolor\":\"white\",\"linecolor\":\"white\",\"ticks\":\"\"},\"bgcolor\":\"#E5ECF6\",\"caxis\":{\"gridcolor\":\"white\",\"linecolor\":\"white\",\"ticks\":\"\"}},\"title\":{\"x\":0.05},\"xaxis\":{\"automargin\":true,\"gridcolor\":\"white\",\"linecolor\":\"white\",\"ticks\":\"\",\"title\":{\"standoff\":15},\"zerolinecolor\":\"white\",\"zerolinewidth\":2},\"yaxis\":{\"automargin\":true,\"gridcolor\":\"white\",\"linecolor\":\"white\",\"ticks\":\"\",\"title\":{\"standoff\":15},\"zerolinecolor\":\"white\",\"zerolinewidth\":2}}},\"title\":{\"text\":\"Vendas no Per\\u00edodo\"},\"xaxis\":{\"title\":{\"text\":\"Per\\u00edodo\"}},\"yaxis\":{\"title\":{\"text\":\"Valores em Vendas\"}}},                        {\"responsive\": true}                    ).then(function(){\n",
              "                            \n",
              "var gd = document.getElementById('83073222-f062-42bc-9d2a-65c63513cdb6');\n",
              "var x = new MutationObserver(function (mutations, observer) {{\n",
              "        var display = window.getComputedStyle(gd).display;\n",
              "        if (!display || display === 'none') {{\n",
              "            console.log([gd, 'removed!']);\n",
              "            Plotly.purge(gd);\n",
              "            observer.disconnect();\n",
              "        }}\n",
              "}});\n",
              "\n",
              "// Listen for the removal of the full notebook cells\n",
              "var notebookContainer = gd.closest('#notebook-container');\n",
              "if (notebookContainer) {{\n",
              "    x.observe(notebookContainer, {childList: true});\n",
              "}}\n",
              "\n",
              "// Listen for the clearing of the current output cell\n",
              "var outputEl = gd.closest('.output');\n",
              "if (outputEl) {{\n",
              "    x.observe(outputEl, {childList: true});\n",
              "}}\n",
              "\n",
              "                        })                };                            </script>        </div>\n",
              "</body>\n",
              "</html>"
            ]
          },
          "metadata": {}
        },
        {
          "output_type": "execute_result",
          "data": {
            "text/plain": [
              "'https://plotly.com/~sebast.rogers/31/'"
            ],
            "application/vnd.google.colaboratory.intrinsic+json": {
              "type": "string"
            }
          },
          "metadata": {},
          "execution_count": 116
        }
      ]
    },
    {
      "cell_type": "markdown",
      "source": [
        "**Destacando barras**"
      ],
      "metadata": {
        "id": "rJpXpeg9EITB"
      }
    },
    {
      "cell_type": "code",
      "source": [
        "cores = []"
      ],
      "metadata": {
        "id": "lifh6iPjD82a"
      },
      "execution_count": null,
      "outputs": []
    },
    {
      "cell_type": "code",
      "source": [
        "vendas_por_mes.index"
      ],
      "metadata": {
        "id": "vXItpatFEbN2",
        "colab": {
          "base_uri": "https://localhost:8080/"
        },
        "outputId": "987d56f6-00c5-49ad-ec32-ae99ce66aec3"
      },
      "execution_count": null,
      "outputs": [
        {
          "output_type": "execute_result",
          "data": {
            "text/plain": [
              "Index(['2017-02', '2017-03', '2017-04', '2017-05', '2017-06', '2017-07',\n",
              "       '2017-08', '2017-09', '2017-10', '2017-11', '2017-12', '2018-01',\n",
              "       '2018-02', '2018-03', '2018-04'],\n",
              "      dtype='object', name='order_purchase_month')"
            ]
          },
          "metadata": {},
          "execution_count": 62
        }
      ]
    },
    {
      "cell_type": "code",
      "source": [
        "vendas_por_mes"
      ],
      "metadata": {
        "id": "ZjeuL99lEdtb",
        "colab": {
          "base_uri": "https://localhost:8080/"
        },
        "outputId": "cdc8b519-0276-42a7-e528-81921a5c7e1b"
      },
      "execution_count": null,
      "outputs": [
        {
          "output_type": "execute_result",
          "data": {
            "text/plain": [
              "order_purchase_month\n",
              "2017-02        9.99\n",
              "2017-03      902.86\n",
              "2017-04    17654.19\n",
              "2017-05    25556.23\n",
              "2017-06    34172.86\n",
              "2017-07    47284.74\n",
              "2017-08    39898.85\n",
              "2017-09    45462.20\n",
              "2017-10    40910.40\n",
              "2017-11    55373.92\n",
              "2017-12    43806.57\n",
              "2018-01    46755.56\n",
              "2018-02    42560.54\n",
              "2018-03    33435.48\n",
              "2018-04     3754.33\n",
              "Name: order_products_value, dtype: float64"
            ]
          },
          "metadata": {},
          "execution_count": 63
        }
      ]
    },
    {
      "cell_type": "markdown",
      "source": [
        "**Valor de média para ser testado**"
      ],
      "metadata": {
        "id": "rIsK2xeLEfeb"
      }
    },
    {
      "cell_type": "code",
      "source": [
        "media = vendas_por_mes.values.mean()"
      ],
      "metadata": {
        "id": "wQQdEARiEiSz"
      },
      "execution_count": null,
      "outputs": []
    },
    {
      "cell_type": "markdown",
      "source": [
        "**Alimentando a lista de cores**"
      ],
      "metadata": {
        "id": "bbNMwTnkEmf8"
      }
    },
    {
      "cell_type": "code",
      "source": [
        "for x in vendas_por_mes.values :\n",
        "  if x < media:\n",
        "    cores.append('red')\n",
        "  else:\n",
        "    cores.append('lightblue')"
      ],
      "metadata": {
        "id": "GUGB8xohEsHg"
      },
      "execution_count": null,
      "outputs": []
    },
    {
      "cell_type": "markdown",
      "source": [
        "**Visualizando a lista de cores**"
      ],
      "metadata": {
        "id": "58VAifaRE5pe"
      }
    },
    {
      "cell_type": "code",
      "source": [
        "cores"
      ],
      "metadata": {
        "id": "iebWmqj7E4NX",
        "colab": {
          "base_uri": "https://localhost:8080/"
        },
        "outputId": "a36d68c4-d87c-4126-cf7e-f3ebc3247912"
      },
      "execution_count": null,
      "outputs": [
        {
          "output_type": "execute_result",
          "data": {
            "text/plain": [
              "['red',\n",
              " 'red',\n",
              " 'red',\n",
              " 'red',\n",
              " 'lightblue',\n",
              " 'lightblue',\n",
              " 'lightblue',\n",
              " 'lightblue',\n",
              " 'lightblue',\n",
              " 'lightblue',\n",
              " 'lightblue',\n",
              " 'lightblue',\n",
              " 'lightblue',\n",
              " 'lightblue',\n",
              " 'red']"
            ]
          },
          "metadata": {},
          "execution_count": 66
        }
      ]
    },
    {
      "cell_type": "markdown",
      "source": [
        "**Gráficos de Vendas no Período**"
      ],
      "metadata": {
        "id": "5hcPI4eSFE_a"
      }
    },
    {
      "cell_type": "code",
      "source": [
        "data = [go.Bar(x=vendas_por_mes.index,\n",
        "               y=vendas_por_mes.values,\n",
        "               marker= {'color': cores,\n",
        "                        'line': {'color': '#333',\n",
        "                                 'width': 2}\n",
        "                        },\n",
        "               opacity=0.7\n",
        "               )\n",
        "        ]\n",
        "\n",
        "#criando layout\n",
        "configuracoes_layout = go.Layout(title='Vendas no Período',\n",
        "                                 yaxis={'title': 'Valores em Vendas'},\n",
        "                                 xaxis={'title': 'Período'})\n",
        "\n",
        "#objeto figura\n",
        "\n",
        "fig = go.Figure(data=data, layout=configuracoes_layout)\n",
        "\n",
        "#plotando o grafico\n",
        "py.iplot(fig)\n",
        "pyo.plot(fig)"
      ],
      "metadata": {
        "id": "dJ03XPDOFiID",
        "colab": {
          "base_uri": "https://localhost:8080/",
          "height": 560
        },
        "outputId": "bf8c0153-72d2-468e-f2fc-a5b10204d607"
      },
      "execution_count": null,
      "outputs": [
        {
          "output_type": "display_data",
          "data": {
            "text/html": [
              "<html>\n",
              "<head><meta charset=\"utf-8\" /></head>\n",
              "<body>\n",
              "    <div>            <script src=\"https://cdnjs.cloudflare.com/ajax/libs/mathjax/2.7.5/MathJax.js?config=TeX-AMS-MML_SVG\"></script><script type=\"text/javascript\">if (window.MathJax) {MathJax.Hub.Config({SVG: {font: \"STIX-Web\"}});}</script>                <script type=\"text/javascript\">window.PlotlyConfig = {MathJaxConfig: 'local'};</script>\n",
              "        <script src=\"https://cdn.plot.ly/plotly-2.8.3.min.js\"></script>                <div id=\"cc9f975d-591b-46d0-8cff-b96818acdc32\" class=\"plotly-graph-div\" style=\"height:525px; width:100%;\"></div>            <script type=\"text/javascript\">                                    window.PLOTLYENV=window.PLOTLYENV || {};                                    if (document.getElementById(\"cc9f975d-591b-46d0-8cff-b96818acdc32\")) {                    Plotly.newPlot(                        \"cc9f975d-591b-46d0-8cff-b96818acdc32\",                        [{\"marker\":{\"color\":[\"#96D38C\",\"#FEBFB3\",\"#E1396C\"],\"line\":{\"color\":\"#333\",\"width\":2}},\"opacity\":0.7,\"x\":[\"2017-02\",\"2017-03\",\"2017-04\",\"2017-05\",\"2017-06\",\"2017-07\",\"2017-08\",\"2017-09\",\"2017-10\",\"2017-11\",\"2017-12\",\"2018-01\",\"2018-02\",\"2018-03\",\"2018-04\"],\"y\":[9.99,902.86,17654.190000000002,25556.23,34172.86,47284.74,39898.85,45462.2,40910.4,55373.92,43806.57,46755.56,42560.54,33435.48,3754.33],\"type\":\"bar\"}],                        {\"template\":{\"data\":{\"barpolar\":[{\"marker\":{\"line\":{\"color\":\"#E5ECF6\",\"width\":0.5},\"pattern\":{\"fillmode\":\"overlay\",\"size\":10,\"solidity\":0.2}},\"type\":\"barpolar\"}],\"bar\":[{\"error_x\":{\"color\":\"#2a3f5f\"},\"error_y\":{\"color\":\"#2a3f5f\"},\"marker\":{\"line\":{\"color\":\"#E5ECF6\",\"width\":0.5},\"pattern\":{\"fillmode\":\"overlay\",\"size\":10,\"solidity\":0.2}},\"type\":\"bar\"}],\"carpet\":[{\"aaxis\":{\"endlinecolor\":\"#2a3f5f\",\"gridcolor\":\"white\",\"linecolor\":\"white\",\"minorgridcolor\":\"white\",\"startlinecolor\":\"#2a3f5f\"},\"baxis\":{\"endlinecolor\":\"#2a3f5f\",\"gridcolor\":\"white\",\"linecolor\":\"white\",\"minorgridcolor\":\"white\",\"startlinecolor\":\"#2a3f5f\"},\"type\":\"carpet\"}],\"choropleth\":[{\"colorbar\":{\"outlinewidth\":0,\"ticks\":\"\"},\"type\":\"choropleth\"}],\"contourcarpet\":[{\"colorbar\":{\"outlinewidth\":0,\"ticks\":\"\"},\"type\":\"contourcarpet\"}],\"contour\":[{\"colorbar\":{\"outlinewidth\":0,\"ticks\":\"\"},\"colorscale\":[[0.0,\"#0d0887\"],[0.1111111111111111,\"#46039f\"],[0.2222222222222222,\"#7201a8\"],[0.3333333333333333,\"#9c179e\"],[0.4444444444444444,\"#bd3786\"],[0.5555555555555556,\"#d8576b\"],[0.6666666666666666,\"#ed7953\"],[0.7777777777777778,\"#fb9f3a\"],[0.8888888888888888,\"#fdca26\"],[1.0,\"#f0f921\"]],\"type\":\"contour\"}],\"heatmapgl\":[{\"colorbar\":{\"outlinewidth\":0,\"ticks\":\"\"},\"colorscale\":[[0.0,\"#0d0887\"],[0.1111111111111111,\"#46039f\"],[0.2222222222222222,\"#7201a8\"],[0.3333333333333333,\"#9c179e\"],[0.4444444444444444,\"#bd3786\"],[0.5555555555555556,\"#d8576b\"],[0.6666666666666666,\"#ed7953\"],[0.7777777777777778,\"#fb9f3a\"],[0.8888888888888888,\"#fdca26\"],[1.0,\"#f0f921\"]],\"type\":\"heatmapgl\"}],\"heatmap\":[{\"colorbar\":{\"outlinewidth\":0,\"ticks\":\"\"},\"colorscale\":[[0.0,\"#0d0887\"],[0.1111111111111111,\"#46039f\"],[0.2222222222222222,\"#7201a8\"],[0.3333333333333333,\"#9c179e\"],[0.4444444444444444,\"#bd3786\"],[0.5555555555555556,\"#d8576b\"],[0.6666666666666666,\"#ed7953\"],[0.7777777777777778,\"#fb9f3a\"],[0.8888888888888888,\"#fdca26\"],[1.0,\"#f0f921\"]],\"type\":\"heatmap\"}],\"histogram2dcontour\":[{\"colorbar\":{\"outlinewidth\":0,\"ticks\":\"\"},\"colorscale\":[[0.0,\"#0d0887\"],[0.1111111111111111,\"#46039f\"],[0.2222222222222222,\"#7201a8\"],[0.3333333333333333,\"#9c179e\"],[0.4444444444444444,\"#bd3786\"],[0.5555555555555556,\"#d8576b\"],[0.6666666666666666,\"#ed7953\"],[0.7777777777777778,\"#fb9f3a\"],[0.8888888888888888,\"#fdca26\"],[1.0,\"#f0f921\"]],\"type\":\"histogram2dcontour\"}],\"histogram2d\":[{\"colorbar\":{\"outlinewidth\":0,\"ticks\":\"\"},\"colorscale\":[[0.0,\"#0d0887\"],[0.1111111111111111,\"#46039f\"],[0.2222222222222222,\"#7201a8\"],[0.3333333333333333,\"#9c179e\"],[0.4444444444444444,\"#bd3786\"],[0.5555555555555556,\"#d8576b\"],[0.6666666666666666,\"#ed7953\"],[0.7777777777777778,\"#fb9f3a\"],[0.8888888888888888,\"#fdca26\"],[1.0,\"#f0f921\"]],\"type\":\"histogram2d\"}],\"histogram\":[{\"marker\":{\"pattern\":{\"fillmode\":\"overlay\",\"size\":10,\"solidity\":0.2}},\"type\":\"histogram\"}],\"mesh3d\":[{\"colorbar\":{\"outlinewidth\":0,\"ticks\":\"\"},\"type\":\"mesh3d\"}],\"parcoords\":[{\"line\":{\"colorbar\":{\"outlinewidth\":0,\"ticks\":\"\"}},\"type\":\"parcoords\"}],\"pie\":[{\"automargin\":true,\"type\":\"pie\"}],\"scatter3d\":[{\"line\":{\"colorbar\":{\"outlinewidth\":0,\"ticks\":\"\"}},\"marker\":{\"colorbar\":{\"outlinewidth\":0,\"ticks\":\"\"}},\"type\":\"scatter3d\"}],\"scattercarpet\":[{\"marker\":{\"colorbar\":{\"outlinewidth\":0,\"ticks\":\"\"}},\"type\":\"scattercarpet\"}],\"scattergeo\":[{\"marker\":{\"colorbar\":{\"outlinewidth\":0,\"ticks\":\"\"}},\"type\":\"scattergeo\"}],\"scattergl\":[{\"marker\":{\"colorbar\":{\"outlinewidth\":0,\"ticks\":\"\"}},\"type\":\"scattergl\"}],\"scattermapbox\":[{\"marker\":{\"colorbar\":{\"outlinewidth\":0,\"ticks\":\"\"}},\"type\":\"scattermapbox\"}],\"scatterpolargl\":[{\"marker\":{\"colorbar\":{\"outlinewidth\":0,\"ticks\":\"\"}},\"type\":\"scatterpolargl\"}],\"scatterpolar\":[{\"marker\":{\"colorbar\":{\"outlinewidth\":0,\"ticks\":\"\"}},\"type\":\"scatterpolar\"}],\"scatter\":[{\"marker\":{\"colorbar\":{\"outlinewidth\":0,\"ticks\":\"\"}},\"type\":\"scatter\"}],\"scatterternary\":[{\"marker\":{\"colorbar\":{\"outlinewidth\":0,\"ticks\":\"\"}},\"type\":\"scatterternary\"}],\"surface\":[{\"colorbar\":{\"outlinewidth\":0,\"ticks\":\"\"},\"colorscale\":[[0.0,\"#0d0887\"],[0.1111111111111111,\"#46039f\"],[0.2222222222222222,\"#7201a8\"],[0.3333333333333333,\"#9c179e\"],[0.4444444444444444,\"#bd3786\"],[0.5555555555555556,\"#d8576b\"],[0.6666666666666666,\"#ed7953\"],[0.7777777777777778,\"#fb9f3a\"],[0.8888888888888888,\"#fdca26\"],[1.0,\"#f0f921\"]],\"type\":\"surface\"}],\"table\":[{\"cells\":{\"fill\":{\"color\":\"#EBF0F8\"},\"line\":{\"color\":\"white\"}},\"header\":{\"fill\":{\"color\":\"#C8D4E3\"},\"line\":{\"color\":\"white\"}},\"type\":\"table\"}]},\"layout\":{\"annotationdefaults\":{\"arrowcolor\":\"#2a3f5f\",\"arrowhead\":0,\"arrowwidth\":1},\"autotypenumbers\":\"strict\",\"coloraxis\":{\"colorbar\":{\"outlinewidth\":0,\"ticks\":\"\"}},\"colorscale\":{\"diverging\":[[0,\"#8e0152\"],[0.1,\"#c51b7d\"],[0.2,\"#de77ae\"],[0.3,\"#f1b6da\"],[0.4,\"#fde0ef\"],[0.5,\"#f7f7f7\"],[0.6,\"#e6f5d0\"],[0.7,\"#b8e186\"],[0.8,\"#7fbc41\"],[0.9,\"#4d9221\"],[1,\"#276419\"]],\"sequential\":[[0.0,\"#0d0887\"],[0.1111111111111111,\"#46039f\"],[0.2222222222222222,\"#7201a8\"],[0.3333333333333333,\"#9c179e\"],[0.4444444444444444,\"#bd3786\"],[0.5555555555555556,\"#d8576b\"],[0.6666666666666666,\"#ed7953\"],[0.7777777777777778,\"#fb9f3a\"],[0.8888888888888888,\"#fdca26\"],[1.0,\"#f0f921\"]],\"sequentialminus\":[[0.0,\"#0d0887\"],[0.1111111111111111,\"#46039f\"],[0.2222222222222222,\"#7201a8\"],[0.3333333333333333,\"#9c179e\"],[0.4444444444444444,\"#bd3786\"],[0.5555555555555556,\"#d8576b\"],[0.6666666666666666,\"#ed7953\"],[0.7777777777777778,\"#fb9f3a\"],[0.8888888888888888,\"#fdca26\"],[1.0,\"#f0f921\"]]},\"colorway\":[\"#636efa\",\"#EF553B\",\"#00cc96\",\"#ab63fa\",\"#FFA15A\",\"#19d3f3\",\"#FF6692\",\"#B6E880\",\"#FF97FF\",\"#FECB52\"],\"font\":{\"color\":\"#2a3f5f\"},\"geo\":{\"bgcolor\":\"white\",\"lakecolor\":\"white\",\"landcolor\":\"#E5ECF6\",\"showlakes\":true,\"showland\":true,\"subunitcolor\":\"white\"},\"hoverlabel\":{\"align\":\"left\"},\"hovermode\":\"closest\",\"mapbox\":{\"style\":\"light\"},\"paper_bgcolor\":\"white\",\"plot_bgcolor\":\"#E5ECF6\",\"polar\":{\"angularaxis\":{\"gridcolor\":\"white\",\"linecolor\":\"white\",\"ticks\":\"\"},\"bgcolor\":\"#E5ECF6\",\"radialaxis\":{\"gridcolor\":\"white\",\"linecolor\":\"white\",\"ticks\":\"\"}},\"scene\":{\"xaxis\":{\"backgroundcolor\":\"#E5ECF6\",\"gridcolor\":\"white\",\"gridwidth\":2,\"linecolor\":\"white\",\"showbackground\":true,\"ticks\":\"\",\"zerolinecolor\":\"white\"},\"yaxis\":{\"backgroundcolor\":\"#E5ECF6\",\"gridcolor\":\"white\",\"gridwidth\":2,\"linecolor\":\"white\",\"showbackground\":true,\"ticks\":\"\",\"zerolinecolor\":\"white\"},\"zaxis\":{\"backgroundcolor\":\"#E5ECF6\",\"gridcolor\":\"white\",\"gridwidth\":2,\"linecolor\":\"white\",\"showbackground\":true,\"ticks\":\"\",\"zerolinecolor\":\"white\"}},\"shapedefaults\":{\"line\":{\"color\":\"#2a3f5f\"}},\"ternary\":{\"aaxis\":{\"gridcolor\":\"white\",\"linecolor\":\"white\",\"ticks\":\"\"},\"baxis\":{\"gridcolor\":\"white\",\"linecolor\":\"white\",\"ticks\":\"\"},\"bgcolor\":\"#E5ECF6\",\"caxis\":{\"gridcolor\":\"white\",\"linecolor\":\"white\",\"ticks\":\"\"}},\"title\":{\"x\":0.05},\"xaxis\":{\"automargin\":true,\"gridcolor\":\"white\",\"linecolor\":\"white\",\"ticks\":\"\",\"title\":{\"standoff\":15},\"zerolinecolor\":\"white\",\"zerolinewidth\":2},\"yaxis\":{\"automargin\":true,\"gridcolor\":\"white\",\"linecolor\":\"white\",\"ticks\":\"\",\"title\":{\"standoff\":15},\"zerolinecolor\":\"white\",\"zerolinewidth\":2}}},\"title\":{\"text\":\"Vendas no Per\\u00edodo\"},\"xaxis\":{\"title\":{\"text\":\"Per\\u00edodo\"}},\"yaxis\":{\"title\":{\"text\":\"Valores em Vendas\"}}},                        {\"responsive\": true}                    ).then(function(){\n",
              "                            \n",
              "var gd = document.getElementById('cc9f975d-591b-46d0-8cff-b96818acdc32');\n",
              "var x = new MutationObserver(function (mutations, observer) {{\n",
              "        var display = window.getComputedStyle(gd).display;\n",
              "        if (!display || display === 'none') {{\n",
              "            console.log([gd, 'removed!']);\n",
              "            Plotly.purge(gd);\n",
              "            observer.disconnect();\n",
              "        }}\n",
              "}});\n",
              "\n",
              "// Listen for the removal of the full notebook cells\n",
              "var notebookContainer = gd.closest('#notebook-container');\n",
              "if (notebookContainer) {{\n",
              "    x.observe(notebookContainer, {childList: true});\n",
              "}}\n",
              "\n",
              "// Listen for the clearing of the current output cell\n",
              "var outputEl = gd.closest('.output');\n",
              "if (outputEl) {{\n",
              "    x.observe(outputEl, {childList: true});\n",
              "}}\n",
              "\n",
              "                        })                };                            </script>        </div>\n",
              "</body>\n",
              "</html>"
            ]
          },
          "metadata": {}
        },
        {
          "output_type": "execute_result",
          "data": {
            "text/plain": [
              "'https://plotly.com/~sebast.rogers/29/'"
            ],
            "application/vnd.google.colaboratory.intrinsic+json": {
              "type": "string"
            }
          },
          "metadata": {},
          "execution_count": 115
        }
      ]
    },
    {
      "cell_type": "markdown",
      "source": [
        "**Destaca a barra com o maior valor e minimiza a visão de todas as outras**"
      ],
      "metadata": {
        "id": "crAJLf9ZFOae"
      }
    },
    {
      "cell_type": "code",
      "source": [
        "maximo_de_vendas = vendas_por_mes.values.max()"
      ],
      "metadata": {
        "id": "LRzikmFZE9qa"
      },
      "execution_count": null,
      "outputs": []
    },
    {
      "cell_type": "code",
      "source": [
        "maximo_de_vendas"
      ],
      "metadata": {
        "id": "Fja7Z2TUFW_q",
        "colab": {
          "base_uri": "https://localhost:8080/"
        },
        "outputId": "8c59c76e-8a79-4ebb-9580-5e9b2b794363"
      },
      "execution_count": null,
      "outputs": [
        {
          "output_type": "execute_result",
          "data": {
            "text/plain": [
              "55373.92"
            ]
          },
          "metadata": {},
          "execution_count": 69
        }
      ]
    },
    {
      "cell_type": "markdown",
      "source": [
        "**Alimenta a lista de cores**"
      ],
      "metadata": {
        "id": "dxXj_AzgFb83"
      }
    },
    {
      "cell_type": "code",
      "source": [
        "cores = []\n",
        "for x, y in zip(vendas_por_mes.values, vendas_por_mes.index):\n",
        "  if x == maximo_de_vendas :\n",
        "    mes_maximo_de_vendas = y\n",
        "    cores.append('blue')\n",
        "  else:\n",
        "    cores.append('lightgray')"
      ],
      "metadata": {
        "id": "EjhhUwJOFYiS"
      },
      "execution_count": null,
      "outputs": []
    },
    {
      "cell_type": "code",
      "source": [
        "mes_maximo_de_vendas"
      ],
      "metadata": {
        "id": "Zgt0n_3gTKgy",
        "colab": {
          "base_uri": "https://localhost:8080/",
          "height": 35
        },
        "outputId": "692db83f-24b8-4e64-b2b7-5c4a1b1104ac"
      },
      "execution_count": null,
      "outputs": [
        {
          "output_type": "execute_result",
          "data": {
            "text/plain": [
              "'2017-11'"
            ],
            "application/vnd.google.colaboratory.intrinsic+json": {
              "type": "string"
            }
          },
          "metadata": {},
          "execution_count": 71
        }
      ]
    },
    {
      "cell_type": "code",
      "source": [
        "cores"
      ],
      "metadata": {
        "id": "i29R5F0bTMRM",
        "colab": {
          "base_uri": "https://localhost:8080/"
        },
        "outputId": "09da83f7-ef7f-4922-bfe9-ac9243a5d82c"
      },
      "execution_count": null,
      "outputs": [
        {
          "output_type": "execute_result",
          "data": {
            "text/plain": [
              "['lightgray',\n",
              " 'lightgray',\n",
              " 'lightgray',\n",
              " 'lightgray',\n",
              " 'lightgray',\n",
              " 'lightgray',\n",
              " 'lightgray',\n",
              " 'lightgray',\n",
              " 'lightgray',\n",
              " 'blue',\n",
              " 'lightgray',\n",
              " 'lightgray',\n",
              " 'lightgray',\n",
              " 'lightgray',\n",
              " 'lightgray']"
            ]
          },
          "metadata": {},
          "execution_count": 72
        }
      ]
    },
    {
      "cell_type": "markdown",
      "source": [
        "**Plota o gráfico de vendas com um destaque de cor e anotação para o mês que teve mais vendas**"
      ],
      "metadata": {
        "id": "lMf0OtoHTP7p"
      }
    },
    {
      "cell_type": "code",
      "source": [
        "data = [go.Bar(x=vendas_por_mes.index,\n",
        "               y=vendas_por_mes.values,\n",
        "               marker= {'color': cores,\n",
        "                        'line': {'color': '#333',\n",
        "                                 'width': 2}\n",
        "                        },\n",
        "               opacity=0.7\n",
        "               )\n",
        "        ]\n",
        "\n",
        "#criando layout\n",
        "configuracoes_layout = go.Layout(title='Vendas no Período',\n",
        "                                 yaxis={'title': 'Valores em Vendas'},\n",
        "                                 xaxis={'title': 'Período'},\n",
        "                                 #texto na barra de destaque\n",
        "                                 annotations = [{'text': 'Mês destaque de vendas',\n",
        "                                                 'x': mes_maximo_de_vendas,\n",
        "                                                 'y': maximo_de_vendas}])\n",
        "                                 \n",
        "\n",
        "#objeto figura\n",
        "\n",
        "fig = go.Figure(data=data, layout=configuracoes_layout)\n",
        "\n",
        "#plotando o grafico\n",
        "py.iplot(fig)\n",
        "pyo.plot(fig)"
      ],
      "metadata": {
        "id": "K8C1NiXITMss",
        "colab": {
          "base_uri": "https://localhost:8080/",
          "height": 560
        },
        "outputId": "74193684-b492-40c4-e0ae-9e8309f66376"
      },
      "execution_count": null,
      "outputs": [
        {
          "output_type": "display_data",
          "data": {
            "text/html": [
              "<html>\n",
              "<head><meta charset=\"utf-8\" /></head>\n",
              "<body>\n",
              "    <div>            <script src=\"https://cdnjs.cloudflare.com/ajax/libs/mathjax/2.7.5/MathJax.js?config=TeX-AMS-MML_SVG\"></script><script type=\"text/javascript\">if (window.MathJax) {MathJax.Hub.Config({SVG: {font: \"STIX-Web\"}});}</script>                <script type=\"text/javascript\">window.PlotlyConfig = {MathJaxConfig: 'local'};</script>\n",
              "        <script src=\"https://cdn.plot.ly/plotly-2.8.3.min.js\"></script>                <div id=\"97ba6692-46e6-4f4c-8cbd-8fa531c9d992\" class=\"plotly-graph-div\" style=\"height:525px; width:100%;\"></div>            <script type=\"text/javascript\">                                    window.PLOTLYENV=window.PLOTLYENV || {};                                    if (document.getElementById(\"97ba6692-46e6-4f4c-8cbd-8fa531c9d992\")) {                    Plotly.newPlot(                        \"97ba6692-46e6-4f4c-8cbd-8fa531c9d992\",                        [{\"marker\":{\"color\":[\"#96D38C\",\"#FEBFB3\",\"#E1396C\"],\"line\":{\"color\":\"#333\",\"width\":2}},\"opacity\":0.7,\"x\":[\"2017-02\",\"2017-03\",\"2017-04\",\"2017-05\",\"2017-06\",\"2017-07\",\"2017-08\",\"2017-09\",\"2017-10\",\"2017-11\",\"2017-12\",\"2018-01\",\"2018-02\",\"2018-03\",\"2018-04\"],\"y\":[9.99,902.86,17654.190000000002,25556.23,34172.86,47284.74,39898.85,45462.2,40910.4,55373.92,43806.57,46755.56,42560.54,33435.48,3754.33],\"type\":\"bar\"}],                        {\"annotations\":[{\"text\":\"M\\u00eas destaque de vendas\",\"x\":\"2017-11\",\"y\":55373.92}],\"template\":{\"data\":{\"barpolar\":[{\"marker\":{\"line\":{\"color\":\"#E5ECF6\",\"width\":0.5},\"pattern\":{\"fillmode\":\"overlay\",\"size\":10,\"solidity\":0.2}},\"type\":\"barpolar\"}],\"bar\":[{\"error_x\":{\"color\":\"#2a3f5f\"},\"error_y\":{\"color\":\"#2a3f5f\"},\"marker\":{\"line\":{\"color\":\"#E5ECF6\",\"width\":0.5},\"pattern\":{\"fillmode\":\"overlay\",\"size\":10,\"solidity\":0.2}},\"type\":\"bar\"}],\"carpet\":[{\"aaxis\":{\"endlinecolor\":\"#2a3f5f\",\"gridcolor\":\"white\",\"linecolor\":\"white\",\"minorgridcolor\":\"white\",\"startlinecolor\":\"#2a3f5f\"},\"baxis\":{\"endlinecolor\":\"#2a3f5f\",\"gridcolor\":\"white\",\"linecolor\":\"white\",\"minorgridcolor\":\"white\",\"startlinecolor\":\"#2a3f5f\"},\"type\":\"carpet\"}],\"choropleth\":[{\"colorbar\":{\"outlinewidth\":0,\"ticks\":\"\"},\"type\":\"choropleth\"}],\"contourcarpet\":[{\"colorbar\":{\"outlinewidth\":0,\"ticks\":\"\"},\"type\":\"contourcarpet\"}],\"contour\":[{\"colorbar\":{\"outlinewidth\":0,\"ticks\":\"\"},\"colorscale\":[[0.0,\"#0d0887\"],[0.1111111111111111,\"#46039f\"],[0.2222222222222222,\"#7201a8\"],[0.3333333333333333,\"#9c179e\"],[0.4444444444444444,\"#bd3786\"],[0.5555555555555556,\"#d8576b\"],[0.6666666666666666,\"#ed7953\"],[0.7777777777777778,\"#fb9f3a\"],[0.8888888888888888,\"#fdca26\"],[1.0,\"#f0f921\"]],\"type\":\"contour\"}],\"heatmapgl\":[{\"colorbar\":{\"outlinewidth\":0,\"ticks\":\"\"},\"colorscale\":[[0.0,\"#0d0887\"],[0.1111111111111111,\"#46039f\"],[0.2222222222222222,\"#7201a8\"],[0.3333333333333333,\"#9c179e\"],[0.4444444444444444,\"#bd3786\"],[0.5555555555555556,\"#d8576b\"],[0.6666666666666666,\"#ed7953\"],[0.7777777777777778,\"#fb9f3a\"],[0.8888888888888888,\"#fdca26\"],[1.0,\"#f0f921\"]],\"type\":\"heatmapgl\"}],\"heatmap\":[{\"colorbar\":{\"outlinewidth\":0,\"ticks\":\"\"},\"colorscale\":[[0.0,\"#0d0887\"],[0.1111111111111111,\"#46039f\"],[0.2222222222222222,\"#7201a8\"],[0.3333333333333333,\"#9c179e\"],[0.4444444444444444,\"#bd3786\"],[0.5555555555555556,\"#d8576b\"],[0.6666666666666666,\"#ed7953\"],[0.7777777777777778,\"#fb9f3a\"],[0.8888888888888888,\"#fdca26\"],[1.0,\"#f0f921\"]],\"type\":\"heatmap\"}],\"histogram2dcontour\":[{\"colorbar\":{\"outlinewidth\":0,\"ticks\":\"\"},\"colorscale\":[[0.0,\"#0d0887\"],[0.1111111111111111,\"#46039f\"],[0.2222222222222222,\"#7201a8\"],[0.3333333333333333,\"#9c179e\"],[0.4444444444444444,\"#bd3786\"],[0.5555555555555556,\"#d8576b\"],[0.6666666666666666,\"#ed7953\"],[0.7777777777777778,\"#fb9f3a\"],[0.8888888888888888,\"#fdca26\"],[1.0,\"#f0f921\"]],\"type\":\"histogram2dcontour\"}],\"histogram2d\":[{\"colorbar\":{\"outlinewidth\":0,\"ticks\":\"\"},\"colorscale\":[[0.0,\"#0d0887\"],[0.1111111111111111,\"#46039f\"],[0.2222222222222222,\"#7201a8\"],[0.3333333333333333,\"#9c179e\"],[0.4444444444444444,\"#bd3786\"],[0.5555555555555556,\"#d8576b\"],[0.6666666666666666,\"#ed7953\"],[0.7777777777777778,\"#fb9f3a\"],[0.8888888888888888,\"#fdca26\"],[1.0,\"#f0f921\"]],\"type\":\"histogram2d\"}],\"histogram\":[{\"marker\":{\"pattern\":{\"fillmode\":\"overlay\",\"size\":10,\"solidity\":0.2}},\"type\":\"histogram\"}],\"mesh3d\":[{\"colorbar\":{\"outlinewidth\":0,\"ticks\":\"\"},\"type\":\"mesh3d\"}],\"parcoords\":[{\"line\":{\"colorbar\":{\"outlinewidth\":0,\"ticks\":\"\"}},\"type\":\"parcoords\"}],\"pie\":[{\"automargin\":true,\"type\":\"pie\"}],\"scatter3d\":[{\"line\":{\"colorbar\":{\"outlinewidth\":0,\"ticks\":\"\"}},\"marker\":{\"colorbar\":{\"outlinewidth\":0,\"ticks\":\"\"}},\"type\":\"scatter3d\"}],\"scattercarpet\":[{\"marker\":{\"colorbar\":{\"outlinewidth\":0,\"ticks\":\"\"}},\"type\":\"scattercarpet\"}],\"scattergeo\":[{\"marker\":{\"colorbar\":{\"outlinewidth\":0,\"ticks\":\"\"}},\"type\":\"scattergeo\"}],\"scattergl\":[{\"marker\":{\"colorbar\":{\"outlinewidth\":0,\"ticks\":\"\"}},\"type\":\"scattergl\"}],\"scattermapbox\":[{\"marker\":{\"colorbar\":{\"outlinewidth\":0,\"ticks\":\"\"}},\"type\":\"scattermapbox\"}],\"scatterpolargl\":[{\"marker\":{\"colorbar\":{\"outlinewidth\":0,\"ticks\":\"\"}},\"type\":\"scatterpolargl\"}],\"scatterpolar\":[{\"marker\":{\"colorbar\":{\"outlinewidth\":0,\"ticks\":\"\"}},\"type\":\"scatterpolar\"}],\"scatter\":[{\"marker\":{\"colorbar\":{\"outlinewidth\":0,\"ticks\":\"\"}},\"type\":\"scatter\"}],\"scatterternary\":[{\"marker\":{\"colorbar\":{\"outlinewidth\":0,\"ticks\":\"\"}},\"type\":\"scatterternary\"}],\"surface\":[{\"colorbar\":{\"outlinewidth\":0,\"ticks\":\"\"},\"colorscale\":[[0.0,\"#0d0887\"],[0.1111111111111111,\"#46039f\"],[0.2222222222222222,\"#7201a8\"],[0.3333333333333333,\"#9c179e\"],[0.4444444444444444,\"#bd3786\"],[0.5555555555555556,\"#d8576b\"],[0.6666666666666666,\"#ed7953\"],[0.7777777777777778,\"#fb9f3a\"],[0.8888888888888888,\"#fdca26\"],[1.0,\"#f0f921\"]],\"type\":\"surface\"}],\"table\":[{\"cells\":{\"fill\":{\"color\":\"#EBF0F8\"},\"line\":{\"color\":\"white\"}},\"header\":{\"fill\":{\"color\":\"#C8D4E3\"},\"line\":{\"color\":\"white\"}},\"type\":\"table\"}]},\"layout\":{\"annotationdefaults\":{\"arrowcolor\":\"#2a3f5f\",\"arrowhead\":0,\"arrowwidth\":1},\"autotypenumbers\":\"strict\",\"coloraxis\":{\"colorbar\":{\"outlinewidth\":0,\"ticks\":\"\"}},\"colorscale\":{\"diverging\":[[0,\"#8e0152\"],[0.1,\"#c51b7d\"],[0.2,\"#de77ae\"],[0.3,\"#f1b6da\"],[0.4,\"#fde0ef\"],[0.5,\"#f7f7f7\"],[0.6,\"#e6f5d0\"],[0.7,\"#b8e186\"],[0.8,\"#7fbc41\"],[0.9,\"#4d9221\"],[1,\"#276419\"]],\"sequential\":[[0.0,\"#0d0887\"],[0.1111111111111111,\"#46039f\"],[0.2222222222222222,\"#7201a8\"],[0.3333333333333333,\"#9c179e\"],[0.4444444444444444,\"#bd3786\"],[0.5555555555555556,\"#d8576b\"],[0.6666666666666666,\"#ed7953\"],[0.7777777777777778,\"#fb9f3a\"],[0.8888888888888888,\"#fdca26\"],[1.0,\"#f0f921\"]],\"sequentialminus\":[[0.0,\"#0d0887\"],[0.1111111111111111,\"#46039f\"],[0.2222222222222222,\"#7201a8\"],[0.3333333333333333,\"#9c179e\"],[0.4444444444444444,\"#bd3786\"],[0.5555555555555556,\"#d8576b\"],[0.6666666666666666,\"#ed7953\"],[0.7777777777777778,\"#fb9f3a\"],[0.8888888888888888,\"#fdca26\"],[1.0,\"#f0f921\"]]},\"colorway\":[\"#636efa\",\"#EF553B\",\"#00cc96\",\"#ab63fa\",\"#FFA15A\",\"#19d3f3\",\"#FF6692\",\"#B6E880\",\"#FF97FF\",\"#FECB52\"],\"font\":{\"color\":\"#2a3f5f\"},\"geo\":{\"bgcolor\":\"white\",\"lakecolor\":\"white\",\"landcolor\":\"#E5ECF6\",\"showlakes\":true,\"showland\":true,\"subunitcolor\":\"white\"},\"hoverlabel\":{\"align\":\"left\"},\"hovermode\":\"closest\",\"mapbox\":{\"style\":\"light\"},\"paper_bgcolor\":\"white\",\"plot_bgcolor\":\"#E5ECF6\",\"polar\":{\"angularaxis\":{\"gridcolor\":\"white\",\"linecolor\":\"white\",\"ticks\":\"\"},\"bgcolor\":\"#E5ECF6\",\"radialaxis\":{\"gridcolor\":\"white\",\"linecolor\":\"white\",\"ticks\":\"\"}},\"scene\":{\"xaxis\":{\"backgroundcolor\":\"#E5ECF6\",\"gridcolor\":\"white\",\"gridwidth\":2,\"linecolor\":\"white\",\"showbackground\":true,\"ticks\":\"\",\"zerolinecolor\":\"white\"},\"yaxis\":{\"backgroundcolor\":\"#E5ECF6\",\"gridcolor\":\"white\",\"gridwidth\":2,\"linecolor\":\"white\",\"showbackground\":true,\"ticks\":\"\",\"zerolinecolor\":\"white\"},\"zaxis\":{\"backgroundcolor\":\"#E5ECF6\",\"gridcolor\":\"white\",\"gridwidth\":2,\"linecolor\":\"white\",\"showbackground\":true,\"ticks\":\"\",\"zerolinecolor\":\"white\"}},\"shapedefaults\":{\"line\":{\"color\":\"#2a3f5f\"}},\"ternary\":{\"aaxis\":{\"gridcolor\":\"white\",\"linecolor\":\"white\",\"ticks\":\"\"},\"baxis\":{\"gridcolor\":\"white\",\"linecolor\":\"white\",\"ticks\":\"\"},\"bgcolor\":\"#E5ECF6\",\"caxis\":{\"gridcolor\":\"white\",\"linecolor\":\"white\",\"ticks\":\"\"}},\"title\":{\"x\":0.05},\"xaxis\":{\"automargin\":true,\"gridcolor\":\"white\",\"linecolor\":\"white\",\"ticks\":\"\",\"title\":{\"standoff\":15},\"zerolinecolor\":\"white\",\"zerolinewidth\":2},\"yaxis\":{\"automargin\":true,\"gridcolor\":\"white\",\"linecolor\":\"white\",\"ticks\":\"\",\"title\":{\"standoff\":15},\"zerolinecolor\":\"white\",\"zerolinewidth\":2}}},\"title\":{\"text\":\"Vendas no Per\\u00edodo\"},\"xaxis\":{\"title\":{\"text\":\"Per\\u00edodo\"}},\"yaxis\":{\"title\":{\"text\":\"Valores em Vendas\"}}},                        {\"responsive\": true}                    ).then(function(){\n",
              "                            \n",
              "var gd = document.getElementById('97ba6692-46e6-4f4c-8cbd-8fa531c9d992');\n",
              "var x = new MutationObserver(function (mutations, observer) {{\n",
              "        var display = window.getComputedStyle(gd).display;\n",
              "        if (!display || display === 'none') {{\n",
              "            console.log([gd, 'removed!']);\n",
              "            Plotly.purge(gd);\n",
              "            observer.disconnect();\n",
              "        }}\n",
              "}});\n",
              "\n",
              "// Listen for the removal of the full notebook cells\n",
              "var notebookContainer = gd.closest('#notebook-container');\n",
              "if (notebookContainer) {{\n",
              "    x.observe(notebookContainer, {childList: true});\n",
              "}}\n",
              "\n",
              "// Listen for the clearing of the current output cell\n",
              "var outputEl = gd.closest('.output');\n",
              "if (outputEl) {{\n",
              "    x.observe(outputEl, {childList: true});\n",
              "}}\n",
              "\n",
              "                        })                };                            </script>        </div>\n",
              "</body>\n",
              "</html>"
            ]
          },
          "metadata": {}
        },
        {
          "output_type": "execute_result",
          "data": {
            "text/plain": [
              "'https://plotly.com/~sebast.rogers/27/'"
            ],
            "application/vnd.google.colaboratory.intrinsic+json": {
              "type": "string"
            }
          },
          "metadata": {},
          "execution_count": 114
        }
      ]
    },
    {
      "cell_type": "markdown",
      "source": [
        "**Visualizando duas informações no mesmo gráfico**"
      ],
      "metadata": {
        "id": "8gAdnUxmUAJ3"
      }
    },
    {
      "cell_type": "code",
      "source": [
        "vendas_ano_anterior = vendas_por_mes - 10000.00"
      ],
      "metadata": {
        "id": "nReHHVtWT9mt"
      },
      "execution_count": null,
      "outputs": []
    },
    {
      "cell_type": "markdown",
      "source": [
        "**Gráfico de barras aninhadas**"
      ],
      "metadata": {
        "id": "dN4F522NUKJ4"
      }
    },
    {
      "cell_type": "code",
      "source": [
        "import plotly.offline as py\n",
        "import plotly.graph_objs as go\n",
        "\n",
        "data = [go.Bar(x=vendas_por_mes.index,\n",
        "               y=vendas_por_mes.values,\n",
        "               marker= {'color': cores,\n",
        "                        'line': {'color': '#333',\n",
        "                                 'width': 2}\n",
        "                        },\n",
        "               opacity=0.7,\n",
        "               name = '2017'\n",
        "               ),\n",
        "\n",
        "#definindo outro plot de barras com valores dos meses passados\n",
        "\n",
        "        go.Bar(x=vendas_ano_anterior.index,\n",
        "               y=vendas_ano_anterior.values,\n",
        "               name = '2016',\n",
        "               marker= {'color': 'lightgreen',\n",
        "                        'line': {'color': '#333',\n",
        "                                'width': 2}\n",
        "                                },\n",
        "                      opacity=0.7                      \n",
        "                      )\n",
        "        ]\n",
        "\n",
        "#criando layout\n",
        "configuracoes_layout = go.Layout(title='Vendas no Período',\n",
        "                                 yaxis={'title': 'Valores em Vendas'},\n",
        "                                 xaxis={'title': 'Período'},\n",
        "                                 #texto na barra de destaque\n",
        "                                 annotations = [{'text': 'Mês destaque de vendas',\n",
        "                                                 'x': mes_maximo_de_vendas,\n",
        "                                                 'y': maximo_de_vendas}])\n",
        "                                 \n",
        "\n",
        "#objeto figura\n",
        "\n",
        "fig = go.Figure(data=data, layout=configuracoes_layout)\n",
        "\n",
        "#plotando o grafico\n",
        "py.iplot(fig)\n",
        "pyo.plot(fig)"
      ],
      "metadata": {
        "id": "91QqkGwtUNmX",
        "colab": {
          "base_uri": "https://localhost:8080/",
          "height": 560
        },
        "outputId": "bc77a985-a5b9-4801-855c-dcd61acc06f5"
      },
      "execution_count": null,
      "outputs": [
        {
          "output_type": "display_data",
          "data": {
            "text/html": [
              "<html>\n",
              "<head><meta charset=\"utf-8\" /></head>\n",
              "<body>\n",
              "    <div>            <script src=\"https://cdnjs.cloudflare.com/ajax/libs/mathjax/2.7.5/MathJax.js?config=TeX-AMS-MML_SVG\"></script><script type=\"text/javascript\">if (window.MathJax) {MathJax.Hub.Config({SVG: {font: \"STIX-Web\"}});}</script>                <script type=\"text/javascript\">window.PlotlyConfig = {MathJaxConfig: 'local'};</script>\n",
              "        <script src=\"https://cdn.plot.ly/plotly-2.8.3.min.js\"></script>                <div id=\"f33fd8e7-2f4f-45ac-a02e-b62519cde2f7\" class=\"plotly-graph-div\" style=\"height:525px; width:100%;\"></div>            <script type=\"text/javascript\">                                    window.PLOTLYENV=window.PLOTLYENV || {};                                    if (document.getElementById(\"f33fd8e7-2f4f-45ac-a02e-b62519cde2f7\")) {                    Plotly.newPlot(                        \"f33fd8e7-2f4f-45ac-a02e-b62519cde2f7\",                        [{\"marker\":{\"color\":[\"#96D38C\",\"#FEBFB3\",\"#E1396C\"],\"line\":{\"color\":\"#333\",\"width\":2}},\"name\":\"2017\",\"opacity\":0.7,\"x\":[\"2017-02\",\"2017-03\",\"2017-04\",\"2017-05\",\"2017-06\",\"2017-07\",\"2017-08\",\"2017-09\",\"2017-10\",\"2017-11\",\"2017-12\",\"2018-01\",\"2018-02\",\"2018-03\",\"2018-04\"],\"y\":[9.99,902.86,17654.190000000002,25556.23,34172.86,47284.74,39898.85,45462.2,40910.4,55373.92,43806.57,46755.56,42560.54,33435.48,3754.33],\"type\":\"bar\"},{\"marker\":{\"color\":\"lightgreen\",\"line\":{\"color\":\"#333\",\"width\":2}},\"name\":\"2016\",\"opacity\":0.7,\"x\":[\"2017-02\",\"2017-03\",\"2017-04\",\"2017-05\",\"2017-06\",\"2017-07\",\"2017-08\",\"2017-09\",\"2017-10\",\"2017-11\",\"2017-12\",\"2018-01\",\"2018-02\",\"2018-03\",\"2018-04\"],\"y\":[-9990.01,-9097.14,7654.190000000002,15556.23,24172.86,37284.74,29898.85,35462.2,30910.4,45373.92,33806.57,36755.56,32560.54,23435.480000000003,-6245.67],\"type\":\"bar\"}],                        {\"annotations\":[{\"text\":\"M\\u00eas destaque de vendas\",\"x\":\"2017-11\",\"y\":55373.92}],\"template\":{\"data\":{\"barpolar\":[{\"marker\":{\"line\":{\"color\":\"#E5ECF6\",\"width\":0.5},\"pattern\":{\"fillmode\":\"overlay\",\"size\":10,\"solidity\":0.2}},\"type\":\"barpolar\"}],\"bar\":[{\"error_x\":{\"color\":\"#2a3f5f\"},\"error_y\":{\"color\":\"#2a3f5f\"},\"marker\":{\"line\":{\"color\":\"#E5ECF6\",\"width\":0.5},\"pattern\":{\"fillmode\":\"overlay\",\"size\":10,\"solidity\":0.2}},\"type\":\"bar\"}],\"carpet\":[{\"aaxis\":{\"endlinecolor\":\"#2a3f5f\",\"gridcolor\":\"white\",\"linecolor\":\"white\",\"minorgridcolor\":\"white\",\"startlinecolor\":\"#2a3f5f\"},\"baxis\":{\"endlinecolor\":\"#2a3f5f\",\"gridcolor\":\"white\",\"linecolor\":\"white\",\"minorgridcolor\":\"white\",\"startlinecolor\":\"#2a3f5f\"},\"type\":\"carpet\"}],\"choropleth\":[{\"colorbar\":{\"outlinewidth\":0,\"ticks\":\"\"},\"type\":\"choropleth\"}],\"contourcarpet\":[{\"colorbar\":{\"outlinewidth\":0,\"ticks\":\"\"},\"type\":\"contourcarpet\"}],\"contour\":[{\"colorbar\":{\"outlinewidth\":0,\"ticks\":\"\"},\"colorscale\":[[0.0,\"#0d0887\"],[0.1111111111111111,\"#46039f\"],[0.2222222222222222,\"#7201a8\"],[0.3333333333333333,\"#9c179e\"],[0.4444444444444444,\"#bd3786\"],[0.5555555555555556,\"#d8576b\"],[0.6666666666666666,\"#ed7953\"],[0.7777777777777778,\"#fb9f3a\"],[0.8888888888888888,\"#fdca26\"],[1.0,\"#f0f921\"]],\"type\":\"contour\"}],\"heatmapgl\":[{\"colorbar\":{\"outlinewidth\":0,\"ticks\":\"\"},\"colorscale\":[[0.0,\"#0d0887\"],[0.1111111111111111,\"#46039f\"],[0.2222222222222222,\"#7201a8\"],[0.3333333333333333,\"#9c179e\"],[0.4444444444444444,\"#bd3786\"],[0.5555555555555556,\"#d8576b\"],[0.6666666666666666,\"#ed7953\"],[0.7777777777777778,\"#fb9f3a\"],[0.8888888888888888,\"#fdca26\"],[1.0,\"#f0f921\"]],\"type\":\"heatmapgl\"}],\"heatmap\":[{\"colorbar\":{\"outlinewidth\":0,\"ticks\":\"\"},\"colorscale\":[[0.0,\"#0d0887\"],[0.1111111111111111,\"#46039f\"],[0.2222222222222222,\"#7201a8\"],[0.3333333333333333,\"#9c179e\"],[0.4444444444444444,\"#bd3786\"],[0.5555555555555556,\"#d8576b\"],[0.6666666666666666,\"#ed7953\"],[0.7777777777777778,\"#fb9f3a\"],[0.8888888888888888,\"#fdca26\"],[1.0,\"#f0f921\"]],\"type\":\"heatmap\"}],\"histogram2dcontour\":[{\"colorbar\":{\"outlinewidth\":0,\"ticks\":\"\"},\"colorscale\":[[0.0,\"#0d0887\"],[0.1111111111111111,\"#46039f\"],[0.2222222222222222,\"#7201a8\"],[0.3333333333333333,\"#9c179e\"],[0.4444444444444444,\"#bd3786\"],[0.5555555555555556,\"#d8576b\"],[0.6666666666666666,\"#ed7953\"],[0.7777777777777778,\"#fb9f3a\"],[0.8888888888888888,\"#fdca26\"],[1.0,\"#f0f921\"]],\"type\":\"histogram2dcontour\"}],\"histogram2d\":[{\"colorbar\":{\"outlinewidth\":0,\"ticks\":\"\"},\"colorscale\":[[0.0,\"#0d0887\"],[0.1111111111111111,\"#46039f\"],[0.2222222222222222,\"#7201a8\"],[0.3333333333333333,\"#9c179e\"],[0.4444444444444444,\"#bd3786\"],[0.5555555555555556,\"#d8576b\"],[0.6666666666666666,\"#ed7953\"],[0.7777777777777778,\"#fb9f3a\"],[0.8888888888888888,\"#fdca26\"],[1.0,\"#f0f921\"]],\"type\":\"histogram2d\"}],\"histogram\":[{\"marker\":{\"pattern\":{\"fillmode\":\"overlay\",\"size\":10,\"solidity\":0.2}},\"type\":\"histogram\"}],\"mesh3d\":[{\"colorbar\":{\"outlinewidth\":0,\"ticks\":\"\"},\"type\":\"mesh3d\"}],\"parcoords\":[{\"line\":{\"colorbar\":{\"outlinewidth\":0,\"ticks\":\"\"}},\"type\":\"parcoords\"}],\"pie\":[{\"automargin\":true,\"type\":\"pie\"}],\"scatter3d\":[{\"line\":{\"colorbar\":{\"outlinewidth\":0,\"ticks\":\"\"}},\"marker\":{\"colorbar\":{\"outlinewidth\":0,\"ticks\":\"\"}},\"type\":\"scatter3d\"}],\"scattercarpet\":[{\"marker\":{\"colorbar\":{\"outlinewidth\":0,\"ticks\":\"\"}},\"type\":\"scattercarpet\"}],\"scattergeo\":[{\"marker\":{\"colorbar\":{\"outlinewidth\":0,\"ticks\":\"\"}},\"type\":\"scattergeo\"}],\"scattergl\":[{\"marker\":{\"colorbar\":{\"outlinewidth\":0,\"ticks\":\"\"}},\"type\":\"scattergl\"}],\"scattermapbox\":[{\"marker\":{\"colorbar\":{\"outlinewidth\":0,\"ticks\":\"\"}},\"type\":\"scattermapbox\"}],\"scatterpolargl\":[{\"marker\":{\"colorbar\":{\"outlinewidth\":0,\"ticks\":\"\"}},\"type\":\"scatterpolargl\"}],\"scatterpolar\":[{\"marker\":{\"colorbar\":{\"outlinewidth\":0,\"ticks\":\"\"}},\"type\":\"scatterpolar\"}],\"scatter\":[{\"marker\":{\"colorbar\":{\"outlinewidth\":0,\"ticks\":\"\"}},\"type\":\"scatter\"}],\"scatterternary\":[{\"marker\":{\"colorbar\":{\"outlinewidth\":0,\"ticks\":\"\"}},\"type\":\"scatterternary\"}],\"surface\":[{\"colorbar\":{\"outlinewidth\":0,\"ticks\":\"\"},\"colorscale\":[[0.0,\"#0d0887\"],[0.1111111111111111,\"#46039f\"],[0.2222222222222222,\"#7201a8\"],[0.3333333333333333,\"#9c179e\"],[0.4444444444444444,\"#bd3786\"],[0.5555555555555556,\"#d8576b\"],[0.6666666666666666,\"#ed7953\"],[0.7777777777777778,\"#fb9f3a\"],[0.8888888888888888,\"#fdca26\"],[1.0,\"#f0f921\"]],\"type\":\"surface\"}],\"table\":[{\"cells\":{\"fill\":{\"color\":\"#EBF0F8\"},\"line\":{\"color\":\"white\"}},\"header\":{\"fill\":{\"color\":\"#C8D4E3\"},\"line\":{\"color\":\"white\"}},\"type\":\"table\"}]},\"layout\":{\"annotationdefaults\":{\"arrowcolor\":\"#2a3f5f\",\"arrowhead\":0,\"arrowwidth\":1},\"autotypenumbers\":\"strict\",\"coloraxis\":{\"colorbar\":{\"outlinewidth\":0,\"ticks\":\"\"}},\"colorscale\":{\"diverging\":[[0,\"#8e0152\"],[0.1,\"#c51b7d\"],[0.2,\"#de77ae\"],[0.3,\"#f1b6da\"],[0.4,\"#fde0ef\"],[0.5,\"#f7f7f7\"],[0.6,\"#e6f5d0\"],[0.7,\"#b8e186\"],[0.8,\"#7fbc41\"],[0.9,\"#4d9221\"],[1,\"#276419\"]],\"sequential\":[[0.0,\"#0d0887\"],[0.1111111111111111,\"#46039f\"],[0.2222222222222222,\"#7201a8\"],[0.3333333333333333,\"#9c179e\"],[0.4444444444444444,\"#bd3786\"],[0.5555555555555556,\"#d8576b\"],[0.6666666666666666,\"#ed7953\"],[0.7777777777777778,\"#fb9f3a\"],[0.8888888888888888,\"#fdca26\"],[1.0,\"#f0f921\"]],\"sequentialminus\":[[0.0,\"#0d0887\"],[0.1111111111111111,\"#46039f\"],[0.2222222222222222,\"#7201a8\"],[0.3333333333333333,\"#9c179e\"],[0.4444444444444444,\"#bd3786\"],[0.5555555555555556,\"#d8576b\"],[0.6666666666666666,\"#ed7953\"],[0.7777777777777778,\"#fb9f3a\"],[0.8888888888888888,\"#fdca26\"],[1.0,\"#f0f921\"]]},\"colorway\":[\"#636efa\",\"#EF553B\",\"#00cc96\",\"#ab63fa\",\"#FFA15A\",\"#19d3f3\",\"#FF6692\",\"#B6E880\",\"#FF97FF\",\"#FECB52\"],\"font\":{\"color\":\"#2a3f5f\"},\"geo\":{\"bgcolor\":\"white\",\"lakecolor\":\"white\",\"landcolor\":\"#E5ECF6\",\"showlakes\":true,\"showland\":true,\"subunitcolor\":\"white\"},\"hoverlabel\":{\"align\":\"left\"},\"hovermode\":\"closest\",\"mapbox\":{\"style\":\"light\"},\"paper_bgcolor\":\"white\",\"plot_bgcolor\":\"#E5ECF6\",\"polar\":{\"angularaxis\":{\"gridcolor\":\"white\",\"linecolor\":\"white\",\"ticks\":\"\"},\"bgcolor\":\"#E5ECF6\",\"radialaxis\":{\"gridcolor\":\"white\",\"linecolor\":\"white\",\"ticks\":\"\"}},\"scene\":{\"xaxis\":{\"backgroundcolor\":\"#E5ECF6\",\"gridcolor\":\"white\",\"gridwidth\":2,\"linecolor\":\"white\",\"showbackground\":true,\"ticks\":\"\",\"zerolinecolor\":\"white\"},\"yaxis\":{\"backgroundcolor\":\"#E5ECF6\",\"gridcolor\":\"white\",\"gridwidth\":2,\"linecolor\":\"white\",\"showbackground\":true,\"ticks\":\"\",\"zerolinecolor\":\"white\"},\"zaxis\":{\"backgroundcolor\":\"#E5ECF6\",\"gridcolor\":\"white\",\"gridwidth\":2,\"linecolor\":\"white\",\"showbackground\":true,\"ticks\":\"\",\"zerolinecolor\":\"white\"}},\"shapedefaults\":{\"line\":{\"color\":\"#2a3f5f\"}},\"ternary\":{\"aaxis\":{\"gridcolor\":\"white\",\"linecolor\":\"white\",\"ticks\":\"\"},\"baxis\":{\"gridcolor\":\"white\",\"linecolor\":\"white\",\"ticks\":\"\"},\"bgcolor\":\"#E5ECF6\",\"caxis\":{\"gridcolor\":\"white\",\"linecolor\":\"white\",\"ticks\":\"\"}},\"title\":{\"x\":0.05},\"xaxis\":{\"automargin\":true,\"gridcolor\":\"white\",\"linecolor\":\"white\",\"ticks\":\"\",\"title\":{\"standoff\":15},\"zerolinecolor\":\"white\",\"zerolinewidth\":2},\"yaxis\":{\"automargin\":true,\"gridcolor\":\"white\",\"linecolor\":\"white\",\"ticks\":\"\",\"title\":{\"standoff\":15},\"zerolinecolor\":\"white\",\"zerolinewidth\":2}}},\"title\":{\"text\":\"Vendas no Per\\u00edodo\"},\"xaxis\":{\"title\":{\"text\":\"Per\\u00edodo\"}},\"yaxis\":{\"title\":{\"text\":\"Valores em Vendas\"}}},                        {\"responsive\": true}                    ).then(function(){\n",
              "                            \n",
              "var gd = document.getElementById('f33fd8e7-2f4f-45ac-a02e-b62519cde2f7');\n",
              "var x = new MutationObserver(function (mutations, observer) {{\n",
              "        var display = window.getComputedStyle(gd).display;\n",
              "        if (!display || display === 'none') {{\n",
              "            console.log([gd, 'removed!']);\n",
              "            Plotly.purge(gd);\n",
              "            observer.disconnect();\n",
              "        }}\n",
              "}});\n",
              "\n",
              "// Listen for the removal of the full notebook cells\n",
              "var notebookContainer = gd.closest('#notebook-container');\n",
              "if (notebookContainer) {{\n",
              "    x.observe(notebookContainer, {childList: true});\n",
              "}}\n",
              "\n",
              "// Listen for the clearing of the current output cell\n",
              "var outputEl = gd.closest('.output');\n",
              "if (outputEl) {{\n",
              "    x.observe(outputEl, {childList: true});\n",
              "}}\n",
              "\n",
              "                        })                };                            </script>        </div>\n",
              "</body>\n",
              "</html>"
            ]
          },
          "metadata": {}
        },
        {
          "output_type": "execute_result",
          "data": {
            "text/plain": [
              "'https://plotly.com/~sebast.rogers/25/'"
            ],
            "application/vnd.google.colaboratory.intrinsic+json": {
              "type": "string"
            }
          },
          "metadata": {},
          "execution_count": 113
        }
      ]
    },
    {
      "cell_type": "markdown",
      "source": [
        "**Vendas por categorias de produtos**\n",
        "\n",
        "\n",
        "*   Conta quantos produtos por categoria e coloca dentro da variável vendas_produto_por_categoria\n",
        "\n"
      ],
      "metadata": {
        "id": "dezuUJi2IcLG"
      }
    },
    {
      "cell_type": "code",
      "source": [
        "vendas_produto_por_categoria = df.groupby(by='product_category_name').id.count()"
      ],
      "metadata": {
        "id": "nA27wxfLDbBv"
      },
      "execution_count": null,
      "outputs": []
    },
    {
      "cell_type": "markdown",
      "source": [
        "**Filtra categorias com quantidade de vendas maiores que 1**"
      ],
      "metadata": {
        "id": "TIFU6s7eI0yo"
      }
    },
    {
      "cell_type": "code",
      "source": [
        "vendas_produto_por_categoria = vendas_produto_por_categoria.loc[vendas_produto_por_categoria.values > 1]"
      ],
      "metadata": {
        "id": "eFXRXVysI4T3"
      },
      "execution_count": null,
      "outputs": []
    },
    {
      "cell_type": "markdown",
      "source": [
        "**Ordena valores do maior para o menor**"
      ],
      "metadata": {
        "id": "FXI7GT9uJBiU"
      }
    },
    {
      "cell_type": "code",
      "source": [
        "vendas_produto_por_categoria.sort_values(ascending=False,inplace=True)"
      ],
      "metadata": {
        "id": "VmraXnlVJAwe"
      },
      "execution_count": null,
      "outputs": []
    },
    {
      "cell_type": "markdown",
      "source": [
        "**Plota gráfico de barras verticais**"
      ],
      "metadata": {
        "id": "LuitI6pmJOW5"
      }
    },
    {
      "cell_type": "code",
      "source": [
        "import plotly.offline as py\n",
        "import plotly.graph_objs as go\n",
        "\n",
        "trace0 = go.Bar(x=vendas_produto_por_categoria.index,\n",
        "               y=vendas_produto_por_categoria.values,\n",
        "               marker= {'color': '#00FF2A'},\n",
        "               orientation = 'v'\n",
        "               )\n",
        "\n",
        "data = [trace0]\n",
        "\n",
        "#Criando Layout\n",
        "configuracoes_layout = go.Layout(title='Vendas por categoria de Produtos',\n",
        "                                 xaxis=dict(\n",
        "                                     titlefont=dict(\n",
        "                                         size=40,\n",
        "                                         color='lightgrey'),\n",
        "                                 tickangle=75),\n",
        "                                 yaxis={'title': 'Quantidade vendida'})\n",
        "\n",
        "#Objeto figura\n",
        "\n",
        "fig = go.Figure(data=data, layout=configuracoes_layout)\n",
        "\n",
        "#plotando o grafico\n",
        "py.iplot(fig)\n",
        "pyo.plot(fig)"
      ],
      "metadata": {
        "colab": {
          "base_uri": "https://localhost:8080/",
          "height": 560
        },
        "id": "D3hDogggJLo-",
        "outputId": "bd1076bf-f154-4f70-9c4f-675edf6dd9df"
      },
      "execution_count": null,
      "outputs": [
        {
          "output_type": "display_data",
          "data": {
            "text/html": [
              "<html>\n",
              "<head><meta charset=\"utf-8\" /></head>\n",
              "<body>\n",
              "    <div>            <script src=\"https://cdnjs.cloudflare.com/ajax/libs/mathjax/2.7.5/MathJax.js?config=TeX-AMS-MML_SVG\"></script><script type=\"text/javascript\">if (window.MathJax) {MathJax.Hub.Config({SVG: {font: \"STIX-Web\"}});}</script>                <script type=\"text/javascript\">window.PlotlyConfig = {MathJaxConfig: 'local'};</script>\n",
              "        <script src=\"https://cdn.plot.ly/plotly-2.8.3.min.js\"></script>                <div id=\"a19293e7-21a4-4dc7-bf91-7b5e3c7b8804\" class=\"plotly-graph-div\" style=\"height:525px; width:100%;\"></div>            <script type=\"text/javascript\">                                    window.PLOTLYENV=window.PLOTLYENV || {};                                    if (document.getElementById(\"a19293e7-21a4-4dc7-bf91-7b5e3c7b8804\")) {                    Plotly.newPlot(                        \"a19293e7-21a4-4dc7-bf91-7b5e3c7b8804\",                        [{\"marker\":{\"color\":\"#00FF2A\"},\"orientation\":\"v\",\"x\":[\"cama_mesa_banho\",\"moveis_decoracao\",\"beleza_saude\",\"esporte_lazer\",\"informatica_acessorios\",\"utilidades_domesticas\",\"ferramentas_jardim\",\"relogios_presentes\",\"cool_stuff\",\"perfumaria\",\"brinquedos\",\"automotivo\",\"fashion_bolsas_e_acessorios\",\"telefonia\",\"bebes\",\"moveis_escritorio\",\"papelaria\",\"eletronicos\",\"pet_shop\",\"malas_acessorios\",\"consoles_games\",\"casa_conforto\",\"eletrodomesticos\",\"eletroportateis\",\"fashion_roupa_masculina\",\"fashion_calcados\",\"market_place\",\"instrumentos_musicais\",\"livros_interesse_geral\",\"moveis_sala\",\"construcao_ferramentas_construcao\",\"alimentos_bebidas\",\"artes\",\"climatizacao\",\"livros_tecnicos\",\"alimentos\",\"fashion_underwear_e_moda_praia\",\"bebidas\",\"construcao_ferramentas_jardim\",\"eletrodomesticos_2\",\"pcs\",\"artigos_de_natal\",\"audio\",\"moveis_cozinha_area_de_servico_jantar_e_jardim\",\"tablets_impressao_imagem\",\"agro_industria_e_comercio\",\"moveis_colchao_e_estofado\",\"livros_importados\",\"dvds_blu_ray\",\"construcao_ferramentas_iluminacao\",\"casa_construcao\",\"artigos_de_festas\"],\"y\":[471,302,253,224,215,199,197,196,152,140,137,134,125,118,83,77,65,55,52,49,32,31,29,26,23,19,19,15,15,14,12,9,8,7,7,6,6,6,6,6,5,5,4,4,3,3,2,2,2,2,2,2],\"type\":\"bar\"}],                        {\"template\":{\"data\":{\"barpolar\":[{\"marker\":{\"line\":{\"color\":\"#E5ECF6\",\"width\":0.5},\"pattern\":{\"fillmode\":\"overlay\",\"size\":10,\"solidity\":0.2}},\"type\":\"barpolar\"}],\"bar\":[{\"error_x\":{\"color\":\"#2a3f5f\"},\"error_y\":{\"color\":\"#2a3f5f\"},\"marker\":{\"line\":{\"color\":\"#E5ECF6\",\"width\":0.5},\"pattern\":{\"fillmode\":\"overlay\",\"size\":10,\"solidity\":0.2}},\"type\":\"bar\"}],\"carpet\":[{\"aaxis\":{\"endlinecolor\":\"#2a3f5f\",\"gridcolor\":\"white\",\"linecolor\":\"white\",\"minorgridcolor\":\"white\",\"startlinecolor\":\"#2a3f5f\"},\"baxis\":{\"endlinecolor\":\"#2a3f5f\",\"gridcolor\":\"white\",\"linecolor\":\"white\",\"minorgridcolor\":\"white\",\"startlinecolor\":\"#2a3f5f\"},\"type\":\"carpet\"}],\"choropleth\":[{\"colorbar\":{\"outlinewidth\":0,\"ticks\":\"\"},\"type\":\"choropleth\"}],\"contourcarpet\":[{\"colorbar\":{\"outlinewidth\":0,\"ticks\":\"\"},\"type\":\"contourcarpet\"}],\"contour\":[{\"colorbar\":{\"outlinewidth\":0,\"ticks\":\"\"},\"colorscale\":[[0.0,\"#0d0887\"],[0.1111111111111111,\"#46039f\"],[0.2222222222222222,\"#7201a8\"],[0.3333333333333333,\"#9c179e\"],[0.4444444444444444,\"#bd3786\"],[0.5555555555555556,\"#d8576b\"],[0.6666666666666666,\"#ed7953\"],[0.7777777777777778,\"#fb9f3a\"],[0.8888888888888888,\"#fdca26\"],[1.0,\"#f0f921\"]],\"type\":\"contour\"}],\"heatmapgl\":[{\"colorbar\":{\"outlinewidth\":0,\"ticks\":\"\"},\"colorscale\":[[0.0,\"#0d0887\"],[0.1111111111111111,\"#46039f\"],[0.2222222222222222,\"#7201a8\"],[0.3333333333333333,\"#9c179e\"],[0.4444444444444444,\"#bd3786\"],[0.5555555555555556,\"#d8576b\"],[0.6666666666666666,\"#ed7953\"],[0.7777777777777778,\"#fb9f3a\"],[0.8888888888888888,\"#fdca26\"],[1.0,\"#f0f921\"]],\"type\":\"heatmapgl\"}],\"heatmap\":[{\"colorbar\":{\"outlinewidth\":0,\"ticks\":\"\"},\"colorscale\":[[0.0,\"#0d0887\"],[0.1111111111111111,\"#46039f\"],[0.2222222222222222,\"#7201a8\"],[0.3333333333333333,\"#9c179e\"],[0.4444444444444444,\"#bd3786\"],[0.5555555555555556,\"#d8576b\"],[0.6666666666666666,\"#ed7953\"],[0.7777777777777778,\"#fb9f3a\"],[0.8888888888888888,\"#fdca26\"],[1.0,\"#f0f921\"]],\"type\":\"heatmap\"}],\"histogram2dcontour\":[{\"colorbar\":{\"outlinewidth\":0,\"ticks\":\"\"},\"colorscale\":[[0.0,\"#0d0887\"],[0.1111111111111111,\"#46039f\"],[0.2222222222222222,\"#7201a8\"],[0.3333333333333333,\"#9c179e\"],[0.4444444444444444,\"#bd3786\"],[0.5555555555555556,\"#d8576b\"],[0.6666666666666666,\"#ed7953\"],[0.7777777777777778,\"#fb9f3a\"],[0.8888888888888888,\"#fdca26\"],[1.0,\"#f0f921\"]],\"type\":\"histogram2dcontour\"}],\"histogram2d\":[{\"colorbar\":{\"outlinewidth\":0,\"ticks\":\"\"},\"colorscale\":[[0.0,\"#0d0887\"],[0.1111111111111111,\"#46039f\"],[0.2222222222222222,\"#7201a8\"],[0.3333333333333333,\"#9c179e\"],[0.4444444444444444,\"#bd3786\"],[0.5555555555555556,\"#d8576b\"],[0.6666666666666666,\"#ed7953\"],[0.7777777777777778,\"#fb9f3a\"],[0.8888888888888888,\"#fdca26\"],[1.0,\"#f0f921\"]],\"type\":\"histogram2d\"}],\"histogram\":[{\"marker\":{\"pattern\":{\"fillmode\":\"overlay\",\"size\":10,\"solidity\":0.2}},\"type\":\"histogram\"}],\"mesh3d\":[{\"colorbar\":{\"outlinewidth\":0,\"ticks\":\"\"},\"type\":\"mesh3d\"}],\"parcoords\":[{\"line\":{\"colorbar\":{\"outlinewidth\":0,\"ticks\":\"\"}},\"type\":\"parcoords\"}],\"pie\":[{\"automargin\":true,\"type\":\"pie\"}],\"scatter3d\":[{\"line\":{\"colorbar\":{\"outlinewidth\":0,\"ticks\":\"\"}},\"marker\":{\"colorbar\":{\"outlinewidth\":0,\"ticks\":\"\"}},\"type\":\"scatter3d\"}],\"scattercarpet\":[{\"marker\":{\"colorbar\":{\"outlinewidth\":0,\"ticks\":\"\"}},\"type\":\"scattercarpet\"}],\"scattergeo\":[{\"marker\":{\"colorbar\":{\"outlinewidth\":0,\"ticks\":\"\"}},\"type\":\"scattergeo\"}],\"scattergl\":[{\"marker\":{\"colorbar\":{\"outlinewidth\":0,\"ticks\":\"\"}},\"type\":\"scattergl\"}],\"scattermapbox\":[{\"marker\":{\"colorbar\":{\"outlinewidth\":0,\"ticks\":\"\"}},\"type\":\"scattermapbox\"}],\"scatterpolargl\":[{\"marker\":{\"colorbar\":{\"outlinewidth\":0,\"ticks\":\"\"}},\"type\":\"scatterpolargl\"}],\"scatterpolar\":[{\"marker\":{\"colorbar\":{\"outlinewidth\":0,\"ticks\":\"\"}},\"type\":\"scatterpolar\"}],\"scatter\":[{\"marker\":{\"colorbar\":{\"outlinewidth\":0,\"ticks\":\"\"}},\"type\":\"scatter\"}],\"scatterternary\":[{\"marker\":{\"colorbar\":{\"outlinewidth\":0,\"ticks\":\"\"}},\"type\":\"scatterternary\"}],\"surface\":[{\"colorbar\":{\"outlinewidth\":0,\"ticks\":\"\"},\"colorscale\":[[0.0,\"#0d0887\"],[0.1111111111111111,\"#46039f\"],[0.2222222222222222,\"#7201a8\"],[0.3333333333333333,\"#9c179e\"],[0.4444444444444444,\"#bd3786\"],[0.5555555555555556,\"#d8576b\"],[0.6666666666666666,\"#ed7953\"],[0.7777777777777778,\"#fb9f3a\"],[0.8888888888888888,\"#fdca26\"],[1.0,\"#f0f921\"]],\"type\":\"surface\"}],\"table\":[{\"cells\":{\"fill\":{\"color\":\"#EBF0F8\"},\"line\":{\"color\":\"white\"}},\"header\":{\"fill\":{\"color\":\"#C8D4E3\"},\"line\":{\"color\":\"white\"}},\"type\":\"table\"}]},\"layout\":{\"annotationdefaults\":{\"arrowcolor\":\"#2a3f5f\",\"arrowhead\":0,\"arrowwidth\":1},\"autotypenumbers\":\"strict\",\"coloraxis\":{\"colorbar\":{\"outlinewidth\":0,\"ticks\":\"\"}},\"colorscale\":{\"diverging\":[[0,\"#8e0152\"],[0.1,\"#c51b7d\"],[0.2,\"#de77ae\"],[0.3,\"#f1b6da\"],[0.4,\"#fde0ef\"],[0.5,\"#f7f7f7\"],[0.6,\"#e6f5d0\"],[0.7,\"#b8e186\"],[0.8,\"#7fbc41\"],[0.9,\"#4d9221\"],[1,\"#276419\"]],\"sequential\":[[0.0,\"#0d0887\"],[0.1111111111111111,\"#46039f\"],[0.2222222222222222,\"#7201a8\"],[0.3333333333333333,\"#9c179e\"],[0.4444444444444444,\"#bd3786\"],[0.5555555555555556,\"#d8576b\"],[0.6666666666666666,\"#ed7953\"],[0.7777777777777778,\"#fb9f3a\"],[0.8888888888888888,\"#fdca26\"],[1.0,\"#f0f921\"]],\"sequentialminus\":[[0.0,\"#0d0887\"],[0.1111111111111111,\"#46039f\"],[0.2222222222222222,\"#7201a8\"],[0.3333333333333333,\"#9c179e\"],[0.4444444444444444,\"#bd3786\"],[0.5555555555555556,\"#d8576b\"],[0.6666666666666666,\"#ed7953\"],[0.7777777777777778,\"#fb9f3a\"],[0.8888888888888888,\"#fdca26\"],[1.0,\"#f0f921\"]]},\"colorway\":[\"#636efa\",\"#EF553B\",\"#00cc96\",\"#ab63fa\",\"#FFA15A\",\"#19d3f3\",\"#FF6692\",\"#B6E880\",\"#FF97FF\",\"#FECB52\"],\"font\":{\"color\":\"#2a3f5f\"},\"geo\":{\"bgcolor\":\"white\",\"lakecolor\":\"white\",\"landcolor\":\"#E5ECF6\",\"showlakes\":true,\"showland\":true,\"subunitcolor\":\"white\"},\"hoverlabel\":{\"align\":\"left\"},\"hovermode\":\"closest\",\"mapbox\":{\"style\":\"light\"},\"paper_bgcolor\":\"white\",\"plot_bgcolor\":\"#E5ECF6\",\"polar\":{\"angularaxis\":{\"gridcolor\":\"white\",\"linecolor\":\"white\",\"ticks\":\"\"},\"bgcolor\":\"#E5ECF6\",\"radialaxis\":{\"gridcolor\":\"white\",\"linecolor\":\"white\",\"ticks\":\"\"}},\"scene\":{\"xaxis\":{\"backgroundcolor\":\"#E5ECF6\",\"gridcolor\":\"white\",\"gridwidth\":2,\"linecolor\":\"white\",\"showbackground\":true,\"ticks\":\"\",\"zerolinecolor\":\"white\"},\"yaxis\":{\"backgroundcolor\":\"#E5ECF6\",\"gridcolor\":\"white\",\"gridwidth\":2,\"linecolor\":\"white\",\"showbackground\":true,\"ticks\":\"\",\"zerolinecolor\":\"white\"},\"zaxis\":{\"backgroundcolor\":\"#E5ECF6\",\"gridcolor\":\"white\",\"gridwidth\":2,\"linecolor\":\"white\",\"showbackground\":true,\"ticks\":\"\",\"zerolinecolor\":\"white\"}},\"shapedefaults\":{\"line\":{\"color\":\"#2a3f5f\"}},\"ternary\":{\"aaxis\":{\"gridcolor\":\"white\",\"linecolor\":\"white\",\"ticks\":\"\"},\"baxis\":{\"gridcolor\":\"white\",\"linecolor\":\"white\",\"ticks\":\"\"},\"bgcolor\":\"#E5ECF6\",\"caxis\":{\"gridcolor\":\"white\",\"linecolor\":\"white\",\"ticks\":\"\"}},\"title\":{\"x\":0.05},\"xaxis\":{\"automargin\":true,\"gridcolor\":\"white\",\"linecolor\":\"white\",\"ticks\":\"\",\"title\":{\"standoff\":15},\"zerolinecolor\":\"white\",\"zerolinewidth\":2},\"yaxis\":{\"automargin\":true,\"gridcolor\":\"white\",\"linecolor\":\"white\",\"ticks\":\"\",\"title\":{\"standoff\":15},\"zerolinecolor\":\"white\",\"zerolinewidth\":2}}},\"title\":{\"text\":\"Vendas por categoria de Produtos\"},\"xaxis\":{\"tickangle\":75,\"title\":{\"font\":{\"color\":\"lightgrey\",\"size\":40}}},\"yaxis\":{\"title\":{\"text\":\"Quantidade vendida\"}}},                        {\"responsive\": true}                    ).then(function(){\n",
              "                            \n",
              "var gd = document.getElementById('a19293e7-21a4-4dc7-bf91-7b5e3c7b8804');\n",
              "var x = new MutationObserver(function (mutations, observer) {{\n",
              "        var display = window.getComputedStyle(gd).display;\n",
              "        if (!display || display === 'none') {{\n",
              "            console.log([gd, 'removed!']);\n",
              "            Plotly.purge(gd);\n",
              "            observer.disconnect();\n",
              "        }}\n",
              "}});\n",
              "\n",
              "// Listen for the removal of the full notebook cells\n",
              "var notebookContainer = gd.closest('#notebook-container');\n",
              "if (notebookContainer) {{\n",
              "    x.observe(notebookContainer, {childList: true});\n",
              "}}\n",
              "\n",
              "// Listen for the clearing of the current output cell\n",
              "var outputEl = gd.closest('.output');\n",
              "if (outputEl) {{\n",
              "    x.observe(outputEl, {childList: true});\n",
              "}}\n",
              "\n",
              "                        })                };                            </script>        </div>\n",
              "</body>\n",
              "</html>"
            ]
          },
          "metadata": {}
        },
        {
          "output_type": "execute_result",
          "data": {
            "text/plain": [
              "'https://plotly.com/~sebast.rogers/23/'"
            ],
            "application/vnd.google.colaboratory.intrinsic+json": {
              "type": "string"
            }
          },
          "metadata": {},
          "execution_count": 112
        }
      ]
    },
    {
      "cell_type": "markdown",
      "source": [
        "**Alterando faixa de valores dos eicos somando 10% ao valor máximo**"
      ],
      "metadata": {
        "id": "I7OazFrjOwT1"
      }
    },
    {
      "cell_type": "code",
      "source": [
        "max(vendas_produto_por_categoria) * 1.10"
      ],
      "metadata": {
        "colab": {
          "base_uri": "https://localhost:8080/"
        },
        "id": "XKdq6rHqK_Tl",
        "outputId": "0864cc7f-34b2-4b5b-886f-bab1027d882e"
      },
      "execution_count": null,
      "outputs": [
        {
          "output_type": "execute_result",
          "data": {
            "text/plain": [
              "518.1"
            ]
          },
          "metadata": {},
          "execution_count": 80
        }
      ]
    },
    {
      "cell_type": "code",
      "source": [
        "import plotly.offline as py\n",
        "import plotly.graph_objs as go\n",
        "\n",
        "trace0 = go.Bar(x=vendas_produto_por_categoria.index,\n",
        "               y=vendas_produto_por_categoria.values,\n",
        "               marker= {'color': '#00FF2A'},\n",
        "               orientation = 'v'\n",
        "               )\n",
        "\n",
        "data = [trace0]\n",
        "\n",
        "#Criando Layout\n",
        "configuracoes_layout = go.Layout(title='Vendas por categoria de Produtos',\n",
        "                                 xaxis=dict(\n",
        "                                     titlefont=dict(\n",
        "                                         size=40,\n",
        "                                         color='lightgrey'),\n",
        "                                 tickangle=75),\n",
        "                                 yaxis={'title': 'Quantidade vendida',\n",
        "                                        'range' : [0, max(vendas_produto_por_categoria.values) * 1.10]\n",
        "                                        \n",
        "                                        })\n",
        "\n",
        "#Objeto figura\n",
        "\n",
        "fig = go.Figure(data=data, layout=configuracoes_layout)\n",
        "\n",
        "#plotando o grafico\n",
        "#py.iplot(fig, filename='Vendas por categoria de produtos')\n",
        "pyo.plot(fig, filename='Vendas por categoria de produtos')"
      ],
      "metadata": {
        "colab": {
          "base_uri": "https://localhost:8080/",
          "height": 35
        },
        "id": "N5yX7C3jPuhl",
        "outputId": "21f4cf16-69e5-4496-b936-23151ef93d92"
      },
      "execution_count": null,
      "outputs": [
        {
          "output_type": "execute_result",
          "data": {
            "text/plain": [
              "'https://plotly.com/~sebast.rogers/21/'"
            ],
            "application/vnd.google.colaboratory.intrinsic+json": {
              "type": "string"
            }
          },
          "metadata": {},
          "execution_count": 111
        }
      ]
    },
    {
      "cell_type": "markdown",
      "source": [
        "**DISPERSÃO**\n",
        "\n",
        "\n",
        "*   Valor de Frete vs Valor de Produto: Existe alguma tendência?\n",
        "\n"
      ],
      "metadata": {
        "id": "SMy2PiX1QeuO"
      }
    },
    {
      "cell_type": "code",
      "source": [
        "#Criando gráfico\n",
        "trace = go.Scatter(x = df['order_freight_value'],\n",
        "                   y = df['order_products_value'],\n",
        "                   mode = 'markers',\n",
        "                   marker = {'color' : '#941229'}\n",
        "                   )\n",
        "\n",
        "#Armazenando gráfico em uma lista\n",
        "data = [trace]\n",
        "\n",
        "#Criando Layout\n",
        "layout = go.Layout(title='Valor de Frete x Valor de Produto',\n",
        "                   yaxis={'title' : 'Valor do Produto'},\n",
        "                   xaxis={'title' : 'Valor do Frete'})\n",
        "\n",
        "#Criando figura que será exibida\n",
        "fig = go.Figure(data=data, layout=layout)\n",
        "\n",
        "#py.iplot(fig)\n",
        "pyo.plot(fig)"
      ],
      "metadata": {
        "id": "Z9IuMRcSP4t9",
        "colab": {
          "base_uri": "https://localhost:8080/",
          "height": 35
        },
        "outputId": "ee040369-716c-46d5-a6ee-c6ee79cb0ae2"
      },
      "execution_count": null,
      "outputs": [
        {
          "output_type": "execute_result",
          "data": {
            "text/plain": [
              "'https://plotly.com/~sebast.rogers/19/'"
            ],
            "application/vnd.google.colaboratory.intrinsic+json": {
              "type": "string"
            }
          },
          "metadata": {},
          "execution_count": 110
        }
      ]
    },
    {
      "cell_type": "markdown",
      "source": [
        "**Usando o parâmetro text na visualização (parâmetro hover)**"
      ],
      "metadata": {
        "id": "gtyqw_suVA2k"
      }
    },
    {
      "cell_type": "code",
      "source": [
        "#Criando gráfico\n",
        "trace = go.Scatter(x = df['order_freight_value'],\n",
        "                   y = df['order_products_value'],\n",
        "                   mode = 'markers',\n",
        "                   #customização do texto a ser exibido no hover\n",
        "                   text = 'Status do pedido:' + df['order_status'] +\n",
        "                          '<br>' + 'Classe: ' + df['most_voted_class']\n",
        "                   ,\n",
        "                   #exibição do hover\n",
        "                   hoverinfo='text+x+y',\n",
        "                   marker = {'color' : '#941229'} \n",
        "                   )\n",
        "\n",
        "#Armazenando gráfico em uma lista\n",
        "data = [trace]\n",
        "\n",
        "#Criando layout\n",
        "layout = go.Layout(title='Valor de Frete x Valor de Produto', \n",
        "                   yaxis={'title':'Valor do Produto'},\n",
        "                   xaxis={'title' : 'Valor do Frete'})\n",
        "\n",
        "#Criando figura que será exibida\n",
        "fig = go.Figure(data=data, layout=layout)\n",
        "\n",
        "#py.iplot(fig)\n",
        "pyo.plot(fig)"
      ],
      "metadata": {
        "colab": {
          "base_uri": "https://localhost:8080/",
          "height": 35
        },
        "id": "7nUADhTwU8Sf",
        "outputId": "2fda6cf6-1c51-4b01-e246-fc1fd6ee9cd9"
      },
      "execution_count": null,
      "outputs": [
        {
          "output_type": "execute_result",
          "data": {
            "text/plain": [
              "'https://plotly.com/~sebast.rogers/17/'"
            ],
            "application/vnd.google.colaboratory.intrinsic+json": {
              "type": "string"
            }
          },
          "metadata": {},
          "execution_count": 109
        }
      ]
    },
    {
      "cell_type": "markdown",
      "source": [
        "**Customização dos eixos com formato em reais R$**"
      ],
      "metadata": {
        "id": "XT2UJglSXDzs"
      }
    },
    {
      "cell_type": "code",
      "source": [
        "#Criando gráfico\n",
        "trace = go.Scatter(x = df['order_freight_value'],\n",
        "                   y = df['order_products_value'],\n",
        "                   mode = 'markers',\n",
        "                   #customização do texto a ser exibido no hover\n",
        "                   text = 'Status do pedido:' + df['order_status'] +\n",
        "                          '<br>' + 'Classe: ' + df['most_voted_class']\n",
        "                   ,\n",
        "                   #exibição do hover\n",
        "                   hoverinfo='text+x+y',\n",
        "                   marker = {'color' : '#941229'} \n",
        "                   )\n",
        "\n",
        "#Armazenando gráfico em uma lista\n",
        "data = [trace]\n",
        "\n",
        "#Criando layout\n",
        "layout = go.Layout(title='Valor de Frete x Valor de Produto', \n",
        "                   \n",
        "                   \n",
        "                   #Definindo exibição dos eixos x e y\n",
        "                   yaxis={'title':'Valor do Produto',\n",
        "                          'tickformat' : '.',\n",
        "                          'tickprefix' : 'R$ '},\n",
        "                   xaxis={'title' : 'Valor do Frete',\n",
        "                          'tickformat' : '.',\n",
        "                          'tickprefix' : 'R$ '})\n",
        "\n",
        "#Criando figura que será exibida\n",
        "fig = go.Figure(data=data, layout=layout)\n",
        "\n",
        "#py.iplot(fig)\n",
        "pyo.plot(fig)"
      ],
      "metadata": {
        "colab": {
          "base_uri": "https://localhost:8080/",
          "height": 35
        },
        "id": "OClzwpeAXHgA",
        "outputId": "f0dec663-193c-434e-997e-8fb6e0f54a5d"
      },
      "execution_count": null,
      "outputs": [
        {
          "output_type": "execute_result",
          "data": {
            "text/plain": [
              "'https://plotly.com/~sebast.rogers/15/'"
            ],
            "application/vnd.google.colaboratory.intrinsic+json": {
              "type": "string"
            }
          },
          "metadata": {},
          "execution_count": 108
        }
      ]
    },
    {
      "cell_type": "markdown",
      "source": [
        "**Gráfico de Bolhas: Valor de Frete vs Valor do Produto por número de vendedores**"
      ],
      "metadata": {
        "id": "eVtNXqRgY1Yd"
      }
    },
    {
      "cell_type": "code",
      "source": [
        "#Criando gráfico\n",
        "trace = go.Scatter(x = df['order_freight_value'],\n",
        "                   y = df['order_products_value'],\n",
        "                   mode = 'markers',\n",
        "                   #customização do texto a ser exibido no hover\n",
        "                   text = 'Status do pedido:' + df['order_status'] +\n",
        "                          '<br>' + 'Classe: ' + df['most_voted_class']\n",
        "                   ,\n",
        "                   #exibição do hover\n",
        "                   hoverinfo='text+x+y',\n",
        "\n",
        "                   #parametro size e sizemode especificam o comportamento dos pontos\n",
        "                   marker = {'color' : '#941229',\n",
        "                             'size' : df['order_sellers_qty']*10,\n",
        "                             'sizemode' : 'area'} \n",
        "                   )\n",
        "\n",
        "#Armazenando gráfico em uma lista\n",
        "data = [trace]\n",
        "\n",
        "#Criando layout\n",
        "layout = go.Layout(title='Valor de Frete x Valor de Produto', \n",
        "                   \n",
        "                   \n",
        "                   #Definindo exibição dos eixos x e y\n",
        "                   yaxis={'title':'Valor do Produto',\n",
        "                          'tickformat' : '.',\n",
        "                          'tickprefix' : 'R$ '},\n",
        "                   xaxis={'title' : 'Valor do Frete',\n",
        "                          'tickformat' : '.',\n",
        "                          'tickprefix' : 'R$ '})\n",
        "\n",
        "#Criando figura que será exibida\n",
        "fig = go.Figure(data=data, layout=layout)\n",
        "\n",
        "#py.iplot(fig)\n",
        "pyo.plot(fig)"
      ],
      "metadata": {
        "colab": {
          "base_uri": "https://localhost:8080/",
          "height": 35
        },
        "id": "bBUN8yo7Y53E",
        "outputId": "119c038d-c123-4c7d-c558-239a903fae90"
      },
      "execution_count": null,
      "outputs": [
        {
          "output_type": "execute_result",
          "data": {
            "text/plain": [
              "'https://plotly.com/~sebast.rogers/13/'"
            ],
            "application/vnd.google.colaboratory.intrinsic+json": {
              "type": "string"
            }
          },
          "metadata": {},
          "execution_count": 107
        }
      ]
    },
    {
      "cell_type": "markdown",
      "source": [
        "**Valor de Frete vs Valor de Produto por status de entrega**"
      ],
      "metadata": {
        "id": "Ebl3msHxs59C"
      }
    },
    {
      "cell_type": "code",
      "source": [
        "df.iplot(x='order_freight_value',\n",
        "         y='order_products_value',\n",
        "         categories='most_voted_subclass',\n",
        "         title='Valor de Frete vs Valor de Produto',\n",
        "         xTitle='Valor de Frete',\n",
        "         yTitle='Valor do Produto')"
      ],
      "metadata": {
        "colab": {
          "base_uri": "https://localhost:8080/",
          "height": 681
        },
        "id": "SjlF7V15ZL4X",
        "outputId": "44206ce7-29f0-465c-bf4c-d2df9ddd129a"
      },
      "execution_count": null,
      "outputs": [
        {
          "output_type": "stream",
          "name": "stderr",
          "text": [
            "/usr/local/lib/python3.8/dist-packages/cufflinks/plotlytools.py:807: FutureWarning:\n",
            "\n",
            "The pandas.np module is deprecated and will be removed from pandas in a future version. Import numpy directly instead\n",
            "\n",
            "/usr/local/lib/python3.8/dist-packages/cufflinks/plotlytools.py:810: FutureWarning:\n",
            "\n",
            "The pandas.np module is deprecated and will be removed from pandas in a future version. Import numpy directly instead\n",
            "\n"
          ]
        },
        {
          "output_type": "display_data",
          "data": {
            "text/html": [
              "<html>\n",
              "<head><meta charset=\"utf-8\" /></head>\n",
              "<body>\n",
              "    <div>            <script src=\"https://cdnjs.cloudflare.com/ajax/libs/mathjax/2.7.5/MathJax.js?config=TeX-AMS-MML_SVG\"></script><script type=\"text/javascript\">if (window.MathJax) {MathJax.Hub.Config({SVG: {font: \"STIX-Web\"}});}</script>                <script type=\"text/javascript\">window.PlotlyConfig = {MathJaxConfig: 'local'};</script>\n",
              "        <script src=\"https://cdn.plot.ly/plotly-2.8.3.min.js\"></script>                <div id=\"88142476-989e-4661-9028-aafe56eef083\" class=\"plotly-graph-div\" style=\"height:525px; width:100%;\"></div>            <script type=\"text/javascript\">                                    window.PLOTLYENV=window.PLOTLYENV || {};\n",
              "                    window.PLOTLYENV.BASE_URL='https://plot.ly';                                    if (document.getElementById(\"88142476-989e-4661-9028-aafe56eef083\")) {                    Plotly.newPlot(                        \"88142476-989e-4661-9028-aafe56eef083\",                        [{\"marker\":{\"color\":\"rgba(255, 153, 51, 1.0)\",\"line\":{\"width\":1.3},\"opacity\":0.8,\"size\":12,\"symbol\":\"circle\"},\"mode\":\"markers\",\"name\":\"satisfeito\",\"textfont\":{\"color\":\"#4D5663\"},\"x\":[14.38,40.62,19.94,17.2,25.74,8.82,16.26,7.78,12.43,17.21,38.59,16.68,11.42,3.65,16.79,8.08,12.33,11.85,12.76,18.76,18.49,20.27,31.74,12.83,10.85,7.31,22.1,8.72,22.28,17.59,11.85,9.83,15.11,38.55,11.73,12.35,64.02,20.8,18.73,15.1,11.89,25.25,8.05,13.14,17.81,17.67,17.95,14.1,16.79,17.95,27.58,17.0,9.34,15.28,9.94,13.72,11.92,20.18,21.05,16.11,12.8,16.6,16.16,14.95,25.77,21.15,11.83,45.02,17.22,17.67,17.74,42.12,19.83,21.52,35.81,25.63,15.44,25.63,14.01,18.19,11.84,20.82,14.35,17.99,11.85,12.48,16.39,33.89,11.15,19.72,18.79,13.63,15.83,18.06,28.75,21.56,28.16,14.1,26.89,21.68,13.57,16.36,17.12,15.69,19.59,50.71,7.78,13.37,17.92,9.45,7.78,17.8,17.92,18.14,9.34,12.64,16.98,17.12,94.94,13.66,15.1,15.38,79.16,17.03,60.29,13.41,19.73,14.1,15.11,12.57,12.48,36.13,8.72,15.1,16.34,59.95,21.64,65.57,19.79,13.37,13.09,33.89,14.1,14.15,17.6,19.95,51.54,15.4,7.39,15.44,15.1,15.1,11.85,25.67,15.15,12.7,60.2,11.85,16.75,16.5,9.7,20.08,17.55,14.23,26.11,15.79,42.38,13.54,30.3,88.3,28.57,31.58,13.08,12.33,18.65,62.03,16.11,5.78,16.35,15.1,13.52,15.1,13.25,60.9,7.78,7.78,11.89,15.1,56.29,14.1,15.38,14.1,25.63,42.51,25.63,12.74,11.85,14.1,53.01,16.61,15.1,11.85,39.41,21.15,14.33,15.1,18.92,12.28,21.35,17.92,15.1,21.54,15.56,14.1,34.15,13.83,15.17,12.34,108.4,17.06,17.84,17.63,16.93,15.23,16.11,17.6,1.44,16.21,46.94,8.72,158.38,28.92,16.08,15.1,50.71,16.7,29.17,26.88,14.5,15.13,16.11,45.93,15.1,23.16,26.66,97.14,9.69,7.87,29.88,16.79,17.67,10.96,16.11,16.43,17.27,23.43,17.66,13.69,7.78,15.1,9.17,18.15,17.83,15.11,14.09,15.1,15.32,34.05,11.85,12.69,15.1,39.38,13.08,12.34,16.26,17.06,16.11,57.78,18.02,7.78,41.47,16.52,26.89,15.1,16.14,16.21,15.1,13.24,21.16,22.0,9.09,20.25,17.07,13.41,17.65,21.23,15.1,14.87,15.1,12.96,7.78,19.94,13.37,7.78,14.32,18.0,14.94,11.73,17.6,16.11,9.68,17.6,12.54,16.52,34.49,13.37,15.1,28.18,11.85,14.29,12.69,16.53,15.1,16.46,9.78,34.99,15.79,18.16,49.39,23.91,20.07,11.85,25.97,52.7,5.19,15.01,17.95,14.28,17.31,17.66,13.44,11.85,43.16,8.72,21.19,21.82,12.13,17.65,26.61,74.56,13.09,59.09,17.85,12.74,16.14,28.92,7.78,101.86,24.07,46.44,31.94,17.67,14.6,19.61,7.78,7.53,13.37,19.91,18.02,13.78,25.88,12.06,20.08,31.87,17.67,26.89,16.79,11.85,15.6,14.1,13.65,16.32,8.07,17.73,7.78,75.52,15.1,16.11,7.78,23.78,21.54,8.41,15.66,30.86,22.62,44.32,52.2,19.88,11.92,25.63,17.34,17.63,17.94,15.79,11.85,37.74,13.53,16.66,17.67,6.0,20.14,15.32,15.1,15.24,19.15,37.05,12.73,17.82,21.54,37.61,18.1,117.44,34.2,15.79,17.6,9.34,15.1,18.09,6.25,16.12,18.46,8.11,12.69,12.79,15.17,15.1,14.16,17.15,26.19,17.6,39.14,17.63,38.55,9.94,12.69,20.97,17.26,17.6,17.74,13.44,18.47,11.85,59.0,18.78,12.61,20.96,12.35,11.85,24.61,14.43,34.15,7.39,34.18,11.79,16.79,18.23,75.16,14.77,9.88,36.43,18.95,17.6,7.39,16.21,16.16,15.1,14.1,61.89,49.65,16.11,3.75,14.8,8.48,11.85,20.45,7.78,17.07,16.14,16.11,16.06,11.86,11.85,11.85,17.71,14.29,49.24,15.79,117.35,8.29,19.93,20.99,34.83,12.57,29.73,16.85,26.96,13.72,21.25,16.11,15.1,14.97,17.63,21.15,37.49,10.38,16.85,53.78,12.48,25.96,12.11,40.84,15.0,14.31,20.86,25.07,15.13,14.68,18.23,13.47,25.63,17.78,12.54,11.85,18.02,8.27,23.31,7.78,11.73,16.86,11.85,40.56,14.52,9.68,19.95,16.38,14.52,47.73,8.72,25.56,18.86,7.79,65.67,12.33,26.66,15.1,20.07,13.66,8.88,18.16,26.17,10.01,32.87,50.5,7.53,21.82,18.52,7.87,17.88,25.95,24.84,13.92,25.42,15.27,26.74,14.1,17.97,17.6,15.44,15.15,15.1,15.1,11.1,12.06,26.11,17.57,13.5,44.23,55.97,12.18,21.26,9.19,12.72,18.68,27.83,21.39,22.85,39.16,15.01,14.65,17.65,44.58,12.48,16.53,38.24,13.79,16.79,14.1,43.62,17.74,15.38,14.01,23.88,18.52,8.72,18.16,21.11,15.38,42.36,11.85,23.68,58.42,17.07,16.64,13.75,12.27,18.02,18.0,18.35,59.66,21.16,17.78,60.84,34.61,13.64,9.34,17.92,14.66,29.51,15.1,15.41,15.1,12.76,35.26,35.67,25.64,9.94,8.75,19.66,34.18,15.1,24.84,15.59,32.22,16.5,26.27,17.63,16.11,11.26,11.92,15.15,87.33,20.88,25.19,9.27,12.55,9.74,8.07,16.81,17.19,116.06,19.13,15.09,38.6,20.93,14.04,13.21,15.87,35.91,2.09,13.07,24.91,34.33,32.44,51.25,11.81,4.8,15.12,17.09,17.78,34.46,33.04,27.06,21.12,13.51,25.94,22.58,31.53,14.13,15.1,42.59,14.31,35.91,7.78,16.6,17.63,9.83,48.87,17.63,33.24,25.04,16.29,16.33,20.19,15.65,9.34,29.14,17.02,38.45,15.1,15.1,12.19,12.69,16.11,8.27,15.1,14.97,15.98,259.7,9.91,14.42,13.52,28.68,5.19,18.86,18.09,98.48,24.35,10.6,15.17,15.15,14.1,12.69,17.34,49.3,18.57,9.27,26.27,15.18,15.87,124.74,36.02,14.1,19.77,15.1,11.85,13.46,9.49,18.04,15.31,44.24,27.23,8.27,12.79,15.18,16.6,17.63,28.76,12.72,9.7,15.46,53.08,17.55,23.14,21.32,15.13,8.27,7.87,27.41,16.39,17.99,26.03,17.9,13.53,18.68,93.34,11.85,17.6,35.67,17.88,15.1,17.02,13.37,17.6,11.85,18.0,19.75,35.67,13.71,13.47,13.04,17.84,16.16,28.95,16.75,17.95,27.87,17.67,16.88,7.78,25.63,16.4,23.46,63.33,43.45,18.73,50.57,12.69,14.51,17.95,14.1,58.54,18.21,15.11,12.27,17.92,21.03,32.08,15.1,17.88,16.86,12.74,16.79,13.32,15.43,18.09,8.88,11.85,19.66,20.04,16.64,11.73,8.27,15.1,21.39,15.1,20.72,11.85,26.74,9.51,7.78,8.27,2.63,33.68,15.73,16.39,11.9,16.16,16.25,15.15,12.76,20.0,25.95,8.88,16.16,16.03,7.78,12.61,14.6,16.29,21.43,97.14,17.95,16.47,9.37,17.13,25.38,19.52,16.52,15.11,18.16,26.31,17.88,9.32,25.21,11.85,10.78,37.97,15.82,19.07,17.63,22.17,15.21,12.22,12.48,27.28,14.1,13.31,112.43,6.67,50.76,51.91,12.21,18.93,37.06,20.94,11.85,34.15,15.1,13.61,18.06,25.63,7.78,9.79,8.27,14.1,15.19,16.23,17.18,18.19,16.11,13.83,26.27,15.65,15.1,53.72,26.46,73.45,79.39,28.75,13.93,8.72,11.85,15.1,16.6,11.19,35.86,15.37,14.07,8.43,42.76,18.16,13.61,13.51,15.66,17.3,57.1,21.79,16.79,13.71,15.38,16.11,15.15,15.1,14.51,19.51,8.11,10.37,15.11,16.79,17.73,25.73,8.27,21.91,17.67,38.36,25.91,15.61,18.24,42.76,16.54,12.69,13.71,27.48,26.11,16.11,7.78,14.31,7.88,38.98,125.97,14.8,88.24,98.48,42.3,12.46,25.63,16.14,38.53,15.1,14.72,37.97,15.1,14.5,25.97,13.9,39.14,8.75,22.88,7.78,17.9,24.29,13.92,28.12,17.47,18.73,28.21,54.8,13.37,11.85,16.25,17.6,7.81,21.33,13.08,14.11,22.1,21.43,8.72,17.77,18.31,23.6,12.79,28.28,16.4,53.48,17.2,8.81,26.29,14.1,6.67,35.45,23.87,17.48,18.2,16.19,16.64,14.28,17.27,7.78,73.96,15.1,20.8,13.65,16.67,15.38,26.58,14.52,15.44,18.02,17.73,8.75,9.1,9.94,34.82,8.4,16.35,16.5,20.71,15.99,16.26,16.86,15.1,27.72,15.38,17.67,15.31,15.8,15.32,15.14,15.27,19.8,18.08,17.61,29.3,26.89,12.65,17.63,12.79,18.86,19.84,27.15,17.94,11.74,14.5,13.51,16.14,34.86,5.0,26.88,16.12,17.99,12.9,22.59,15.76,35.91,15.55,20.74,16.79,16.07,25.63,15.1,15.79,12.57,16.97,18.09,8.11,16.28,22.36,16.79,18.7,17.67,20.16,25.63,13.63,21.6,16.01,34.98,15.66,12.69,61.3,35.12,22.87,30.17,19.7,14.1,17.64,24.66,15.1,16.59,16.24,15.23,61.63,8.72,16.11,7.78,75.76,17.95,19.96,46.23,26.25,16.79,11.99,12.65,16.39,19.14,27.16,21.45,8.11,28.09,17.03,15.2,12.69,27.14,8.11,15.6,8.72,13.25,12.48,27.35,11.83,15.1,27.33,11.85,12.82,59.17,32.13,15.36,20.02,16.99,11.73,43.22,20.77,27.5,17.6,19.41,11.81,7.78,11.85,12.69,17.63,16.6,55.62,24.67,15.1,15.1,16.35,13.43,48.38,21.15,27.79,8.27,17.92,106.63,11.73,35.95,7.78,18.33,16.11,16.11,18.37,15.1,20.8,82.04,26.39,15.1,7.78,16.32,20.18,7.35,14.51,13.44,64.3,7.78,25.63,20.91,21.5,27.49,12.11,29.1,16.29,15.38,14.1,17.6,21.75,53.67,16.29,14.47,16.11,17.24,35.9,29.04,42.45,36.86,14.1,16.11,15.11,17.62,15.1,15.11,33.08,20.64,18.55,113.38,35.95,52.8,26.27,14.1,15.1,13.08,5.0,11.73,25.81,15.13,16.52,57.44,21.89,15.1,13.08,14.62,38.35,14.5,20.18,11.85,17.49,54.3,12.52,14.1,11.85,18.69,38.08,12.48,12.18,28.2,14.1,23.5,57.76,23.49,12.7,14.5,26.37,26.82,43.78,26.88,15.66,7.78,12.85,28.28,35.23,16.79,16.15,15.72,45.66,34.15,26.88,13.64,8.9,9.65,15.51,20.08,16.67,16.79,17.67,7.78,15.1,12.6,17.78,20.0,25.02,28.81,8.72,15.11,16.11,16.16,24.61,17.63,16.79,10.96,13.11,18.62,15.33,29.03,11.85,15.75,13.32,25.69,24.76,17.67,12.48,7.78,47.36,21.15,12.11,8.72,13.57,14.1,15.88,25.4,15.1,8.72,14.13,19.06,9.34,7.78,45.51,17.95,12.89,35.81,14.1,10.14,16.27,17.6,17.81,114.42,12.83,13.65,16.32,17.04,9.27,15.1,7.78,13.38,117.99,11.64,15.56,17.17,20.47,15.11,21.15,14.1,30.2,16.63,12.6,8.27,12.69,13.69,83.32,15.44,12.8,8.11,14.17,30.2,6.67,15.1,27.86,19.94,9.37,17.95,11.85,12.69,15.57,8.88,16.11,8.82,8.72,36.79,18.23,19.32,25.75,11.85,42.38,17.9,23.49,33.24,8.27,6.67,12.11,11.85,26.68,17.95,16.53,17.6,15.28,15.56,11.83,13.61,79.16,12.47,12.13,14.13,62.42,17.63,21.43,61.42,20.64,76.08,13.71,17.07,10.38,3.32,9.34,8.72,15.1,16.92,86.83,17.97,15.03,34.5,16.82,14.93,18.25,13.52,56.4,10.67,14.28,11.75,14.44,14.08,12.51,11.9,21.16,14.64,26.52,25.53,16.16,18.0,10.65,12.48,15.32,15.1,18.09,16.45,17.6,21.22,28.32,18.58,17.17,17.63,15.43,13.61,19.51,35.73,25.71,17.78,15.1,13.72,9.34,11.87,27.5,34.5,27.52,15.17,18.64,17.34,22.58,47.13,8.72,10.14,8.11,38.96,7.78,21.33],\"y\":[89.99,89.9,99.9,65.9,66.0,23.7,89.9,53.99,132.97,104.9,470.0,149.99,86.0,105.0,17.85,118.0,118.0,18.9,59.9,349.99,172.33,246.62,55.5,69.9,233.0,69.9,89.99,56.99,29.4,279.9,38.4,233.91,16.9,143.0,27.19,18.99,63.0,39.9,144.94,19.47,34.2,99.9,169.0,144.41,79.99,59.9,99.9,12.97,25.9,99.99,148.6,79.99,34.9,219.0,35.96,99.99,59.9,134.0,79.9,26.7,56.97,32.64,75.0,110.9,70.0,25.0,89.5,79.0,229.99,59.9,69.99,399.0,28.56,146.99,69.9,39.99,98.9,9.9,59.9,133.9,29.9,189.99,449.99,59.9,48.3,23.8,89.99,229.04,72.99,68.9,219.9,87.85,527.92,69.9,39.99,86.9,114.94,20.9,49.99,169.9,79.0,229.9,194.65,35.9,49.9,120.0,34.99,49.9,35.9,179.0,45.0,79.0,36.9,205.0,32.99,119.9,76.9,339.0,233.8,189.0,48.9,89.9,142.0,110.8,248.99,49.0,79.98,24.9,29.9,347.91,18.9,115.0,136.9,34.3,28.9,199.99,120.0,690.0,79.0,26.9,106.72,69.88,24.99,59.9,44.9,19.9,1099.0,92.9,12.0,48.1,24.5,42.99,45.95,118.9,56.99,51.92,169.99,36.0,72.0,249.9,189.99,299.99,139.9,67.9,69.9,39.9,23.9,69.0,179.99,295.0,169.99,295.8,69.9,89.9,69.9,145.99,44.9,64.9,84.99,49.0,199.0,29.0,699.0,1186.0,49.99,49.0,49.0,39.0,199.8,29.0,89.99,35.9,37.99,68.9,18.9,56.99,22.0,20.9,179.7,139.9,24.9,19.9,68.9,23.8,85.9,19.9,238.0,239.0,53.9,16.9,25.5,149.9,14.0,46.9,49.9,191.25,59.9,119.9,849.5,45.0,200.0,54.9,69.9,69.0,187.2,48.9,12.0,64.0,58.0,19.9,680.0,74.8,45.9,13.98,149.9,279.0,109.99,98.0,109.9,54.49,45.9,209.99,14.0,229.9,259.9,365.94,27.9,17.0,766.9,39.99,59.9,14.0,43.0,113.99,79.9,79.9,59.0,95.03,19.9,24.9,139.99,128.0,82.99,30.1,69.0,44.99,80.0,99.0,39.9,40.99,18.99,580.27,72.0,113.0,52.9,329.9,24.9,159.0,109.9,29.0,645.0,109.0,35.0,49.99,45.9,109.9,47.9,249.0,109.0,225.15,29.9,144.99,117.0,49.0,58.0,60.99,21.8,180.0,48.9,89.0,18.99,99.99,50.0,18.0,83.9,54.9,109.9,34.2,49.9,44.0,38.3,49.9,148.0,107.9,98.99,49.9,44.99,44.95,49.95,28.99,47.9,129.0,12.9,100.0,49.9,39.9,29.0,84.9,79.8,148.9,169.9,22.9,236.9,99.0,38.0,179.91,99.9,75.0,299.9,58.99,59.9,45.9,113.0,49.9,99.9,109.99,89.9,49.0,189.9,229.99,169.99,119.8,59.9,56.99,199.0,219.9,64.99,519.99,219.0,179.99,169.9,59.9,40.0,104.0,49.9,48.9,43.9,59.9,109.9,109.0,148.0,79.99,85.0,160.55,59.33,29.9,29.45,24.9,119.84,48.9,89.99,26.9,30.5,69.0,49.0,399.9,35.06,47.9,59.9,129.9,150.0,165.0,129.9,79.0,199.9,59.8,360.0,91.0,59.9,13.98,129.2,13.98,98.0,15.9,45.0,89.99,155.55,127.9,59.9,12.26,129.0,81.25,27.3,69.9,64.9,219.99,175.8,81.9,149.9,67.7,264.99,259.98,56.99,14.46,32.0,29.9,39.99,119.99,93.5,69.9,119.9,31.9,25.99,64.9,59.0,37.9,58.9,119.4,129.9,34.9,99.8,39.9,143.0,60.0,45.33,74.6,116.99,46.9,69.9,59.9,19.9,9.56,199.0,127.9,67.9,209.99,44.35,24.9,49.9,99.9,15.9,59.0,116.6,99.9,29.9,20.9,146.99,59.9,240.99,158.0,599.9,34.9,46.9,65.0,75.0,22.9,45.0,389.0,159.98,29.5,59.0,89.9,54.9,13.9,669.99,24.9,89.9,35.99,39.9,51.9,52.11,19.99,34.99,65.99,79.95,119.8,29.9,629.9,59.99,98.0,349.99,146.92,347.91,189.5,155.5,59.9,99.99,58.9,30.7,35.99,139.0,45.0,29.9,29.9,194.99,49.9,45.98,59.7,97.8,129.99,435.0,179.0,79.99,230.98,74.5,54.99,219.0,19.9,19.9,49.0,115.0,148.9,29.9,64.9,29.9,143.8,19.9,58.99,49.9,29.9,189.99,19.99,94.99,39.9,97.5,27.9,62.99,56.99,149.94,88.9,75.9,598.5,89.9,259.9,25.5,66.9,92.0,17.0,129.99,189.48,180.0,205.0,89.9,48.9,109.99,229.99,45.0,89.9,95.0,29.5,128.0,124.9,195.9,63.98,23.8,102.9,49.9,28.6,56.99,19.9,27.9,549.9,79.9,69.9,259.0,69.0,54.9,99.0,139.0,109.9,229.9,84.0,204.0,503.34,84.99,79.9,136.99,200.0,129.0,49.99,104.9,23.8,79.99,98.0,61.8,29.45,34.99,199.0,69.99,89.7,224.0,143.99,182.0,29.9,129.9,88.34,89.18,109.8,49.95,194.99,250.0,89.9,270.0,187.0,110.0,109.9,157.0,299.99,174.9,119.99,72.0,238.0,115.0,69.0,26.0,16.9,112.33,157.9,39.99,94.99,37.9,59.9,645.0,41.5,164.98,30.0,74.8,49.0,54.99,44.99,13.98,120.0,89.8,105.6,205.0,19.9,49.9,349.99,59.99,56.99,128.8,159.9,47.99,49.0,74.9,59.99,117.0,80.0,89.0,315.0,84.99,19.9,578.0,599.0,87.0,34.45,15.99,1219.0,59.9,69.9,59.9,75.78,126.99,969.99,48.9,26.5,52.64,189.9,39.0,94.5,253.6,74.9,89.9,70.0,199.0,299.0,241.1,54.9,19.9,79.9,79.99,84.5,19.9,39.6,32.9,145.35,205.0,42.99,299.0,103.97,220.0,99.9,329.9,99.99,25.99,105.9,110.0,129.0,19.99,49.0,98.0,79.99,45.9,23.4,45.0,259.0,45.9,550.0,289.8,98.9,70.97,99.0,25.0,229.99,119.9,245.9,9.99,69.0,59.9,56.99,23.99,140.9,89.58,110.0,269.9,49.0,205.0,59.9,119.9,465.98,99.9,14.9,113.9,49.95,35.39,62.9,96.0,189.48,79.7,55.9,98.0,64.89,32.9,59.9,119.99,21.99,49.9,84.0,349.9,99.99,269.99,116.6,79.9,117.99,53.99,49.89,17.0,25.6,89.9,58.99,169.9,450.0,78.0,199.99,309.82,19.99,49.9,38.4,89.9,49.5,59.9,49.98,49.9,24.5,93.33,72.9,39.9,98.9,65.0,220.0,84.9,56.99,78.0,72.0,99.9,159.0,59.9,89.9,49.0,159.94,109.9,71.98,699.0,148.9,69.99,998.0,79.9,108.99,99.9,24.9,107.0,252.43,39.9,109.9,30.8,89.9,189.9,19.9,89.9,59.8,56.97,18.9,259.9,33.6,119.99,55.0,45.95,59.9,114.9,269.0,69.9,34.0,23.99,129.0,22.68,106.99,49.9,153.96,99.9,49.9,34.0,36.9,699.0,140.0,89.99,99.99,135.0,69.9,56.99,59.99,99.5,158.0,59.99,56.97,84.99,20.0,67.9,34.9,75.02,134.9,365.94,99.9,179.99,79.0,339.9,39.5,78.9,154.99,42.9,129.99,209.9,89.9,21.5,128.99,12.67,369.0,59.9,299.0,117.9,41.31,189.9,66.0,144.99,19.9,136.5,35.0,349.99,240.0,69.9,51.96,112.0,125.02,149.9,199.99,243.0,44.95,36.8,45.95,84.0,189.0,19.9,5.9,289.9,20.9,49.9,61.0,66.89,199.7,250.0,47.0,115.0,204.9,129.0,39.99,194.99,69.8,259.9,338.5,49.9,129.99,56.99,24.0,22.9,34.99,339.0,71.28,29.75,102.0,97.79,104.0,129.9,84.9,88.0,130.0,149.9,119.94,260.0,31.9,28.69,89.49,38.97,56.85,49.9,159.9,439.0,29.9,12.99,19.9,29.9,68.9,126.99,18.0,54.99,49.0,651.55,89.9,19.9,50.99,45.9,79.8,46.99,99.0,89.99,69.9,21.9,35.0,80.0,89.99,204.0,610.0,89.9,259.0,245.9,55.8,27.9,49.0,54.99,99.0,29.99,159.0,59.9,24.9,109.9,98.0,358.0,99.8,74.8,79.99,29.0,92.99,129.8,129.0,295.92,79.9,144.94,278.77,349.0,39.9,20.9,69.9,13.99,79.9,119.9,46.98,155.0,229.99,134.9,56.99,74.9,99.0,104.98,49.9,129.0,109.9,51.96,349.99,89.9,180.0,39.9,39.9,235.0,185.0,149.0,493.0,348.8,270.0,75.9,215.0,12.97,548.0,29.9,19.99,89.9,59.99,89.9,294.99,149.9,29.99,109.9,69.0,79.0,129.9,30.0,146.0,42.9,84.99,105.6,494.99,79.0,89.9,59.99,9.9,199.9,89.49,59.9,79.9,150.0,81.25,55.0,168.9,79.9,118.9,109.9,129.0,44.9,74.9,19.9,19.99,139.9,49.99,118.5,99.0,29.9,107.0,69.9,54.99,151.2,59.0,179.99,50.9,105.9,45.5,578.9,144.41,248.99,149.9,50.0,21.99,189.0,12.97,28.9,149.0,270.0,75.9,119.4,29.9,74.8,409.9,35.0,349.99,59.55,139.8,25.0,184.99,159.0,179.9,168.0,129.99,49.9,196.99,189.0,53.49,549.9,105.0,19.9,176.9,38.0,39.0,119.0,86.9,49.9,424.0,59.9,43.9,37.0,783.6,99.9,458.0,278.7,89.99,25.9,69.9,74.9,90.3,180.0,119.8,149.9,31.9,220.99,199.9,64.99,49.9,151.9,29.9,19.9,74.9,129.9,16.99,89.0,89.9,49.5,143.8,13.99,99.0,179.99,156.99,72.4,75.0,59.9,72.99,169.9,619.0,169.0,38.99,29.9,69.9,16.9,13.9,39.49,49.9,32.99,282.0,399.9,26.0,19.99,84.99,59.0,399.0,31.9,177.99,29.9,16.9,109.99,36.9,89.99,49.9,154.9,49.9,34.9,69.9,28.98,57.0,431.1,159.0,40.0,59.99,79.99,64.9,34.9,199.9,49.0,126.0,49.0,49.0,60.0,59.9,166.99,129.99,99.9,219.99,89.7,13.99,26.99,129.99,152.9,75.0,53.9,44.9,229.99,299.99,79.8,59.9,219.9,49.0,35.9,16.9,150.0,38.9,39.9,99.0,79.9,399.0,399.99,89.99,149.7,205.0,39.9,45.0,46.9,59.0,34.99,59.1,53.99,499.9,127.0,199.99,29.99,69.9,126.9,114.0,59.0,64.9,19.9,149.9,89.9,55.9,11.99,29.9,64.9,75.99,140.0,139.0,79.8,18.8,89.9,599.0,166.99,51.92,109.9,155.44,70.9,195.5,119.8,273.0,39.9,58.5,79.98,179.8,12.9,74.0,139.0,202.47,35.99,119.98,89.18,41.58,99.0,109.0,85.0,59.9,29.45,59.49,7.0,17.33,34.99,138.0,299.99,78.9,58.99,49.9,134.9,29.9,75.99,49.9,19.9,14.9,13.98,139.99,149.99,83.48,89.9,38.97,142.27,139.99,58.8,270.0,59.9,18.9,49.0,269.99,31.9,129.99,45.9,79.0,23.9,62.4,129.6,39.99,45.9,59.9,169.0,39.0,12.5,179.7,100.0,79.0,69.99,31.9,189.99,72.9,45.0,80.0,700.0,69.9,89.97,80.0,227.9,44.99,27.99,28.99,51.9,550.0,89.9,46.2,219.9,241.1,12.99,39.9,40.0,44.66,54.9,99.0,26.0,34.9,312.84,319.0,99.0,65.9,31.9,59.99,32.0,69.9,27.9,189.0,99.99,79.9,99.99,33.49,44.9,259.99,49.9,49.99,35.9,38.99,209.99,32.5,50.0,129.9,49.9,19.9,209.0,130.0,299.0,24.9,39.9,129.99,21.0,199.98,99.9,109.9,50.0,149.9,115.0,89.9,84.9,142.0,27.9,89.9,159.0,279.9,49.0,134.9,229.0,84.99,139.76,98.99,89.3,399.99,45.0,44.99,58.67,39.99,50.0,278.99,188.0,37.5,100.0,53.7,119.9,229.0,659.0,28.72,179.9,72.9,34.45,44.9,14.99,114.9,99.9,52.0,67.12,52.99,99.0,56.97,179.0,204.9,19.9,79.9,49.9,235.0,69.9,4.52,59.99,134.9,189.99,219.9,32.9,29.99,84.9,319.0,58.9,61.5,75.0,49.95,99.99,46.9,94.98,136.8,230.0,139.9,60.0,199.0,238.9,299.0,52.99,19.99,104.0,19.9,159.94,35.0,795.0],\"type\":\"scatter\"},{\"marker\":{\"color\":\"rgba(55, 128, 191, 1.0)\",\"line\":{\"width\":1.3},\"opacity\":0.8,\"size\":12,\"symbol\":\"circle\"},\"mode\":\"markers\",\"name\":\"antes_prazo\",\"textfont\":{\"color\":\"#4D5663\"},\"x\":[15.23,8.41,8.72,11.89,14.8,22.41,7.88,30.2,15.84,12.61,36.06,17.67,11.73,60.29,30.46,18.94,16.82,21.43,26.35,18.23,19.66,13.1,20.35,18.55,14.52,8.82,66.81,14.96,8.83,11.95,15.15,15.24,10.59,16.76,29.1,33.08,17.6,15.13,21.6,105.96,11.88,12.69,19.16,12.69,15.1,15.37,28.49,22.96,11.85,11.73,30.34,12.62,14.3,14.65,63.22,18.29,37.24,39.46,17.12,15.38,25.46,13.25,21.12,17.67,19.31,17.67,17.6,16.7,7.78,42.52,68.13,16.81,12.4,13.57,29.8,23.42,26.46,36.85,15.55,94.94,22.29,16.28,15.1,20.86,41.84,17.59,15.27,21.89,14.41,15.86,17.71,14.37,43.91,13.57,14.57,14.32,7.78,16.11,8.11,14.32,21.27,27.27,18.79,7.81,17.8,7.78,16.86,7.78,8.84,15.59,16.71,13.81,14.03,17.53,35.79,17.57,28.78,11.99,30.2,26.46,15.56,15.1,15.1,14.1,13.82,13.7,8.72,21.38,12.48,21.4,15.7,21.58,26.06,11.85,15.1,61.39,24.19,37.92,20.18,15.59,13.72,7.94,19.94,15.11,14.64,8.27,18.27,17.78,13.08,43.34,15.15,15.1,7.78,10.03,16.79,8.27,25.22,8.27,17.94,12.08,34.15,21.15,25.9,16.86,12.4,14.34,16.66,14.23,43.0,31.86,41.08,20.52,12.69,6.34,131.09,12.18,4.24,8.29,17.67,15.16,37.37,28.82,16.11,11.83,17.52,8.35,13.37,20.32,16.3,12.19,15.13,8.3,14.2,35.67,17.6,21.64,9.37,10.96,9.94,16.56,11.85,14.51,9.81,18.7,9.31,9.26,11.85,17.6,8.82,16.79,14.65,13.44,25.87,3.06,21.3,3.07,7.94,23.78,17.7,17.95,36.5,9.34,7.78,18.24,21.49,10.49,14.8,20.99,15.71,13.44,7.78,11.87,18.23,25.38,15.45,7.78,17.62,9.29,20.99,11.03,16.65,8.72,24.19,15.13,18.97,12.79,7.78,17.9,16.67,15.1,34.42,14.1,29.3,15.24,16.79,15.1,17.98,101.17,16.79,15.38,20.91,27.13,21.15,15.1,16.54,14.09,12.75,30.2,17.12,26.68,19.39,15.8,7.78,26.92,8.11,32.85,16.79,12.48,15.79,17.6,16.95,17.62,15.1,42.36,50.86,25.63,2.16,12.54,13.52,11.73,14.38,11.99,28.2,16.11,27.72,7.61,18.32,36.07,17.74,12.2,18.23,15.73,25.63,15.39,12.87,28.5,7.78,8.27,21.15,19.38,7.78,52.71,8.11,17.16,17.18,25.9,35.38,14.95,13.64,15.49,60.82,19.0,18.07,9.63,24.81,16.14,12.55,14.1,8.37,15.39,25.63,42.41,11.15,16.11,12.48,13.55,20.21,13.26,46.11,14.76,15.1,7.78,17.95,17.42,8.72,22.24,26.16,13.93,8.27,13.57,8.72,14.41,17.6,16.82,9.04,22.71,22.55,7.81,17.7,25.25,30.2,8.72,15.38,20.55,15.93,17.63,16.79,7.78,30.12,15.17,15.11,16.6,11.85,15.97,19.74,17.67,16.79,15.08,13.93,11.51,7.78,16.89,14.41,15.83,14.58,22.92,15.56,16.25,8.72,15.62,21.54,11.77,11.73,17.65,15.1,58.82,7.78,12.69,17.6,10.7,21.93,14.1,17.23,21.8,16.07,24.11,17.67,18.32,20.99,8.27,13.96,31.0,12.46,20.32,16.16,16.95,13.37,17.22,11.9,86.63,10.47,18.26,7.78,15.1,7.78,60.76,18.54,21.26,17.74,21.15,29.3,58.2,11.85,27.38,24.8,17.67,31.25,11.12,15.11,9.94,14.16,22.67,15.31,88.89,25.63,16.07,10.96,17.1,14.05,17.55,32.64,14.1,52.71,7.78,14.1,12.79,16.79,17.63,15.5,7.78,42.5,18.16,19.92,11.32,9.34,15.3,14.14,143.8,116.7,15.1,14.13,34.5,14.54,13.37,15.1,26.88,17.67,9.34,41.57,11.76,15.1,32.62,9.34,8.88,8.93,8.72,16.48,15.1,16.73,12.2,26.95,15.1],\"y\":[69.0,164.9,59.99,97.9,89.9,225.0,89.0,143.8,155.0,140.0,222.0,59.9,34.2,248.99,51.98,99.9,170.0,139.99,215.0,50.0,59.9,121.35,799.0,258.99,17.89,40.5,285.9,89.9,215.0,64.99,388.0,69.9,49.0,189.0,99.9,99.0,40.0,54.99,159.0,699.99,53.99,20.0,273.0,15.9,47.99,87.0,159.0,179.0,27.9,59.9,119.8,159.9,169.9,79.99,199.99,149.0,79.0,139.8,58.9,89.99,129.99,250.0,89.9,59.99,109.9,59.9,49.9,279.0,53.99,69.9,340.0,149.99,99.9,79.0,199.7,119.99,120.0,169.99,458.0,399.99,59.9,74.9,19.99,1999.9,2999.89,339.99,72.62,149.9,199.0,59.9,124.9,89.0,241.1,79.0,56.99,84.9,28.99,17.9,58.2,84.9,66.99,59.9,219.9,79.9,79.08,16.9,59.99,13.99,156.0,120.0,143.8,210.0,144.99,89.0,67.0,190.0,53.9,69.9,29.8,120.0,29.9,36.75,34.9,34.9,210.9,97.49,56.99,127.0,38.9,109.4,117.7,112.0,249.9,23.99,23.99,209.99,99.0,89.0,64.9,118.9,99.99,64.02,99.99,49.9,130.0,22.9,145.9,149.99,72.0,630.0,55.9,19.9,29.0,238.9,19.9,29.9,109.9,59.9,98.0,124.99,23.99,49.0,89.0,59.9,99.9,84.99,58.99,69.0,89.99,159.0,99.0,146.99,169.76,53.9,999.99,139.99,18.99,49.99,59.9,305.28,329.9,59.99,34.9,89.9,182.0,85.9,49.9,434.99,535.0,98.0,54.9,149.0,85.0,16.6,37.5,238.9,79.9,19.9,59.9,114.9,17.99,295.0,36.0,349.99,159.99,99.99,23.99,49.0,90.0,29.9,79.99,59.9,84.99,33.0,129.0,33.0,29.99,129.9,180.0,99.99,119.99,31.0,49.0,96.0,143.54,239.99,149.9,349.9,136.9,59.9,69.0,52.64,19.9,49.9,99.9,13.99,52.99,104.0,85.0,259.0,269.99,56.99,99.0,54.99,156.0,16.9,19.9,89.0,149.0,45.95,89.0,32.9,128.56,67.9,36.9,41.3,220.0,799.99,49.0,89.99,59.99,115.0,29.0,40.0,59.8,369.9,149.9,29.8,339.0,200.0,216.0,150.0,44.99,869.0,29.9,1200.0,31.9,18.9,24.89,40.0,99.99,102.0,45.95,98.0,592.8,34.99,24.5,119.9,169.0,58.99,89.9,454.0,27.98,22.0,412.0,25.99,226.95,325.0,361.99,99.49,19.9,139.0,14.99,91.9,195.9,159.9,60.0,49.9,49.0,299.9,29.0,37.9,69.0,129.99,99.9,89.0,269.0,89.9,88.9,249.0,378.0,109.0,329.9,339.9,205.0,54.9,59.9,49.0,149.9,90.9,14.99,499.0,58.99,34.9,19.9,75.9,139.0,64.9,267.0,144.9,29.9,16.9,99.9,120.9,34.4,250.0,189.15,130.0,59.9,79.0,54.9,199.0,40.0,169.9,254.9,120.0,249.9,79.0,180.0,339.99,48.0,25.0,89.9,684.9,168.05,53.9,19.9,49.0,250.0,59.9,35.9,35.4,29.9,174.0,71.9,59.9,19.9,189.99,129.98,129.0,22.5,65.0,799.99,55.0,69.9,422.0,119.8,69.99,49.9,589.0,149.9,45.0,58.99,199.9,32.9,388.0,49.99,34.9,40.0,269.0,79.0,32.99,139.99,142.5,34.9,105.0,49.0,269.0,249.9,33.9,179.9,34.9,609.99,249.9,199.9,99.9,49.9,138.0,99.99,2690.0,325.0,144.99,49.9,45.49,29.0,425.0,131.9,109.9,69.9,94.9,349.9,679.99,42.99,119.9,40.0,55.0,1340.0,329.99,34.9,49.0,59.0,44.99,79.9,257.6,39.9,49.9,24.9,94.0,93.49,159.0,149.0,20.0,359.82,59.9,13.99,32.9,39.9,49.0,249.99,49.0,998.9,129.99,96.9,18.99,39.9,99.0,59.0,220.0,1300.0,29.95,58.9,99.7,300.0,49.9,12.9,119.8,59.9,50.9,109.4,79.9,41.9,158.0,20.0,24.9,239.9,32.99,149.0,29.9,67.9,99.49,249.9,39.9],\"type\":\"scatter\"},{\"marker\":{\"color\":\"rgba(50, 171, 96, 1.0)\",\"line\":{\"width\":1.3},\"opacity\":0.8,\"size\":12,\"symbol\":\"circle\"},\"mode\":\"markers\",\"name\":\"entrega_parcial\",\"textfont\":{\"color\":\"#4D5663\"},\"x\":[15.86,17.95,12.17,12.81,34.14,49.11,0.69,15.1,24.39,17.88,14.1,22.4,71.88,14.35,14.22,9.03,18.75,21.11,19.8,15.17,30.2,11.33,18.84,12.41,31.0,47.71,23.84,14.1,29.57,28.9,70.24,26.44,17.1,8.88,20.94,6.82,22.35,52.08,7.9,38.49,9.17,10.32,36.38,3.7,11.98,29.44,64.68,13.61,11.87,1.94,20.22,29.55,38.59,7.1,7.01,16.4,23.0,14.22,15.61,28.14,80.74,13.61,56.68,25.31,15.67,13.23,3.7,32.36,39.32,7.78,22.11,18.81,236.64,40.38,16.79,16.11,15.39,13.64,11.22,5.29,15.22,7.86,42.24,3.96,16.13,28.56,20.69,7.78,23.74,14.22,26.74,7.78,84.06,35.2,42.18,96.66,4.28,0.75,16.11,33.36,72.45,127.2,33.34,35.34,45.3,10.76,149.64,16.6,15.79,21.27,20.13,30.66,35.9,52.72,121.22,6.04,20.38,45.43,22.22,52.86,12.58,37.97,17.65,11.8,7.78,31.76,14.1,9.37,1.98,15.19,26.92,38.03,19.79,36.38,14.35,18.46,4.28,401.58,30.4,9.51,68.32,21.15,37.28,2.79,15.1,0.02,7.86,13.18,29.14,18.63,42.3,17.66,13.65,17.17,36.46,24.26,8.8,37.9,43.04,16.11,7.39,28.82,31.52,3.94,32.23,21.38,21.14,53.01,15.05,10.35,4.6,21.68,10.37,23.0,14.1,8.72,10.56,37.51,6.92,33.7,13.59,7.28,18.19,3.01,20.89,34.15,52.71,12.61,33.36,7.94,13.17,28.98,16.73,12.57,55.86,18.24,10.65,7.37,14.63,10.55,3.33,9.32,15.82,17.61,14.22,2.41,4.07,16.39,66.71,15.43,1.28,113.91,9.37,7.74,42.95,14.1,7.86,35.2,12.54,33.36,48.63,12.24,19.46,30.11,17.07,79.01,10.35,33.9,19.92,71.74,15.8,16.14,131.82,15.8,28.75,0.01,30.2,30.2,38.04,0.8,14.47,16.89,26.16,7.29,11.1,18.1,32.5,9.13,12.7,12.69,58.77,32.5,25.52,31.4,25.59,35.34,7.9,14.35,38.88,5.37,25.97,4.22,18.69,30.75,57.96,9.87,11.17,1.93,7.11,3.23,17.87,35.2,28.75,11.85,30.78,15.64,8.72,18.57,36.61,25.52,17.39,30.2,29.02,30.1,16.38,18.69,9.73,17.95,16.58,59.88,108.56,22.31,20.2,11.85,36.35,16.79,41.26,36.26,2.81,15.59,136.02,17.08,11.95,0.02,18.1,8.37,41.94,15.94,19.66,41.94,7.22,1.18,185.48,13.18,9.27,0.08,15.06,21.1,17.45,15.66,18.04,11.95,118.84,18.47,14.14,4.28,75.91,19.66,12.41,26.94,18.68,0.99,56.7,48.84,15.94,13.37,10.11,14.35,40.92,14.51,17.11,12.76,7.88,86.7,10.58,32.22,16.11,53.01,53.9,3.69,63.69,45.3,30.2,25.02,24.16,41.29,12.44,20.2,3.52,10.76,21.08,23.69,15.1,9.26,46.68,14.1,14.38,5.18,17.1,17.44,34.52,60.44,31.64,13.93,26.95,22.36,25.16,3.33,35.76,69.91,35.54,49.11,30.22,13.65,15.16,13.61,8.06,14.35,18.26,38.64,53.76,57.65,50.01,22.71,35.2,1.94,112.44,16.32,34.44,27.14,25.15],\"y\":[99.8,99.9,137.4,59.9,195.99,56.99,41.3,24.9,113.0,89.9,98.0,34.9,69.9,29.9,29.0,99.0,189.99,38.9,46.99,59.9,37.8,67.9,149.9,69.9,99.0,370.47,119.8,49.9,157.0,205.8,299.0,34.9,94.0,14.0,16.9,44.55,59.99,473.7,19.0,146.99,79.0,18.99,116.94,20.3,68.9,47.88,236.0,84.9,52.64,29.0,69.0,87.85,50.0,15.0,33.0,19.6,113.0,29.0,114.9,299.8,298.0,84.9,239.6,159.9,233.35,43.5,20.3,119.8,119.8,53.99,186.98,59.99,1352.0,199.98,50.0,37.99,225.91,45.9,109.89,12.5,24.97,77.68,79.8,49.9,52.9,109.0,49.9,46.56,139.0,29.0,65.98,29.0,189.9,99.8,229.04,57.6,22.85,18.99,26.0,51.99,99.8,599.64,120.0,119.8,83.97,39.49,599.8,71.98,11.99,147.9,55.8,887.0,109.98,109.0,137.7,34.9,52.64,106.99,89.99,99.8,12.9,59.9,49.0,114.9,29.0,219.98,159.0,32.99,35.99,41.65,378.8,339.8,46.99,106.94,19.9,270.0,22.7,479.94,127.8,239.9,229.98,21.99,54.6,149.9,49.0,44.9,62.7,88.95,233.98,89.9,119.97,49.0,89.9,94.9,38.0,169.9,59.9,43.0,45.98,26.0,116.9,89.9,54.99,20.9,118.0,42.0,35.9,179.7,47.99,39.9,109.9,169.9,59.9,135.0,35.9,47.99,44.35,95.0,68.9,118.0,229.99,41.0,52.64,49.9,115.0,49.9,99.0,39.0,51.99,28.4,84.26,99.8,67.9,64.0,149.7,54.0,60.0,38.8,69.9,51.92,20.3,34.3,93.24,22.9,29.0,16.9,24.5,47.99,75.99,70.0,11.63,179.7,109.9,19.9,31.98,49.9,83.36,25.98,59.99,107.99,119.0,69.9,38.0,50.0,93.0,898.0,24.97,145.8,97.75,158.0,29.0,54.9,235.6,52.0,69.9,55.0,24.98,31.8,89.8,60.0,198.99,71.0,119.8,20.0,279.0,72.9,241.1,109.89,50.9,89.7,149.7,99.98,119.98,76.99,169.0,119.1,19.0,24.9,139.98,35.0,59.9,38.9,68.0,139.9,105.0,35.9,17.99,95.0,15.0,45.0,39.99,19.98,69.9,19.49,174.9,85.0,3.5,45.8,48.98,179.8,21.99,37.98,143.8,99.9,59.99,29.9,28.0,99.9,25.98,207.0,139.9,359.2,149.9,49.0,147.5,50.0,75.0,160.2,25.0,299.0,155.94,89.9,78.25,499.9,72.9,179.0,237.16,150.0,49.0,138.0,203.99,89.9,4850.0,88.9,50.9,39.99,199.0,157.0,24.9,99.99,72.9,27.99,279.8,169.99,15.99,21.99,999.8,49.0,69.9,149.9,76.8,61.9,109.9,224.7,190.0,49.7,49.9,45.0,139.8,159.9,140.9,59.99,77.68,129.0,29.9,76.8,26.0,179.7,179.98,59.99,318.0,71.97,33.8,229.8,34.9,134.7,25.9,168.0,119.0,28.69,85.0,92.9,29.0,34.99,217.98,18.99,89.9,69.0,94.0,99.98,233.98,153.6,30.0,74.9,89.7,143.8,15.9,13.0,399.98,139.99,760.0,56.99,71.8,89.9,219.0,84.9,59.0,35.0,99.0,70.0,74.25,70.74,117.0,169.9,99.8,29.0,99.9,79.9,276.0,36.0,899.0],\"type\":\"scatter\"},{\"marker\":{\"color\":\"rgba(128, 0, 128, 1.0)\",\"line\":{\"width\":1.3},\"opacity\":0.8,\"size\":12,\"symbol\":\"circle\"},\"mode\":\"markers\",\"name\":\"atrasado\",\"textfont\":{\"color\":\"#4D5663\"},\"x\":[12.74,15.24,25.11,18.65,17.66,7.78,18.2,7.78,35.91,15.43,14.59,46.73,13.59,8.72,16.16,17.53,17.74,48.52,13.54,19.14,16.11,45.71,67.0,21.64,59.46,22.05,27.72,21.28,14.8,23.67,22.32,15.62,20.29,24.78,11.85,15.1,45.34,11.73,14.02,34.82,11.89,11.72,15.38,60.29,11.85,34.25,1.54,17.67,38.07,92.03,22.88,15.3,38.36,31.62,9.65,28.36,13.66,15.79,23.09,7.88,36.15,12.41,12.37,26.88,13.84,29.55,15.71,15.1,37.41,18.23,14.94,17.67,16.79,108.96,34.98,19.5,32.28,34.05,40.84,23.49,11.85,16.6,16.58,19.5,35.97,22.0,7.18,18.13,3.36,11.9,59.53,16.25,14.1,16.18,23.85,57.79,15.1,19.8,18.32,18.65,14.16,18.99,8.76,19.53,63.45,7.07,34.62,15.14,16.11,35.94,12.84,17.0,26.33,17.79,14.1,15.1,15.41,16.99,36.02,14.1,0.0,15.18,37.0,41.64,21.22,11.88,19.59,11.88,16.25,16.18,12.6,16.47,16.93,11.88,17.67,19.59,38.9,48.71,12.2,16.11,26.3,19.79,12.85,14.79,16.95,61.58,15.59,17.86,35.53,43.22,15.21,15.92,18.27,15.19,16.96,25.38,103.37,13.5,3.09,61.58,16.25,98.02,21.85,12.59,17.69,18.21,14.29,14.1,15.66,16.25,16.11,15.98,11.02,17.63,22.3,25.22,15.8,17.77,15.22,18.47,18.23,15.1,1.98,16.18,18.27,15.63,22.79,16.37,34.15,71.88,19.7,17.86,15.19,21.1,15.01,98.52,24.84,27.74,19.98,15.17,26.54,0.28,11.85,17.26,111.57,9.34,15.11,91.93,29.05,8.66,25.22,26.95,21.66,21.29,16.11,17.03,13.32,21.75,17.6,15.8,17.2,14.66,14.1,17.92,19.98,16.95,69.96,67.82,36.42,70.72,17.67,25.62,13.81,33.12,17.86,16.81,7.78,16.79,37.97,14.1,2.82,42.16,15.1,11.83,14.13,32.15,34.85,18.69,19.91,12.26,17.13,47.98,17.67,15.1,15.79,19.98,21.3,24.84,27.03,17.78,24.27,15.98,17.87,43.47,15.41,15.23,14.52,14.25,18.23,29.27,30.68,25.67,15.01,15.1,32.22,16.95,15.17,22.59,29.03,18.37,18.68,15.1,24.77,18.23,33.61,16.74,17.67,30.62,21.44,12.18,37.73,11.83,16.95,20.78,21.68,69.46,9.27,21.15,13.55,17.63,15.15,44.8,94.77,16.79,11.85,15.52,16.24,20.06,27.39,32.93,14.11,28.92,23.52,16.28,15.1,23.17,25.47,19.94,15.1,17.46,18.94,16.95,14.1,30.88,16.11,17.88,55.11,17.8,34.7,21.17,29.31,26.68,15.97,7.78,16.11,18.69,34.41,15.1,31.52,31.68,16.39,18.31,15.19,15.1,14.1,41.05,32.48,1.74,16.58,21.53,15.11,16.79,51.48,17.88,23.61,13.79,15.21,14.43,13.52,19.66,13.95,26.64,17.7,16.11,7.91,17.27,60.56,26.38,15.1,20.96,9.75,30.56,45.66,12.48,15.1,144.38,20.04,11.85,13.69,17.39,28.2,7.95,26.24,16.79,25.61,16.79,21.28,30.2,12.37,17.92,8.43,20.63,13.38,11.77,15.85,22.2,15.73,9.34,61.24,16.79,12.34,9.79,21.15,17.06,14.61,14.45,8.72,17.44,17.9,38.67,23.9,18.2,15.35,33.79,52.89,15.2,40.37,13.68,14.52,12.53,49.87,21.22,14.1,16.35,16.82,14.1,16.79,16.94,81.85,17.64,27.16,15.1,64.05,35.83],\"y\":[87.0,69.99,99.99,199.9,53.99,49.0,135.9,27.9,84.99,239.9,120.0,179.99,165.0,22.0,56.99,112.99,69.9,419.0,74.8,130.0,43.99,179.0,89.9,79.9,399.0,82.62,349.0,569.0,89.9,50.0,64.9,124.0,149.9,199.9,25.0,6.3,65.98,69.9,270.0,146.0,56.0,39.9,89.18,248.99,42.99,65.0,23.0,59.9,74.8,399.94,79.99,79.0,115.0,299.0,73.35,69.9,92.0,38.9,27.5,89.99,399.0,130.0,79.05,119.8,334.89,37.99,54.9,20.3,249.99,49.9,109.99,59.9,38.9,975.0,299.8,89.9,394.0,229.0,308.0,166.99,49.0,26.18,135.0,89.9,119.8,159.99,37.2,125.9,63.33,56.99,139.94,69.9,47.99,59.9,149.99,159.99,49.9,79.9,269.0,199.7,58.67,159.9,27.3,79.9,89.7,130.0,192.99,55.65,29.5,85.8,105.9,52.9,149.9,76.9,18.99,39.9,341.9,319.9,99.9,49.0,164.9,59.9,139.99,329.9,537.99,57.9,49.9,37.9,69.9,59.99,46.6,109.7,69.9,54.9,59.9,49.9,208.0,133.0,493.9,49.0,146.0,215.9,73.35,169.9,99.99,119.9,119.9,86.99,145.0,319.98,65.0,101.7,99.0,67.9,315.0,49.0,104.0,68.9,24.6,119.9,69.9,574.9,199.99,155.0,62.9,279.99,23.5,21.99,130.0,70.0,35.9,175.0,119.99,18.98,265.0,135.8,149.9,74.5,66.49,127.0,92.34,29.9,20.3,59.99,194.0,59.9,67.5,106.0,29.99,897.0,349.9,86.99,67.9,1050.0,179.99,94.5,18.99,144.99,69.9,59.99,179.9,7.0,49.89,184.9,249.99,13.99,48.0,132.5,238.1,127.9,135.82,125.0,166.89,815.0,45.9,181.42,109.9,999.9,27.53,149.9,89.9,129.9,31.9,95.0,299.9,99.99,599.6,157.98,436.6,247.6,59.99,195.12,113.0,2999.0,447.99,79.9,49.0,49.9,49.0,24.62,89.9,129.99,9.32,89.9,54.9,159.99,150.0,74.9,95.0,108.5,79.99,503.34,55.0,12.9,15.9,69.9,115.0,18.99,69.9,11.99,199.9,29.9,537.99,640.0,79.99,35.9,18.99,70.9,22.95,389.89,167.98,55.0,180.0,39.9,59.98,49.99,59.7,299.99,49.9,113.8,96.0,44.32,686.21,24.9,196.99,69.9,59.9,109.0,597.9,139.9,1599.0,69.9,99.99,105.0,169.99,173.8,24.9,44.0,158.0,32.9,56.99,99.99,210.0,24.89,19.9,109.9,86.9,69.9,119.99,67.9,37.99,74.8,159.8,74.9,29.99,299.0,89.9,99.89,29.99,146.0,195.0,170.5,34.99,799.9,28.82,89.9,119.94,79.0,147.9,239.99,129.99,199.9,75.0,39.99,42.9,74.9,279.9,47.99,240.0,210.99,89.99,59.9,208.9,22.0,28.9,139.9,129.99,86.9,135.0,148.9,15.55,29.9,139.99,89.9,89.7,110.25,159.9,117.3,154.0,49.0,89.9,79.9,277.0,47.9,59.99,99.9,199.0,219.99,35.0,325.0,199.9,216.76,139.9,18.9,22.99,1050.0,399.0,43.5,95.0,310.99,57.4,99.9,199.9,22.9,109.9,19.9,112.9,52.0,48.0,38.5,59.99,199.0,269.0,53.9,299.9,199.9,140.0,32.99,2690.0,44.9,120.0,127.9,26.99,19.99,119.9,204.0,56.99,239.9,89.0,159.9,149.9,131.35,84.9,89.0,161.7,65.0,149.0,783.14,109.9,59.0,191.4,103.94,24.99,129.9,439.0,49.0,27.9,94.0,109.0,49.0,119.9,43.5,89.99,72.9],\"type\":\"scatter\"},{\"marker\":{\"color\":\"rgba(219, 64, 82, 1.0)\",\"line\":{\"width\":1.3},\"opacity\":0.8,\"size\":12,\"symbol\":\"circle\"},\"mode\":\"markers\",\"name\":\"nan\",\"textfont\":{\"color\":\"#4D5663\"},\"x\":[],\"y\":[],\"type\":\"scatter\"},{\"marker\":{\"color\":\"rgba(0, 128, 128, 1.0)\",\"line\":{\"width\":1.3},\"opacity\":0.8,\"size\":12,\"symbol\":\"circle\"},\"mode\":\"markers\",\"name\":\"outro_entrega\",\"textfont\":{\"color\":\"#4D5663\"},\"x\":[30.01,11.85,64.74,11.98,29.76,22.93,51.62,14.1,11.85,17.6,14.1,42.52,8.88,18.43,11.85,17.67,12.62,45.55,23.79,12.69,16.59,16.99,21.21,11.97,15.0,17.74,41.05,147.56,90.2,14.68,75.84,15.11,38.95,17.45,15.1,13.08,8.72,34.18,15.1,12.69,47.98,18.27,13.14,10.5,15.11,18.32,18.21,21.15,14.36,36.98,19.23,18.06,25.15,16.92,17.67,11.85,16.11,64.68,16.11,63.52,25.63,19.22,14.1,18.13,8.72,10.08,25.63,11.85,18.0,12.76,40.38,17.67,25.63,37.97,22.96,61.06,47.37,15.42,15.1,16.12,12.61,20.9,31.02,15.11,18.19,12.82,16.98,12.64,16.96,14.1,18.4,19.82,84.04,17.84,44.16,15.1,17.31,15.0,17.66,15.15,25.47,17.73,16.96,25.38,13.08,16.89,17.74,12.62,11.85,14.53,9.73,8.82,8.82,37.97,8.9],\"y\":[229.9,44.9,572.0,69.0,1999.9,39.9,151.8,49.9,19.99,50.0,49.99,59.9,50.0,169.0,19.99,59.9,69.9,449.0,58.9,28.18,89.18,59.9,108.99,109.9,179.0,69.9,219.99,899.0,250.0,84.26,1098.0,21.65,70.0,144.41,19.9,52.39,29.9,54.99,49.99,49.9,503.34,78.99,144.0,155.0,50.0,153.0,89.99,31.9,87.0,129.0,99.0,62.9,94.9,67.9,59.55,35.5,25.0,236.97,48.9,287.8,45.0,139.9,40.0,79.99,49.99,270.0,44.99,49.0,389.9,180.0,149.99,49.0,20.9,49.0,53.9,198.0,45.0,95.0,19.9,69.9,67.91,64.99,229.99,39.9,89.0,68.9,76.89,163.0,74.9,23.8,521.89,219.99,422.0,79.99,93.98,49.9,221.5,129.9,59.0,56.99,105.0,65.0,74.9,24.87,45.9,63.9,69.9,69.9,24.5,112.0,219.99,39.4,39.4,49.0,69.99],\"type\":\"scatter\"},{\"marker\":{\"color\":\"rgba(255, 255, 51, 1.0)\",\"line\":{\"width\":1.3},\"opacity\":0.8,\"size\":12,\"symbol\":\"circle\"},\"mode\":\"markers\",\"name\":\"devolucao\",\"textfont\":{\"color\":\"#4D5663\"},\"x\":[14.43,12.48,14.45,28.36,20.3,181.97,18.72,167.05,35.82,25.76,167.05,16.22,33.51,17.39,11.75,18.55,15.1,13.85,17.13,18.55,17.7,14.65,13.08,167.04,21.18,7.78,82.49,14.97,15.24,26.88,7.78,17.94,39.24,17.95,8.1,15.1,38.1,43.52,14.1,24.84,13.44,15.3,8.88,14.2,11.3,17.7,22.59,33.24,41.53,15.38,15.1,13.02,44.55,17.6,17.91,17.54,22.35,11.85,14.09,16.7,14.1,7.81,37.61,18.26,17.81,15.73,13.93,15.39,15.2,15.1,38.51,15.89,11.73,14.52,18.26,16.29,33.09,14.77,17.72,11.85,37.37,18.26,15.49,34.99,18.26,11.85,34.19,18.79,7.78,16.7,119.84,12.9,12.05,20.93,18.26,167.05,12.79,17.24,11.85,27.81,14.17,5.05,15.1,17.63,15.56,21.22,17.48,42.23,7.81,41.83,16.12,14.23,16.75,15.1,167.05,14.1,11.75,18.26,13.41,19.8,14.37,180.08,27.06,15.2,16.7,27.83,30.76,12.06,14.46,13.18,7.78,96.44,167.05,15.86],\"y\":[99.99,19.9,204.0,139.9,89.9,1620.0,119.5,69.9,79.99,69.0,69.9,84.99,159.94,92.9,44.99,139.9,18.9,72.9,340.0,45.9,65.0,449.99,40.5,69.9,54.99,49.0,199.9,174.0,69.9,179.99,49.0,99.0,225.0,99.9,120.0,49.0,78.9,129.0,10.99,17.99,59.9,79.0,59.99,65.0,19.99,179.9,95.0,34.9,249.9,89.9,25.0,127.42,899.95,46.99,289.9,399.0,265.9,19.9,219.99,133.6,44.0,79.0,279.0,139.9,79.99,139.9,129.9,89.9,79.0,49.0,1299.9,65.0,49.99,23.9,139.9,75.0,113.0,149.0,62.8,16.9,292.5,139.9,249.0,89.0,139.9,31.9,55.0,79.0,49.0,133.6,359.8,80.0,78.45,599.0,139.9,69.9,39.99,229.99,19.9,415.0,164.9,225.98,6.9,40.0,59.98,129.96,109.66,319.9,79.9,1340.0,50.9,69.0,599.99,18.99,69.9,34.49,229.99,139.9,314.97,89.98,89.0,319.96,69.99,35.0,180.0,99.9,179.8,79.9,105.0,239.9,13.98,406.99,69.9,159.0],\"type\":\"scatter\"},{\"marker\":{\"color\":\"rgba(128, 128, 0, 1.0)\",\"line\":{\"width\":1.3},\"opacity\":0.8,\"size\":12,\"symbol\":\"circle\"},\"mode\":\"markers\",\"name\":\"diferente_do_anunciado\",\"textfont\":{\"color\":\"#4D5663\"},\"x\":[13.86,33.58,22.57,11.73,233.59,14.72,46.48,15.17,18.45,32.17,13.99,23.84,11.99,14.72,30.64,26.53,9.27,17.02,24.78,15.59,17.63,15.1,15.1,37.05,14.1,18.71,8.72,16.0,9.27,9.34,14.6,25.91,26.17,20.3,37.97,16.4,17.67,16.11,29.45,11.85,25.24,12.2,20.8,16.81,9.44,11.85,14.35,16.34,17.63,7.78,22.92,14.15,17.67,25.63,14.1,46.78,15.38,25.54,13.37,12.86,16.79,16.32,14.15,14.1,23.87,12.22,25.74,17.94,16.11,12.48,15.38,9.3,30.87,21.19,11.85,26.66,131.32,15.86,4.36,16.16,13.72,28.76,15.24,19.95,19.38,16.24,27.68,14.05,22.7,12.72,17.88,18.8,21.92,15.04,16.63,28.0,15.11,13.18,18.14,15.21,38.38,14.45,17.97,8.11,18.82,17.66,17.02,14.1,21.15,11.4,20.78,50.37,21.54,17.82,16.01,8.23,1.44,23.03,16.16,27.98,12.88,16.36,14.1,12.89,15.1,10.04,2.91,14.43,8.72,15.1,47.23,7.78,15.23,15.1,11.73,15.1,13.98,16.71,17.67,17.82,11.85,21.15,14.52,18.59,26.89,29.86,21.15,14.1,15.28,12.69,16.79,10.46,14.61,14.44,38.95,23.77,62.93,7.39,16.32,19.15,14.1,14.15,11.65],\"y\":[119.99,99.8,439.9,58.99,1459.0,89.85,289.0,60.0,249.0,447.0,44.9,179.99,69.9,90.0,799.99,179.0,21.0,82.9,200.0,120.0,18.9,47.9,21.99,899.94,49.0,422.0,59.9,179.0,22.0,49.9,29.9,89.49,189.9,435.0,59.9,109.9,59.9,45.0,447.0,21.9,99.0,99.9,69.0,149.87,90.0,24.5,189.99,83.36,39.9,25.99,422.0,56.99,56.0,49.9,16.5,169.9,89.9,99.9,38.9,74.99,20.89,35.0,56.99,13.99,143.54,144.99,129.0,99.0,16.8,66.29,89.99,52.9,799.0,29.9,22.9,259.9,999.99,159.0,35.0,56.99,99.9,49.9,89.9,24.9,57.9,69.0,194.9,98.0,329.0,54.9,89.9,364.99,159.9,205.0,54.99,2799.0,37.9,89.9,205.0,64.9,270.0,99.9,56.99,69.0,829.0,59.0,210.0,29.9,16.9,369.0,19.99,127.5,612.91,129.34,180.0,139.9,12.0,64.0,56.99,59.9,89.9,103.83,19.9,198.0,18.9,174.9,19.74,99.99,49.9,19.0,99.99,90.0,69.0,19.9,74.99,16.99,44.9,229.0,59.9,129.34,22.9,16.17,39.99,143.0,49.9,208.0,17.89,49.9,75.78,41.9,49.9,234.9,29.9,97.0,199.89,129.0,19.99,13.99,98.72,449.5,34.99,56.99,145.95],\"type\":\"scatter\"},{\"marker\":{\"color\":\"rgba(251, 128, 114, 1.0)\",\"line\":{\"width\":1.3},\"opacity\":0.8,\"size\":12,\"symbol\":\"circle\"},\"mode\":\"markers\",\"name\":\"baixa_qualidade\",\"textfont\":{\"color\":\"#4D5663\"},\"x\":[21.33,7.78,12.69,11.18,7.53,19.59,54.48,12.13,19.53,38.56,12.69,13.66,26.11,23.49,14.79,58.06,13.71,12.8,11.88,19.3,9.09,27.94,8.27,13.86,19.19,13.76,35.61,33.92,17.07,140.72,45.3,15.1,11.85,38.45,12.4,16.27,13.47,15.1,20.74,9.34,35.91,16.52,24.05,16.93,14.13,8.27,15.1,18.78,23.11,15.11,14.1,18.79,55.07,15.1,24.84,23.46,13.58,58.21,16.11,16.11,12.76,17.27,16.11,16.28,36.11,9.34,8.72,17.65,18.72,29.17,25.63,19.88,12.13,20.52,7.78,7.78,16.28,8.72,16.98,18.23,28.95,11.85,12.88,14.1,22.27,13.25,19.91,15.1,15.11,16.97,16.16,13.72,16.11,8.69,16.95,14.1,21.24,25.38,19.15,7.78,38.08,9.34,15.1,17.67,21.26,17.6,8.27,15.1,11.85,15.24,9.45,16.12,17.89,34.05,8.72,15.1,9.1,12.25,2.31,12.48,11.73,12.48,16.99,15.34,11.85,19.0,12.69,7.42,18.62,16.56,1.7,38.79,17.63,18.31,17.95,7.95,13.52,12.75,47.86,14.29,21.25,13.18,17.21,21.63,9.27,11.85,11.73,17.88,7.78],\"y\":[120.0,34.99,24.75,128.9,79.7,32.9,115.0,89.9,80.0,144.99,45.0,92.0,69.9,166.99,149.0,179.8,99.0,65.9,69.9,467.0,24.9,67.9,50.0,119.99,277.0,105.9,111.66,79.99,90.0,379.0,56.7,19.6,39.99,129.0,99.0,72.9,19.9,24.9,23.48,248.0,84.99,109.0,246.62,69.9,54.9,27.55,32.99,126.69,79.0,51.9,19.99,219.9,114.94,27.9,10.99,25.98,146.99,239.0,49.99,45.0,179.9,220.89,39.99,92.9,522.5,32.0,24.9,57.11,163.99,110.0,24.9,589.0,89.9,146.99,42.9,13.99,23.48,34.9,85.0,139.9,79.0,22.0,134.55,29.99,205.0,149.0,95.03,39.9,29.99,49.0,56.99,99.9,41.99,135.49,99.9,49.9,189.9,91.8,129.99,29.0,79.99,69.9,21.49,59.9,59.9,44.9,27.9,49.95,49.99,69.9,23.48,50.9,92.0,349.9,24.9,24.5,129.9,107.6,45.0,25.9,35.99,12.9,319.9,84.9,48.0,129.94,169.9,23.48,149.87,132.76,88.0,1340.0,49.0,229.0,99.9,98.9,72.0,57.99,59.9,76.99,58.9,149.9,109.9,139.99,47.9,36.26,58.99,166.89,38.0],\"type\":\"scatter\"},{\"marker\":{\"color\":\"rgba(128, 177, 211, 1.0)\",\"line\":{\"width\":1.3},\"opacity\":0.8,\"size\":12,\"symbol\":\"circle\"},\"mode\":\"markers\",\"name\":\"outro_pedido\",\"textfont\":{\"color\":\"#4D5663\"},\"x\":[38.71,14.1,13.46,37.89,33.58,18.94,58.9,13.32,15.59,14.15,8.11,17.06,14.15,64.38,13.51,16.79,19.5,21.15,71.9,17.72,7.15,79.86,16.11,33.62,8.11,14.91,16.42,17.78,11.85,36.46,11.85,38.67,30.2,15.66],\"y\":[124.99,49.9,129.99,1098.0,39.8,499.9,198.0,109.9,299.0,175.91,29.9,115.2,56.99,2281.8,69.9,27.0,275.9,169.0,179.8,425.0,175.9,155.0,37.99,300.0,29.9,169.0,139.9,27.9,29.9,279.8,38.0,160.0,15.92,149.99],\"type\":\"scatter\"}],                        {\"legend\":{\"bgcolor\":\"#F5F6F9\",\"font\":{\"color\":\"#4D5663\"}},\"paper_bgcolor\":\"#F5F6F9\",\"plot_bgcolor\":\"#F5F6F9\",\"template\":{\"data\":{\"barpolar\":[{\"marker\":{\"line\":{\"color\":\"#E5ECF6\",\"width\":0.5},\"pattern\":{\"fillmode\":\"overlay\",\"size\":10,\"solidity\":0.2}},\"type\":\"barpolar\"}],\"bar\":[{\"error_x\":{\"color\":\"#2a3f5f\"},\"error_y\":{\"color\":\"#2a3f5f\"},\"marker\":{\"line\":{\"color\":\"#E5ECF6\",\"width\":0.5},\"pattern\":{\"fillmode\":\"overlay\",\"size\":10,\"solidity\":0.2}},\"type\":\"bar\"}],\"carpet\":[{\"aaxis\":{\"endlinecolor\":\"#2a3f5f\",\"gridcolor\":\"white\",\"linecolor\":\"white\",\"minorgridcolor\":\"white\",\"startlinecolor\":\"#2a3f5f\"},\"baxis\":{\"endlinecolor\":\"#2a3f5f\",\"gridcolor\":\"white\",\"linecolor\":\"white\",\"minorgridcolor\":\"white\",\"startlinecolor\":\"#2a3f5f\"},\"type\":\"carpet\"}],\"choropleth\":[{\"colorbar\":{\"outlinewidth\":0,\"ticks\":\"\"},\"type\":\"choropleth\"}],\"contourcarpet\":[{\"colorbar\":{\"outlinewidth\":0,\"ticks\":\"\"},\"type\":\"contourcarpet\"}],\"contour\":[{\"colorbar\":{\"outlinewidth\":0,\"ticks\":\"\"},\"colorscale\":[[0.0,\"#0d0887\"],[0.1111111111111111,\"#46039f\"],[0.2222222222222222,\"#7201a8\"],[0.3333333333333333,\"#9c179e\"],[0.4444444444444444,\"#bd3786\"],[0.5555555555555556,\"#d8576b\"],[0.6666666666666666,\"#ed7953\"],[0.7777777777777778,\"#fb9f3a\"],[0.8888888888888888,\"#fdca26\"],[1.0,\"#f0f921\"]],\"type\":\"contour\"}],\"heatmapgl\":[{\"colorbar\":{\"outlinewidth\":0,\"ticks\":\"\"},\"colorscale\":[[0.0,\"#0d0887\"],[0.1111111111111111,\"#46039f\"],[0.2222222222222222,\"#7201a8\"],[0.3333333333333333,\"#9c179e\"],[0.4444444444444444,\"#bd3786\"],[0.5555555555555556,\"#d8576b\"],[0.6666666666666666,\"#ed7953\"],[0.7777777777777778,\"#fb9f3a\"],[0.8888888888888888,\"#fdca26\"],[1.0,\"#f0f921\"]],\"type\":\"heatmapgl\"}],\"heatmap\":[{\"colorbar\":{\"outlinewidth\":0,\"ticks\":\"\"},\"colorscale\":[[0.0,\"#0d0887\"],[0.1111111111111111,\"#46039f\"],[0.2222222222222222,\"#7201a8\"],[0.3333333333333333,\"#9c179e\"],[0.4444444444444444,\"#bd3786\"],[0.5555555555555556,\"#d8576b\"],[0.6666666666666666,\"#ed7953\"],[0.7777777777777778,\"#fb9f3a\"],[0.8888888888888888,\"#fdca26\"],[1.0,\"#f0f921\"]],\"type\":\"heatmap\"}],\"histogram2dcontour\":[{\"colorbar\":{\"outlinewidth\":0,\"ticks\":\"\"},\"colorscale\":[[0.0,\"#0d0887\"],[0.1111111111111111,\"#46039f\"],[0.2222222222222222,\"#7201a8\"],[0.3333333333333333,\"#9c179e\"],[0.4444444444444444,\"#bd3786\"],[0.5555555555555556,\"#d8576b\"],[0.6666666666666666,\"#ed7953\"],[0.7777777777777778,\"#fb9f3a\"],[0.8888888888888888,\"#fdca26\"],[1.0,\"#f0f921\"]],\"type\":\"histogram2dcontour\"}],\"histogram2d\":[{\"colorbar\":{\"outlinewidth\":0,\"ticks\":\"\"},\"colorscale\":[[0.0,\"#0d0887\"],[0.1111111111111111,\"#46039f\"],[0.2222222222222222,\"#7201a8\"],[0.3333333333333333,\"#9c179e\"],[0.4444444444444444,\"#bd3786\"],[0.5555555555555556,\"#d8576b\"],[0.6666666666666666,\"#ed7953\"],[0.7777777777777778,\"#fb9f3a\"],[0.8888888888888888,\"#fdca26\"],[1.0,\"#f0f921\"]],\"type\":\"histogram2d\"}],\"histogram\":[{\"marker\":{\"pattern\":{\"fillmode\":\"overlay\",\"size\":10,\"solidity\":0.2}},\"type\":\"histogram\"}],\"mesh3d\":[{\"colorbar\":{\"outlinewidth\":0,\"ticks\":\"\"},\"type\":\"mesh3d\"}],\"parcoords\":[{\"line\":{\"colorbar\":{\"outlinewidth\":0,\"ticks\":\"\"}},\"type\":\"parcoords\"}],\"pie\":[{\"automargin\":true,\"type\":\"pie\"}],\"scatter3d\":[{\"line\":{\"colorbar\":{\"outlinewidth\":0,\"ticks\":\"\"}},\"marker\":{\"colorbar\":{\"outlinewidth\":0,\"ticks\":\"\"}},\"type\":\"scatter3d\"}],\"scattercarpet\":[{\"marker\":{\"colorbar\":{\"outlinewidth\":0,\"ticks\":\"\"}},\"type\":\"scattercarpet\"}],\"scattergeo\":[{\"marker\":{\"colorbar\":{\"outlinewidth\":0,\"ticks\":\"\"}},\"type\":\"scattergeo\"}],\"scattergl\":[{\"marker\":{\"colorbar\":{\"outlinewidth\":0,\"ticks\":\"\"}},\"type\":\"scattergl\"}],\"scattermapbox\":[{\"marker\":{\"colorbar\":{\"outlinewidth\":0,\"ticks\":\"\"}},\"type\":\"scattermapbox\"}],\"scatterpolargl\":[{\"marker\":{\"colorbar\":{\"outlinewidth\":0,\"ticks\":\"\"}},\"type\":\"scatterpolargl\"}],\"scatterpolar\":[{\"marker\":{\"colorbar\":{\"outlinewidth\":0,\"ticks\":\"\"}},\"type\":\"scatterpolar\"}],\"scatter\":[{\"marker\":{\"colorbar\":{\"outlinewidth\":0,\"ticks\":\"\"}},\"type\":\"scatter\"}],\"scatterternary\":[{\"marker\":{\"colorbar\":{\"outlinewidth\":0,\"ticks\":\"\"}},\"type\":\"scatterternary\"}],\"surface\":[{\"colorbar\":{\"outlinewidth\":0,\"ticks\":\"\"},\"colorscale\":[[0.0,\"#0d0887\"],[0.1111111111111111,\"#46039f\"],[0.2222222222222222,\"#7201a8\"],[0.3333333333333333,\"#9c179e\"],[0.4444444444444444,\"#bd3786\"],[0.5555555555555556,\"#d8576b\"],[0.6666666666666666,\"#ed7953\"],[0.7777777777777778,\"#fb9f3a\"],[0.8888888888888888,\"#fdca26\"],[1.0,\"#f0f921\"]],\"type\":\"surface\"}],\"table\":[{\"cells\":{\"fill\":{\"color\":\"#EBF0F8\"},\"line\":{\"color\":\"white\"}},\"header\":{\"fill\":{\"color\":\"#C8D4E3\"},\"line\":{\"color\":\"white\"}},\"type\":\"table\"}]},\"layout\":{\"annotationdefaults\":{\"arrowcolor\":\"#2a3f5f\",\"arrowhead\":0,\"arrowwidth\":1},\"autotypenumbers\":\"strict\",\"coloraxis\":{\"colorbar\":{\"outlinewidth\":0,\"ticks\":\"\"}},\"colorscale\":{\"diverging\":[[0,\"#8e0152\"],[0.1,\"#c51b7d\"],[0.2,\"#de77ae\"],[0.3,\"#f1b6da\"],[0.4,\"#fde0ef\"],[0.5,\"#f7f7f7\"],[0.6,\"#e6f5d0\"],[0.7,\"#b8e186\"],[0.8,\"#7fbc41\"],[0.9,\"#4d9221\"],[1,\"#276419\"]],\"sequential\":[[0.0,\"#0d0887\"],[0.1111111111111111,\"#46039f\"],[0.2222222222222222,\"#7201a8\"],[0.3333333333333333,\"#9c179e\"],[0.4444444444444444,\"#bd3786\"],[0.5555555555555556,\"#d8576b\"],[0.6666666666666666,\"#ed7953\"],[0.7777777777777778,\"#fb9f3a\"],[0.8888888888888888,\"#fdca26\"],[1.0,\"#f0f921\"]],\"sequentialminus\":[[0.0,\"#0d0887\"],[0.1111111111111111,\"#46039f\"],[0.2222222222222222,\"#7201a8\"],[0.3333333333333333,\"#9c179e\"],[0.4444444444444444,\"#bd3786\"],[0.5555555555555556,\"#d8576b\"],[0.6666666666666666,\"#ed7953\"],[0.7777777777777778,\"#fb9f3a\"],[0.8888888888888888,\"#fdca26\"],[1.0,\"#f0f921\"]]},\"colorway\":[\"#636efa\",\"#EF553B\",\"#00cc96\",\"#ab63fa\",\"#FFA15A\",\"#19d3f3\",\"#FF6692\",\"#B6E880\",\"#FF97FF\",\"#FECB52\"],\"font\":{\"color\":\"#2a3f5f\"},\"geo\":{\"bgcolor\":\"white\",\"lakecolor\":\"white\",\"landcolor\":\"#E5ECF6\",\"showlakes\":true,\"showland\":true,\"subunitcolor\":\"white\"},\"hoverlabel\":{\"align\":\"left\"},\"hovermode\":\"closest\",\"mapbox\":{\"style\":\"light\"},\"paper_bgcolor\":\"white\",\"plot_bgcolor\":\"#E5ECF6\",\"polar\":{\"angularaxis\":{\"gridcolor\":\"white\",\"linecolor\":\"white\",\"ticks\":\"\"},\"bgcolor\":\"#E5ECF6\",\"radialaxis\":{\"gridcolor\":\"white\",\"linecolor\":\"white\",\"ticks\":\"\"}},\"scene\":{\"xaxis\":{\"backgroundcolor\":\"#E5ECF6\",\"gridcolor\":\"white\",\"gridwidth\":2,\"linecolor\":\"white\",\"showbackground\":true,\"ticks\":\"\",\"zerolinecolor\":\"white\"},\"yaxis\":{\"backgroundcolor\":\"#E5ECF6\",\"gridcolor\":\"white\",\"gridwidth\":2,\"linecolor\":\"white\",\"showbackground\":true,\"ticks\":\"\",\"zerolinecolor\":\"white\"},\"zaxis\":{\"backgroundcolor\":\"#E5ECF6\",\"gridcolor\":\"white\",\"gridwidth\":2,\"linecolor\":\"white\",\"showbackground\":true,\"ticks\":\"\",\"zerolinecolor\":\"white\"}},\"shapedefaults\":{\"line\":{\"color\":\"#2a3f5f\"}},\"ternary\":{\"aaxis\":{\"gridcolor\":\"white\",\"linecolor\":\"white\",\"ticks\":\"\"},\"baxis\":{\"gridcolor\":\"white\",\"linecolor\":\"white\",\"ticks\":\"\"},\"bgcolor\":\"#E5ECF6\",\"caxis\":{\"gridcolor\":\"white\",\"linecolor\":\"white\",\"ticks\":\"\"}},\"title\":{\"x\":0.05},\"xaxis\":{\"automargin\":true,\"gridcolor\":\"white\",\"linecolor\":\"white\",\"ticks\":\"\",\"title\":{\"standoff\":15},\"zerolinecolor\":\"white\",\"zerolinewidth\":2},\"yaxis\":{\"automargin\":true,\"gridcolor\":\"white\",\"linecolor\":\"white\",\"ticks\":\"\",\"title\":{\"standoff\":15},\"zerolinecolor\":\"white\",\"zerolinewidth\":2}}},\"title\":{\"font\":{\"color\":\"#4D5663\"},\"text\":\"Valor de Frete vs Valor de Produto\"},\"xaxis\":{\"gridcolor\":\"#E1E5ED\",\"showgrid\":true,\"tickfont\":{\"color\":\"#4D5663\"},\"title\":{\"font\":{\"color\":\"#4D5663\"},\"text\":\"Valor de Frete\"},\"zerolinecolor\":\"#E1E5ED\"},\"yaxis\":{\"gridcolor\":\"#E1E5ED\",\"showgrid\":true,\"tickfont\":{\"color\":\"#4D5663\"},\"title\":{\"font\":{\"color\":\"#4D5663\"},\"text\":\"Valor do Produto\"},\"zerolinecolor\":\"#E1E5ED\"}},                        {\"showLink\": true, \"linkText\": \"Export to plot.ly\", \"plotlyServerURL\": \"https://plot.ly\", \"responsive\": true}                    ).then(function(){\n",
              "                            \n",
              "var gd = document.getElementById('88142476-989e-4661-9028-aafe56eef083');\n",
              "var x = new MutationObserver(function (mutations, observer) {{\n",
              "        var display = window.getComputedStyle(gd).display;\n",
              "        if (!display || display === 'none') {{\n",
              "            console.log([gd, 'removed!']);\n",
              "            Plotly.purge(gd);\n",
              "            observer.disconnect();\n",
              "        }}\n",
              "}});\n",
              "\n",
              "// Listen for the removal of the full notebook cells\n",
              "var notebookContainer = gd.closest('#notebook-container');\n",
              "if (notebookContainer) {{\n",
              "    x.observe(notebookContainer, {childList: true});\n",
              "}}\n",
              "\n",
              "// Listen for the clearing of the current output cell\n",
              "var outputEl = gd.closest('.output');\n",
              "if (outputEl) {{\n",
              "    x.observe(outputEl, {childList: true});\n",
              "}}\n",
              "\n",
              "                        })                };                            </script>        </div>\n",
              "</body>\n",
              "</html>"
            ]
          },
          "metadata": {}
        }
      ]
    },
    {
      "cell_type": "markdown",
      "source": [
        "**Quantidade em média de itens de um pedido**"
      ],
      "metadata": {
        "id": "OgVxJ6USt5aN"
      }
    },
    {
      "cell_type": "code",
      "source": [
        "data = [go.Histogram(x=df.order_items_qty)]\n",
        "layout = go.Layout(title='Quantidade média de itens de um pedido')\n",
        "fig = go.Figure(data=data, layout=layout)\n",
        "#py.iplot(fig)\n",
        "pyo.plot(fig)"
      ],
      "metadata": {
        "colab": {
          "base_uri": "https://localhost:8080/",
          "height": 35
        },
        "id": "38Uvj-JotOOK",
        "outputId": "a3ba00f5-36e4-4347-a073-51530dd3aa8c"
      },
      "execution_count": null,
      "outputs": [
        {
          "output_type": "execute_result",
          "data": {
            "text/plain": [
              "'https://plotly.com/~sebast.rogers/11/'"
            ],
            "application/vnd.google.colaboratory.intrinsic+json": {
              "type": "string"
            }
          },
          "metadata": {},
          "execution_count": 106
        }
      ]
    },
    {
      "cell_type": "markdown",
      "source": [
        "**Quantidade média de vendedores de um pedido**"
      ],
      "metadata": {
        "id": "5M3-qVgHuUsK"
      }
    },
    {
      "cell_type": "code",
      "source": [
        "trace1 = go.Histogram(x=df.order_items_qty,\n",
        "                      name='itens',\n",
        "                      opacity=0.75)\n",
        "\n",
        "trace2 = go.Histogram(x=df.order_sellers_qty,\n",
        "                      name='vendedores',\n",
        "                      opacity=0.75)\n",
        "\n",
        "layout = go.Layout(title='Quantidade de itens e Vendedores por pedido',\n",
        "                   barmode='overlay'\n",
        "                  )\n",
        "\n",
        "dados = [trace1, trace2]\n",
        "\n",
        "fig = go.Figure(data=dados, layout=layout)\n",
        "\n",
        "py.iplot(fig)"
      ],
      "metadata": {
        "id": "rCjF28diuMsT"
      },
      "execution_count": null,
      "outputs": []
    },
    {
      "cell_type": "code",
      "source": [
        "df.order_status.value_counts()"
      ],
      "metadata": {
        "colab": {
          "base_uri": "https://localhost:8080/"
        },
        "id": "rQaCPI2SvBvj",
        "outputId": "458a5557-60f8-4f73-969b-7c1bd48090e1"
      },
      "execution_count": null,
      "outputs": [
        {
          "output_type": "execute_result",
          "data": {
            "text/plain": [
              "delivered     3467\n",
              "shipped         48\n",
              "canceled        25\n",
              "invoiced        24\n",
              "processing      20\n",
              "Name: order_status, dtype: int64"
            ]
          },
          "metadata": {},
          "execution_count": 89
        }
      ]
    },
    {
      "cell_type": "markdown",
      "source": [
        "**Plotando um gráficode pizza**\n",
        "\n",
        "*   Qual a distribuição da classificação dos pedidos pelos clientes?"
      ],
      "metadata": {
        "id": "rx5qorRxD6_v"
      }
    },
    {
      "cell_type": "code",
      "source": [
        "df.order_status.value_counts()"
      ],
      "metadata": {
        "id": "PSiQ0_FavHeB",
        "colab": {
          "base_uri": "https://localhost:8080/"
        },
        "outputId": "85ce035e-03df-41e7-c30d-e30d88b96415"
      },
      "execution_count": null,
      "outputs": [
        {
          "output_type": "execute_result",
          "data": {
            "text/plain": [
              "delivered     3467\n",
              "shipped         48\n",
              "canceled        25\n",
              "invoiced        24\n",
              "processing      20\n",
              "Name: order_status, dtype: int64"
            ]
          },
          "metadata": {},
          "execution_count": 90
        }
      ]
    },
    {
      "cell_type": "code",
      "source": [
        "classes_mais_votadas = df.groupby(by='most_voted_class').id.count()"
      ],
      "metadata": {
        "id": "y57KASaOEJLP"
      },
      "execution_count": null,
      "outputs": []
    },
    {
      "cell_type": "code",
      "source": [
        "#mesmo resultado do codigo acima\n",
        "classes_mais_votadas = df.most_voted_class.value_counts()"
      ],
      "metadata": {
        "id": "6LZaRsUUEV0E"
      },
      "execution_count": null,
      "outputs": []
    },
    {
      "cell_type": "code",
      "source": [
        "#Criando gráfico\n",
        "\n",
        "trace = go.Pie(labels = classes_mais_votadas.index,\n",
        "               values = classes_mais_votadas.values\n",
        "               )\n",
        "\n",
        "#Armazenando gráfico em uma lista\n",
        "\n",
        "data = [trace]\n",
        "\n",
        "#Criando Layout\n",
        "\n",
        "layout = go.Layout(title='Classificação de Clientes sobre Pedidos')\n",
        "\n",
        "#Criando figura que será exibida\n",
        "fig = go.Figure(data=data, layout=layout)\n",
        "\n",
        "#py.iplot(fig)\n",
        "pyo.plot(fig)"
      ],
      "metadata": {
        "colab": {
          "base_uri": "https://localhost:8080/",
          "height": 35
        },
        "id": "bJ5OqZgOFqhM",
        "outputId": "6272faac-644e-43bf-ec44-8344f39dd145"
      },
      "execution_count": null,
      "outputs": [
        {
          "output_type": "execute_result",
          "data": {
            "text/plain": [
              "'https://plotly.com/~sebast.rogers/9/'"
            ],
            "application/vnd.google.colaboratory.intrinsic+json": {
              "type": "string"
            }
          },
          "metadata": {},
          "execution_count": 105
        }
      ]
    },
    {
      "cell_type": "markdown",
      "source": [
        "**Parâmetro direction**"
      ],
      "metadata": {
        "id": "KFBWhAcJGkrP"
      }
    },
    {
      "cell_type": "code",
      "source": [
        "#Criando gráfico\n",
        "\n",
        "trace = go.Pie(labels = classes_mais_votadas.index,\n",
        "               values = classes_mais_votadas.values,\n",
        "               direction = 'clockwise'\n",
        "               )\n",
        "\n",
        "#Armazenando gráfico em uma lista\n",
        "\n",
        "data = [trace]\n",
        "\n",
        "#Criando Layout\n",
        "\n",
        "layout = go.Layout(title='Classificação de Clientes sobre Pedidos')\n",
        "\n",
        "#Criando figura que será exibida\n",
        "fig = go.Figure(data=data, layout=layout)\n",
        "\n",
        "#py.iplot(fig)\n",
        "pyo.plot(fig)"
      ],
      "metadata": {
        "colab": {
          "base_uri": "https://localhost:8080/",
          "height": 35
        },
        "id": "gC2k-feLUyIu",
        "outputId": "28ae1f5f-8563-4f8d-babc-7a1456775868"
      },
      "execution_count": null,
      "outputs": [
        {
          "output_type": "execute_result",
          "data": {
            "text/plain": [
              "'https://plotly.com/~sebast.rogers/7/'"
            ],
            "application/vnd.google.colaboratory.intrinsic+json": {
              "type": "string"
            }
          },
          "metadata": {},
          "execution_count": 104
        }
      ]
    },
    {
      "cell_type": "markdown",
      "source": [
        "**Customizando gráfico de pizza**"
      ],
      "metadata": {
        "id": "00X0F21qTOCZ"
      }
    },
    {
      "cell_type": "code",
      "source": [
        "cores = ['#96D38C', '#FEBFB3', '#E1396C']\n",
        "\n",
        "trace = go.Pie(labels = classes_mais_votadas.index,\n",
        "               values = classes_mais_votadas.values,\n",
        "               marker = {'colors' : cores},\n",
        "               direction = 'clockwise'\n",
        "               )\n",
        "\n",
        "data = [trace]\n",
        "\n",
        "layout = go.Layout(title='Classificação de Clientes sobre Pedidos')\n",
        "\n",
        "fig = go.Figure(data=data, layout=layout)\n",
        "\n",
        "#py.iplot(fig)\n",
        "pyo.plot(fig)"
      ],
      "metadata": {
        "colab": {
          "base_uri": "https://localhost:8080/",
          "height": 35
        },
        "id": "5tYOqtNITS76",
        "outputId": "51dbda43-cb5c-40d1-e984-98aa2c9d2882"
      },
      "execution_count": null,
      "outputs": [
        {
          "output_type": "execute_result",
          "data": {
            "text/plain": [
              "'https://plotly.com/~sebast.rogers/5/'"
            ],
            "application/vnd.google.colaboratory.intrinsic+json": {
              "type": "string"
            }
          },
          "metadata": {},
          "execution_count": 103
        }
      ]
    },
    {
      "cell_type": "markdown",
      "source": [
        "**Adicionando linha de contorno, cores**"
      ],
      "metadata": {
        "id": "eAvIlWamUNza"
      }
    },
    {
      "cell_type": "code",
      "source": [
        "cores = ['#96D38C', '#FEBFB3', '#E1396C']\n",
        "\n",
        "trace = go.Pie(labels = classes_mais_votadas.index,\n",
        "               values = classes_mais_votadas.values,\n",
        "               marker = {'colors' : cores,\n",
        "                         'line': {'color' : '#000000', 'width' : 2}\n",
        "                         },\n",
        "               hoverinfo='label+percent+value',\n",
        "               direction = 'clockwise'\n",
        "               )\n",
        "\n",
        "data = [trace]\n",
        "\n",
        "layout = go.Layout(title='Classificação de Clientes sobre Pedidos')\n",
        "\n",
        "fig = go.Figure(data=data, layout=layout)\n",
        "\n",
        "#py.iplot(fig)\n",
        "pyo.plot(fig)"
      ],
      "metadata": {
        "colab": {
          "base_uri": "https://localhost:8080/",
          "height": 35
        },
        "id": "Q95JXZTRGZ8j",
        "outputId": "bc649132-e54a-48c3-9fe4-35c087f312df"
      },
      "execution_count": null,
      "outputs": [
        {
          "output_type": "execute_result",
          "data": {
            "text/plain": [
              "'https://plotly.com/~sebast.rogers/3/'"
            ],
            "application/vnd.google.colaboratory.intrinsic+json": {
              "type": "string"
            }
          },
          "metadata": {},
          "execution_count": 102
        }
      ]
    },
    {
      "cell_type": "markdown",
      "source": [
        "**Destacar porções do gráfico**"
      ],
      "metadata": {
        "id": "gxLdmSwnWBSR"
      }
    },
    {
      "cell_type": "code",
      "source": [
        "cores = ['#96D38C', '#FEBFB3', '#E1396C']\n",
        "\n",
        "trace = go.Pie(labels = classes_mais_votadas.index,\n",
        "               values = classes_mais_votadas.values,\n",
        "               marker = {'colors' : cores,\n",
        "                         'line': {'color' : '#000000', 'width' : 2}\n",
        "                         },\n",
        "               hoverinfo='label+percent+value',\n",
        "               pull = [0, 0, 0.1,],\n",
        "               direction = 'clockwise'\n",
        "               )\n",
        "\n",
        "data = [trace]\n",
        "\n",
        "layout = go.Layout(title='Classificação de Clientes sobre Pedidos')\n",
        "\n",
        "fig = go.Figure(data=data, layout=layout)\n",
        "\n",
        "#py.iplot(fig)\n",
        "#online\n",
        "pyo.plot(fig)"
      ],
      "metadata": {
        "colab": {
          "base_uri": "https://localhost:8080/",
          "height": 35
        },
        "id": "Q74lp7KWVsaU",
        "outputId": "b14f8cb8-cdd3-418c-b843-2bff5c74adfa"
      },
      "execution_count": null,
      "outputs": [
        {
          "output_type": "execute_result",
          "data": {
            "text/plain": [
              "'https://plotly.com/~sebast.rogers/1/'"
            ],
            "application/vnd.google.colaboratory.intrinsic+json": {
              "type": "string"
            }
          },
          "metadata": {},
          "execution_count": 101
        }
      ]
    },
    {
      "cell_type": "markdown",
      "source": [
        "**Exportando o gráfico para conta do Plotly na nuvem**\n",
        "\n",
        "* Criar conta no portal plot.ly\n",
        "* Obter credenciais da API\n",
        "* Importa método para plot online\n",
        "* Substitua o método iplot() pelo método plot()\n",
        "\n"
      ],
      "metadata": {
        "id": "GYI3v1_BZOYL"
      }
    },
    {
      "cell_type": "markdown",
      "source": [
        "**Configurando credenciais**"
      ],
      "metadata": {
        "id": "yPbnw33ZZxWo"
      }
    },
    {
      "cell_type": "code",
      "source": [
        "#import plotly\n",
        "import chart_studio\n",
        "chart_studio.tools.set_credentials_file(username='sebast.rogers', api_key='WBN4G9sa5zTxrwjBs0b9')\n",
        "#plotly.tools.set_credentials_file(username='sebast.rogers', api_key='WBN4G9sa5zTxrwjBs0b9')"
      ],
      "metadata": {
        "id": "RT_dK4w5ZzM8"
      },
      "execution_count": null,
      "outputs": []
    },
    {
      "cell_type": "markdown",
      "source": [
        "**Importando método para plot online**"
      ],
      "metadata": {
        "id": "ZxGahk5saATj"
      }
    },
    {
      "cell_type": "code",
      "source": [
        "import chart_studio.plotly as pyo"
      ],
      "metadata": {
        "id": "8R11n-GZaC_Q"
      },
      "execution_count": null,
      "outputs": []
    }
  ]
}